{
 "cells": [
  {
   "cell_type": "code",
   "execution_count": 0,
   "metadata": {
    "application/vnd.databricks.v1+cell": {
     "cellMetadata": {
      "byteLimit": 2048000,
      "rowLimit": 10000
     },
     "inputWidgets": {},
     "nuid": "e62a921e-2fab-4b54-a78d-2b4d98f7222d",
     "showTitle": false,
     "title": ""
    }
   },
   "outputs": [],
   "source": [
    "# boilerplate\n",
    "\n",
    "from pyspark.sql import *\n",
    "from pyspark.sql.functions import *\n",
    "from pyspark.sql.window import *\n",
    "\n",
    "# create spark session\n",
    "# /Workspace/Users/datakraft867@gmail.com/books.csv\n",
    "spark = SparkSession.builder.appName(\"books_query\").getOrCreate()\n",
    "books_df = spark.read.csv(\"/Volumes/datakraft_batch1/default/datasets/books.csv\", header=True, inferSchema=True)\n"
   ]
  },
  {
   "cell_type": "code",
   "execution_count": 0,
   "metadata": {
    "application/vnd.databricks.v1+cell": {
     "cellMetadata": {
      "byteLimit": 2048000,
      "rowLimit": 10000
     },
     "inputWidgets": {},
     "nuid": "98d25d95-d681-4628-92c5-2e11644055e2",
     "showTitle": false,
     "title": ""
    }
   },
   "outputs": [
    {
     "output_type": "execute_result",
     "data": {
      "text/plain": [
       "11127"
      ]
     },
     "execution_count": 4,
     "metadata": {},
     "output_type": "execute_result"
    }
   ],
   "source": [
    "# count the number of rows\n",
    "books_df.count()\n",
    "\n"
   ]
  },
  {
   "cell_type": "code",
   "execution_count": 0,
   "metadata": {
    "application/vnd.databricks.v1+cell": {
     "cellMetadata": {
      "byteLimit": 2048000,
      "rowLimit": 10000
     },
     "inputWidgets": {},
     "nuid": "0d2719a4-e33b-4b8d-bdff-e7297cd4c752",
     "showTitle": false,
     "title": ""
    }
   },
   "outputs": [
    {
     "output_type": "stream",
     "name": "stdout",
     "output_type": "stream",
     "text": [
      "+---------+--------------------+--------------+------+----------+-------------+-------------+----------------+---------------+-------------+------------------+--------------------+\n|num_pages|             authors|average_rating|bookID|      isbn|       isbn13|language_code|publication_date|      publisher|ratings_count|text_reviews_count|               title|\n+---------+--------------------+--------------+------+----------+-------------+-------------+----------------+---------------+-------------+------------------+--------------------+\n|      652|J.K. Rowling/Mary...|          4.57|     1|0439785960|9780439785969|          eng|       9/16/2006|Scholastic Inc.|      2095690|             27591|Harry Potter and ...|\n|      870|J.K. Rowling/Mary...|          4.49|     2|0439358078|9780439358071|          eng|        9/1/2004|Scholastic Inc.|      2153167|             29221|Harry Potter and ...|\n|      352|        J.K. Rowling|          4.42|     4|0439554896|9780439554893|          eng|       11/1/2003|     Scholastic|         6333|               244|Harry Potter and ...|\n|      435|J.K. Rowling/Mary...|          4.56|     5|043965548X|9780439655484|          eng|        5/1/2004|Scholastic Inc.|      2339585|             36325|Harry Potter and ...|\n|     2690|J.K. Rowling/Mary...|          4.78|     8|0439682584|9780439682589|          eng|       9/13/2004|     Scholastic|        41428|               164|Harry Potter Boxe...|\n|      152|W. Frederick Zimm...|          3.74|     9|0976540606|9780976540601|        en-US|       4/26/2005|   Nimble Books|           19|                 1|Unauthorized Harr...|\n|     3342|        J.K. Rowling|          4.73|    10|0439827604|9780439827607|          eng|       9/12/2005|     Scholastic|        28242|               808|Harry Potter Coll...|\n|      815|       Douglas Adams|          4.38|    12|0517226952|9780517226957|          eng|       11/1/2005| Gramercy Books|         3628|               254|The Ultimate Hitc...|\n|      815|       Douglas Adams|          4.38|    13|0345453743|9780345453747|          eng|       4/30/2002|  Del Rey Books|       249558|              4080|The Ultimate Hitc...|\n|      215|       Douglas Adams|          4.22|    14|1400052920|9781400052929|          eng|        8/3/2004|          Crown|         4930|               460|The Hitchhiker's ...|\n+---------+--------------------+--------------+------+----------+-------------+-------------+----------------+---------------+-------------+------------------+--------------------+\nonly showing top 10 rows\n\n"
     ]
    }
   ],
   "source": [
    "books_df.show(10)"
   ]
  },
  {
   "cell_type": "code",
   "execution_count": 0,
   "metadata": {
    "application/vnd.databricks.v1+cell": {
     "cellMetadata": {
      "byteLimit": 2048000,
      "rowLimit": 10000
     },
     "inputWidgets": {},
     "nuid": "95e40a35-2045-4a47-86d9-498193d8f8dc",
     "showTitle": false,
     "title": ""
    }
   },
   "outputs": [],
   "source": [
    "# create temp value\n",
    "books_df.createOrReplaceTempView(\"books_tbl\")\n"
   ]
  },
  {
   "cell_type": "code",
   "execution_count": 0,
   "metadata": {
    "application/vnd.databricks.v1+cell": {
     "cellMetadata": {},
     "inputWidgets": {},
     "nuid": "bd563624-2200-414f-ac0a-610f90f266ef",
     "showTitle": false,
     "title": ""
    }
   },
   "outputs": [],
   "source": []
  },
  {
   "cell_type": "code",
   "execution_count": 0,
   "metadata": {
    "application/vnd.databricks.v1+cell": {
     "cellMetadata": {
      "byteLimit": 2048000,
      "rowLimit": 10000
     },
     "inputWidgets": {},
     "nuid": "1d7ced0d-fe18-4111-af77-96d297e48dee",
     "showTitle": false,
     "title": ""
    }
   },
   "outputs": [
    {
     "output_type": "stream",
     "name": "stdout",
     "output_type": "stream",
     "text": [
      "+---------+\n|books_cnt|\n+---------+\n|    11127|\n+---------+\n\n"
     ]
    }
   ],
   "source": [
    "# How many total books are present in the database?\n",
    "books_cnt = spark.sql(\\\n",
    "    f\"\"\"\n",
    "    SELECT COUNT(isbn) as books_cnt FROM books_tbl\n",
    "    \"\"\").show()\n"
   ]
  },
  {
   "cell_type": "code",
   "execution_count": 0,
   "metadata": {
    "application/vnd.databricks.v1+cell": {
     "cellMetadata": {
      "byteLimit": 2048000,
      "rowLimit": 10000
     },
     "inputWidgets": {},
     "nuid": "e6808fa5-dc4c-49a2-ad97-ba9fc05aec48",
     "showTitle": false,
     "title": ""
    }
   },
   "outputs": [
    {
     "output_type": "stream",
     "name": "stdout",
     "output_type": "stream",
     "text": [
      "root\n |-- num_pages: integer (nullable = true)\n |-- authors: string (nullable = true)\n |-- average_rating: string (nullable = true)\n |-- bookID: integer (nullable = true)\n |-- isbn: string (nullable = true)\n |-- isbn13: string (nullable = true)\n |-- language_code: string (nullable = true)\n |-- publication_date: string (nullable = true)\n |-- publisher: string (nullable = true)\n |-- ratings_count: integer (nullable = true)\n |-- text_reviews_count: integer (nullable = true)\n |-- title: string (nullable = true)\n\n+--------------+\n|sum(num_pages)|\n+--------------+\n|        6865.0|\n+--------------+\n\n"
     ]
    }
   ],
   "source": [
    "# what is the total page count of all books published by Bill Bryson?\n",
    "# cast num_pages to integer\n",
    "books_df = books_df.withColumn(\"num_pages\", col(\"num_pages\").cast(\"integer\"))\n",
    "# verify\n",
    "books_df.printSchema()\n",
    "# sql\n",
    "tot_pg_bb = spark.sql(\\\n",
    "    f\"\"\"\n",
    "    SELECT SUM(num_pages)\n",
    "    FROM books_tbl\n",
    "    WHERE authors = \"Bill Bryson\"\n",
    "    \"\"\").show()\n"
   ]
  },
  {
   "cell_type": "code",
   "execution_count": 0,
   "metadata": {
    "application/vnd.databricks.v1+cell": {
     "cellMetadata": {
      "byteLimit": 2048000,
      "rowLimit": 10000
     },
     "inputWidgets": {},
     "nuid": "57df9135-856e-41e7-9423-51827bd6f413",
     "showTitle": false,
     "title": ""
    }
   },
   "outputs": [
    {
     "output_type": "stream",
     "name": "stdout",
     "output_type": "stream",
     "text": [
      "+----+----------+\n|  yr|avg_rating|\n+----+----------+\n|1943|      4.21|\n+----+----------+\n\n"
     ]
    }
   ],
   "source": [
    "# for books published in 2021, what is the average book rating?\n",
    "# extract year from year from publication date\n",
    "avg_rating = spark.sql(\\\n",
    "  f\"\"\"\n",
    "  WITH CTE AS (\n",
    "  SELECT \n",
    "  CAST(RIGHT(publication_date, 4) AS INT) AS yr,\n",
    "  ROUND(AVG(average_rating),2) AS avg_rating\n",
    "  FROM books_tbl\n",
    "  GROUP BY 1\n",
    "  ORDER BY 1\n",
    "  )\n",
    "\n",
    "  SELECT yr, avg_rating FROM CTE WHERE yr = 1943;\n",
    "  \"\"\").show()"
   ]
  },
  {
   "cell_type": "code",
   "execution_count": 0,
   "metadata": {
    "application/vnd.databricks.v1+cell": {
     "cellMetadata": {
      "byteLimit": 2048000,
      "rowLimit": 10000
     },
     "inputWidgets": {},
     "nuid": "07fe10e5-70de-45ab-9f23-d190028d82ee",
     "showTitle": false,
     "title": ""
    }
   },
   "outputs": [
    {
     "output_type": "stream",
     "name": "stdout",
     "output_type": "stream",
     "text": [
      "+----+----------+\n|  yr|avg_rating|\n+----+----------+\n|   0|      NULL|\n|   4|      NULL|\n|   6|      NULL|\n|1900|      3.88|\n|1913|      3.96|\n|1914|      3.95|\n|1919|      4.32|\n|1921|      4.14|\n|1922|       5.0|\n|1923|      4.29|\n|1925|      3.96|\n|1928|      4.34|\n|1929|      4.02|\n|1931|      2.75|\n|1935|      3.63|\n|1940|      3.97|\n|1943|      4.21|\n|1947|      4.06|\n|1948|      3.55|\n|1949|       3.8|\n+----+----------+\nonly showing top 20 rows\n\n"
     ]
    }
   ],
   "source": [
    "# for books published in 2021, what is the average book rating?\n",
    "# extract year frpm year from publication date\n",
    "avg_rating = spark.sql(\\\n",
    "  f\"\"\"\n",
    "  WITH CTE AS (\n",
    "  SELECT \n",
    "  CAST(RIGHT(publication_date, 4) AS INT) AS yr,\n",
    "  ROUND(AVG(average_rating),2) AS avg_rating\n",
    "  FROM books_tbl\n",
    "  GROUP BY 1\n",
    "  ORDER BY 1\n",
    "  )\n",
    "\n",
    "  SELECT yr, avg_rating FROM CTE;\n",
    "  \"\"\").show()"
   ]
  },
  {
   "cell_type": "code",
   "execution_count": 0,
   "metadata": {
    "application/vnd.databricks.v1+cell": {
     "cellMetadata": {
      "byteLimit": 2048000,
      "rowLimit": 10000
     },
     "inputWidgets": {},
     "nuid": "ad3a22c1-c920-433d-85e0-38d0ca00f30d",
     "showTitle": false,
     "title": ""
    }
   },
   "outputs": [
    {
     "output_type": "display_data",
     "data": {
      "text/html": [
       "<style scoped>\n",
       "  .table-result-container {\n",
       "    max-height: 300px;\n",
       "    overflow: auto;\n",
       "  }\n",
       "  table, th, td {\n",
       "    border: 1px solid black;\n",
       "    border-collapse: collapse;\n",
       "  }\n",
       "  th, td {\n",
       "    padding: 5px;\n",
       "  }\n",
       "  th {\n",
       "    text-align: left;\n",
       "  }\n",
       "</style><div class='table-result-container'><table class='table-result'><thead style='background-color: white'><tr><th>publisher</th></tr></thead><tbody><tr><td>Oxford University Press</td></tr><tr><td>Oxford University Press  USA</td></tr></tbody></table></div>"
      ]
     },
     "metadata": {
      "application/vnd.databricks.v1+output": {
       "addedWidgets": {},
       "aggData": [],
       "aggError": "",
       "aggOverflow": false,
       "aggSchema": [],
       "aggSeriesLimitReached": false,
       "aggType": "",
       "arguments": {},
       "columnCustomDisplayInfos": {},
       "data": [
        [
         "Oxford University Press"
        ],
        [
         "Oxford University Press  USA"
        ]
       ],
       "datasetInfos": [],
       "dbfsResultPath": null,
       "isJsonSchema": true,
       "metadata": {},
       "overflow": false,
       "plotOptions": {
        "customPlotOptions": {},
        "displayType": "table",
        "pivotAggregation": null,
        "pivotColumns": null,
        "xColumns": null,
        "yColumns": null
       },
       "removedWidgets": [],
       "schema": [
        {
         "metadata": "{}",
         "name": "publisher",
         "type": "\"string\""
        }
       ],
       "type": "table"
      }
     },
     "output_type": "display_data"
    }
   ],
   "source": [
    "publisher = spark.sql(\\\n",
    "    f\"\"\"\n",
    "    SELECT DISTINCT publisher\n",
    "    FROM books_tbl\n",
    "    WHERE publisher like '%Oxford University Press%'\n",
    "    \"\"\").display()"
   ]
  },
  {
   "cell_type": "code",
   "execution_count": 0,
   "metadata": {
    "application/vnd.databricks.v1+cell": {
     "cellMetadata": {
      "byteLimit": 2048000,
      "rowLimit": 10000
     },
     "inputWidgets": {},
     "nuid": "c791cbab-9867-46b4-90ec-804445d7711d",
     "showTitle": false,
     "title": ""
    }
   },
   "outputs": [
    {
     "output_type": "display_data",
     "data": {
      "text/html": [
       "<style scoped>\n",
       "  .table-result-container {\n",
       "    max-height: 300px;\n",
       "    overflow: auto;\n",
       "  }\n",
       "  table, th, td {\n",
       "    border: 1px solid black;\n",
       "    border-collapse: collapse;\n",
       "  }\n",
       "  th, td {\n",
       "    padding: 5px;\n",
       "  }\n",
       "  th {\n",
       "    text-align: left;\n",
       "  }\n",
       "</style><div class='table-result-container'><table class='table-result'><thead style='background-color: white'><tr><th>publisher</th><th>title</th><th>published_year</th></tr></thead><tbody></tbody></table></div>"
      ]
     },
     "metadata": {
      "application/vnd.databricks.v1+output": {
       "addedWidgets": {},
       "aggData": [],
       "aggError": "",
       "aggOverflow": false,
       "aggSchema": [],
       "aggSeriesLimitReached": false,
       "aggType": "",
       "arguments": {},
       "columnCustomDisplayInfos": {},
       "data": [],
       "datasetInfos": [],
       "dbfsResultPath": null,
       "isJsonSchema": true,
       "metadata": {},
       "overflow": false,
       "plotOptions": {
        "customPlotOptions": {},
        "displayType": "table",
        "pivotAggregation": null,
        "pivotColumns": null,
        "xColumns": null,
        "yColumns": null
       },
       "removedWidgets": [],
       "schema": [
        {
         "metadata": "{}",
         "name": "publisher",
         "type": "\"string\""
        },
        {
         "metadata": "{}",
         "name": "title",
         "type": "\"string\""
        },
        {
         "metadata": "{}",
         "name": "published_year",
         "type": "\"integer\""
        }
       ],
       "type": "table"
      }
     },
     "output_type": "display_data"
    }
   ],
   "source": [
    "# Oxford University Press and published in 2002, list the books? \n",
    "\n",
    "publisher = spark.sql(\n",
    "    \"\"\"\n",
    "    SELECT DISTINCT publisher, title, CAST(RIGHT(publication_date, 4) AS INT) AS published_year\n",
    "    FROM books_tbl\n",
    "    WHERE publisher LIKE 'Oxford University Press' AND CAST(RIGHT(publication_date, 4) AS INT) = 1988\n",
    "    ORDER BY publisher\n",
    "    \"\"\"\n",
    ").display()"
   ]
  },
  {
   "cell_type": "code",
   "execution_count": 0,
   "metadata": {
    "application/vnd.databricks.v1+cell": {
     "cellMetadata": {
      "byteLimit": 2048000,
      "rowLimit": 10000
     },
     "inputWidgets": {},
     "nuid": "7021b821-916e-4f14-958e-68e2fa07ee8d",
     "showTitle": false,
     "title": ""
    }
   },
   "outputs": [
    {
     "output_type": "display_data",
     "data": {
      "text/html": [
       "<style scoped>\n",
       "  .table-result-container {\n",
       "    max-height: 300px;\n",
       "    overflow: auto;\n",
       "  }\n",
       "  table, th, td {\n",
       "    border: 1px solid black;\n",
       "    border-collapse: collapse;\n",
       "  }\n",
       "  th, td {\n",
       "    padding: 5px;\n",
       "  }\n",
       "  th {\n",
       "    text-align: left;\n",
       "  }\n",
       "</style><div class='table-result-container'><table class='table-result'><thead style='background-color: white'><tr><th>publisher</th><th>book_title</th><th>rating</th></tr></thead><tbody><tr><td>1/15/1999</td><td>Patriots (The Coming Collapse)</td><td> Rawles</td></tr><tr><td>10/18</td><td>La mezzanine</td><td>3.84</td></tr><tr><td>1st Book Library</td><td>Lila's Child: An Inquiry into Quality</td><td>3.58</td></tr><tr><td>1st World Library</td><td>Nineteen Eighty-Four</td><td>4.18</td></tr><tr><td>4/20/2004</td><td>Streetcar Suburbs: The Process of Growth in Boston  1870-1900</td><td> Jr./Sam B. Warner</td></tr><tr><td>4/6/2004</td><td>The Tolkien Fan's Medieval Reader</td><td> one of the founding members of this Tolkien website)/Verlyn Flieger/Turgon (=David E. Smith)</td></tr><tr><td>5/1/1977</td><td>Brown's Star Atlas: Showing All The Bright Stars With Full Instructions How To Find And Use Them For Navigational Purposes And Department Of Trade Examinations.</td><td> Son & Ferguson</td></tr><tr><td>A & C Black (Childrens books)</td><td>The Custard Kid (Black Cats)</td><td>4.40</td></tr><tr><td>A Harvest Book/Harcourt  Inc.</td><td>Women and Writing</td><td>4.07</td></tr><tr><td>A K PETERS</td><td>Advanced Global Illumination</td><td>4.50</td></tr><tr><td>AA World Services</td><td>Alcoholics Anonymous</td><td>4.45</td></tr><tr><td>ACE</td><td>Killobyte</td><td>3.56</td></tr><tr><td>ADV Manga</td><td>Your and My Secret  Vol. 1</td><td>4.38</td></tr><tr><td>AHA! Process</td><td>A Framework for Understanding Poverty</td><td>3.90</td></tr><tr><td>AIT Planet Lar</td><td>Proof of Concept</td><td>3.00</td></tr><tr><td>AK Press</td><td>On Anarchism</td><td>3.93</td></tr><tr><td>AMR/Advanced Management Reports</td><td>The Leadership Challenge: Skills for Taking Charge</td><td>0.00</td></tr><tr><td>ASCD</td><td>Getting Results with Curriculum Mapping</td><td>3.25</td></tr><tr><td>AVA Publishing</td><td>Thinking Visually (Basics Illustration  #1)</td><td>3.62</td></tr><tr><td>Abacus</td><td>Venice: Tales of the City</td><td>4.40</td></tr><tr><td>Abacus Books</td><td>Lincoln (Narratives of a Golden Age)</td><td>4.21</td></tr><tr><td>Abacus Books (London)</td><td>The Life and Death of My Lord Gilles de Rais</td><td>3.87</td></tr><tr><td>Abdo Publishing Company</td><td>Treasure Island (Great Illustrated Classics)</td><td>4.51</td></tr><tr><td>Abingdon Press</td><td>Exclusion & Embrace: A Theological Exploration of Identity  Otherness  and Reconciliation</td><td>4.27</td></tr><tr><td>Abradale Books/Harry N. Abrams</td><td>The National Geographic Society: 100 Years of Adventure & Discovery</td><td>4.11</td></tr><tr><td>Abraham Guillen Press</td><td>Mini-Manual of the Urban Guerrilla</td><td>3.31</td></tr><tr><td>Abrams</td><td>The Adventuress</td><td>4.05</td></tr><tr><td>Absolute Press</td><td>We Are Michael Field</td><td>3.55</td></tr><tr><td>Abstract Studio</td><td>Strangers In Paradise  Pocket Book 5</td><td>4.38</td></tr><tr><td>Academic Press</td><td>Horizontal Gene Transfer</td><td>4.00</td></tr><tr><td>Academica Press</td><td>The Irish Anatomist: A Study of Flann O'Brien</td><td>5.00</td></tr><tr><td>Academy Chicago Publishers</td><td>Homer's Daughter</td><td>3.81</td></tr><tr><td>Ace</td><td>The Work of the Sun (The Green Lion Trilogy #3)</td><td>4.22</td></tr><tr><td>Ace Book</td><td>Starship Troopers</td><td>4.01</td></tr><tr><td>Ace Books</td><td>Vision of Tarot (Tarot  #2)</td><td>4.21</td></tr><tr><td>Ace Hardcover</td><td>Cursor's Fury (Codex Alera  #3)</td><td>4.36</td></tr><tr><td>Ace Trade</td><td>The Rosetta Codex</td><td>3.40</td></tr><tr><td>Ace/SFBC</td><td>Starship Troopers</td><td>4.01</td></tr><tr><td>Acento Editorial</td><td>Lincoln</td><td>4.21</td></tr><tr><td>Acropolis Books (NY)</td><td>Black on Red: My 44 Years Inside the Soviet Union: An Autobiography</td><td>4.33</td></tr><tr><td>Actes Sud</td><td>Timbuktu / Leviathan / Moon Palace</td><td>4.38</td></tr><tr><td>Adamant Media Corporation</td><td>Rob Roy</td><td>3.70</td></tr><tr><td>Adams Media</td><td>Sun Tzu: The Art of War for Managers; 50 Strategic Rules</td><td>3.85</td></tr><tr><td>Addison Wesley</td><td>Absolute C++</td><td>3.83</td></tr><tr><td>Addison Wesley Publishing Company</td><td>The Firm</td><td>4.63</td></tr><tr><td>Addison-Wesley Professional</td><td>The Pragmatic Programmer: From Journeyman to Master</td><td>4.31</td></tr><tr><td>Advantage World Press</td><td>Zero Debt: The Ultimate Guide to Financial Freedom</td><td>3.74</td></tr><tr><td>Adventures Unlimited Press</td><td>Tesla Papers</td><td>4.13</td></tr><tr><td>Aegypan</td><td>From the Earth to the Moon (Extraordinary Voyages  #4)</td><td>3.78</td></tr><tr><td>Aerie</td><td>The Invisible Man</td><td>3.64</td></tr><tr><td>Aivia Press</td><td>Youth in Revolt: The Journals of Nick Twisp : Volumes I  II  III/Youth in Revolt/Youth in Bondage/Youth in Exile</td><td>4.04</td></tr><tr><td>Akashic Books/Punk Planet Books</td><td>Hairstyles of the Damned</td><td>3.72</td></tr><tr><td>Aladdin</td><td>What a Scare  Jesse Bear</td><td>4.28</td></tr><tr><td>Aladdin Paperbacks</td><td>Voting Rights Days (Hitty's Travels  #3)</td><td>4.27</td></tr><tr><td>Alan Rodgers Books</td><td>The Sea Wolf</td><td>4.04</td></tr><tr><td>Albert Whitman  Company</td><td>When I Feel Angry</td><td>3.98</td></tr><tr><td>Albin Michel</td><td>Monsieur Ibrahim et les fleurs du Coran</td><td>4.01</td></tr><tr><td>Albury Publishing</td><td>Jesus Freaks: Stories of Those Who Stood for Jesus  the Ultimate Jesus Freaks (Jesus Freaks  #1)</td><td>4.21</td></tr><tr><td>Alcoholics Anonymous World Services Inc</td><td>Alcoholics Anonymous</td><td>4.45</td></tr><tr><td>Alderac Entertainment Group</td><td>Legend of the Five Rings RPG</td><td>3.78</td></tr><tr><td>Alderac Entertainment Group (AEG)</td><td>Secrets of the Scorpion</td><td>3.68</td></tr><tr><td>Alfabeta Bokförlag</td><td>Verserade tankar</td><td>3.00</td></tr><tr><td>Alfaguara</td><td>No me cogeréis vivo: artículos 2001-2005</td><td>4.16</td></tr><tr><td>Alfaguara Infantil</td><td>El Superzorro</td><td>4.05</td></tr><tr><td>Alfred A. Knopf</td><td>Wildwood Dancing (Wildwood  #1)</td><td>4.69</td></tr><tr><td>Alfred A. Knopf  Inc.</td><td>Gargantua and Pantagruel</td><td>3.71</td></tr><tr><td>Alfred A. Knopf Books for Young Readers</td><td>Wild About Books</td><td>4.17</td></tr><tr><td>Alfred A. Knopf Borzoi Books</td><td>I Am the Messenger</td><td>4.07</td></tr><tr><td>Alfred A.Knopf</td><td>A Tear and a Smile</td><td>4.03</td></tr><tr><td>Algonquin Books</td><td>Water for Elephants</td><td>4.09</td></tr><tr><td>Alianza Editorial</td><td>La caída</td><td>4.04</td></tr><tr><td>Alison Green Books</td><td>Hello! Is That Grandma?</td><td>3.53</td></tr><tr><td>Allen & Ulwin</td><td>The Tenth Circle</td><td>3.50</td></tr><tr><td>Allen Lane</td><td>The Origin of Consciousness in the Breakdown of the Bicameral Mind</td><td>4.25</td></tr><tr><td>Alliance Publishing</td><td>Natural Cures They Don't Want You to Know about</td><td>3.09</td></tr><tr><td>Allworth</td><td>Beauty and the Contemporary Sublime</td><td>3.56</td></tr><tr><td>Allyn & Bacon</td><td>The Actor in You: Sixteen Simple Steps to Understanding the Art of Acting</td><td>3.65</td></tr><tr><td>Alpha</td><td>The Complete Idiot's Guide to Calculus</td><td>4.11</td></tr><tr><td>Alpha Books</td><td>The Complete Idiot's Guide to Business Plans</td><td>3.32</td></tr><tr><td>Alyson Books</td><td>Stir-Fry</td><td>3.59</td></tr><tr><td>Amadeus</td><td>The John Adams Reader: Eseential Writings on an American Composer</td><td>3.50</td></tr><tr><td>Amereon Limited</td><td>The Epic of Gilgamesh</td><td>3.68</td></tr><tr><td>Amereon Ltd</td><td>The Great Gatsby</td><td>3.91</td></tr><tr><td>America's Test Kitchen</td><td>The Best of America's Test Kitchen 2007: The Year's Best Recipes  Equipment Reviews  and Tastings</td><td>4.57</td></tr><tr><td>American Diabetes Association</td><td>Diabetes Meal Planning Made Easy</td><td>3.42</td></tr><tr><td>American Girl Publishing Inc</td><td>What Would You Do? (American Girl Library)</td><td>4.26</td></tr><tr><td>American University in Cairo Press</td><td>Zaat</td><td>3.55</td></tr><tr><td>Amherst Media</td><td>Posing for Portrait Photography: A Head-To-Toe Guide</td><td>3.38</td></tr><tr><td>Amherst Media  Inc.</td><td>Portrait Photographer's Handbook</td><td>3.62</td></tr><tr><td>Amistad</td><td>sex.lies.murder.fame.</td><td>4.25</td></tr><tr><td>Amistad Press</td><td>Lost in the City</td><td>4.03</td></tr><tr><td>Anagrama</td><td>Respiración artificial</td><td>4.18</td></tr><tr><td>Anchor</td><td>What the Body Remembers</td><td>4.35</td></tr><tr><td>Anchor Bible</td><td>II Maccabees</td><td>4.04</td></tr><tr><td>Anchor Books</td><td>Wickett's Remedy</td><td>4.38</td></tr><tr><td>Anchor Books/Knopf Doubleday Publishing Group</td><td>Amsterdam</td><td>3.43</td></tr><tr><td>Anchor Canada</td><td>A Short History of Nearly Everything (Illustrated Edition)</td><td>4.21</td></tr><tr><td>Andrews McMeel Publishing</td><td>The Perfect London Walk</td><td>4.82</td></tr><tr><td>Andrews and McMeel</td><td>The Unauthorized Anne Rice Companion</td><td>3.68</td></tr><tr><td>Ann Arbor Media</td><td>The Scarlet Letter</td><td>4.00</td></tr><tr><td>Annick Press</td><td>From Far Away</td><td>4.00</td></tr><tr><td>Applause Books</td><td>William Goldman: Four Screenplays</td><td>4.44</td></tr><tr><td>Applause Theatre & Cinema Book Publishers</td><td>Life Is a Dream and Other Spanish Classics (Eric Bentley's Dramatic Repertoire) - Volume II</td><td>3.81</td></tr><tr><td>Apple</td><td>Amanda's Unlucky Day (Junior Gymnasts  #6)</td><td>3.50</td></tr><tr><td>Apple Paperbacks (Scholastic)</td><td>The Discovery (Dive  #1)</td><td>3.72</td></tr><tr><td>Applewood Books</td><td>The Secret of the Old Clock (Nancy Drew Mystery Stories  #1)</td><td>4.08</td></tr><tr><td>Apress</td><td>The Career Programmer: Guerilla Tactics for an Imperfect World (Expert's Voice)</td><td>4.25</td></tr><tr><td>Arbordale Publishing</td><td>The Giraffe Who Was Afraid of Heights (Physical & Behavioral Adaptation)</td><td>3.87</td></tr><tr><td>Arcade Publishing</td><td>A Short History of Decay</td><td>4.25</td></tr><tr><td>Arcadia Publishing</td><td>Middlesex Borough (Images of America: New Jersey)</td><td>5.00</td></tr><tr><td>Arcadia Publishing (SC)</td><td>Selections from the Oakland Tribune Archives (Images of America: California)</td><td>4.44</td></tr><tr><td>Archaia</td><td>Artesia: Adventures in the Known World</td><td>4.13</td></tr><tr><td>Archie Comics</td><td>Archie Americana Series: Best of the Eighties  Vol. 1</td><td>3.91</td></tr><tr><td>Archipelago Books</td><td>Bacacay</td><td>3.94</td></tr><tr><td>Arden Shakespeare</td><td>The Arden Shakespeare Complete Works</td><td>4.50</td></tr><tr><td>Aris & Phillips</td><td>Exemplary Novels IV: Lady Cornelia  the Deceitful Marriage  the Dialogue of the Dogs</td><td>4.20</td></tr><tr><td>Aris and Phillips</td><td>The Iliad  Books 8-9 (Classical Texts Series)</td><td>4.50</td></tr><tr><td>Arkana</td><td>The Ghost in the Machine</td><td>4.00</td></tr><tr><td>Arkana/Penguin</td><td>The Sleepwalkers: A History of Man's Changing Vision of the Universe</td><td>4.26</td></tr><tr><td>Arkham House Publishers</td><td>Evermore</td><td>4.44</td></tr><tr><td>Arlington House</td><td>An Inquiry into the Nature and Causes of the Wealth of Nations</td><td>3.88</td></tr><tr><td>Arléa</td><td>Les Essais (mis en français moderne par Claude Pinganaud)</td><td>4.24</td></tr><tr><td>Arrow</td><td>Women Who Love Too Much</td><td>4.24</td></tr><tr><td>Arrow (A Division of Random House Group)</td><td>The Crazed</td><td>3.50</td></tr><tr><td>Arrow Books</td><td>Open House</td><td>4.23</td></tr><tr><td>Arrow Books Ltd</td><td>Illusions: The Adventures of a Reluctant Messiah</td><td>4.15</td></tr><tr><td>Arsenal Pulp Press</td><td>Patience & Sarah</td><td>3.90</td></tr><tr><td>Arthur A. Levine</td><td>Harry Potter Schoolbooks Box Set: Two Classic Books from the Library of Hogwarts School of Witchcraft and Wizardry</td><td>4.40</td></tr><tr><td>Arthur A. Levine Books</td><td>Historia de una Gaviota y del Gato Que le Enseñó a Volar</td><td>4.14</td></tr><tr><td>Arthur A. Levine Books / Scholastic Inc.</td><td>Harry Potter and the Chamber of Secrets (Harry Potter  #2)</td><td>4.42</td></tr><tr><td>Artisan</td><td>Mangoes & Curry Leaves: Culinary Travels Through the Great Subcontinent</td><td>4.28</td></tr><tr><td>Arts Publications</td><td>Canopy: A Work for Voice and Light in Harvard Yard</td><td>0.00</td></tr><tr><td>Ash Tree Publishing</td><td>Common Herbs for Natural Health</td><td>4.45</td></tr><tr><td>Ash-Tree Press</td><td>Dancing On Air</td><td>4.00</td></tr><tr><td>Aspect</td><td>The Wild Swans</td><td>4.30</td></tr><tr><td>Association for Scottish Literary Studies</td><td>Iain Banks' 'The Wasp Factory'  'The Crow Road' and 'Whit'</td><td>3.92</td></tr><tr><td>Association for Supervision & Curriculum Development</td><td>Teaching with the Brain in Mind</td><td>4.11</td></tr><tr><td>Atelos Press</td><td>City Eclogue</td><td>4.13</td></tr><tr><td>Atheneum</td><td>Winter Cottage</td><td>4.34</td></tr><tr><td>Atheneum Books</td><td>The Wind Thief</td><td>4.19</td></tr><tr><td>Atheneum Books for Young Readers</td><td>Treasure Island</td><td>4.39</td></tr><tr><td>Atheneum Books for Young Readers: Richard Jackson Books</td><td>Hatchet (Brian's Saga  #1)</td><td>3.72</td></tr><tr><td>Atheneum/Richard Jackson Books</td><td>Sailor Moo: Cow at Sea</td><td>4.07</td></tr><tr><td>Atlantic</td><td>Sellevision</td><td>4.03</td></tr><tr><td>Atlantic Books</td><td>Running with Scissors</td><td>3.72</td></tr><tr><td>Atlantic Books (UK)</td><td>The Sot-Weed Factor</td><td>4.09</td></tr><tr><td>Atlantic Monthly Press</td><td>Suffer the Little Children (Commissario Brunetti  #16)</td><td>4.26</td></tr><tr><td>Atlantic Monthly Press (NYC)</td><td>Cold Mountain</td><td>3.86</td></tr><tr><td>Atlas Books/HarperCollins Publishers</td><td>Thomas Jefferson: Author of America</td><td>3.91</td></tr><tr><td>Atria Books</td><td>Zolar's Encyclopedia and Dictionary of Dreams: Fully Revised and Updated for the 21st Century</td><td>4.29</td></tr><tr><td>Audio Literature</td><td>Chance (Spenser  #23)</td><td>4.10</td></tr><tr><td>Audio Partners</td><td>The Great Gatsby</td><td>4.00</td></tr><tr><td>Audio Renaissance</td><td>The Altman Code (Covert-One  #4)</td><td>3.95</td></tr><tr><td>AudioGO</td><td>The Story of Philosophy</td><td>4.36</td></tr><tr><td>AudioText</td><td>Lobsters</td><td>3.83</td></tr><tr><td>Audiogo</td><td>The Last Kingdom (The Saxon Stories  #1)</td><td>4.26</td></tr><tr><td>Augsburg Fortress Publishing</td><td>Missing Persons and Mistaken Identities: Women and Gender in Ancient Israel</td><td>3.96</td></tr><tr><td>Aurum</td><td>My Wicked  Wicked Ways</td><td>4.02</td></tr><tr><td>Aurum Press</td><td>Landscape Within: Insights and Inspirations for Photographers</td><td>4.36</td></tr><tr><td>Authorhouse</td><td>The Trouble with the Pears: An Intimate Portrait of Erzsebet Bathory</td><td>3.50</td></tr><tr><td>Avalon Travel</td><td>Rick Steves' Europe Through the Back Door</td><td>4.24</td></tr><tr><td>Ave Maria Press</td><td>With Open Hands</td><td>4.30</td></tr><tr><td>Avenel Books</td><td>Five Complete Miss Marple Novels: The Mirror Crack'd / A Caribbean Mystery / Nemesis / What Mrs. McGillicuddy Saw! / The Body in the Library</td><td>4.39</td></tr><tr><td>Avery</td><td>Game of Shadows: Barry Bonds  BALCO  and the Steroids Scandal that Rocked Professional Sports</td><td>3.81</td></tr><tr><td>Avery Publishing Group</td><td>The Hip Chick's Guide to Macrobiotics: A Philosophy for Achieving a Radiant Mind and a Fabulous Body</td><td>4.25</td></tr><tr><td>Avon</td><td>With Her Last Breath</td><td>4.37</td></tr><tr><td>Avon Books</td><td>West To Eden</td><td>4.23</td></tr><tr><td>Avon Books (AvoNova)</td><td>Worlds Apart (Worlds 2)</td><td>3.69</td></tr><tr><td>Avon Books (P)</td><td>Asimov's Guide to the Bible: The Old Testament</td><td>4.07</td></tr><tr><td>Avon HarperCollins</td><td>Her Highness  My Wife (Effingtons  #5)</td><td>3.66</td></tr><tr><td>AvonEos</td><td>Shards of a Broken Crown (The Serpentwar Saga  #4)</td><td>4.02</td></tr><tr><td>Award Books</td><td>Battle for the Planet of the Apes</td><td>3.66</td></tr><tr><td>B Books</td><td>Things Pondered: From the Heart of a Lesser Woman</td><td>4.09</td></tr><tr><td>B Fiction</td><td>Once Upon a Gulf Coast Summer</td><td>3.44</td></tr><tr><td>B&H Publishing Group</td><td>Watchmen on the Walls</td><td>4.19</td></tr><tr><td>B.E.S. Publishing</td><td>The Night at the Museum</td><td>3.91</td></tr><tr><td>BALLANTINE BOOKS</td><td>Founding Brothers: The Revolutionary Generation</td><td>3.93</td></tr><tr><td>BBC Audiobooks</td><td>The Time Traveler's Wife</td><td>4.50</td></tr><tr><td>BBC Audiobooks America</td><td>Much Ado about Nothing</td><td>4.07</td></tr><tr><td>BBC Audiobooks Ltd</td><td>The Return of the King (The Lord of the Rings  #3)</td><td>4.35</td></tr><tr><td>BBC Books</td><td>Terry Jones' Medieval Lives</td><td>4.22</td></tr><tr><td>BBC Physical Audio</td><td>The Goon Show: Moriarty Where Are You?</td><td>5.00</td></tr><tr><td>BBC Worldwide</td><td>The Long Goodbye (Philip Marlowe  #6)</td><td>4.22</td></tr><tr><td>BCP/Duckworth Publishing</td><td>Ficciones</td><td>4.45</td></tr><tr><td>Babel</td><td>Mao II</td><td>3.99</td></tr><tr><td>Back Bay</td><td>Holidays on Ice</td><td>3.92</td></tr><tr><td>Back Bay Books</td><td>Youngblood Hawke</td><td>4.41</td></tr><tr><td>Backinprint.com</td><td>Satan: His Psychotherapy and Cure by the Unfortunate Dr. Kassler  J.S.P.S.</td><td>4.13</td></tr><tr><td>Backstage Books</td><td>The Munsters: A Trip Down Mockingbird Lane</td><td>4.45</td></tr><tr><td>Baen</td><td>Wind Rider's Oath (War God  #3)</td><td>4.27</td></tr><tr><td>Baen Books</td><td>The Ship Avenged</td><td>4.13</td></tr><tr><td>Baker Books</td><td>The J.R.R. Tolkien Handbook: A Comprehensive Guide to His Life  Writings  and World of Middle-Earth</td><td>3.72</td></tr><tr><td>Ballantine</td><td>Return of the Straight Dope</td><td>4.27</td></tr><tr><td>Ballantine Books</td><td>Your Oasis on Flame Lake</td><td>4.59</td></tr><tr><td>Ballantine Books (NY)</td><td>Tolkien: A Look Behind The Lord of the Rings</td><td>4.08</td></tr><tr><td>Banner of Truth</td><td>The Valley of Vision: A Collection of Puritan Prayers and Devotions</td><td>4.54</td></tr><tr><td>Bantam</td><td>Wouldn't Take Nothing for My Journey Now</td><td>4.42</td></tr><tr><td>Bantam (Fanfare Imprint)</td><td>Heaven's Price</td><td>3.55</td></tr><tr><td>Bantam (Fanfare)</td><td>22 Indigo Place</td><td>3.63</td></tr><tr><td>Bantam Books</td><td>Winter Dreams (Sweet Dreams  #141)</td><td>4.37</td></tr><tr><td>Bantam Books  Inc.</td><td>Exodus</td><td>4.34</td></tr><tr><td>Bantam Books (NY)</td><td>Use of Weapons</td><td>4.18</td></tr><tr><td>Bantam Classic</td><td>The Turn of the Screw and Other Short Fiction</td><td>3.80</td></tr><tr><td>Bantam Classics</td><td>The Last of the Mohicans (The Leatherstocking Tales #2)</td><td>4.47</td></tr><tr><td>Bantam Doubleday Dell (NYC)</td><td>How the Irish Saved Civilization: The Untold Story of Ireland's Heroic Role from the Fall of Rome to the Rise of Medieval Europe</td><td>3.81</td></tr><tr><td>Bantam Doubleday Dell Publishing Company Inc.</td><td>Lincoln's Dreams</td><td>3.52</td></tr><tr><td>Bantam Doubleday Dell Publishing Group</td><td>Sixty Days and Counting (Science in the Capital  #3)</td><td>4.15</td></tr><tr><td>Bantam Press</td><td>The Devil in the White City: Murder  Magic and Madness at the Fair that Changed America</td><td>4.36</td></tr><tr><td>Bantam Skylark</td><td>James and the Giant Peach</td><td>4.39</td></tr><tr><td>Bantam Spectra</td><td>The Hollow Man</td><td>4.26</td></tr><tr><td>Bantam Spectra (NY)</td><td>Excession (Culture  #5)</td><td>4.21</td></tr><tr><td>Bantam Starfire</td><td>Against the Odds: Tales of Achievement</td><td>3.83</td></tr><tr><td>BantamSpectra</td><td>Prince of the Blood (Krondor's Sons  #1)</td><td>3.98</td></tr><tr><td>Bantem Press</td><td>The Sinner (Rizzoli & Isles  #3)</td><td>4.13</td></tr><tr><td>Barbour Books</td><td>Come Away My Beloved</td><td>4.58</td></tr><tr><td>Barefoot Books</td><td>The Barefoot Book Of Ballet Stories</td><td>4.21</td></tr><tr><td>Barn Owl Books</td><td>The Spiral Stair (Arabel and Mortimer  #6)</td><td>4.33</td></tr><tr><td>Barnes  Noble</td><td>The Conquest of Gaul</td><td>4.13</td></tr><tr><td>Barnes  Noble Classics</td><td>Ward No. 6 and Other Stories</td><td>4.49</td></tr><tr><td>Barnes & Noble</td><td>Twenty Thousand Leagues Under the Sea (Extraordinary Voyages  #6)</td><td>4.35</td></tr><tr><td>Barnes & Noble Books</td><td>Swann's Way (Remembrance of Things Past  #1)</td><td>4.14</td></tr><tr><td>Barnes & Noble Classics</td><td>Robinson Crusoe</td><td>4.07</td></tr><tr><td>Baronet Books</td><td>The Three Musketeers (Great Illustrated Classics)</td><td>4.08</td></tr><tr><td>Barricade Books</td><td>Jimmy Stewart: The Truth Behind the Legend</td><td>4.25</td></tr><tr><td>Barrington Stoke</td><td>Before Night Falls</td><td>3.39</td></tr><tr><td>Barron's Educational Series</td><td>Winter (Four Seasons  #4)</td><td>4.00</td></tr><tr><td>Barrons Educational Series</td><td>Twelfth Night</td><td>4.06</td></tr><tr><td>Basic Books</td><td>Why Orwell Matters</td><td>4.80</td></tr><tr><td>Basic Books (AZ)</td><td>Basic Economics: A Common Sense Guide to the Economy</td><td>4.32</td></tr><tr><td>Basil Blackwell (Cambridge  MA/Oxford)</td><td>The Ideology of the Aesthetic</td><td>4.11</td></tr><tr><td>Bastei Lübbe</td><td>The Stand: Das letzte Gefecht</td><td>4.34</td></tr><tr><td>Baton Wicks</td><td>Everest: Expedition to the Ultimate</td><td>3.93</td></tr><tr><td>Batsford</td><td>Falconry & Hawking</td><td>4.31</td></tr><tr><td>Be Beautiful</td><td>Embracing Love  Vol. 6</td><td>4.36</td></tr><tr><td>Beach Lane Books</td><td>The Turtle (The Lighthouse Family  #4)</td><td>4.18</td></tr><tr><td>Beacon Press</td><td>You Can't Be Neutral on a Moving Train: A Personal History of Our Times</td><td>4.36</td></tr><tr><td>Beacon Press (Boston)</td><td>Man's Search for Meaning</td><td>4.36</td></tr><tr><td>Bear  Company</td><td>Maya Cosmogenesis 2012: The True Meaning of the Maya Calendar End-Date</td><td>3.71</td></tr><tr><td>Beckett Media</td><td>Beckett Football Card Price Guide</td><td>0.00</td></tr><tr><td>Bedford Books</td><td>What Did the Constitution Mean to Early Americans? (Historians at Work)</td><td>4.02</td></tr><tr><td>Bedford/St. Martin's</td><td>The Communist Manifesto with Related Documents</td><td>3.55</td></tr><tr><td>Belknap Press</td><td>What Is Ancient Philosophy?</td><td>4.30</td></tr><tr><td>Belknap Press of Harvard University Press</td><td>The Art of Shakespeare's Sonnets</td><td>4.30</td></tr><tr><td>Beltz und Gelberg</td><td>Cool Girl</td><td>3.76</td></tr><tr><td>BenBella Books</td><td>The Sheep Look Up</td><td>3.95</td></tr><tr><td>Benjamin Cummings</td><td>Astronomy: A Beginner's Guide to the Universe</td><td>3.88</td></tr><tr><td>Benjamin-Cummings Publishing Company</td><td>Physics: for Scientists and Engineers with Modern Physics</td><td>3.78</td></tr><tr><td>Benziger</td><td>Der Prophet</td><td>4.23</td></tr><tr><td>Berkley</td><td>Winter Prey (Lucas Davenport  #5)</td><td>4.26</td></tr><tr><td>Berkley Books</td><td>Without Remorse (John Clark  #1; Jack Ryan Universe Publication Order #6)</td><td>4.26</td></tr><tr><td>Berkley Books (NY)</td><td>Incident at Exeter</td><td>3.56</td></tr><tr><td>Berkley Hardcover</td><td>The Lunatic Cafe (Anita Blake  Vampire Hunter #4)</td><td>4.13</td></tr><tr><td>Berkley Heat</td><td>Wicked Ties (Wicked Lovers  #1)</td><td>3.96</td></tr><tr><td>Berkley Prime Crime</td><td>A New Leash on Death (A Dog Lover's Mystery  #1)</td><td>3.79</td></tr><tr><td>Berkley Prime Crime Books</td><td>Stud Rites (A Dog Lover's Mystery #9)</td><td>3.81</td></tr><tr><td>Berkley Publishing</td><td>Stardust of Yesterday (de Piaget  #9; de Paiget/MacLeod  #1)</td><td>4.09</td></tr><tr><td>Berkley Publishing Group</td><td>Strange Candy (Anita Blake  Vampire Hunter #0.5)</td><td>3.95</td></tr><tr><td>Berkley Sensation</td><td>Shadow of the Moon (Moon #5)</td><td>4.22</td></tr><tr><td>Berkley Trade</td><td>The Magical Worlds of Lord of the Rings: The Amazing Myths  Legends and Facts Behind the Masterpiece</td><td>4.20</td></tr><tr><td>Berlitz Kids</td><td>La gata perdida = The Missing Cat (Las Aventuras de Nicolas = Adventures with Nicholas)</td><td>4.14</td></tr><tr><td>Berrett-Koehler Publishers</td><td>The 21 Success Secrets of Self-Made Millionaires: How to Achieve Financial Independence Faster and Easier Than You Ever Thought Possible</td><td>4.05</td></tr><tr><td>Bertrand</td><td>Disparitions</td><td>3.81</td></tr><tr><td>Bethany House Publishers</td><td>The Tutor's First Love</td><td>4.33</td></tr><tr><td>Better Homes and Gardens Books</td><td>Second Home: Finding Your Place in the Fun (Better Homes and Gardens)</td><td>3.83</td></tr><tr><td>Between the Lines Productions</td><td>Anthony Thwaite: In Conversation With Peter Dale and Ian Hamilton</td><td>0.00</td></tr><tr><td>BiblioLife</td><td>The Adventures of Sally</td><td>3.78</td></tr><tr><td>Big Finish</td><td>Doctor Who Short Trips: Repercussions</td><td>3.38</td></tr><tr><td>Billboard Books</td><td>The Weekend Novelist</td><td>3.67</td></tr><tr><td>Birlinn</td><td>The Nightmare Years: 1930-40 (20th Century Journey  #2)</td><td>4.24</td></tr><tr><td>Birlinn Ltd</td><td>The Killer Angels (The Civil War Trilogy  #2)</td><td>4.32</td></tr><tr><td>Bison Books</td><td>The Lost Continent: The Story of Atlantis</td><td>4.13</td></tr><tr><td>Black Classic Press</td><td>Black Man of the Nile and His Family</td><td>4.61</td></tr><tr><td>Black Dog & Leventhal</td><td>The Right Stuff</td><td>4.24</td></tr><tr><td>Black Dog & Leventhal Publishers</td><td>The Mystery of the Blue Train (Hercule Poirot  #6)</td><td>4.26</td></tr><tr><td>Black Lizard Books</td><td>The Long Goodbye (Philip Marlowe  #6)</td><td>4.22</td></tr><tr><td>Black Sparrow Press</td><td>You Get So Alone at Times That it Just Makes Sense</td><td>4.24</td></tr><tr><td>Black Swan</td><td>Until I Find You</td><td>4.23</td></tr><tr><td>Blackstone Audiobooks</td><td>The Reverse of the Medal (Aubrey/Maturin  #11)</td><td>4.41</td></tr><tr><td>Blackstone Publishing</td><td>Till We Have Faces: A Myth Retold</td><td>4.19</td></tr><tr><td>Blackwell Publishers</td><td>The Christian Theology Reader</td><td>4.17</td></tr><tr><td>Blackwell Publishing  Inc.</td><td>Philosophical Investigations</td><td>4.23</td></tr><tr><td>Blanvalet Taschenbuch</td><td>Endymion: Pforten der Zeit</td><td>4.17</td></tr><tr><td>Blanvalet Taschenbuch Verlag</td><td>Star Wars. Episode I - Die dunkle Bedrohung</td><td>4.06</td></tr><tr><td>Blanvalet Verlag GmbH</td><td>Betrogen</td><td>3.92</td></tr><tr><td>Blood Moon Productions</td><td>Brando Unzipped: A Revisionist and Very Private Look at America's Greatest Actor</td><td>3.51</td></tr><tr><td>Bloomsbury</td><td>The Little Friend</td><td>4.56</td></tr><tr><td>Bloomsbury (NYC)</td><td>Supermob: How Sidney Korshak and His Criminal Associates Became America's Hidden Power Brokers</td><td>3.88</td></tr><tr><td>Bloomsbury / Continuum</td><td>Beyond the Chains of Illusion: My Encounter with Marx and Freud</td><td>4.07</td></tr><tr><td>Bloomsbury Academic</td><td>Time for Revolution</td><td>4.27</td></tr><tr><td>Bloomsbury Arden Shakespeare</td><td>Romeo and Juliet</td><td>4.27</td></tr><tr><td>Bloomsbury Children's Books</td><td>Tanglewreck</td><td>3.46</td></tr><tr><td>Bloomsbury Childrens Books</td><td>Sideways Stories from Wayside School (Wayside School #1)</td><td>4.15</td></tr><tr><td>Bloomsbury Methuen Drama</td><td>You'll Have Had Your Hole</td><td>4.27</td></tr><tr><td>Bloomsbury Paperbacks</td><td>A Friend of the Earth</td><td>3.67</td></tr><tr><td>Bloomsbury Publishing</td><td>Pastoralia</td><td>4.57</td></tr><tr><td>Bloomsbury Publishing PLC</td><td>Turtle Diary</td><td>4.12</td></tr><tr><td>Bloomsbury U.S.A. Children's Books</td><td>Wayside School Gets A Little Stranger (Wayside School  #3)</td><td>4.19</td></tr><tr><td>Bloomsbury UK</td><td>Harry Potter and the Prisoner of Azkaban (Harry Potter  #3)</td><td>4.56</td></tr><tr><td>Bloomsbury USA</td><td>Soldiers of Salamis</td><td>3.81</td></tr><tr><td>Bloomsbury USA Children's Books</td><td>Harrius Potter et Camera Secretorum</td><td>4.42</td></tr><tr><td>Bloomsbury USA Childrens</td><td>Harry Potter and the Philosopher's Stone (Harry Potter  #1)</td><td>4.47</td></tr><tr><td>Blu</td><td>Shout Out Loud! 5</td><td>4.32</td></tr><tr><td>Blue Sky Press</td><td>Common Ground: The Water  Earth  and Air We Share</td><td>3.74</td></tr><tr><td>Bolchazy-Carducci Publishers</td><td>The Evolution of the Gilgamesh Epic</td><td>4.35</td></tr><tr><td>Bold Strokes Books</td><td>Carly's Sound</td><td>4.21</td></tr><tr><td>Bollingen/Princeton University Press (NJ)</td><td>The Complete Works: The Revised Oxford Translation  Vol. 1</td><td>4.43</td></tr><tr><td>Book Publishing Company</td><td>Monday Night Class</td><td>3.89</td></tr><tr><td>Book Publishing Company (TN)</td><td>Spiritual Midwifery</td><td>4.38</td></tr><tr><td>Book of the Month Club</td><td>Storm of the Century: An Original Screenplay</td><td>3.92</td></tr><tr><td>Bookclub-In-A-Box</td><td>A Complicated Kindness (Bookclub-In-A-Box)</td><td>4.00</td></tr><tr><td>Booket</td><td>El perfume: Historia de un asesino</td><td>4.02</td></tr><tr><td>Booklocker.com  Inc.</td><td>The Play Soldier</td><td>4.50</td></tr><tr><td>Books on Tape</td><td>Undaunted Courage</td><td>4.21</td></tr><tr><td>Booksales</td><td>The Complete Dream Dictionary</td><td>3.82</td></tr><tr><td>Bookspan</td><td>Something Wicked This Way Comes</td><td>3.94</td></tr><tr><td>Boosey & Hawkes Inc</td><td>The Complete Theory Fun Factory: Music Theory Puzzles and Games for the Early Grades</td><td>5.00</td></tr><tr><td>Borgo Press</td><td>The Well at the World's End: Volume II</td><td>3.90</td></tr><tr><td>Boston Common Press</td><td>Cook's Illustrated 2003 (Cook's Illustrated Annuals)</td><td>4.69</td></tr><tr><td>Bradford Book</td><td>Turtles  Termites  and Traffic Jams: Explorations in Massively Parallel Microworlds</td><td>4.50</td></tr><tr><td>BradyGames</td><td>Zone of the Enders: The 2nd Runner Official Strategy Guide</td><td>5.00</td></tr><tr><td>Bradygames</td><td>Manhunt Official Strategy Guide</td><td>4.00</td></tr><tr><td>Bragelonne</td><td>L'epée de Shannara</td><td>3.45</td></tr><tr><td>Brava</td><td>You Don't Know Jack (NY Girlfriends  #2)</td><td>3.73</td></tr><tr><td>Bright Sky Press</td><td>Dark Rivers of the Heart / Sole Survivor / Intensity</td><td>4.41</td></tr><tr><td>Brill/Rodopi</td><td>I'm Telling You Stories: Jeanette Winterson and the Politics of Reading (Postmodern Studies 25)</td><td>3.70</td></tr><tr><td>Brilliance Audio</td><td>Without Fail (Jack Reacher  #6)</td><td>4.21</td></tr><tr><td>Bristol Classical Press</td><td>Theocritus: Select Poems: Select Poems</td><td>4.04</td></tr><tr><td>British Academy</td><td>1848: The Revolution of the Intellectuals</td><td>3.11</td></tr><tr><td>British Film Institute</td><td>Trainspotting</td><td>4.43</td></tr><tr><td>British Library</td><td>Jack Vance: Critical Appreciations and a Bibliography</td><td>4.15</td></tr><tr><td>Broadview Press Inc</td><td>The Woman in White</td><td>4.11</td></tr><tr><td>Broadway</td><td>The Complete Stories  Vol 1</td><td>4.36</td></tr><tr><td>Broadway Books</td><td>Youth in Revolt: The Journals of Nick Twisp</td><td>4.43</td></tr><tr><td>Broadway Business</td><td>The Art of Innovation: Lessons in Creativity from IDEO  America's Leading Design Firm</td><td>3.97</td></tr><tr><td>Broadway/Crown Publishing Group</td><td>Going After Cacciato</td><td>3.91</td></tr><tr><td>Brookline Books</td><td>Writing</td><td>3.75</td></tr><tr><td>Bruno Gmünder</td><td>Wicked Dreams</td><td>3.67</td></tr><tr><td>Bryn Mawr Commentaries</td><td>Thucydides  Book 6 Commentary</td><td>4.50</td></tr><tr><td>Buccaneer Books</td><td>The Untouchables</td><td>4.14</td></tr><tr><td>Bulfinch</td><td>Odes to Common Things</td><td>4.39</td></tr><tr><td>Bureau of Public Secrets</td><td>Situationist International Anthology: Revised and Expanded Edition</td><td>4.26</td></tr><tr><td>Burford Books</td><td>Shattered Air: A True Account of Catastrophe and Courage on Yosemite's Half Dome</td><td>3.77</td></tr><tr><td>Business Plus</td><td>The Coming Economic Collapse: How You Can Thrive When Oil Costs $200 a Barrel</td><td>4.14</td></tr><tr><td>Byblos</td><td>La reina de los condenados (Crónicas Vampíricas  #3)</td><td>3.89</td></tr><tr><td>C. Bange</td><td>Erläuterungen Zu Max Frisch  Homo Faber</td><td>3.60</td></tr><tr><td>CDS Books</td><td>Creepers</td><td>3.66</td></tr><tr><td>CMX</td><td>Emma  Vol. 01</td><td>3.83</td></tr><tr><td>CQ Press</td><td>The Elections of 2004</td><td>4.00</td></tr><tr><td>CRC Press</td><td>A History of the Life Sciences</td><td>4.53</td></tr><tr><td>Caedmon</td><td>Welcome to the Monkey House</td><td>4.30</td></tr><tr><td>Cambridge University Press</td><td>Who Needs Greek? Contests in the Cultural History of Hellenism</td><td>4.54</td></tr><tr><td>Cambridge University Press/The New Cambridge Shakespeare</td><td>Hamlet  Prince of Denmark</td><td>4.02</td></tr><tr><td>Canadian Broadcasting Corporation (CBC Audio)</td><td>Vinyl Cafe Odd Jobs</td><td>4.56</td></tr><tr><td>Candlewick</td><td>Judy Moody Declares Independence (Judy Moody #6)</td><td>4.09</td></tr><tr><td>Candlewick Press</td><td>The Tiger Rising</td><td>4.37</td></tr><tr><td>Candlewick Press (MA)</td><td>Captain Slaughterboard Drops Anchor</td><td>4.15</td></tr><tr><td>Canongate Books</td><td>The Crimson Petal and the White</td><td>4.00</td></tr><tr><td>Canongate U.S.</td><td>Weight: The Myth of Atlas and Heracles</td><td>3.77</td></tr><tr><td>Capstone Press</td><td>The Girlhood Diary of Louisa May Alcott  1843-1846: Writings of a Young Author</td><td>4.33</td></tr><tr><td>Cardoza</td><td>Doyle Brunson's Super System</td><td>3.94</td></tr><tr><td>Carl Hanser</td><td>Operation Shylock. Ein Bekenntnis</td><td>4.09</td></tr><tr><td>Carlsen</td><td>Utena: Revolutionary Girl 01</td><td>4.56</td></tr><tr><td>Carlton Publishing Group</td><td>Seven Men and Two Others</td><td>3.88</td></tr><tr><td>Carole Marsh Mysteries</td><td>The Mystery on the Mighty Mississippi</td><td>3.73</td></tr><tr><td>Carroll & Graf</td><td>The Burnt Orange Heresy</td><td>3.90</td></tr><tr><td>Carroll & Graf Publishers</td><td>The Boys of Everest: Chris Bonington and the Tragedy of Climbing's Greatest Generation</td><td>4.06</td></tr><tr><td>Cartago</td><td>Doisneau</td><td>4.36</td></tr><tr><td>Cartwheel</td><td>The Treasure Hunt: A Little Bill Book</td><td>3.69</td></tr><tr><td>Casa Creacion</td><td>Amor Y Respeto/love And Respect: El Respeto Que El Desesperadamente Necesita/ The Love She Most Desires And The Respect He Desperately Needs</td><td>4.18</td></tr><tr><td>Castle Books</td><td>The Treasured Writings of Kahlil Gibran</td><td>4.42</td></tr><tr><td>Catholic Book Publishing</td><td>Confessions of Saint Augustine (Paraclete Living Library)</td><td>3.92</td></tr><tr><td>Cavendish Square Publishing</td><td>The White House (Symbols of America)</td><td>4.00</td></tr><tr><td>Cedar Books</td><td>How to Win Friends and Influence People</td><td>4.19</td></tr><tr><td>Celestial Arts</td><td>Heart & Hands: A Midwife's Guide to Pregnancy & Birth</td><td>4.37</td></tr><tr><td>Cemetery Dance Publications</td><td>Wild Things: Four Tales</td><td>4.47</td></tr><tr><td>Cengage Learning</td><td>The Riverside Milton</td><td>4.26</td></tr><tr><td>Center Point</td><td>Act of Treason (Mitch Rapp  #9)</td><td>4.29</td></tr><tr><td>Century</td><td>Eat Right 4 Your Type</td><td>3.57</td></tr><tr><td>Chalice Press</td><td>The Wolf Shall Dwell With the Lamb: A Spirituality for Leadership in a Multicultural Community</td><td>3.96</td></tr><tr><td>Challenge Press  Inc./Challcrest Press</td><td>Algernon  Charlie  and I: A Writer's Journey: Plus the Complete Original Short Novelette Version of Flowers for Algernon</td><td>4.06</td></tr><tr><td>Changeling Press</td><td>A Changeling for All Seasons (Changeling Seasons #1)</td><td>3.76</td></tr><tr><td>Chaosium</td><td>The Keeper's Companion Vol. 1 (Call of Cthulhu RPG)</td><td>4.45</td></tr><tr><td>Charles Scribner's Sons</td><td>Watership Down</td><td>4.06</td></tr><tr><td>Charlesbridge</td><td>Mosquito Bite</td><td>3.78</td></tr><tr><td>Charnwood</td><td>Pride and Prejudice</td><td>4.26</td></tr><tr><td>Chartwell Books</td><td>Winchester Shotguns</td><td>5.00</td></tr><tr><td>Chatto  Windus</td><td>The Pure in Heart (Simon Serrailler  #2)</td><td>4.00</td></tr><tr><td>Chatto & Windus</td><td>The Risk of Darkness (Simon Serrailler  #3)</td><td>4.34</td></tr><tr><td>Chatto and Windus</td><td>Swanns Way (In Search of Lost Time #1)</td><td>4.14</td></tr><tr><td>Checkmark Books</td><td>Edgar Allan Poe A to Z</td><td>4.33</td></tr><tr><td>Chelsea House Publications</td><td>Ray Bradbury's Fahrenheit 451</td><td>4.41</td></tr><tr><td>Chelsea House Publishers</td><td>Sarah Bernhardt</td><td>4.25</td></tr><tr><td>Cherry Lane Music Company</td><td>Molly Hatchet - 5 of the Best</td><td>4.33</td></tr><tr><td>Cherry Red Books</td><td>The Day the Country Died: A History of Anarcho-Punk  1980-1984</td><td>3.99</td></tr><tr><td>Chicago Review Press</td><td>Women  Cats: The History of a Love Affair</td><td>4.24</td></tr><tr><td>Chicken House</td><td>Ghosthunters and the Muddy Monster of Doom! (Ghosthunters  #4)</td><td>3.93</td></tr><tr><td>Chicken House / Scholastic</td><td>When Santa Fell to Earth</td><td>3.76</td></tr><tr><td>Child's Play International</td><td>The Little Mouse  the Red Ripe Strawberry and the Big Hungry Bear</td><td>4.32</td></tr><tr><td>Children's Classics</td><td>The Secret Garden</td><td>4.13</td></tr><tr><td>Children's Press(CT)</td><td>Latitude and Longitude (Rookie Read-About Geography)</td><td>3.53</td></tr><tr><td>Chosen Books</td><td>Meeting God at Every Turn</td><td>4.46</td></tr><tr><td>Christian Classics</td><td>Summa Theologica  5 Vols</td><td>4.50</td></tr><tr><td>Chronicle Books</td><td>i am 8-bit: Art Inspired by Classic Videogames of the '80s</td><td>4.50</td></tr><tr><td>Chu Hartley Publishers LLC</td><td>The American Religion</td><td>3.76</td></tr><tr><td>Churchill Livingstone</td><td>Anesthesiology Review</td><td>3.67</td></tr><tr><td>Circlet Press</td><td>Through a Brazen Mirror</td><td>3.37</td></tr><tr><td>Cisne</td><td>Anhelos ocultos</td><td>3.94</td></tr><tr><td>Cistercian Publications</td><td>Gertrud The Great Of Helfta: Spiritual Exercises</td><td>3.43</td></tr><tr><td>Citadel</td><td>Wizard: The Life and Times of Nikola Tesla: Biography of a Genius</td><td>4.28</td></tr><tr><td>Citadel Press</td><td>The Parrot-Head Companion: An Insider's Guide to Jimmy Buffett</td><td>4.19</td></tr><tr><td>City Lights</td><td>Howl and Other Poems</td><td>4.13</td></tr><tr><td>City Lights Publishers</td><td>The Essential Neruda: Selected Poems</td><td>4.46</td></tr><tr><td>Civitas Books</td><td>Shattered Bonds: The Color of Child Welfare</td><td>4.19</td></tr><tr><td>Claassen Verlag</td><td>Der Buchhändler aus Kabul: Eine Familiengeschichte</td><td>3.76</td></tr><tr><td>Clarendon Press</td><td>Theogonia  Opera et Dies  Scutum  Fragmenta Selecta (Classical Texts)</td><td>4.10</td></tr><tr><td>Clarion Books</td><td>The Turtle and the Monkey</td><td>4.21</td></tr><tr><td>Clarity Press</td><td>Dalit: The Black Untaouchables of India</td><td>4.20</td></tr><tr><td>Clarkson Potter</td><td>Tyler's Ultimate: Brilliant Simple Food to Make Any Time</td><td>4.15</td></tr><tr><td>Clarkson Potter Publishers</td><td>Tyler Florence's Real Kitchen: An Indespensible Guide for Anybody Who Likes to Cook</td><td>4.06</td></tr><tr><td>Clarkson Potter/Publishers</td><td>Gale Gand's Short + Sweet : Quick Desserts with Eight Ingredients or Less</td><td>3.71</td></tr><tr><td>Classic Books</td><td>Indiscretions of Archie</td><td>3.87</td></tr><tr><td>Cleis Press</td><td>Tristan Taormino's True Lust</td><td>4.33</td></tr><tr><td>Cliffs Notes</td><td>William Shakespeare's A Midsummer Night's Dream (Cliffs Complete)</td><td>4.32</td></tr><tr><td>Coffee House Press</td><td>Tropic of Orange</td><td>3.90</td></tr><tr><td>Cold Spring Harbor Laboratory Press</td><td>Bioinformatics: Sequence and Genome Analysis</td><td>3.86</td></tr><tr><td>Cold Spring Press</td><td>The Sillymarillion: An Unauthorized Parody of J.R.R. Tolkien's Classic the Silmarillion</td><td>3.54</td></tr><tr><td>Collection of Historical Scientific Instruments</td><td>The Quest for Longitude: The Proceedings of the Longitude Symposium  Harvard University  Cambridge  Massachusetts  November 4-6  1993</td><td>4.50</td></tr><tr><td>Collector's Library</td><td>The Iliad</td><td>4.07</td></tr><tr><td>Collectors Library</td><td>Three Men in a Boat: To Say Nothing of the Dog</td><td>3.89</td></tr><tr><td>Collier Books</td><td>The Song of Rhiannon</td><td>4.02</td></tr><tr><td>Collins</td><td>Sam And The Firefly (Beginner Books)</td><td>4.17</td></tr><tr><td>Collins Design</td><td>The Homecoming</td><td>4.08</td></tr><tr><td>Collins Modern Classics</td><td>The Lord of the Rings / The Hobbit</td><td>4.59</td></tr><tr><td>Collins Publishers</td><td>You: The Owner's Manual: An Insider's Guide to the Body That Will Make You Healthier and Younger</td><td>3.82</td></tr><tr><td>Collins Reference</td><td>How to Go to College Almost for Free  Updated</td><td>4.38</td></tr><tr><td>Columbia Pictures Pubns</td><td>Stand by Me</td><td>4.32</td></tr><tr><td>Columbia University Press</td><td>William Faulkner: The Sound and the Fury and as I Lay Dying: Essays  Articles  Reviews</td><td>4.25</td></tr><tr><td>ComicsLit</td><td>Within a Budding Grove  Volume 2 (Remembrance of Things Past  #3)</td><td>4.04</td></tr><tr><td>ComicsOne Corporation</td><td>Tomie 2  富江 Part 2</td><td>3.94</td></tr><tr><td>Companhia das Letras</td><td>O Xará</td><td>3.99</td></tr><tr><td>Conari Press</td><td>The Book of Awakening: Having the Life You Want by Being Present to the Life You Have</td><td>4.31</td></tr><tr><td>Condor Books</td><td>The Wanderer</td><td>3.96</td></tr><tr><td>Contemporary Books</td><td>How to Talk to Anyone: 92 Little Tricks for Big Success in Relationships</td><td>3.78</td></tr><tr><td>Contemporary French Fiction</td><td>V.</td><td>3.96</td></tr><tr><td>Continuum</td><td>Gita on the Green</td><td>3.78</td></tr><tr><td>Cook's Illustrated</td><td>The Best American Classics</td><td>4.53</td></tr><tr><td>Cooper Square Press</td><td>Temptations</td><td>4.19</td></tr><tr><td>Cooper Square Publishers</td><td>Marilyn Monroe: The Biography</td><td>4.03</td></tr><tr><td>Copernicus Books</td><td>Leaps of Faith: Science  Miracles & the Search for Supernatural Consolation</td><td>3.61</td></tr><tr><td>Copper Canyon Press</td><td>The Collected Songs of Cold Mountain</td><td>4.41</td></tr><tr><td>Corgi</td><td>Witches Abroad (Discworld  #12)</td><td>4.32</td></tr><tr><td>Corgi Books</td><td>The Hotel New Hampshire</td><td>3.90</td></tr><tr><td>Corgi Books (Adult)</td><td>Queen of Sorcery (The Belgariad  #2)</td><td>4.14</td></tr><tr><td>Corgi Childrens</td><td>Spindle's End</td><td>4.30</td></tr><tr><td>Cornell University Press</td><td>The River Runs Black: The Environmental Challenge to China's Future</td><td>4.35</td></tr><tr><td>Cornerstone Press Chicago</td><td>Christian Mythmakers: C.S. Lewis  Madeleine L'Engle  J.R.R. Tolkien  George MacDonald  G.K. Chesterton  Charles Williams  Dante Alighieri  John Bunyan  Walter Wangerin  Robert Siegel  and Hannah Hurnard</td><td>3.93</td></tr><tr><td>Coronet</td><td>Girl Meets Ape</td><td>3.73</td></tr><tr><td>Coronet Books (GB)</td><td>The Stone Monkey (Lincoln Rhyme  #4)</td><td>4.20</td></tr><tr><td>Cosimo Classics</td><td>The Phenomenology of Mind  Volume II</td><td>4.00</td></tr><tr><td>Cosmos Books (OH)</td><td>Toast  and Other Stories</td><td>3.80</td></tr><tr><td>Council Oak Books</td><td>Kick the Can (One-Eyed Mack  #1)</td><td>3.85</td></tr><tr><td>Council Press</td><td>Huck Finn and Tom Sawyer Among the Indians</td><td>3.57</td></tr><tr><td>Counterpoint</td><td>The Soloist</td><td>3.85</td></tr><tr><td>Counterpoint LLC</td><td>The Horizontal World: Growing Up Wild in the Middle of Nowhere</td><td>3.77</td></tr><tr><td>Countryman Press</td><td>King Arthur Flour Whole Grain Baking: Delicious Recipes Using Nutritious Whole Grains</td><td>4.13</td></tr><tr><td>Courage Books</td><td>The New Big Book of America</td><td>5.00</td></tr><tr><td>Course Technology</td><td>programming.java: An Introduction to Programming Using Java: An Introduction to Programming Using Java</td><td>4.00</td></tr><tr><td>Creation Books</td><td>Fucked By Rock + Cd</td><td>3.96</td></tr><tr><td>Crescent</td><td>China and Japan (Myths and Legends)</td><td>3.52</td></tr><tr><td>Critica (Grijalbo Mondadori)</td><td>Brevísima historia del tiempo</td><td>4.22</td></tr><tr><td>Crossing Press</td><td>Sister Outsider: Essays and Speeches</td><td>4.49</td></tr><tr><td>Crossroad</td><td>Life of the Beloved: Spiritual Living in a Secular World</td><td>4.34</td></tr><tr><td>Crossroad Publishing Company</td><td>Save the Date: A Spirituality of Dating  Love  Dinner  and the Divine</td><td>3.60</td></tr><tr><td>Crossway Books</td><td>When the Darkness Will Not Lift: Doing What We Can While We Wait for God—And Joy</td><td>4.46</td></tr><tr><td>Crown</td><td>World War Z: An Oral History of the Zombie War</td><td>4.22</td></tr><tr><td>Crown Business</td><td>Rule #1: The Simple Strategy for Successful Investing in Only 15 Minutes a Week!</td><td>4.02</td></tr><tr><td>Crown Forum</td><td>FDR's Folly: How Roosevelt and His New Deal Prolonged the Great Depression</td><td>4.00</td></tr><tr><td>Crown Journeys/Crown Publishers/Crown Publishing Group/Random House</td><td>Fugitives and Refugees: A Walk in Portland  Oregon</td><td>3.51</td></tr><tr><td>Crown Publishers</td><td>Men  Martians and Machines</td><td>3.77</td></tr><tr><td>Crown Publishing Group</td><td>The Clan of the Cave Bear (Earth's Children  #1)</td><td>4.05</td></tr><tr><td>Crown Publishing Group (NY)</td><td>Thunderstruck</td><td>4.22</td></tr><tr><td>Cruithne Press</td><td>The Work of Work Servitude  Slavery and Labor in Medieval England</td><td>3.00</td></tr><tr><td>Crystal Clarity Publishers</td><td>How to Be Happy All the Time</td><td>4.36</td></tr><tr><td>Cumberland House Publishing</td><td>The Southern Haunting of Truman Capote</td><td>3.90</td></tr><tr><td>Cybereditions Corp</td><td>King Lear  Macbeth  Indefinition  and Tragedy</td><td>4.11</td></tr><tr><td>Cátedra</td><td>El Diablo Cojuelo</td><td>3.06</td></tr><tr><td>Círculo de Lectores</td><td>El amor en los tiempos del cólera</td><td>3.91</td></tr><tr><td>DAW</td><td>Winds of Fury (Valdemar: Mage Winds #3)</td><td>4.25</td></tr><tr><td>DAW Books</td><td>In the Green Star's Glow (Green Star  #5)</td><td>3.95</td></tr><tr><td>DAW Books (NY)</td><td>Polymath (Zarathustra Refugee Planets  #2)</td><td>3.56</td></tr><tr><td>DAW Books Inc</td><td>The Many Worlds of Magnus Ridolph</td><td>4.27</td></tr><tr><td>DAW Fantasy</td><td>To Green Angel Tower  Part 2 (Memory  Sorrow  and Thorn  #3; Part 2)</td><td>4.20</td></tr><tr><td>DAW Hardcover</td><td>Regeneration (Species Imperative  #3)</td><td>4.13</td></tr><tr><td>DAW SF</td><td>Manshape</td><td>3.11</td></tr><tr><td>DC Comics</td><td>Underworld Unleashed</td><td>4.47</td></tr><tr><td>DC Comics Vertigo</td><td>The Invisibles  Vol. 7: The Invisible Kingdom</td><td>4.24</td></tr><tr><td>DEBOLS!LLO</td><td>Artemis Fowl (Artemis Fowl  #1)</td><td>3.84</td></tr><tr><td>DK</td><td>The Marvel Encyclopedia</td><td>4.51</td></tr><tr><td>DK Children</td><td>You Can Draw: Star Wars</td><td>4.33</td></tr><tr><td>DK Publishing</td><td>Touch & Feel: Animals Boxed Set</td><td>4.29</td></tr><tr><td>DK Publishing (Dorling Kindersley)</td><td>The Story of Philosophy: A Concise Introduction to the World's Greatest Thinkers and Their Ideas</td><td>4.41</td></tr><tr><td>Da Capo Press</td><td>Unsung Heroes Of Rock 'n' Roll: The Birth Of Rock In The Wild Years Before Elvis</td><td>4.53</td></tr><tr><td>Dabel Brothers Productions</td><td>Magician: Apprentice (The Riftwar Saga  #1)</td><td>4.45</td></tr><tr><td>Dabel Brothers Publishing</td><td>The Wood Boy / The Burning Man</td><td>4.14</td></tr><tr><td>Dafina Books</td><td>When Somebody Loves You Back (Soulmates Dissipate  #6)</td><td>4.38</td></tr><tr><td>Daimon Verlag</td><td>C.G. Jung and Hermann Hesse: A Book of Two Friendships</td><td>4.02</td></tr><tr><td>Dalkey Archive Press</td><td>Yellow Back Radio Broke-Down</td><td>4.01</td></tr><tr><td>Dante University of America Press</td><td>The Prince</td><td>3.81</td></tr><tr><td>Dark Horse</td><td>The Amazing Adventures of the Escapist: Volume 1</td><td>3.94</td></tr><tr><td>Dark Horse Books</td><td>The Tale of Genji</td><td>4.58</td></tr><tr><td>Dark Horse Comics</td><td>Will Eisner Sketchbook</td><td>4.31</td></tr><tr><td>Dark Horse Manga</td><td>The Ring Volume 4 Birthday</td><td>4.37</td></tr><tr><td>Dartmouth College Press</td><td>Julie  or the New Heloise</td><td>3.46</td></tr><tr><td>Darton  Longman & Todd</td><td>The Wounded Healer: Ministry in Contemporary Society</td><td>4.26</td></tr><tr><td>David C Cook</td><td>Louisa May Alcott's Christmas Treasury</td><td>3.96</td></tr><tr><td>David C. Cook</td><td>The Heart of a Leader</td><td>3.96</td></tr><tr><td>David R. Godine</td><td>How Tom Beat Captain Najork and His Hired Sportsmen (Captain Najork #1)</td><td>4.29</td></tr><tr><td>David R. Godine Publisher</td><td>Waiting for the Party: The Life of Frances Hodgson Burnett  1849-1924</td><td>4.33</td></tr><tr><td>Daw Books</td><td>The Sword of Angels (The Bronze Knight  #3)</td><td>4.20</td></tr><tr><td>De Boekerij</td><td>Vergeef me</td><td>4.18</td></tr><tr><td>DeBolsillo</td><td>¿Quién te lo ha contado?</td><td>4.12</td></tr><tr><td>DeVorss & Company</td><td>The Guide to Dan Brown's the Solomon Key</td><td>2.98</td></tr><tr><td>Deadite Press (Eraserhead Press)</td><td>Jesus Freaks</td><td>3.69</td></tr><tr><td>Debolsillo</td><td>Todo está iluminado</td><td>4.22</td></tr><tr><td>Dedalus</td><td>Eugene Onegin</td><td>4.09</td></tr><tr><td>Dedalus Limited</td><td>The Perfume of the Lady in Black</td><td>3.53</td></tr><tr><td>Del Rey</td><td>Yoda: Dark Rendezvous</td><td>4.53</td></tr><tr><td>Del Rey Ballantine Random House</td><td>The Bloody Crown of Conan (Conan the Cimmerian  #2)</td><td>4.30</td></tr><tr><td>Del Rey Books</td><td>Tsubasa: RESERVoir CHRoNiCLE  Vol. 04 (Tsubasa: RESERVoir CHRoNiCLE  #4)</td><td>4.38</td></tr><tr><td>Del Rey Books (NY)</td><td>The Best of Philip K. Dick</td><td>4.22</td></tr><tr><td>Del Rey Fantasy</td><td>The Mantle of Kendis-Dai (Starshield  #1)</td><td>3.67</td></tr><tr><td>Del Rey/Ballantine Books</td><td>The Book of Lost Tales  Part One (The History of Middle-Earth  #1)</td><td>3.83</td></tr><tr><td>Delacorte Books</td><td>Forever in Blue: The Fourth Summer of the Sisterhood (Sisterhood  #4)</td><td>3.81</td></tr><tr><td>Delacorte Books for Young Readers</td><td>The Power of One (The Power of One  #1)</td><td>4.35</td></tr><tr><td>Delacorte Press</td><td>Triptych (Will Trent  #1)</td><td>4.32</td></tr><tr><td>Delcourt</td><td>Black Hole  tome 4 : Reine des lézards</td><td>4.26</td></tr><tr><td>Dell</td><td>Your Eight Year Old: Lively and Outgoing</td><td>4.27</td></tr><tr><td>Dell Laurel-Leaf</td><td>Emily of New Moon (Emily  #1)</td><td>4.10</td></tr><tr><td>Dell Publishing</td><td>Traveller</td><td>3.92</td></tr><tr><td>Dell Publishing Company</td><td>The Rule of Four</td><td>4.23</td></tr><tr><td>Dell Yearling</td><td>The Witches of Worm</td><td>3.69</td></tr><tr><td>Delmar Thomson Learning</td><td>Graphic Design Solutions</td><td>4.04</td></tr><tr><td>Delta</td><td>Voyager (Outlander  #3)</td><td>4.48</td></tr><tr><td>Delta Publishing</td><td>Black and Blue</td><td>3.88</td></tr><tr><td>Denoël</td><td>Zodiac</td><td>4.10</td></tr><tr><td>Deodand</td><td>The Mysterious Affair at Styles (Hercule Poirot  #1)</td><td>3.99</td></tr><tr><td>Deodand Publishing</td><td>Lair of the White Worm</td><td>2.86</td></tr><tr><td>Dervy</td><td>Le prophète</td><td>4.23</td></tr><tr><td>Deseret Book Company</td><td>The Loftier Way: Tales from the Ancient American Frontier</td><td>3.78</td></tr><tr><td>Destino Ediciones</td><td>La historia de la familia Roccamatio de Helsinki</td><td>3.48</td></tr><tr><td>Destiny Books</td><td>Psychonavigation: Techniques for Travel Beyond Time</td><td>4.10</td></tr><tr><td>Destiny Image Incorporated</td><td>Experiencing Father's Embrace</td><td>4.33</td></tr><tr><td>Deutscher Taschenbuch Verlag</td><td>Power: Die 48 Gesetze Der Macht</td><td>4.18</td></tr><tr><td>Devil's Due Publishing</td><td>Dragons of Winter Night (Dragonlance: Chronicles  #2)</td><td>4.12</td></tr><tr><td>Dey Street Books</td><td>The Dirt: Confessions of the World's Most Notorious Rock Band</td><td>4.16</td></tr><tr><td>Dhv der Hörverlag</td><td>Harry Potter und der Gefangene von Askaban (Harry Potter  #3)</td><td>4.56</td></tr><tr><td>Dial</td><td>William Shakespeare’s: Twelfth Night (Shakespeare Retellings  #6)</td><td>4.11</td></tr><tr><td>Dial Books</td><td>William Shakespeare’s: Romeo and Juliet (Shakespeare Retellings  #4)</td><td>3.97</td></tr><tr><td>Dial Press</td><td>The Cloud Atlas</td><td>4.22</td></tr><tr><td>Dial Press Trade Paperback</td><td>Wampeters  Foma and Granfalloons</td><td>4.38</td></tr><tr><td>Diamond/Charter</td><td>Something Borrowed</td><td>4.14</td></tr><tr><td>Diana TB</td><td>Fuselfieber</td><td>3.79</td></tr><tr><td>Digireads.com</td><td>The Trojan Women</td><td>4.08</td></tr><tr><td>Digital Manga Publishing</td><td>The Art of Loving</td><td>4.21</td></tr><tr><td>Digital Manga Publishing / Dark Horse</td><td>Vampire Hunter D Volume 07: Mysterious Journey to the North Sea - Part One</td><td>4.27</td></tr><tr><td>Diogenes</td><td>Das Parfum. Die Geschichte eines Mörders</td><td>4.02</td></tr><tr><td>Diogenes Verlag</td><td>Das Hotel New Hampshire</td><td>3.90</td></tr><tr><td>Disinformation Books</td><td>The Real Rule of Four: The Unauthorized Guide to the New York Times #1 Bestseller</td><td>3.46</td></tr><tr><td>Disinformation Company</td><td>You are Being Lied To: The Disinformation Guide to Media Distortion  Historical Whitewashes  and Cultural Myths</td><td>3.87</td></tr><tr><td>Disney Editions</td><td>The Art of the Hunchback of Notre Dame</td><td>4.44</td></tr><tr><td>Disney Enterprises</td><td>The Making Of Disney's Animal Kingdom Theme Park</td><td>4.32</td></tr><tr><td>Disney Hyperion Books</td><td>The Sea of Monsters (Percy Jackson and the Olympians  #2)</td><td>4.25</td></tr><tr><td>Disney Press</td><td>Violet's House: A Giant Touch-and-Feel Book (Baby Einstein)</td><td>5.00</td></tr><tr><td>Disney-Hyperion</td><td>The Supernaturalist</td><td>4.13</td></tr><tr><td>Distribooks</td><td>Violin</td><td>3.28</td></tr><tr><td>Do-Not Press</td><td>Judas Pig</td><td>4.27</td></tr><tr><td>Dodd Mead; 1st edition (September 1976)</td><td>Sleeping Murder (Miss Marple  #13)</td><td>3.95</td></tr><tr><td>Dodo Press</td><td>Stalky & Co.</td><td>4.16</td></tr><tr><td>Doherty  Tom Associates  LLC</td><td>Shadow Puppets (Shadow Series  #3)</td><td>3.89</td></tr><tr><td>Dominion Press</td><td>The Days of Vengeance: An Exposition of the Book of Revelation</td><td>4.18</td></tr><tr><td>Dorling Kindersley Children</td><td>Flowers (Eyewitness Explorers)</td><td>3.85</td></tr><tr><td>Doubleday</td><td>Where's My Cow? (Discworld  #34.5)</td><td>4.25</td></tr><tr><td>Doubleday & Company  Inc.</td><td>The Complete Stories and Poems</td><td>4.38</td></tr><tr><td>Doubleday Books</td><td>You Don't Love Me Yet</td><td>4.37</td></tr><tr><td>Doubleday Books for Young Readers</td><td>Laura Ingalls Wilder's Fairy Poems</td><td>4.31</td></tr><tr><td>Doubleday Canada</td><td>The Curious Incident of the Dog in the Night-time</td><td>3.88</td></tr><tr><td>Doubleday Publishing (NY)</td><td>The Da Vinci Code (Robert Langdon  #2)</td><td>3.84</td></tr><tr><td>Douglas  McIntyre</td><td>Souvenir of Canada 2</td><td>3.85</td></tr><tr><td>Douglas & McIntyre</td><td>Terry: Terry Fox and His Marathon of Hope</td><td>4.34</td></tr><tr><td>Dover Publications</td><td>Young Goodman Brown and Other Short Stories</td><td>4.50</td></tr><tr><td>Dover Publications  Inc.</td><td>The Birth of Tragedy</td><td>3.98</td></tr><tr><td>Dover Publications (NY)</td><td>Fads and Fallacies in the Name of Science</td><td>4.06</td></tr><tr><td>Dover Publications (NYC)</td><td>Lost Continents</td><td>3.65</td></tr><tr><td>Downtown Press</td><td>The Manolo Matrix (Codebreaker Trilogy #2)</td><td>4.02</td></tr><tr><td>Dr. Master Productions Inc.</td><td>Category: Freaks  Vol. 1 (Category: Freaks  #1)</td><td>3.55</td></tr><tr><td>Dragon Door Publications</td><td>The Naked Warrior: Master the Secrets of the Super-Strong - Using Bodyweight Exercises Only</td><td>4.00</td></tr><tr><td>Dragonfly Books</td><td>Switch on the Night</td><td>4.13</td></tr><tr><td>Dramatists Play Service</td><td>The SantaLand Diaries and Season's Greetings</td><td>4.18</td></tr><tr><td>Dramatists Play Service  Inc.</td><td>Wonder of the World</td><td>3.93</td></tr><tr><td>Drawn and Quarterly</td><td>The Acme Novelty Library #17</td><td>4.35</td></tr><tr><td>Droemer Knaur</td><td>Die Farbe von Wasser</td><td>4.09</td></tr><tr><td>Dtv</td><td>Das Tulpenhaus oder Bekenntnisse einer häßlichen Stiefschwester</td><td>3.53</td></tr><tr><td>Duke University Press Books</td><td>Photography's Other Histories</td><td>4.11</td></tr><tr><td>Dundurn</td><td>The Fish Kisser</td><td>4.00</td></tr><tr><td>Dutton</td><td>The Innocent</td><td>4.04</td></tr><tr><td>Dutton Adult</td><td>Animal E.R.: Extraordinary Stories Hope Healing from 1 World's Leading Veterinary Hospitals</td><td>3.95</td></tr><tr><td>Dutton Books</td><td>The Deception of the Emerald Ring (Pink Carnation  #3)</td><td>4.08</td></tr><tr><td>Dutton Books for Young Readers</td><td>Oh Rats! The Story of Rats and People</td><td>3.93</td></tr><tr><td>Dutton Children's Books</td><td>Stopping by Woods on a Snowy Evening</td><td>4.40</td></tr><tr><td>Dutton Juvenile</td><td>The Invisible Child</td><td>4.27</td></tr><tr><td>ECW Press</td><td>Bite Me!: An Unofficial Guide to the World of Buffy the Vampire Slayer</td><td>4.13</td></tr><tr><td>EMC/Paradigm Publishing</td><td>A Wrinkle in Time: With Related Readings (A Wrinkle in Time Quintet #1)</td><td>4.00</td></tr><tr><td>EOS</td><td>Into a Dark Realm (The Darkwar Saga  #2)</td><td>4.00</td></tr><tr><td>Earthlight</td><td>One More For The Road</td><td>3.96</td></tr><tr><td>East Bay Municipal Utility District</td><td>Plants and Landscapes for Summer-Dry Climates of the San Francisco Bay Region</td><td>4.30</td></tr><tr><td>Ebury Press</td><td>The Weekenders: Travels in the Heart of Africa</td><td>3.94</td></tr><tr><td>Ecco</td><td>Women</td><td>4.19</td></tr><tr><td>Ecco / HarperCollins</td><td>Rough Crossings: Britain  the Slaves and the American Revolution</td><td>3.98</td></tr><tr><td>Ecco Press</td><td>The Sheltering Sky</td><td>4.25</td></tr><tr><td>Ecco/Harper Perennial</td><td>Kitchen Confidential: Adventures in the Culinary Underbelly</td><td>4.07</td></tr><tr><td>Edaf S.A.</td><td>Los hermanos Karamazov</td><td>4.32</td></tr><tr><td>Edebé</td><td>Las luces de septiembre (Niebla  #3)</td><td>3.77</td></tr><tr><td>Ediciones B</td><td>Merrick (Crónicas Vampíricas  #7)</td><td>4.24</td></tr><tr><td>Ediciones Glénat España</td><td>Gravitation #2</td><td>3.99</td></tr><tr><td>Ediciones Urano</td><td>La economía Long Tail</td><td>3.81</td></tr><tr><td>Edicións Xerais de Galicia  S.A.</td><td>Os libros arden mal</td><td>3.36</td></tr><tr><td>Edimat Libros</td><td>Las aventuras de Tom Sawyer</td><td>4.33</td></tr><tr><td>Editions 10/18</td><td>Tar baby</td><td>3.93</td></tr><tr><td>Editions Gallimard</td><td>L'Étranger</td><td>3.98</td></tr><tr><td>Editions de l'Olivier</td><td>Bright Lights  Big City</td><td>3.77</td></tr><tr><td>Editions du Rocher</td><td>Vengeance (Joe Kurtz  #1)</td><td>3.80</td></tr><tr><td>Editorial Diana</td><td>La increíble y triste historia de la cándida Eréndira y de su abuela desalmada</td><td>3.90</td></tr><tr><td>Editorial Juventud</td><td>Pippi Calzaslargas (Pippi Calzaslargas  #1)</td><td>4.13</td></tr><tr><td>Editorial Presença</td><td>O Trono de Prata (As Crónicas de Nárnia  #6)</td><td>4.09</td></tr><tr><td>Editorial RM</td><td>Pedro Páramo</td><td>4.05</td></tr><tr><td>Edwin Mellen Press</td><td>Critique of Pure Reason (Studies in the History of Philosophy)</td><td>3.94</td></tr><tr><td>Eerdmans</td><td>The Early History of God: Yahweh and the Other Deities in Ancient Israel</td><td>4.03</td></tr><tr><td>Egmont Books Ltd</td><td>Den of Thieves (Cat Royal  #3)</td><td>4.21</td></tr><tr><td>Egmont Children's Books</td><td>Mr. Happy</td><td>3.98</td></tr><tr><td>El Paso Norte Press</td><td>The Art of War</td><td>4.20</td></tr><tr><td>Element</td><td>The Art of Dreaming</td><td>4.10</td></tr><tr><td>Ellora's Cave</td><td>Primal Heat (Includes: Breeds  #8.5; Devlin Dynasty  #1; Moon Lust  #1)</td><td>4.13</td></tr><tr><td>Elloras Cave</td><td>Wicked Sacrifice (Bound Hearts  #4-5)</td><td>4.21</td></tr><tr><td>Ember</td><td>The Realm of Possibility</td><td>4.13</td></tr><tr><td>Emece Editores</td><td>Harry Potter y la Orden del Fénix (Harry Potter  #5)</td><td>4.49</td></tr><tr><td>Emecé Editores</td><td>Obra Poética</td><td>4.49</td></tr><tr><td>Eminent Lives</td><td>Ulysses S. Grant: The Unlikely Hero</td><td>4.08</td></tr><tr><td>Encounter Books</td><td>Black Rednecks and White Liberals</td><td>4.38</td></tr><tr><td>Enitharmon Press</td><td>Book of Haikus</td><td>3.91</td></tr><tr><td>Eos</td><td>The Wicked Day (Arthurian Saga  #4)</td><td>4.19</td></tr><tr><td>Eraserhead Press</td><td>Satan Burger</td><td>3.56</td></tr><tr><td>Eros Comix</td><td>Black Kiss</td><td>3.56</td></tr><tr><td>Europa Editions</td><td>Old Filth (Old Filth  #1)</td><td>3.93</td></tr><tr><td>Evans Brothers</td><td>20 000 Leagues Under The Sea</td><td>3.76</td></tr><tr><td>Everyman</td><td>Uncle Fred in the Springtime (Blandings Castle  #6)</td><td>4.34</td></tr><tr><td>Everyman Chess</td><td>The Life and Games of Mikhail Tal</td><td>4.52</td></tr><tr><td>Everyman Library / Overlook Press</td><td>Mr. Mulliner Speaking</td><td>4.01</td></tr><tr><td>Everyman Paperback Classics</td><td>Holiday Romance and Other Writings for Children</td><td>3.32</td></tr><tr><td>Everyman Paperbacks</td><td>The Faerie Queene: Books I to III</td><td>3.79</td></tr><tr><td>Everyman's Library</td><td>We Tell Ourselves Stories in Order to Live: Collected Nonfiction</td><td>4.57</td></tr><tr><td>Everyman's Library 234</td><td>The Histories</td><td>3.99</td></tr><tr><td>Everyman's Library Classics</td><td>Essays</td><td>4.33</td></tr><tr><td>Everymans Library</td><td>Notes from Underground & A Confession (Everyman's Library)</td><td>3.76</td></tr><tr><td>Exact Change</td><td>Watchfiends and Rack Screams: Works from the Final Period</td><td>4.25</td></tr><tr><td>Express Publishing</td><td>The Portrait of Dorian Gray</td><td>4.08</td></tr><tr><td>F & W Publications Inc.</td><td>How to Write Science Fiction and Fantasy</td><td>3.90</td></tr><tr><td>F. Meiner</td><td>Wissenschaft der Logik: Die Lehre Vom Begriff (1816)</td><td>4.78</td></tr><tr><td>FASA Corp.</td><td>The Price of Glory (Saga of the Gray Death Legion  #3)</td><td>3.89</td></tr><tr><td>FASA Corporation</td><td>The Blood Wood (Earthdawn 6113)</td><td>3.71</td></tr><tr><td>FT Press</td><td>Traders  Guns & Money: Knowns and Unknowns in the Dazzling World of Derivatives</td><td>3.83</td></tr><tr><td>Fab Press</td><td>The Gospel of Filth: A Bible of Decadence & Darkness</td><td>4.45</td></tr><tr><td>Faber  Faber</td><td>View with a Grain of Sand: Selected Poems</td><td>4.33</td></tr><tr><td>Faber & Faber</td><td>When We Were Orphans</td><td>4.31</td></tr><tr><td>Faber & Faber Limited</td><td>The Moth Diaries</td><td>3.49</td></tr><tr><td>Faber & Faber Ltd.</td><td>The Basketball Diaries and the Book of Nods</td><td>4.25</td></tr><tr><td>Faber and Faber</td><td>The White Castle</td><td>4.19</td></tr><tr><td>Faber and Faber & Penguin India</td><td>Tales from Firozsha Baag [Jan 01  2002] Mistry  Rohinton</td><td>3.94</td></tr><tr><td>FaithWords</td><td>The Red Gloves Collection (Red Gloves  #1-4)</td><td>4.49</td></tr><tr><td>Fandemonium Books</td><td>Trial by Fire (Stargate SG-1  #1)</td><td>3.79</td></tr><tr><td>Fanfare</td><td>Once a Warrior (Warriors  #1)</td><td>3.75</td></tr><tr><td>Fantagraphics</td><td>Like a Velvet Glove Cast in Iron</td><td>4.06</td></tr><tr><td>Fantagraphics Books</td><td>Lout Rampage!</td><td>4.10</td></tr><tr><td>Fantasy Flight Games</td><td>The Art of H.P. Lovecraft's the Cthulhu Mythos</td><td>4.05</td></tr><tr><td>Farrar  Straus & Giroux</td><td>The Georgics of Virgil</td><td>3.91</td></tr><tr><td>Farrar  Straus and Giroux</td><td>The Tenants</td><td>4.45</td></tr><tr><td>Farrar  Straus and Giroux (BYR)</td><td>The Night of Wishes</td><td>4.12</td></tr><tr><td>Farrar  Straus and Giroux (NY)</td><td>The World Is Flat: A Brief History of the Twenty-first Century</td><td>3.68</td></tr><tr><td>Farrar  Strauss & Giroux-3pl</td><td>The Artist of the Missing</td><td>3.58</td></tr><tr><td>Farrar Straus Giroux</td><td>Uncommon Carriers</td><td>4.21</td></tr><tr><td>Farrar Straus and Giroux</td><td>The Assistant</td><td>3.89</td></tr><tr><td>Fawcett</td><td>Winter of Magic's Return</td><td>4.31</td></tr><tr><td>Fawcett Books</td><td>Trust Fund</td><td>4.24</td></tr><tr><td>Fawcett Coventry</td><td>Turn of the Cards</td><td>3.00</td></tr><tr><td>Fawcett Crest</td><td>All Quiet on the Western Front</td><td>3.97</td></tr><tr><td>Fawcett Crest Books</td><td>Iberia</td><td>3.76</td></tr><tr><td>Fawcett crest</td><td>The Currents of Space (Galactic Empire  #2)</td><td>3.83</td></tr><tr><td>Feiwel & Friends</td><td>On the Night You Were Born</td><td>4.36</td></tr><tr><td>Fellowship for the Performance</td><td>The Listener's Bible: NIV</td><td>4.60</td></tr><tr><td>Felony & Mayhem</td><td>Belshazzar's Daughter (Inspector Ikmen #1)</td><td>3.51</td></tr><tr><td>Feminist Press</td><td>Brown Girl  Brownstones</td><td>4.07</td></tr><tr><td>Feral House</td><td>The covert war against rock: what you don't know about the deaths of Jim Morrison  Tupac Shakur  Michael Hutchence  Brian Jones  Jimi Hendrix  Phil Ochs  Bob Marley  Peter Tosh  John Lennon  The Notorious B.I.G</td><td>3.72</td></tr><tr><td>Festival</td><td>The Secret Garden Cookbook: Recipes Inspired by Frances Hodgson Burnett's The Secret Garden</td><td>4.30</td></tr><tr><td>Festival Books</td><td>Matilda</td><td>4.31</td></tr><tr><td>Filiquarian Publishing  LLC.</td><td>The Communist Manifesto</td><td>4.01</td></tr><tr><td>Findakly</td><td>Le Chef-D'Œuvre Inconnu</td><td>3.87</td></tr><tr><td>Firebird</td><td>Triss (Redwall  #15)</td><td>4.19</td></tr><tr><td>Firebird Books</td><td>Westmark (Westmark  #1)</td><td>3.98</td></tr><tr><td>Firebrand Books</td><td>Read My Lips: Sexual Subversion and the End of Gender</td><td>3.95</td></tr><tr><td>Firelight Press</td><td>The Dragon's Eye (Erec Rex  #1)</td><td>4.00</td></tr><tr><td>Fireside</td><td>Still More George W. Bushisms: Neither in French nor in English nor in Mexican</td><td>4.03</td></tr><tr><td>Fireside Books</td><td>La Milla Verde</td><td>4.44</td></tr><tr><td>First Avenue Editions (Tm)</td><td>It's Winter</td><td>3.64</td></tr><tr><td>Fischer (Tb.)</td><td>Traumjäger und Goldpfote</td><td>3.97</td></tr><tr><td>Fischer TB</td><td>The Snapper</td><td>3.93</td></tr><tr><td>Fischer Taschenbuch Verlag</td><td>Fish & Chips (The Barrytown Trilogie  #3)</td><td>3.94</td></tr><tr><td>Fithian Press</td><td>Laguna  I Love You: The Best of Our Town</td><td>0.00</td></tr><tr><td>Five Star (ME)</td><td>Such a Good Girl and Other Crime Stories</td><td>3.60</td></tr><tr><td>Five Star Trade</td><td>Uncommon Grounds (Maggy Thorsen Mystery #1)</td><td>3.61</td></tr><tr><td>Flamingo</td><td>The Solace Of Leaving Early</td><td>3.95</td></tr><tr><td>Fleming H Revell Co</td><td>The Screwtape Letters/Book & Study Guide</td><td>4.22</td></tr><tr><td>Fleming H. Revell Company</td><td>Letters of St. Augustine</td><td>4.36</td></tr><tr><td>Focal Press</td><td>Practical DV Filmmaking</td><td>4.23</td></tr><tr><td>Focus</td><td>The Theban Plays: Antigone  King Oidipous & Oidipous at Colonus (Focus Classical Library)</td><td>4.04</td></tr><tr><td>Focus Publishing/R. Pullins Company</td><td>Acharnians</td><td>3.42</td></tr><tr><td>Focus on the Family Publishing</td><td>Boomers  Xers  and Other Strangers: Understanding the Generational Differences that Divide Us</td><td>3.36</td></tr><tr><td>Fodor's</td><td>Fodor's Amsterdam (Fodor's Gold Guides)</td><td>3.43</td></tr><tr><td>Folio</td><td>Les Mandarins: Tome 2</td><td>4.20</td></tr><tr><td>Folio histoire</td><td>Montaillou  village occitan de 1294 à 1324</td><td>3.96</td></tr><tr><td>FonoLibro</td><td>Angeles & Demonios</td><td>3.89</td></tr><tr><td>Fontana</td><td>The One Tree (The Second Chronicles of Thomas Covenant  #2)</td><td>4.07</td></tr><tr><td>Fontana Books</td><td>The Great And Secret Show (Book of the Art #1)</td><td>4.05</td></tr><tr><td>Fontana Press</td><td>Image-Music-Text</td><td>4.10</td></tr><tr><td>For Dummies</td><td>Turtles & Tortoises for Dummies</td><td>4.01</td></tr><tr><td>Forge</td><td>Seminole Song</td><td>3.88</td></tr><tr><td>Forge Books</td><td>Saints</td><td>3.85</td></tr><tr><td>Fortress Press</td><td>How to Think Theologically</td><td>3.67</td></tr><tr><td>Fount</td><td>Divine Conspiracy: Rediscovering Our Hidden Life in God</td><td>4.22</td></tr><tr><td>Four Ninety-Eight Productions</td><td>The Beatles' Story on Capitol Records  Part Two: The Albums</td><td>4.72</td></tr><tr><td>Four Walls Eight Windows Press</td><td>A Place So Foreign and Eight More</td><td>3.72</td></tr><tr><td>Fourth Estate</td><td>When Genius Failed: The Rise And Fall Of Long Term Capital Management</td><td>4.19</td></tr><tr><td>Fourth Estate (GB)</td><td>Strong Motion</td><td>3.52</td></tr><tr><td>Fourth Estate Ltd</td><td>Galileo's Daughter</td><td>3.76</td></tr><tr><td>Fourth Estate Paperbacks</td><td>The Corrections</td><td>3.79</td></tr><tr><td>Franklin Watts</td><td>Tornado!</td><td>3.60</td></tr><tr><td>Frederick P. Lenz Foundation for American Buddhism</td><td>Insights: Talks On The Nature Of Existence</td><td>0.00</td></tr><tr><td>Fredonia Books (NL)</td><td>The Lighthouse at the End of the World</td><td>3.99</td></tr><tr><td>Free Press</td><td>You: On a Diet: The Owner's Manual for Waist Management</td><td>4.23</td></tr><tr><td>Free Spirit Publishing</td><td>Hands Are Not for Hitting (Ages 4-7)</td><td>4.04</td></tr><tr><td>French & European</td><td>Cien años de soledad</td><td>4.07</td></tr><tr><td>French & European Publications</td><td>Kiffe Kiffe Demain (French Edition)</td><td>3.40</td></tr><tr><td>French & European Pubns</td><td>La Dernière Leçon</td><td>4.10</td></tr><tr><td>Fulcrum Publishing</td><td>The Gonzo Way: A Celebration of Dr. Hunter S. Thompson</td><td>3.96</td></tr><tr><td>Futura</td><td>Different Seasons</td><td>4.35</td></tr><tr><td>G. P. Putnam's Sons</td><td>At Risk (Winston Garano  #1)</td><td>3.41</td></tr><tr><td>G.P. Putnam's Sons</td><td>Wild Horses</td><td>4.31</td></tr><tr><td>G.P. Putnam's Sons Books for Young Readers</td><td>The Story of Salt</td><td>4.15</td></tr><tr><td>Gaia Books</td><td>La Biblia de los Critales: Guia definitiva de los cristales (Cuerpo-Mente)</td><td>4.38</td></tr><tr><td>Galahad Books</td><td>Portraits of Murder: 47 Short Stories Chosen by the Master of Suspense</td><td>4.17</td></tr><tr><td>Gale Cengage</td><td>American Writers  Supplement VIII</td><td>0.00</td></tr><tr><td>Gallery / Saga Press</td><td>The Tombs of Atuan (Earthsea Cycle  #2)</td><td>4.09</td></tr><tr><td>Gallery Books</td><td>Uncle Shelby's ABZ Book</td><td>4.36</td></tr><tr><td>Gallimard</td><td>U.S.A.: 42e Parallèle/L'An premier du siècle/La Grosse galette</td><td>4.15</td></tr><tr><td>Gallimard Education</td><td>Les petits chevaux de Tarquinia</td><td>3.96</td></tr><tr><td>Gallimard Jeunesse</td><td>Les Nouvelles Recettes irrésistibles de Roald Dahl</td><td>4.31</td></tr><tr><td>Gallopade International</td><td>The Mystery of the Ancient Pyramid: Cairo  Egypt (Around the World in 80 Mysteries)</td><td>3.61</td></tr><tr><td>Gamble Guides</td><td>New York City's Best Dive Bars: Drinking and Diving in the Five Boroughs</td><td>3.75</td></tr><tr><td>Games Workshop</td><td>The Ultramarines Omnibus (Ultramarines #1-3)</td><td>3.97</td></tr><tr><td>Games Workshop(uk)</td><td>The Soul Drinkers Omnibus (Soul Drinkers #1-3)</td><td>3.85</td></tr><tr><td>Gardners Books</td><td>Death of an Expert Witness (Adam Dalgliesh #6)</td><td>3.99</td></tr><tr><td>Gauntlet Press</td><td>Collected Stories  Vol. 2</td><td>4.32</td></tr><tr><td>Geddes & Grosset</td><td>The Adventures of Sherlock Holmes</td><td>4.36</td></tr><tr><td>Gemstone Publishing</td><td>Uncle Scrooge #359</td><td>4.67</td></tr><tr><td>Geoplaneta</td><td>Lonely Planet Londres</td><td>4.03</td></tr><tr><td>George Braziller</td><td>Te Kaihau: The Windeater</td><td>3.72</td></tr><tr><td>George Braziller Inc.</td><td>1912 Manuscript on the Special Theory of Relativity</td><td>4.41</td></tr><tr><td>Gibbs Smith</td><td>Sudden Fiction: American Short-Short Stories</td><td>4.09</td></tr><tr><td>Gibbs Smith Publishers</td><td>The Big Book of Boy Stuff</td><td>4.23</td></tr><tr><td>Gingko Press</td><td>Understanding Media: The Extensions of Man</td><td>4.12</td></tr><tr><td>Globe</td><td>Things Fall Apart: An Adapted Classic</td><td>3.66</td></tr><tr><td>Glénat</td><td>Nausicaä de la vallée du vent  tome 3</td><td>4.59</td></tr><tr><td>Godsfield Press Ltd</td><td>Zen in Your Garden</td><td>3.60</td></tr><tr><td>Gold Eagle</td><td>Savage Sun (Outlanders  #3)</td><td>4.11</td></tr><tr><td>Golden Books</td><td>The Monster at the End of this Book</td><td>4.44</td></tr><tr><td>Golden Gryphon Press</td><td>The Fantasy Writer's Assistant and Other Stories</td><td>4.09</td></tr><tr><td>Golden/Disney</td><td>Walt Disney's Peter Pan (A Little Golden Book)</td><td>4.41</td></tr><tr><td>Goldmann</td><td>Schöne Lügen</td><td>4.16</td></tr><tr><td>Goldmann Verlag</td><td>Die Naschkatzen</td><td>3.94</td></tr><tr><td>Gollancz</td><td>The Rediscovery of Man</td><td>4.17</td></tr><tr><td>Gollehon Books</td><td>A Sudden Wild Magic</td><td>3.75</td></tr><tr><td>Gotham</td><td>Candy Girl: A Year in the Life of an Unlikely Stripper</td><td>3.54</td></tr><tr><td>Grafton</td><td>The Dark Descent  Vol 1: The Color of Evil</td><td>4.12</td></tr><tr><td>Gramedia Pustaka Utama</td><td>Riley in the Morning</td><td>3.44</td></tr><tr><td>Gramercy</td><td>The Complete Works</td><td>4.50</td></tr><tr><td>Gramercy Books</td><td>Treasure Island</td><td>4.55</td></tr><tr><td>Grand Central</td><td>Nothing Lasts Forever</td><td>3.84</td></tr><tr><td>Grand Central Life & Style</td><td>The 36-Hour Day: A Family Guide to Caring for Persons with Alzheimer Disease  Related Dementing Illnesses  and Memory Loss in Later Life</td><td>4.24</td></tr><tr><td>Grand Central Publishing</td><td>Words of Silk</td><td>4.56</td></tr><tr><td>Grand Central Publishing (Formerly Warner Books)</td><td>Where There's Smoke</td><td>3.97</td></tr><tr><td>Granta</td><td>When the World Was Steady</td><td>3.17</td></tr><tr><td>Granta Books</td><td>Granta 7</td><td>3.94</td></tr><tr><td>Granta UK</td><td>Rodinsky's Room</td><td>3.85</td></tr><tr><td>Graphics Press</td><td>The Cognitive Style of PowerPoint: Pitching Out Corrupts Within</td><td>4.08</td></tr><tr><td>Graphics Press LLC</td><td>Beautiful Evidence</td><td>4.15</td></tr><tr><td>Grasset</td><td>L'Orient  c'est l'Orient</td><td>3.88</td></tr><tr><td>Graywolf Press</td><td>Some Ether</td><td>4.16</td></tr><tr><td>Green Integer</td><td>The Last Joy</td><td>3.77</td></tr><tr><td>Green Ronin Publishing</td><td>Mutants & Masterminds: RPG</td><td>3.81</td></tr><tr><td>Greenery Press (CA)</td><td>The Mistress Manual: The Good Girl's Guide to Female Dominance</td><td>3.76</td></tr><tr><td>Greenwillow Books</td><td>The Zebra Wall</td><td>4.43</td></tr><tr><td>Greenwood</td><td>From Hinton to Hamlet: Building Bridges between Young Adult Literature and the Classics</td><td>4.01</td></tr><tr><td>Greenwood Press</td><td>The Fantastic Vampire: Studies in the Children of the Night: Selected Essays from the Eighteenth International Conference on the Fantastic in the Arts</td><td>0.00</td></tr><tr><td>Griffin</td><td>The Autobiography of Henry VIII: With Notes by His Fool  Will Somers</td><td>4.26</td></tr><tr><td>Grijalbo</td><td>7 hábitos de las familias altamente efectivas</td><td>4.16</td></tr><tr><td>Grijalbo Mondadori Sa</td><td>La Emperatriz tras el velo (Trilogía Taj Mahal  #1)</td><td>4.04</td></tr><tr><td>Grosset & Dunlap</td><td>Who Was William Shakespeare?</td><td>4.23</td></tr><tr><td>Grove Press</td><td>Tropic of Capricorn</td><td>4.64</td></tr><tr><td>Grove Press  Black Cat</td><td>Layer Cake</td><td>3.98</td></tr><tr><td>Grove Press  Granta</td><td>Granta 85: Hidden Histories</td><td>3.83</td></tr><tr><td>Grove Press  Open City Books</td><td>Open City 6: The Only Woman He Ever Left</td><td>3.76</td></tr><tr><td>Grove Press (NYC)</td><td>Che Guevara: A Revolutionary Life</td><td>4.12</td></tr><tr><td>Grove Weidenfeld</td><td>Malcolm X Speaks: Selected Speeches and Statements</td><td>4.46</td></tr><tr><td>Grove/Atlantic  Inc.</td><td>Henry IV</td><td>3.91</td></tr><tr><td>Grupo Editorial Norma  S.A.</td><td>El diablo de la botella</td><td>3.74</td></tr><tr><td>Grupo Océano</td><td>El librero de Kabul</td><td>3.76</td></tr><tr><td>Gun Digest Books</td><td>Standard Catalog of Smith & Wesson</td><td>4.44</td></tr><tr><td>Gurze Books</td><td>Father Hunger: Fathers  Daughters & Food</td><td>3.57</td></tr><tr><td>Gürze Books</td><td>Father Hunger: Fathers  Daughters  and the Pursuit of Thinness</td><td>3.57</td></tr><tr><td>HJ Kramer</td><td>Way of the Peaceful Warrior: A Book That Changes Lives</td><td>4.15</td></tr><tr><td>HMH Books for Young Readers</td><td>Where the Broken Heart Still Beats: The Story of Cynthia Ann Parker</td><td>4.53</td></tr><tr><td>HQN</td><td>Tell Me No Lies</td><td>3.99</td></tr><tr><td>HQN Books</td><td>Anyone But You</td><td>3.80</td></tr><tr><td>Hachette</td><td>Madame Je-Sais-Tout</td><td>4.09</td></tr><tr><td>Hachette Audio</td><td>The Closers (Harry Bosch  #11; Harry Bosch Universe  #14)</td><td>4.13</td></tr><tr><td>Hachette Books</td><td>Wicked: The Grimmerie</td><td>4.18</td></tr><tr><td>Hachette Children's</td><td>Nightingale's Song</td><td>3.02</td></tr><tr><td>Hachette Jeunesse</td><td>Le Royaume fantôme</td><td>4.21</td></tr><tr><td>Hachette Littérature</td><td>Christopher et son monde  1929-1939</td><td>4.11</td></tr><tr><td>Hackett Publ. Co Inc</td><td>Confessions  Books 1-13</td><td>3.98</td></tr><tr><td>Hackett Publishing Company</td><td>The Trial and Death of Socrates (Euthyphro  Apology  Crito  Phaedo (death scene only))</td><td>4.08</td></tr><tr><td>Hackett Publishing Company  Inc.</td><td>Theban Plays</td><td>4.36</td></tr><tr><td>Hackett Publishing Company  Inc. (USA)</td><td>Aristophanes I: Clouds/Wasps/Birds</td><td>3.77</td></tr><tr><td>Hackett Publishing Company (Indianapolis  IN)</td><td>The Essential Augustine</td><td>3.69</td></tr><tr><td>Hakusen Sha</td><td>彼方から 13</td><td>4.48</td></tr><tr><td>Hal Leonard Pub Corp</td><td>The Perfect Wrong Note: Learning to Trust Your Musical Self</td><td>4.24</td></tr><tr><td>Hal Leonard Publishing Corporation</td><td>The Beatles Complete - Updated Edition</td><td>4.48</td></tr><tr><td>Hamish Hamilton</td><td>Raise High the Roof Beam  Carpenters and Seymour: an Introduction</td><td>4.11</td></tr><tr><td>Hamish Hamilton Ltd</td><td>What Sappho Would Have Said</td><td>3.62</td></tr><tr><td>Hamish hamilton</td><td>The Best of McSweeney's  Vol. 2</td><td>3.81</td></tr><tr><td>Hampton Roads Publishing Company</td><td>The Ultimate Time Machine: A Remote Viewer's Perception of Time & Predictions for the New Millennium</td><td>4.21</td></tr><tr><td>Harbor Press</td><td>Yes  Your Teen Is Crazy!: Loving Your Kid Without Losing Your Mind</td><td>4.29</td></tr><tr><td>Harcourt</td><td>Winter Is the Warmest Season</td><td>4.29</td></tr><tr><td>Harcourt  Brace  Jovanovich</td><td>The Princess Bride: S. Morgenstern's Classic Tale of True Love and High Adventure</td><td>4.26</td></tr><tr><td>Harcourt  Brace Jovanovich/Harvest</td><td>Murder in the Cathedral</td><td>3.76</td></tr><tr><td>Harcourt  Inc.(Harvest Book)</td><td>Homage to Catalonia</td><td>4.14</td></tr><tr><td>Harcourt Brace</td><td>The Metamorphoses of Ovid</td><td>4.09</td></tr><tr><td>Harcourt Brace & Company</td><td>The Curious Sofa</td><td>4.18</td></tr><tr><td>Harcourt Brace & company</td><td>This Is the Way the World Ends</td><td>3.75</td></tr><tr><td>Harcourt Brace Jovanovich</td><td>Lectures on Don Quixote</td><td>3.87</td></tr><tr><td>Harcourt Brace Jovanovich (NY)</td><td>The Fountains of Paradise</td><td>3.96</td></tr><tr><td>Harcourt Children's Books</td><td>Loving Will Shakespeare</td><td>3.47</td></tr><tr><td>Hard Crime Case</td><td>The Last Quarry (Quarry #7)</td><td>3.93</td></tr><tr><td>Hard Press</td><td>The Clicking of Cuthbert</td><td>4.32</td></tr><tr><td>Harlequin</td><td>The Pirate / The Adventurer / The Cowboy</td><td>4.11</td></tr><tr><td>Harlequin American Romance</td><td>Seize The Fire</td><td>4.00</td></tr><tr><td>Harlequin Anthologies</td><td>And the Envelope  Please...: Ever After / An Affair To Remember / It Happened One Night</td><td>3.57</td></tr><tr><td>Harlequin Blaze</td><td>Take on Me (Secret Lives of Daytime Divas  #1)</td><td>3.77</td></tr><tr><td>Harlequin Books</td><td>The Part-Time Wife (The Secret Lives of Society Wives  #6)</td><td>4.04</td></tr><tr><td>Harlequin Historical</td><td>The Gunslinger's Bride (Montana Mavericks: Historicals #1)</td><td>4.10</td></tr><tr><td>Harlequin Presents</td><td>The Sultan's Bought Bride  (Princess Brides  #1)</td><td>3.74</td></tr><tr><td>Harlequin Readers' Choice</td><td>Year's Happy Ending</td><td>3.97</td></tr><tr><td>Harlequin Romance</td><td>P.S. I Love You (Sealed with a Kiss #4)</td><td>3.25</td></tr><tr><td>Harlequin Special Releases</td><td>The Other Woman (Dundee  Idaho  #7)</td><td>4.11</td></tr><tr><td>Harlequin Superromance</td><td>First Love  Second Chance</td><td>3.73</td></tr><tr><td>Harlequin Temptation</td><td>Just Another Pretty Face (Hollywood Dynasty  #2)</td><td>3.89</td></tr><tr><td>Harmony</td><td>Your Child's Self-Esteem: Step-by-Step Guidelines for Raising Responsible  Productive  Happy Children</td><td>4.39</td></tr><tr><td>Harper</td><td>With No One as Witness (Inspector Lynley  #13)</td><td>4.44</td></tr><tr><td>Harper & Row</td><td>West from Home: Letters of Laura Ingalls Wilder  San Francisco  1915  (Little House #11)</td><td>3.84</td></tr><tr><td>Harper & Row (NYC et al.)</td><td>The Blue and Brown Books</td><td>4.14</td></tr><tr><td>Harper Audio</td><td>The Edgar Allan Poe Audio Collection</td><td>4.39</td></tr><tr><td>Harper Business</td><td>What Would Machiavelli Do?: The Ends Justify the Meanness</td><td>4.19</td></tr><tr><td>Harper Collins</td><td>Mistaken Identity</td><td>4.32</td></tr><tr><td>Harper Design</td><td>Diana Vreeland</td><td>4.24</td></tr><tr><td>Harper Element</td><td>The Monk Who Sold His Ferrari: A Fable about Fulfilling Your Dreams and Reaching Your Destiny (Revised)</td><td>3.83</td></tr><tr><td>Harper Paperbacks</td><td>Zora Neale Hurston: Critical Perspectives Past And Present (Amistad Literary Series)</td><td>4.20</td></tr><tr><td>Harper Perennial</td><td>You Can't Go Home Again</td><td>4.47</td></tr><tr><td>Harper Perennial (HarperCollins)</td><td>The Red Queen: Sex and the Evolution of Human Nature</td><td>4.04</td></tr><tr><td>Harper Perennial (NYC)</td><td>1421: The Year China Discovered America</td><td>3.60</td></tr><tr><td>Harper Perennial Classics</td><td>Island</td><td>3.83</td></tr><tr><td>Harper Perennial Modern Classics</td><td>Walt Whitman: A Life</td><td>4.42</td></tr><tr><td>Harper Teen</td><td>Touching Darkness (Midnighters  #2)</td><td>3.89</td></tr><tr><td>Harper Trophy</td><td>Old Town in the Green Groves: Laura Ingalls Wilder's Lost Little House Years</td><td>4.29</td></tr><tr><td>Harper Voyager</td><td>Worlds Enough & Time: Five Tales of Speculative Fiction</td><td>4.39</td></tr><tr><td>HarperAudio</td><td>The Rocky Road to Romance (Elsie Hawkins  #4)</td><td>4.25</td></tr><tr><td>HarperCollins</td><td>Winter Days in the Big Woods</td><td>4.59</td></tr><tr><td>HarperCollins (SanFrancisco)</td><td>Selected Writings</td><td>4.29</td></tr><tr><td>HarperCollins Espanol</td><td>Las Crónicas de Narnia</td><td>4.26</td></tr><tr><td>HarperCollins Leadership</td><td>Winning with People Workbook</td><td>4.22</td></tr><tr><td>HarperCollins Perennial</td><td>Quicksilver (The Baroque Cycle  #1)</td><td>3.93</td></tr><tr><td>HarperCollins Publishers</td><td>Zelda's Cut</td><td>4.45</td></tr><tr><td>HarperCollins Publishers  Inc.</td><td>Body For Life: 12 Weeks to Mental and Physical Strength</td><td>3.74</td></tr><tr><td>HarperCollins Publishers Ltd</td><td>Witness for the Prosecution and Selected Plays</td><td>4.53</td></tr><tr><td>HarperCollins UK</td><td>Ocean Star Express</td><td>3.57</td></tr><tr><td>HarperCollinsChildren’sBooks</td><td>Ten Apples Up On Top!</td><td>4.35</td></tr><tr><td>HarperCollinsPublishers</td><td>The Book of Lost Tales  Part Two (The History of Middle-earth  #2)</td><td>4.17</td></tr><tr><td>HarperEntertainment</td><td>The Lion  the Witch and the Wardrobe (Chronicles of Narnia #2)</td><td>4.26</td></tr><tr><td>HarperFestival</td><td>These Happy Golden Years (Little House  #8)</td><td>4.26</td></tr><tr><td>HarperLargePrint</td><td>Zorro</td><td>3.76</td></tr><tr><td>HarperOne</td><td>When the Heart Waits: Spiritual Direction for Life's Sacred Questions</td><td>4.61</td></tr><tr><td>HarperPaperbacks</td><td>Kilo Class (Admiral Arnold Morgan  #2)</td><td>4.05</td></tr><tr><td>HarperPerennial</td><td>Watership Down</td><td>4.06</td></tr><tr><td>HarperPerennial / Perennial Classics</td><td>Brave New World</td><td>3.99</td></tr><tr><td>HarperPrism</td><td>The Player of Games (Culture  #2)</td><td>4.27</td></tr><tr><td>HarperResource</td><td>A Hard Day's Write: The Stories Behind Every Beatles Song</td><td>4.18</td></tr><tr><td>HarperSanFrancisco</td><td>The Enneagram Made Easy: Discover the 9 Types of People</td><td>3.82</td></tr><tr><td>HarperTeen</td><td>Witch Baby (Weetzie Bat  #2)</td><td>4.43</td></tr><tr><td>HarperTempest</td><td>Wintersmith (Discworld  #35; Tiffany Aching  #3)</td><td>4.24</td></tr><tr><td>HarperTorch</td><td>Zen and the Art of Motorcycle Maintenance: An Inquiry Into Values (Phaedrus  #1)</td><td>4.42</td></tr><tr><td>HarperTorch (an imprint of HarperCollins Publishers)</td><td>The Valkyries</td><td>3.31</td></tr><tr><td>HarperTrophy</td><td>The Time of the Ghost</td><td>4.31</td></tr><tr><td>HarperVoyager</td><td>Grand Conspiracy (Wars of Light & Shadow #5; Arc 3 - Alliance of Light  #2)</td><td>4.11</td></tr><tr><td>Harpercollins</td><td>How to be Idle</td><td>3.81</td></tr><tr><td>Harpercollins Children's Books</td><td>Horton Hatches the Egg</td><td>4.16</td></tr><tr><td>Harpercollins Childrens Books</td><td>A Light in the Attic</td><td>4.34</td></tr><tr><td>Harpperen</td><td>Travels</td><td>4.16</td></tr><tr><td>Harrison House</td><td>Getting a Grip on the Basics: Building a Firm Foundation for the Victorious Christian Life</td><td>4.67</td></tr><tr><td>Harry N. Abrams</td><td>Ukridge</td><td>4.43</td></tr><tr><td>Hartley & Marks Publishers</td><td>The Elements of Typographic Style</td><td>4.24</td></tr><tr><td>Hartorch</td><td>Wyrd Sisters (Discworld  #6; Witches #2)</td><td>4.13</td></tr><tr><td>Harvard Business Review Press</td><td>Hardball: Are You Playing to Play or Playing to Win?</td><td>4.12</td></tr><tr><td>Harvard Common Press</td><td>Smart Love</td><td>3.94</td></tr><tr><td>Harvard University Press</td><td>Wittgenstein on Rules and Private Language: An Elementary Exposition</td><td>4.52</td></tr><tr><td>Harvard University Press (Cambridge  MA)/Wm Heinemann Ltd. (London)</td><td>The Library 1  Books 1-3.9</td><td>3.93</td></tr><tr><td>Harvard University Press (Cambridge)</td><td>Discourses  Books 3-4. The Enchiridion (Loeb Classical Library #218)</td><td>4.34</td></tr><tr><td>Harvest / Harcourt</td><td>A Tale of Love and Darkness</td><td>4.22</td></tr><tr><td>Harvest Books</td><td>Flowers for Algernon</td><td>4.12</td></tr><tr><td>Harvest Books/Harcourt</td><td>Anaximander  Heraclitus  Parmenides  Plotinus  Lao-Tzu  Nagarjuna (from Great Philosophers 2)</td><td>3.92</td></tr><tr><td>Harvest House Publishers</td><td>The Rapture: Who Will Face the Tribulation</td><td>4.69</td></tr><tr><td>Harvill Press</td><td>The Gospel According to Jesus Christ</td><td>4.29</td></tr><tr><td>Haus Publishing</td><td>Dostoevsky</td><td>3.76</td></tr><tr><td>Hawthorne Books</td><td>Clown Girl</td><td>3.39</td></tr><tr><td>Hay House</td><td>You Can Have What You Want: Proven Strategies for Inner and Outer Success</td><td>4.21</td></tr><tr><td>Haymarket Books</td><td>The Communist Manifesto</td><td>4.08</td></tr><tr><td>Haynes Manuals N. America  Inc.</td><td>Motorcycle Basics Techbook</td><td>3.93</td></tr><tr><td>Hazelden Publishing</td><td>Drop The Rock: Removing Character Defects - Steps Six and Seven</td><td>4.44</td></tr><tr><td>Hci</td><td>Read for Your Life: 11 Ways to Better Yourself Through Books</td><td>3.70</td></tr><tr><td>Headline</td><td>The Jester</td><td>4.48</td></tr><tr><td>Headline Book Pub Ltd</td><td>The Fall of Hyperion (Hyperion Cantos  #2)</td><td>4.20</td></tr><tr><td>Headline Book Publishing</td><td>The Brotherhood of the Rose (Mortalis  #1)</td><td>4.14</td></tr><tr><td>Headline Feature</td><td>The Servants of Twilight</td><td>3.83</td></tr><tr><td>Headline Review</td><td>Two's Company</td><td>4.17</td></tr><tr><td>Healing Arts Press</td><td>Walking the World in Wonder: A Children's Herbal</td><td>4.29</td></tr><tr><td>Health Communications</td><td>Intimate Communion: Awakening Your Sexual Essence</td><td>3.99</td></tr><tr><td>Health Communications Inc</td><td>The Lost Boy (Dave Pelzer #2)</td><td>4.10</td></tr><tr><td>Hearst Communications</td><td>The Good Housekeeping Illustrated Cookbook</td><td>4.37</td></tr><tr><td>Heinemann</td><td>Flowers for Algernon</td><td>4.12</td></tr><tr><td>Heinemann Drama</td><td>The Power of One: The Solo Play for Playwrights  Actors  and Directors</td><td>3.67</td></tr><tr><td>Heinemann Educational Books</td><td>When Rain Clouds Gather</td><td>3.84</td></tr><tr><td>Heinemann Library</td><td>The Handmaid's Tale</td><td>4.11</td></tr><tr><td>Heinemann-Octopus</td><td>Dr No / Moonraker / Thunderball / From Russia with Love / On Her Majesty's Secret Service / Goldfinger</td><td>3.98</td></tr><tr><td>Heinle</td><td>Entre Amis: An Interactive Approach</td><td>3.39</td></tr><tr><td>Helen Marx Books</td><td>The World of Jules Verne</td><td>4.00</td></tr><tr><td>Henry Holt</td><td>Oracle Night</td><td>3.78</td></tr><tr><td>Henry Holt & Company</td><td>Travels in the Scriptorium</td><td>3.88</td></tr><tr><td>Henry Holt and Co.</td><td>Peter Pan</td><td>4.08</td></tr><tr><td>Henry Holt and Co. (BYR)</td><td>Theories of Relativity</td><td>4.35</td></tr><tr><td>Henry Holt and Company</td><td>Voyage of the Turtle: In Pursuit of the Earth's Last Dinosaur</td><td>4.24</td></tr><tr><td>Here's Life Publishers</td><td>A Door of Hope</td><td>3.97</td></tr><tr><td>Hesperus Press</td><td>The Gambler</td><td>3.93</td></tr><tr><td>Heyne</td><td>Weg der Träume</td><td>4.42</td></tr><tr><td>High Point Media</td><td>Eating for Life: Your Guide to Great Health  Fat Loss and Increased Energy!</td><td>3.95</td></tr><tr><td>High Roads Media</td><td>Think and Grow Rich</td><td>4.18</td></tr><tr><td>HighBridge Company</td><td>The Discomfort Zone: A Personal Journey</td><td>3.96</td></tr><tr><td>Highbridge Audio</td><td>Wigfield: The Can-Do Town That Just May Not</td><td>3.58</td></tr><tr><td>Hill & Wang</td><td>Dawn (The Night Trilogy  #2)</td><td>3.87</td></tr><tr><td>Hill & Wang Publ. (NY)</td><td>Prepared for the Worst: Selected Essays and Minority Reports</td><td>4.02</td></tr><tr><td>Hill and Wang</td><td>Writing Degree Zero</td><td>4.29</td></tr><tr><td>Hiperión</td><td>Norte</td><td>4.09</td></tr><tr><td>Hippo/Scholastic</td><td>His Dark Materials Trilogy (Northern Lights; The Subtle Knife; The Amber Spyglass)</td><td>4.26</td></tr><tr><td>History Press Ltd</td><td>Ulysses Found</td><td>4.07</td></tr><tr><td>Hodder</td><td>The Secret Seven (The Secret Seven  #1)</td><td>4.16</td></tr><tr><td>Hodder & Stoughton</td><td>The Pact</td><td>4.39</td></tr><tr><td>Hodder & Stoughton Educational Division</td><td>The Road To War  1933 39</td><td>0.00</td></tr><tr><td>Hodder & Stoughton Ltd</td><td>The Battle Of Corrin (Legends of Dune  #3)</td><td>4.02</td></tr><tr><td>Hodder Audio</td><td>Gulliver's Travels</td><td>3.57</td></tr><tr><td>Hodder Children's Books</td><td>Skellig: The Play</td><td>4.02</td></tr><tr><td>Hodder Mobius</td><td>The Art of Happiness at Work</td><td>3.95</td></tr><tr><td>Hodder Wayland</td><td>Roald Dahl: The Storyteller (Famous Lives)</td><td>4.06</td></tr><tr><td>Hodder and Stoughton</td><td>The Eyre Affair (Thursday Next  #1)</td><td>3.91</td></tr><tr><td>Holiday House</td><td>Patrick: Patron Saint of Ireland</td><td>4.18</td></tr><tr><td>Holloway House</td><td>Whoreson</td><td>4.32</td></tr><tr><td>Holt  Rinehart and Winston  Inc.</td><td>Rest Rabbit Rest (Sweet Pickles  #18)</td><td>4.02</td></tr><tr><td>Holt McDougal</td><td>Where the Red Fern Grows with Connections</td><td>4.38</td></tr><tr><td>Holt Paperbacks</td><td>The Magic Journey</td><td>4.28</td></tr><tr><td>Honor Books</td><td>The Quiet Little Woman: A Christmas Story</td><td>3.67</td></tr><tr><td>Houghton Mifflin</td><td>Winston S. Churchill  Volume VIII: 'Never Despair ' 1945-1965</td><td>4.50</td></tr><tr><td>Houghton Mifflin Co. (Boston/NY)</td><td>The God Delusion</td><td>3.90</td></tr><tr><td>Houghton Mifflin Company</td><td>The Silmarillion</td><td>4.36</td></tr><tr><td>Houghton Mifflin Harcourt</td><td>William James: In the Maelstrom of American Modernism</td><td>4.64</td></tr><tr><td>Houghton Mifflin Harcourt P</td><td>Postscript to the Name of the Rose</td><td>4.05</td></tr><tr><td>Houghton Mifflin/Seymour Lawrence</td><td>Trout Fishing in America / The Pill vs. the Springhill Mine Disaster / In Watermelon Sugar</td><td>4.15</td></tr><tr><td>House of Anansi Press</td><td>Feeding the Future: From Fat to Famine  How to Solve the World's Food Crises</td><td>3.48</td></tr><tr><td>House of Stratus</td><td>On the Beach</td><td>3.94</td></tr><tr><td>Hovel Audio</td><td>The Brothers Karamazov</td><td>4.32</td></tr><tr><td>Howard Books</td><td>Shoofly Pie (Bug Man  #1)</td><td>4.22</td></tr><tr><td>Howard Publishing Co</td><td>The Good Earth (House of Earth  #1)</td><td>3.98</td></tr><tr><td>Howard University Press</td><td>How Europe Underdeveloped Africa</td><td>4.27</td></tr><tr><td>Hqn</td><td>Venetia</td><td>4.10</td></tr><tr><td>Hub City Press</td><td>Eureka Mill</td><td>4.20</td></tr><tr><td>Hungry Minds</td><td>Shakespeare's Romeo and Juliet</td><td>3.82</td></tr><tr><td>Hyperio</td><td>Shopgirl</td><td>3.43</td></tr><tr><td>Hyperion</td><td>The Five People You Meet in Heaven</td><td>4.20</td></tr><tr><td>Hyperion Books</td><td>The Sea of Monsters (Percy Jackson and the Olympians  #2)</td><td>4.24</td></tr><tr><td>Hyperion Books for Children</td><td>Water  Water Everywhere: A Splash & Giggle Bath Book (Baby Einstein)</td><td>3.76</td></tr><tr><td>Hyperion Paperbacks</td><td>Hollywood Hustle (Son of the Mob  #2)</td><td>3.64</td></tr><tr><td>IDW Publishing</td><td>The Complete Clive Barker's The Great And Secret Show</td><td>4.50</td></tr><tr><td>IVP Academic</td><td>The Hermeneutical Spiral: A Comprehensive Introduction to Biblical Interpretation</td><td>3.94</td></tr><tr><td>IVP Books</td><td>The Hip-Hop Church: Connecting with the Movement Shaping Our Culture</td><td>3.91</td></tr><tr><td>Icon Books</td><td>Introducing Sartre (Introducing... S.)</td><td>3.58</td></tr><tr><td>Ig Publishing</td><td>In Wonderland</td><td>3.60</td></tr><tr><td>Ignatius Press</td><td>Tolkien: Man and Myth: A Literary Life</td><td>4.59</td></tr><tr><td>Image</td><td>Saint Thomas Aquinas</td><td>4.14</td></tr><tr><td>Image Comics</td><td>The Walking Dead  Vol. 5: The Best Defense</td><td>4.35</td></tr><tr><td>Impact</td><td>Feeling Better  Getting Better  Staying Better: Profound Self-Help Therapy for Your Emotions</td><td>4.02</td></tr><tr><td>Imprint Academic</td><td>A Throne in Brussels: Britain  the Saxe-Coburgs and the Belgianisation of Europe</td><td>4.14</td></tr><tr><td>Indiana University Press</td><td>Vita Nuova</td><td>4.29</td></tr><tr><td>Indigo</td><td>Dark Visions</td><td>3.89</td></tr><tr><td>IndyPublish.com</td><td>Swann's Way (Remembrance of Things Past  #1)</td><td>4.14</td></tr><tr><td>Inkling Books</td><td>On the Lines of Morris' Romances: Two Books That Inspired J. R. R. Tolkien-The Wood Beyond the World and the Well at the World's End</td><td>4.09</td></tr><tr><td>Inner City Books</td><td>Melville's Moby Dick: An American Nekyia (Studies in Jungian Psychology by Jungian Analysts)</td><td>3.93</td></tr><tr><td>Inner Light - Global Communications</td><td>Teleportation: From Star Trek to Tesla</td><td>2.83</td></tr><tr><td>Inner Traditions</td><td>The Magus of Freemasonry: The Mysterious Life of Elias Ashmole—Scientist  Alchemist  and Founder of the Royal Society</td><td>4.10</td></tr><tr><td>Inner Traditions International</td><td>The Complete I Ching: The Definitive Translation</td><td>4.28</td></tr><tr><td>Insel</td><td>Homo faber: Ein Bericht.</td><td>3.74</td></tr><tr><td>Insel  Frankfurt</td><td>April  May und June</td><td>3.88</td></tr><tr><td>Insight International</td><td>You're Born an Original  Don't Die a Copy!</td><td>4.06</td></tr><tr><td>Inter Varsity Press</td><td>Salvation to the Ends of the Earth: A Biblical Theology of Mission (New Studies in Biblical Theology (InterVarsity Press)  #11)</td><td>3.93</td></tr><tr><td>Inter-Varsity Press</td><td>Desiring God: Meditations of a Christian Hedonist</td><td>4.14</td></tr><tr><td>InterVarsity Press</td><td>Too Busy Not to Pray: Slowing Down to Be With God</td><td>4.16</td></tr><tr><td>Intercultural Publishing</td><td>The Art of Loving by Erich Fromm: A True Story of a Japanese Woman</td><td>1.67</td></tr><tr><td>Interlink Publishing Group</td><td>Kahlil Gibran: His Life and World</td><td>4.21</td></tr><tr><td>International Code Council</td><td>International Building Code 2003</td><td>3.62</td></tr><tr><td>International Polygonics</td><td>Murder from the East</td><td>3.63</td></tr><tr><td>International Publishers</td><td>The Modern Prince and Other Writings</td><td>3.89</td></tr><tr><td>International Publishers (NYC)</td><td>The Communist Manifesto</td><td>3.55</td></tr><tr><td>Island</td><td>The Testament</td><td>3.86</td></tr><tr><td>Island Books</td><td>The Coalwood Way: A Memoir  (Coalwood  #2)</td><td>4.14</td></tr><tr><td>Island Press</td><td>Marine Conservation Biology: The Science of Maintaining the Sea's Biodiversity</td><td>4.59</td></tr><tr><td>It Books</td><td>The Long Hard Road Out of Hell</td><td>4.18</td></tr><tr><td>Ivan R. Dee</td><td>Complete Essays 4  1936-38</td><td>4.29</td></tr><tr><td>Ivan R. Dee  Publisher</td><td>Complete Essays 1  1920-25</td><td>4.33</td></tr><tr><td>Ivan R. Dee Publisher</td><td>Wittgenstein's Vienna</td><td>4.06</td></tr><tr><td>Ivy Books</td><td>The Silk Vendetta</td><td>4.01</td></tr><tr><td>Izdavačka agencija Draganić</td><td>Venac sonetnih venaca; Puževa srma</td><td>0.00</td></tr><tr><td>J'AI LU</td><td>Neverwhere</td><td>4.17</td></tr><tr><td>J'ai Lu</td><td>Starship Titanic</td><td>4.44</td></tr><tr><td>J'ai lu</td><td>Xénocide (Ender's Saga  #3)</td><td>4.45</td></tr><tr><td>Jane Nissen Books</td><td>The Elephant War</td><td>3.67</td></tr><tr><td>Jessica Kingsley Publishers</td><td>Laughter and Tears: A Family's Journey to Understanding the Autism Spectrum</td><td>4.00</td></tr><tr><td>Jimmy Patterson</td><td>SantaKid</td><td>3.88</td></tr><tr><td>Joanna Cotler Books</td><td>Psyche in a Dress</td><td>3.84</td></tr><tr><td>Joanna Cotler Books/HarperCollinsPublishers</td><td>The Rose and the Beast: Fairy Tales Retold</td><td>3.77</td></tr><tr><td>John F. Blair  Publisher</td><td>Topsail Island: Mayberry by the Sea</td><td>3.94</td></tr><tr><td>John Wiley</td><td>Jane Austen For Dummies</td><td>4.03</td></tr><tr><td>John Wiley & Sons</td><td>The Warren Buffett Way</td><td>4.13</td></tr><tr><td>Johns Hopkins University Press</td><td>Theogony/Works and Days/Shield</td><td>4.29</td></tr><tr><td>Johnson Publishing Company (IL)</td><td>Before the Mayflower: A History of Black America</td><td>4.44</td></tr><tr><td>Jonathan Cape</td><td>Timequake</td><td>4.09</td></tr><tr><td>Jones & Bartlett Publishers</td><td>Varney's Pocket Midwife</td><td>4.06</td></tr><tr><td>Jones Books</td><td>Tea with Jane Austen</td><td>3.79</td></tr><tr><td>Joshua Odell Editions</td><td>Zen in the Art of Writing: Essays on Creativity</td><td>4.10</td></tr><tr><td>Jossey-Bass</td><td>The Leadership Challenge</td><td>4.62</td></tr><tr><td>Jove</td><td>The List</td><td>4.54</td></tr><tr><td>Jove Books</td><td>The Echo</td><td>4.14</td></tr><tr><td>Julia MacRae</td><td>Imaginary Lands</td><td>4.05</td></tr><tr><td>Julie Andrews Collection</td><td>Dumpy's Valentine</td><td>3.31</td></tr><tr><td>Jump At The Sun</td><td>Homemade Love</td><td>4.18</td></tr><tr><td>Jump at the Sun</td><td>Shop in the Name of Love (The Cheetah Girls #2)</td><td>3.64</td></tr><tr><td>K.G. Saur Verlag</td><td>Mythographi Graeci 1: Apollodori Bibliotheca  Apollodori epitoma  Procli excerpta ex cycli epici carminibus  Pediasmi libellus de duodecim Herculis...Graecorum et Romanorum Teubneriana</td><td>0.00</td></tr><tr><td>Kabel  Verlag GmbH Ernst</td><td>Die Hexen von Salem Falls</td><td>3.82</td></tr><tr><td>Kaplan</td><td>The Scarlet Letter</td><td>3.79</td></tr><tr><td>Kaplan Publishing</td><td>Frankenstein</td><td>3.79</td></tr><tr><td>Keep It Simple Books</td><td>There Is Nothing Wrong with You: Going Beyond Self-Hate</td><td>4.25</td></tr><tr><td>Kensington</td><td>Weekend Warriors (Sisterhood  #1)</td><td>4.20</td></tr><tr><td>Kensington Publishing Corporation</td><td>Sugar Cookie Murder (Hannah Swensen  #6)</td><td>3.91</td></tr><tr><td>Kent State University Press</td><td>Interrupted Music: The Making of Tolkien's Mythology</td><td>4.21</td></tr><tr><td>Kent State University Press (OH)</td><td>Chekhov's Doctors: A Collection of Chekhov's Medical Tales (Literature & Medicine 5)</td><td>4.04</td></tr><tr><td>Kessinger Publishing</td><td>The Works and Days/Theogony</td><td>4.10</td></tr><tr><td>KiWi</td><td>Glamorama</td><td>3.46</td></tr><tr><td>Kids Can Press</td><td>Suki's Kimono</td><td>4.19</td></tr><tr><td>Kiepenheuer & Witsch</td><td>Der Fänger im Roggen</td><td>3.97</td></tr><tr><td>Kindle</td><td>The Perfume Factory</td><td>4.18</td></tr><tr><td>Kingfisher</td><td>Treasure Island</td><td>4.12</td></tr><tr><td>Klett</td><td>The Catcher in the Rye: Annotations and Study Aids</td><td>3.80</td></tr><tr><td>Klincksieck</td><td>Margaret Atwood: The Handmaid's Tale</td><td>4.27</td></tr><tr><td>Knopf</td><td>What Work Is</td><td>4.42</td></tr><tr><td>Knopf Books for Young Readers</td><td>The Wonderful Story of Henry Sugar and Six More</td><td>4.26</td></tr><tr><td>Knopf Doubleday Publishing Group</td><td>I'll Be Home Before Midnight and I Won't Get Pregnant</td><td>0.00</td></tr><tr><td>Knopf Publishing Group</td><td>Whitethorn Woods</td><td>4.22</td></tr><tr><td>Knowledge Products</td><td>Jean-Paul Sartre: (The Giants of Philosophy)</td><td>3.86</td></tr><tr><td>Kodansha</td><td>Love  Hate and Everything in Between: Expressing Emotions in Japanese</td><td>4.15</td></tr><tr><td>Kodansha America</td><td>The Tale of Genji: Scenes from the World's First Novel (Illustrated Japanese Classics)</td><td>3.76</td></tr><tr><td>Kodansha International</td><td>The Book of Five Rings</td><td>4.07</td></tr><tr><td>Konemann</td><td>War and Peace</td><td>4.11</td></tr><tr><td>Krause Publications</td><td>200 Quilt Blocks: To Mix and Match</td><td>4.09</td></tr><tr><td>Kregel Academic & Professional</td><td>Raising the Bar: Ministry to Youth in the New Millennium</td><td>3.86</td></tr><tr><td>Kregel Publications</td><td>Reinventing Jesus: How Contemporary Skeptics Miss the Real Jesus and Mislead Popular Culture</td><td>4.20</td></tr><tr><td>Kuperard</td><td>Culture Shock! Laos (Culture Shock!)</td><td>3.29</td></tr><tr><td>Kyle Books</td><td>Irish Traditional Cooking: Over 300 Recipes from Ireland's Heritage</td><td>4.19</td></tr><tr><td>L.A. Weekly Books</td><td>If Chins Could Kill: Confessions of a B Movie Actor</td><td>4.00</td></tr><tr><td>LGF</td><td>Christine</td><td>3.77</td></tr><tr><td>LSU Press</td><td>The Collected Poems of Robert Penn Warren</td><td>4.37</td></tr><tr><td>LWW</td><td>Study Guide to Accompany Brunner and Suddarth's Textbook of Medical-Surgical Nursing</td><td>4.22</td></tr><tr><td>La factoría de ideas</td><td>Ubik</td><td>4.09</td></tr><tr><td>Laffont</td><td>Territoires (Le talisman des territoires  #2)</td><td>4.01</td></tr><tr><td>Lama Foundation (San Cristobal  NM)</td><td>Be Here Now</td><td>4.29</td></tr><tr><td>Lantern Books</td><td>God's Covenant with Animals: A Biblical Basis for the Humane Treatment of All Creatures</td><td>4.00</td></tr><tr><td>Large Print Press</td><td>The Lovely Bones</td><td>4.27</td></tr><tr><td>Lark Books</td><td>Artful Paper Dolls: New Ways to Play with a Traditional Form</td><td>4.23</td></tr><tr><td>Larousse</td><td>Un amour de swann (À la recherche du temps perdu  #1.2)</td><td>3.92</td></tr><tr><td>Larousse Kingfisher Chambers</td><td>Candide</td><td>3.77</td></tr><tr><td>Lasser Press</td><td>El Clan Del Oso Cavernario</td><td>4.05</td></tr><tr><td>Laurel</td><td>The Turn of the Screw/Daisy Miller</td><td>3.82</td></tr><tr><td>Laurel Leaf</td><td>The Time Travelers: Volume One</td><td>4.15</td></tr><tr><td>Laurel Leaf Books</td><td>An Acceptable Time (Time Quintet  #5)</td><td>3.82</td></tr><tr><td>Laurel Leaf Library</td><td>The Subtle Knife (His Dark Materials  #2)</td><td>4.17</td></tr><tr><td>Laurel Press</td><td>My Name is Aram</td><td>4.15</td></tr><tr><td>Laurel-Leaf Books</td><td>Quiver</td><td>3.51</td></tr><tr><td>Lawbook Exchange  Ltd.</td><td>Charles Dickens as a Legal Historian</td><td>4.00</td></tr><tr><td>Lawrence Hill Books</td><td>They Dare to Speak Out: People and Institutions Confront Israel's Lobby</td><td>4.07</td></tr><tr><td>Le Livre de Poche</td><td>Siddhartha</td><td>4.36</td></tr><tr><td>Learning Matters</td><td>Primary English: Knowledge and Understanding</td><td>3.87</td></tr><tr><td>Lectorum</td><td>1984</td><td>4.18</td></tr><tr><td>Lectorum Publications</td><td>¡Horton escucha a quién!</td><td>4.18</td></tr><tr><td>Leete's Island Books</td><td>In Praise of Shadows</td><td>4.09</td></tr><tr><td>Legend</td><td>The Abyss</td><td>4.07</td></tr><tr><td>Leisure</td><td>The Reluctant Reformer</td><td>3.91</td></tr><tr><td>Leisure Books</td><td>The Perfect Wife</td><td>4.45</td></tr><tr><td>Lerner Publications</td><td>Oprah Winfrey</td><td>3.96</td></tr><tr><td>Let's Go Publications</td><td>Let's Go Australia on a Budget</td><td>3.93</td></tr><tr><td>Libraries Unlimited</td><td>In Web Design for Libraries</td><td>2.67</td></tr><tr><td>Library of America</td><td>Writings and Selected Narratives of the Exploration and Settlement of Virginia</td><td>4.63</td></tr><tr><td>Library of America (NY)</td><td>Collected Essays: Notes of a Native Son / Nobody Knows My Name / The Fire Next Time / No Name in the Street / The Devil Finds Work / Other Essays</td><td>4.61</td></tr><tr><td>Library of American Comics</td><td>The Complete Dick Tracy Volume 1: 1931-1933</td><td>4.02</td></tr><tr><td>Library of Liberal Arts/Bobb-Merrill (Indianapolis  IN)</td><td>On Christian Doctrine</td><td>4.03</td></tr><tr><td>Libros para ninos</td><td>Bailando al rescate (Dora La Exploradora)</td><td>3.47</td></tr><tr><td>Liguori Publications</td><td>Modern Reader's Guide to Dante's the Divine Comedy</td><td>4.49</td></tr><tr><td>Limelight</td><td>The Season: A Candid Look at Broadway</td><td>4.10</td></tr><tr><td>Limelight Editions</td><td>Harpo Speaks!</td><td>4.41</td></tr><tr><td>Limitless Corporation</td><td>My Sister's Keeper</td><td>3.86</td></tr><tr><td>Lions</td><td>When the Siren Wailed</td><td>3.72</td></tr><tr><td>Lippincott Williams & Wilkins</td><td>Post Captain (Aubrey/Maturin Book 2)</td><td>4.29</td></tr><tr><td>List</td><td>Wenn Engel fallen</td><td>3.92</td></tr><tr><td>List Taschenbuch</td><td>Yeats ist tot!</td><td>3.40</td></tr><tr><td>Listening Library</td><td>Trickster's Choice (Daughter of the Lioness  #1)</td><td>4.27</td></tr><tr><td>Listening Library (Audio)</td><td>Treasury of American Tall Tales: Volume 1: Davy Crockett  Rip Van Winkle  Johnny Appleseed  Paul Bunyan (Rabbit Ears)</td><td>4.42</td></tr><tr><td>Literatura Random House</td><td>Pégate un tiro para sobrevivir: un viaje personal por la América de los mitos</td><td>3.81</td></tr><tr><td>Little  Brown</td><td>Leadership</td><td>4.25</td></tr><tr><td>Little  Brown & Company</td><td>The Last Lion: Winston Spencer Churchill: Visions of Glory  1874-1932</td><td>4.48</td></tr><tr><td>Little  Brown & Company (Boston/Toronto)</td><td>The Glory and the Dream: A Narrative History of America 1932-72</td><td>4.43</td></tr><tr><td>Little  Brown Book Group</td><td>Waiting Sands</td><td>4.37</td></tr><tr><td>Little  Brown Books for Young Readers</td><td>Trials of Death (Cirque Du Freak  #5)</td><td>4.25</td></tr><tr><td>Little  Brown Young Readers</td><td>You're the One That I Want (Gossip Girl  #6)</td><td>4.16</td></tr><tr><td>Little  Brown and Company</td><td>Yiddish with Dick and Jane</td><td>4.49</td></tr><tr><td>Little Apple</td><td>Sunny The Yellow Fairy (Rainbow Magic  #3)</td><td>3.82</td></tr><tr><td>Little Bookroom</td><td>Here Is New York</td><td>4.30</td></tr><tr><td>Little Brown</td><td>The Beatles: The Biography</td><td>4.15</td></tr><tr><td>Little Brown and Company</td><td>You've Been Warned</td><td>4.04</td></tr><tr><td>Little Simon</td><td>Where Is Baby's Mommy? (A Lift-the-Flap Book)</td><td>4.33</td></tr><tr><td>Live Oak Media</td><td>Animales No Se Visten  Los (Animals Should Definitely Not Wear Clothing) with CD</td><td>4.11</td></tr><tr><td>Liveright</td><td>Selected Poems</td><td>4.22</td></tr><tr><td>Liveright Publishing Corp.</td><td>Tulips & Chimneys</td><td>4.38</td></tr><tr><td>Liveright/W.W. Norton & Company  Inc.</td><td>E.E. Cummings: Complete Poems 1904-1962 (Revised  Corrected  and Expanded Edition)</td><td>4.35</td></tr><tr><td>Living Books</td><td>Four Mothers at Chautuaqua</td><td>4.04</td></tr><tr><td>Livre de Poche</td><td>Mon Ami Maigret</td><td>4.33</td></tr><tr><td>Llewellyn Publications</td><td>Three Books of Occult Philosophy</td><td>4.12</td></tr><tr><td>Lodestar Books</td><td>Uncle Setnakt's Essential Guide to the Left Hand Path</td><td>4.37</td></tr><tr><td>Loeb Classical Library</td><td>Trojan Women / Iphigenia Among the Taurians / Ion</td><td>4.47</td></tr><tr><td>Loeb Classical Library 307</td><td>Minor Works: On Colours/On Things Heard/Physiognomics/On Plants/On Marvellous Things Heard/Mechanical Problems/On Indivisible Lines/The...Gorgias</td><td>4.57</td></tr><tr><td>Loeb Classical Library 443</td><td>Ennead IV (Plotinus IV)</td><td>4.52</td></tr><tr><td>Loeb Classical Library/Harvard University Press</td><td>Clouds/Wasps/Peace</td><td>4.07</td></tr><tr><td>London : Collins  2004.</td><td>Oh Say Can You Say?</td><td>4.01</td></tr><tr><td>London : Faber  2002</td><td>Garden State</td><td>3.07</td></tr><tr><td>Lone Oak Press</td><td>1968: War and Democracy</td><td>4.50</td></tr><tr><td>Lonely Planet</td><td>Ukraine</td><td>4.05</td></tr><tr><td>Longman</td><td>The Beach</td><td>3.84</td></tr><tr><td>Longman Publishing Group</td><td>The Pursuit of History</td><td>4.31</td></tr><tr><td>Longman Schools Division (a Pearson Education Company)</td><td>The Grapes of Wrath</td><td>3.96</td></tr><tr><td>Longmeadow Press</td><td>The More Than Complete Hitchhiker's Guide (Hitchhiker's Guide  #1-4 + short story)</td><td>4.58</td></tr><tr><td>Loose Id  LLC</td><td>Hard Candy</td><td>3.99</td></tr><tr><td>Love Inspired</td><td>Suddenly Daddy (Suddenly #1)</td><td>3.78</td></tr><tr><td>Love Spell</td><td>The Cat's Fancy</td><td>4.13</td></tr><tr><td>Loveswept</td><td>Fanta C (Loveswept   #217)</td><td>3.62</td></tr><tr><td>Loyola Classics</td><td>Helena</td><td>3.60</td></tr><tr><td>Loyola Press (Chicago)</td><td>Dark Intimacy: Hope for Those in Difficult Prayer-Experiences</td><td>4.00</td></tr><tr><td>Luath Press Ltd</td><td>On the Trail of Mary  Queen of Scots</td><td>3.25</td></tr><tr><td>Lucas Books</td><td>Revenge of the Sith (Star Wars: Novelizations  #3)</td><td>4.14</td></tr><tr><td>Lucent Books</td><td>The History of Rock and Roll (World History)</td><td>4.00</td></tr><tr><td>Lulu Press</td><td>The Master and Margarita</td><td>4.30</td></tr><tr><td>Lulu.com</td><td>Existential Meditation</td><td>4.91</td></tr><tr><td>Lumen</td><td>Tan fuerte  tan cerca</td><td>3.98</td></tr><tr><td>Luna</td><td>Cast in Shadow (Chronicles of Elantra  #1)</td><td>4.11</td></tr><tr><td>Luna Books</td><td>Winter Moon (Walker Papers  #1.5)</td><td>4.14</td></tr><tr><td>Lyons Press</td><td>The Long Walk: The True Story of a Trek to Freedom</td><td>4.21</td></tr><tr><td>Lübbe</td><td>Melliandra</td><td>4.31</td></tr><tr><td>MIRA</td><td>What The Lady Wants</td><td>3.91</td></tr><tr><td>MIT Press</td><td>Theory of Colours</td><td>4.45</td></tr><tr><td>MIT Press (Cambridge  MA)</td><td>Aspects of the Theory of Syntax</td><td>3.96</td></tr><tr><td>MIT Press (MA)</td><td>The Parallax View</td><td>4.00</td></tr><tr><td>MJF Books</td><td>The Life You Were Born to Live</td><td>4.11</td></tr><tr><td>MONDIAL</td><td>The Sorrows of Young Werther</td><td>3.90</td></tr><tr><td>MTV Books</td><td>The Fuck-Up</td><td>4.39</td></tr><tr><td>MacAdam/Cage</td><td>The Time Traveler's Wife</td><td>3.97</td></tr><tr><td>MacMillan</td><td>Hour Game (Sean King & Michelle Maxwell  #2)</td><td>4.28</td></tr><tr><td>MacMillan Audio</td><td>Whiteout</td><td>3.80</td></tr><tr><td>MacMillan Children's Books</td><td>Absolutely Normal Chaos</td><td>3.92</td></tr><tr><td>MacMillan General Books</td><td>The Memoirs of Cleopatra</td><td>4.18</td></tr><tr><td>MacMillan Publishing Company</td><td>The Elements of Style</td><td>4.19</td></tr><tr><td>MacMillan UK</td><td>Miss Happiness and Miss Flower</td><td>4.27</td></tr><tr><td>Macmillan</td><td>The Dolls' House</td><td>4.01</td></tr><tr><td>Macmillan Audio</td><td>The Power of Truth: A Leading with Emotional Intelligence Conversation with Warren Bennis</td><td>4.29</td></tr><tr><td>Macmillan Children's Books</td><td>Just as Long as We're Together</td><td>4.07</td></tr><tr><td>Macmillan Publ. Co.</td><td>Spandau: The Secret Diaries</td><td>4.13</td></tr><tr><td>Macmillan Publishing Company/Collier Books</td><td>The Voyage of the “Dawn Treader” (The Chronicles of Narnia  #3)</td><td>4.09</td></tr><tr><td>Main Street Books</td><td>Merlin's Tour of the Universe</td><td>4.17</td></tr><tr><td>Malhavoc Press</td><td>Monte Cook Presents The Year's Best D20 (Volume One)</td><td>4.20</td></tr><tr><td>Management Books 2000</td><td>The Deming Management Method</td><td>3.95</td></tr><tr><td>Manchester University Press</td><td>A Farewell to Arms?: Beyond the Good Friday Agreement</td><td>4.33</td></tr><tr><td>Manesse Verlag</td><td>Jane Eyre</td><td>4.12</td></tr><tr><td>Manning Publications</td><td>Ruby for Rails: Ruby Techniques for Rails Developers</td><td>3.77</td></tr><tr><td>Margaret K. McElderry Books</td><td>Silver on the Tree (The Dark is Rising  #5)</td><td>4.15</td></tr><tr><td>Mariner Books</td><td>Winterdance: The Fine Madness of Running the Iditarod</td><td>4.53</td></tr><tr><td>Mariner Books / Harvest Books</td><td>Life of Pi</td><td>3.91</td></tr><tr><td>Marion Boyars Publishers</td><td>Teach Us To Outgrow Our Madness</td><td>4.05</td></tr><tr><td>Marion Boyars Publishers Ltd</td><td>Quintessential Tarantino</td><td>3.90</td></tr><tr><td>Mark Cahill Ministries</td><td>Lo único que no podrás hacer en el cielo</td><td>4.13</td></tr><tr><td>Marlowe & Company</td><td>Notebooks  1935-1951</td><td>4.28</td></tr><tr><td>Marshall Cavendish Editions</td><td>Kenang-Kenangan Seorang Geisha (Memoirs of a Geisha)</td><td>4.11</td></tr><tr><td>Marsilio Publishers</td><td>One  No One and One Hundred Thousand</td><td>4.10</td></tr><tr><td>Martínez Roca</td><td>Rabia</td><td>3.78</td></tr><tr><td>Marvel</td><td>X-Statix  Volume 1: Good Omens</td><td>4.24</td></tr><tr><td>Marvel Comics</td><td>Miracleman  Book Three: Olympus</td><td>4.39</td></tr><tr><td>Marvel Comics Group</td><td>The Punisher  Vol. 6: Confederacy of Dunces</td><td>4.45</td></tr><tr><td>Material World</td><td>Hungry Planet</td><td>4.44</td></tr><tr><td>Maxima New Media</td><td>Edward Lear's Book of Nonsense: With Lear's Original Illustrations</td><td>3.65</td></tr><tr><td>Mayfield Publishing Company (NY)</td><td>A Guided Tour of 5 Works by Plato: Euthyphro/Apology/Crito/Phaedo/Cave</td><td>4.33</td></tr><tr><td>McClelland & Stewart</td><td>The Jane Austen Cookbook</td><td>4.11</td></tr><tr><td>McClelland and Stewart</td><td>The View From Castle Rock</td><td>3.68</td></tr><tr><td>McDougal Littel</td><td>McDougal Littell Science: Student Edition Grade 6 Earth Science 2006</td><td>2.00</td></tr><tr><td>McFarland & Company</td><td>The War of the Worlds</td><td>3.82</td></tr><tr><td>McGraw-Hill</td><td>Wooden: A Lifetime of Observations and Reflections On and Off the Court</td><td>4.45</td></tr><tr><td>McGraw-Hill Companies</td><td>Virgin</td><td>4.00</td></tr><tr><td>McGraw-Hill Education</td><td>The Dissociative Identity Disorder Sourcebook</td><td>4.16</td></tr><tr><td>McGraw-Hill Humanities/Social Sciences/Languages</td><td>The Last Dance: Encountering Death and Dying</td><td>4.29</td></tr><tr><td>McGraw-Hill Medical Publishing</td><td>Harrison's Principles of Internal Medicine</td><td>4.35</td></tr><tr><td>McGraw-Hill Professional Publishing</td><td>Sclerotherapy and vein treatment</td><td>4.29</td></tr><tr><td>McGraw-Hill Science/Engineering/Math</td><td>Heat and Mass Transfer</td><td>4.15</td></tr><tr><td>McGraw-Hill/Glencoe</td><td>Von Helden Und Schelmen: Tall Tales and Legends for Intermediate Students of German</td><td>4.00</td></tr><tr><td>McSweeney's</td><td>What Is the What</td><td>4.29</td></tr><tr><td>Meisha Merlin Publishing</td><td>Tuf Voyaging</td><td>4.24</td></tr><tr><td>Mel Bay Publications  Inc.</td><td>Deluxe Encyclopedia of Mandolin Chords</td><td>3.83</td></tr><tr><td>Melodrama Publishing</td><td>The Criss Cross</td><td>4.20</td></tr><tr><td>Melville House Publishing</td><td>Sister Bernadette's Barking Dog: The Quirky History and Lost Art of Diagramming Sentences</td><td>3.78</td></tr><tr><td>Meredith Corporation</td><td>Day and Night</td><td>0.00</td></tr><tr><td>Merlin Publishing</td><td>The Modern Prince: Charles J. Haughey and the Quest for Power</td><td>3.50</td></tr><tr><td>Mestas Ediciones</td><td>El Retrato De Dorian Gray</td><td>4.08</td></tr><tr><td>Methuen Drama</td><td>A Clockwork Orange (Stage Play)</td><td>3.84</td></tr><tr><td>Methuen Publishing</td><td>Three Plays</td><td>4.09</td></tr><tr><td>MetroBooks (NY)</td><td>The American Heritage New History of the Civil War</td><td>4.11</td></tr><tr><td>Metropolitan Books</td><td>The Nubian Prince</td><td>3.54</td></tr><tr><td>Metropolitan Books/Henry Holt & Co. (NY)</td><td>Imperial Ambitions: Conversations on the Post-9/11 World</td><td>3.97</td></tr><tr><td>Michael Joseph</td><td>Banker</td><td>4.06</td></tr><tr><td>Michael Joseph Ltd./Penguin Books Ltd.</td><td>The Savage Wars Of Peace: Soldiers' Voices 1945-1989</td><td>4.50</td></tr><tr><td>Michael O'Mara</td><td>The Wicked Wit of Charles Dickens</td><td>3.55</td></tr><tr><td>Michael O'Mara Books</td><td>J.K. Rowling - A Biography</td><td>3.73</td></tr><tr><td>Microsoft Press</td><td>Writing Secure Code</td><td>4.39</td></tr><tr><td>Middlesex University Press</td><td>Life Is a Caravanserai</td><td>3.71</td></tr><tr><td>Middleway Press</td><td>The Buddha in Your Mirror: Practical Buddhism and the Search for Self</td><td>4.28</td></tr><tr><td>Midnight Ink</td><td>June Bug (Murder-by-Month Mystery #2)</td><td>3.56</td></tr><tr><td>Mikaya Press</td><td>The Brooklyn Bridge (Wonders of the World)</td><td>4.44</td></tr><tr><td>Millenium</td><td>The Gods Themselves</td><td>4.09</td></tr><tr><td>Millipede Press</td><td>Falling Angel</td><td>3.92</td></tr><tr><td>Mills & Boon</td><td>The Baby Emergency (Tennengarrah Clinic #1)</td><td>3.60</td></tr><tr><td>Minnesota Heritage Publishing</td><td>Maud Hart Lovelace's Deep Valley: A Guidebook of Mankato Places in the Betsy-Tacy Series</td><td>4.29</td></tr><tr><td>Minnesota Historical Society Press</td><td>The St. Paul Stories of F. Scott Fitzgerald</td><td>4.00</td></tr><tr><td>Minotaur Books</td><td>True Believers (Gregor Demarkian  #17)</td><td>4.18</td></tr><tr><td>Mira</td><td>The MacGregors: Serena & Caine (The MacGregors  #1 -2)</td><td>4.11</td></tr><tr><td>Mira (Mills and Boon)</td><td>A Secret Splendor</td><td>3.66</td></tr><tr><td>Mira Books</td><td>Two Alone</td><td>4.20</td></tr><tr><td>Mira books</td><td>Monkey Business</td><td>3.67</td></tr><tr><td>Miramax</td><td>The Eternity Code (Artemis Fowl  #3)</td><td>4.36</td></tr><tr><td>Miramax Books</td><td>The Titan's Curse (Percy Jackson and the Olympians  #3)</td><td>4.46</td></tr><tr><td>Mirrorstone</td><td>A Practical Guide to Dragons</td><td>4.33</td></tr><tr><td>Modern Language Association of America</td><td>Approaches to Teaching Atwood's the Handmaid's Tale and Other Works (Approaches to Teaching World Literature)</td><td>3.75</td></tr><tr><td>Modern Library</td><td>Wonderland (Wonderland Quartet  #4)</td><td>4.63</td></tr><tr><td>Modern Library (NY)</td><td>Stars in Their Courses: The Gettysburg Campaign  June-July 1863</td><td>4.44</td></tr><tr><td>Modern Library Classics</td><td>Sons and Lovers</td><td>4.35</td></tr><tr><td>Modern Library/Random House (NY)</td><td>The Basic Works of Aristotle</td><td>4.24</td></tr><tr><td>Modern Publishing</td><td>Frankenstein</td><td>3.79</td></tr><tr><td>Mondadori</td><td>Fantasmas</td><td>3.63</td></tr><tr><td>Mongoose Publishing</td><td>Elric of Melnibone: Bright Shadows</td><td>4.00</td></tr><tr><td>Monkfish Book Publishing</td><td>The Mind Parasites</td><td>3.77</td></tr><tr><td>Monolith Graphics</td><td>Tales from the Dark Tower</td><td>4.23</td></tr><tr><td>Montena</td><td>La venganza de opal (Artemis Fowl  #4)</td><td>4.05</td></tr><tr><td>Montlake Romance</td><td>The Ivy Tree</td><td>4.24</td></tr><tr><td>Moody Publishers</td><td>Your Child and Jesus: A Family Activity Book</td><td>4.70</td></tr><tr><td>Moody Publishers (Chicago)</td><td>An Introduction to the Old Testament Poetic Books</td><td>3.68</td></tr><tr><td>Morgan Road Books</td><td>The Female Brain</td><td>3.83</td></tr><tr><td>Morpheus International</td><td>Retrospective  1964-1984</td><td>4.35</td></tr><tr><td>Morrow</td><td>Whirlwind (Asian Saga  #6)</td><td>3.82</td></tr><tr><td>Motilal Banarsidass</td><td>Autobiography of a Yogi</td><td>4.23</td></tr><tr><td>Motorbooks</td><td>Corvette: Fifty Years</td><td>4.06</td></tr><tr><td>Motorbooks International</td><td>John Deere Farm Tractors: A History of the John Deere Tractor</td><td>4.22</td></tr><tr><td>Mountaineers Books</td><td>The Avalanche Handbook</td><td>4.07</td></tr><tr><td>Moyer Bell and its subsidiaries</td><td>The Mother</td><td>4.19</td></tr><tr><td>Multnomah</td><td>The Treasure Principle: Unlocking the Secret of Joyful Giving</td><td>5.00</td></tr><tr><td>Multnomah Books</td><td>The Dream Giver</td><td>4.26</td></tr><tr><td>Museum of Modern Art</td><td>Andreas Gursky</td><td>4.22</td></tr><tr><td>Mysterious Press</td><td>The Black Dahlia (L.A. Quartet  #1)</td><td>3.95</td></tr><tr><td>Mythopoeic Press</td><td>Tolkien on Film: Essays on Peter Jackson's The Lord of the Rings</td><td>3.79</td></tr><tr><td>Métailié</td><td>Premières Histoires</td><td>4.33</td></tr><tr><td>NAL</td><td>Who's Afraid of Virginia Woolf?</td><td>4.10</td></tr><tr><td>NAL Books</td><td>The Bachman Books: Four Early Novels by Stephen King</td><td>4.11</td></tr><tr><td>NAL Jam</td><td>Glass Houses (The Morganville Vampires  #1)</td><td>3.92</td></tr><tr><td>NAL Trade</td><td>She Who Remembers (Kwani  #1)</td><td>4.18</td></tr><tr><td>NYRB Classics</td><td>Witch Grass</td><td>4.26</td></tr><tr><td>Naiad Press</td><td>The Other Woman</td><td>3.74</td></tr><tr><td>Nan A. Talese</td><td>The Tent</td><td>3.90</td></tr><tr><td>Nantier Beall Minoustchine Publishing</td><td>Combray (Remembrance of Things Past  #1)</td><td>3.79</td></tr><tr><td>Napoleon and Co</td><td>The Devil's in the Details (A Camilla MacPhee Mystery  #4)</td><td>4.00</td></tr><tr><td>Nation Books</td><td>The Big Empty: Dialogues on Politics  Sex  God  Boxing  Morality  Myth  Poker & Bad Conscience in America</td><td>3.30</td></tr><tr><td>National Gallery London</td><td>Tom Hunter: Living in Hell and Other Stories</td><td>3.64</td></tr><tr><td>National Geographic</td><td>Park Profiles: Grand Canyon Country (Park Profiles)</td><td>4.10</td></tr><tr><td>National Geographic Children's Books</td><td>Freedom Riders: John Lewis and Jim Zwerg on the Front Lines of the Civil Rights Movement</td><td>3.98</td></tr><tr><td>National Geographic Society</td><td>National Geographic Field Guide to the Birds of North America</td><td>4.38</td></tr><tr><td>National Park Service</td><td>More Readings From One Man's Wilderness: The Journals of Richard L. Proenneke  1974-1980</td><td>4.42</td></tr><tr><td>Naxos Audiobooks</td><td>The Hound of the Baskervilles (Sherlock Holmes  #5)</td><td>4.11</td></tr><tr><td>Neil Wilson Publishing</td><td>Rob Roy MacGregor</td><td>3.93</td></tr><tr><td>Nelson Books</td><td>Inside My Heart: Choosing to Live with Passion and Purpose</td><td>3.91</td></tr><tr><td>Nelson Current</td><td>From the Age of Discovery to a World at War (America: The Last Best Hope #1)</td><td>4.24</td></tr><tr><td>Nelson Reference & Electronic Publishing</td><td>Living on the Ragged Edge: Finding Joy in a World Gone Mad: Workbook</td><td>4.20</td></tr><tr><td>Nelson Thornes Ltd</td><td>Romeo & Juliet</td><td>3.74</td></tr><tr><td>New American Library</td><td>The Godfather</td><td>4.37</td></tr><tr><td>New City Press</td><td>The Enchiridion on Faith Hope and Love (Augustine Series 1)</td><td>4.08</td></tr><tr><td>New Directions</td><td>Turtle Island</td><td>4.38</td></tr><tr><td>New Directions Publishing</td><td>Henry Miller on Writing</td><td>4.22</td></tr><tr><td>New Directions Publishing Corporation</td><td>The Selected Poems of Federico García Lorca</td><td>4.33</td></tr><tr><td>New English Library</td><td>The Dark Half</td><td>4.33</td></tr><tr><td>New English Library (Hodder & Stoughton)</td><td>The Shining</td><td>4.22</td></tr><tr><td>New Falcon Publications</td><td>Prometheus Rising</td><td>4.26</td></tr><tr><td>New Harbinger Publications</td><td>Get Out of Your Mind and Into Your Life: The New Acceptance and Commitment Therapy</td><td>4.05</td></tr><tr><td>New Island Books</td><td>The Builders</td><td>3.97</td></tr><tr><td>New Millennium Library</td><td>My Ántonia (Great Plains Trilogy  #3)</td><td>3.79</td></tr><tr><td>New Page Books</td><td>Exploring the Northern Tradition: A Guide to the Gods  Lore  Rites  and Celebrations From the Norse  German  and Anglo-Saxon Traditions</td><td>3.83</td></tr><tr><td>New Press</td><td>On the Edge of the New Century</td><td>4.06</td></tr><tr><td>New Press  The</td><td>The Darker Nations: A People's History of the Third World</td><td>3.98</td></tr><tr><td>New Press (NY)</td><td>Japan at War:  An Oral History</td><td>4.34</td></tr><tr><td>New Riders Publishing</td><td>Prioritizing Web Usability</td><td>4.25</td></tr><tr><td>New Tradition Books</td><td>My Dirty Thirties: Romantic Hedonism</td><td>3.00</td></tr><tr><td>New World Library</td><td>The Power of Now: A Guide to Spiritual Enlightenment</td><td>4.43</td></tr><tr><td>New World Publishing</td><td>Micro Eco-Farming: Prospering from Backyard to Small Acreage in Partnership with the Earth</td><td>3.76</td></tr><tr><td>New York : Penguin Books</td><td>Syrup</td><td>3.88</td></tr><tr><td>New York Review Children's Collection</td><td>Mistress Masham's Repose</td><td>3.93</td></tr><tr><td>New York Review of Books</td><td>The Man Who Watched Trains Go By</td><td>4.40</td></tr><tr><td>New York University Press</td><td>The House of Mirth</td><td>3.95</td></tr><tr><td>New York: Random House</td><td>Dr. Seuss's Sleep Book</td><td>4.17</td></tr><tr><td>Newmarket</td><td>The Namesake: A Portrait of the Film Based on the Novel by Jhumpa Lahiri</td><td>4.05</td></tr><tr><td>Newmarket Press</td><td>The Sideways Guide to Wine and Life</td><td>4.64</td></tr><tr><td>Nicholas Brealey</td><td>Snapshots From Hell: The Making Of An MBA</td><td>3.70</td></tr><tr><td>Nick Hern Books</td><td>His Dark Materials: New Edition</td><td>4.06</td></tr><tr><td>Night Shade</td><td>The State of the Art</td><td>3.84</td></tr><tr><td>Night Shade Books</td><td>The Algebraist</td><td>4.02</td></tr><tr><td>Nimble Books</td><td>Unauthorized Harry Potter Book Seven News: Half-Blood Prince Analysis and Speculation</td><td>3.74</td></tr><tr><td>No Exit Press</td><td>Still Life with Woodpecker</td><td>4.25</td></tr><tr><td>No Starch Press</td><td>Write Great Code: Volume 1: Understanding the Machine</td><td>3.92</td></tr><tr><td>Nonpareil Books</td><td>Hamlet's Mill: An Essay Investigating the Origins of Human Knowledge and Its Transmission Through Myth</td><td>4.29</td></tr><tr><td>Nonsuch Publishing</td><td>Thus Spoke Zarathustra</td><td>4.06</td></tr><tr><td>Noonday Press</td><td>The Spirit Catches You and You Fall Down: A Hmong Child  Her American Doctors  and the Collision of Two Cultures</td><td>4.17</td></tr><tr><td>Norma</td><td>La verdad acerca de las Industrias Farmacéuticas: cómo nos engaña y qué hacer al respecto</td><td>3.95</td></tr><tr><td>Norma Editorial</td><td>Buenos Presagios: las buenas y ajustadas profecías de Agnes La Chalada</td><td>4.25</td></tr><tr><td>North Atlantic Books</td><td>Your Inner Physician and You: CranioSacral Therapy and SomatoEmotional Release</td><td>4.67</td></tr><tr><td>North Light Books</td><td>Simply Beautiful Beading: 53 Quick and Easy Projects</td><td>3.78</td></tr><tr><td>North Point Press</td><td>The Splendid Outcast: Beryl Markham's African Stories</td><td>4.32</td></tr><tr><td>North Star Publications (MA)</td><td>The Long Road Back: A Survivor's Guide to Anorexia</td><td>3.20</td></tr><tr><td>Northeastern University Press</td><td>Louisa May Alcott on Race  Sex  and Slavery</td><td>3.94</td></tr><tr><td>Northwestern Univ Press</td><td>Billy Budd  Sailor and Other Uncompleted Writings: The Writings of Herman Melville  Volume 13</td><td>3.11</td></tr><tr><td>Northwestern University Press</td><td>War with the Newts</td><td>4.24</td></tr><tr><td>Norton</td><td>The History of Love</td><td>3.99</td></tr><tr><td>Norton and Co.</td><td>Crime and Punishment (Norton Critical Editions)</td><td>4.21</td></tr><tr><td>Nostalgia Ventures</td><td>Fortress of Solitude / The Devil Genghis</td><td>3.99</td></tr><tr><td>Not Avail</td><td>Why I Hate Canadians</td><td>4.50</td></tr><tr><td>Nova Audio Books</td><td>Tripwire (Jack Reacher  #3)</td><td>4.09</td></tr><tr><td>Nova Fronteira</td><td>O Ano do Pensamento Mágico</td><td>3.89</td></tr><tr><td>Nymphenburger</td><td>Ein Koch für Mma Ramotswe (No. 1 Ladies' Detective Agency  #3)</td><td>3.98</td></tr><tr><td>O'Brien Press</td><td>Going Potty</td><td>3.14</td></tr><tr><td>O'Reilly Media</td><td>Ruby Cookbook</td><td>4.23</td></tr><tr><td>OUP Oxford</td><td>The Church in Ancient Society: From Galilee to Gregory the Great (History of the Christian Church)</td><td>4.19</td></tr><tr><td>Oberlin College Press</td><td>Five T'ang Poets</td><td>4.30</td></tr><tr><td>Oberon Books</td><td>The Coming of Godot: A Short History of a Masterpiece</td><td>4.00</td></tr><tr><td>Octopus Books</td><td>The Sound and the Fury  As I Lay Dying  Sanctuary  Intruder in the Dust</td><td>4.05</td></tr><tr><td>Octopus Books (London)</td><td>Seven Novels</td><td>4.14</td></tr><tr><td>Oddysey/Harcourt Young Classics</td><td>The Moffats (The Moffats  #1)</td><td>4.00</td></tr><tr><td>Odonian Press</td><td>What Uncle Sam Really Wants</td><td>4.01</td></tr><tr><td>Ohio State University Press</td><td>Youth Without Youth & Other Novellas (Romanian Literature & Thought in Translation)</td><td>3.92</td></tr><tr><td>Omnibus Hc Bei Bertelsmann</td><td>Rover rettet Weihnachten.</td><td>4.12</td></tr><tr><td>Omnibus Press</td><td>The Beatles Diary  Vol 1: From Liverpool to London (Falk Symposium)</td><td>4.56</td></tr><tr><td>Omohundro Institute and University of North Carolina Press</td><td>The Creation of the American Republic  1776-1787</td><td>4.12</td></tr><tr><td>One Hour Entertainment</td><td>The Player's Handbook: The Ultimate Guide on Dating and Relationships</td><td>3.82</td></tr><tr><td>One World (UK)</td><td>The Mantle of the Prophet: Religion and Politics in Iran</td><td>4.08</td></tr><tr><td>One World/Ballantine</td><td>Candy Licker</td><td>4.39</td></tr><tr><td>Oni Press</td><td>Scott Pilgrim  Volume 1: Scott Pilgrim's Precious Little Life</td><td>4.17</td></tr><tr><td>Onyx</td><td>Trial By Fire</td><td>4.30</td></tr><tr><td>Onyx Books</td><td>River Of Ruin (Philip Mercer  #5)</td><td>4.19</td></tr><tr><td>Open Court</td><td>Woody Allen and Philosophy: [You Mean My Whole Fallacy Is Wrong?]</td><td>4.48</td></tr><tr><td>Open Court Publishing Company</td><td>Peking to Paris</td><td>3.79</td></tr><tr><td>Open Heaven Publications</td><td>Open My Eyes  Lord: A Practical Guide to Angelic Visitations and Heavenly Experiences</td><td>4.31</td></tr><tr><td>Orb Books</td><td>Wyrms</td><td>4.32</td></tr><tr><td>Orbis Books</td><td>Mother Maria Skobtsova: Essential Writings</td><td>4.37</td></tr><tr><td>Orbit</td><td>The Scions of Shannara (Heritage of Shannara  #1)</td><td>4.21</td></tr><tr><td>Orbit Books</td><td>Running with the Demon (Word & Void #1)</td><td>3.97</td></tr><tr><td>Orchard</td><td>Big Red Tub</td><td>4.03</td></tr><tr><td>Orchard Books</td><td>Wonderful Alexander and the Catwings</td><td>4.30</td></tr><tr><td>Orchard Books (NY)</td><td>The Snow Spider (Snow Spider Trilogy  #1)</td><td>3.70</td></tr><tr><td>Oregon State University Press</td><td>The Grail: A Year Ambling & Shambling Through an Oregon Vineyard in Pursuit of the Best Pinot Noir Wine in the Whole Wild World</td><td>4.01</td></tr><tr><td>Orion</td><td>Trevayne</td><td>4.14</td></tr><tr><td>Orion (an Imprint of The Orion Publishing Group Ltd )</td><td>Tara Road</td><td>3.90</td></tr><tr><td>Orion Books</td><td>The Pusher (87th Precinct  #3)</td><td>3.96</td></tr><tr><td>Orion Children's Books</td><td>Ballet Shoes</td><td>4.07</td></tr><tr><td>Orion Paperbacks</td><td>Do Androids Dream Of Electric Sheep?</td><td>4.08</td></tr><tr><td>Orion Publishing</td><td>The Complete Short Stories</td><td>4.14</td></tr><tr><td>Orion Publishing Co</td><td>Worlds of Wonder</td><td>4.13</td></tr><tr><td>Orion Publishing Co.</td><td>Mouse or Rat?: Translation as Negotiation</td><td>3.80</td></tr><tr><td>Orion Publishing Group</td><td>Time and Again (Time  #1)</td><td>3.99</td></tr><tr><td>Orion Publishing Group  Ltd.</td><td>The Republic</td><td>3.94</td></tr><tr><td>Osprey Publishing</td><td>Lützen 1632 : climax of the Thirty Years war</td><td>3.56</td></tr><tr><td>Other Press (NY)</td><td>Phantom Pain</td><td>3.34</td></tr><tr><td>Our Daily Bread Publishing</td><td>Oswald Chambers  Abandoned to God: The Life Story of the Author of My Utmost for His Highest</td><td>4.45</td></tr><tr><td>Overeaters Anonymous  Incorporated</td><td>The Twelve Steps & Twelve Traditions of Overeaters Anonymous</td><td>4.36</td></tr><tr><td>Overlook Press</td><td>The Stones of Summer</td><td>4.11</td></tr><tr><td>Overlook TP</td><td>This Is Berlin: Reporting from Nazi Germany 1938-40</td><td>4.24</td></tr><tr><td>Owl Books</td><td>The Poetry of Robert Frost: The Collected Poems  Complete and Unabridged</td><td>4.29</td></tr><tr><td>Owl Books (Henry Holt)</td><td>Nickel and Dimed: On (Not) Getting by in America</td><td>3.63</td></tr><tr><td>Owl Books (NY)</td><td>Robert Frost: A Life</td><td>4.11</td></tr><tr><td>Owl Publishing Company</td><td>Real Boys: Rescuing Our Sons from the Myths of Boyhood</td><td>3.83</td></tr><tr><td>Owlet Paperbacks</td><td>You Come Too: Favorite Poems for Readers of All Ages</td><td>4.15</td></tr><tr><td>Oxford University Press</td><td>Waverley</td><td>4.34</td></tr><tr><td>Oxford University Press  USA</td><td>Truth and Fiction in The Da Vinci Code: A Historian Reveals What We Really Know about Jesus  Mary Magdalene & Constantine</td><td>5.00</td></tr><tr><td>P & R Publishing</td><td>Blame It on the Brain: Distinguishing Chemical Imbalances  Brain Disorders  and Disobedience</td><td>4.05</td></tr><tr><td>P. F. Collier and Sons</td><td>For Whom the Bell Tolls</td><td>3.97</td></tr><tr><td>Palgrave Macmillan</td><td>Wide Sargasso Sea: A Reader's Guide to Essential Criticism</td><td>4.25</td></tr><tr><td>Pan</td><td>The River</td><td>4.11</td></tr><tr><td>Pan Australia</td><td>Just Disgusting!</td><td>3.83</td></tr><tr><td>Pan Books</td><td>Blackout (Kat Bronsky #2)</td><td>3.96</td></tr><tr><td>Pan Childrens</td><td>Forever . . .</td><td>3.62</td></tr><tr><td>Pan MacMillan</td><td>Valparaiso</td><td>4.26</td></tr><tr><td>Pan Macmillan Ltd. (London)</td><td>Them: Adventures with Extremists</td><td>3.95</td></tr><tr><td>Pan Publishing</td><td>Total Control</td><td>4.08</td></tr><tr><td>Panamericana Editorial</td><td>Narraciones Extraordinarias</td><td>4.13</td></tr><tr><td>Pantheon</td><td>The Whalestoe Letters</td><td>4.44</td></tr><tr><td>Pantheon Books</td><td>The Right Attitude to Rain (Isabel Dalhousie  #3)</td><td>4.34</td></tr><tr><td>Pantheon Books (NY)</td><td>The History of Sexuality 1: An Introduction</td><td>4.04</td></tr><tr><td>Panther</td><td>The Stone Raft</td><td>3.80</td></tr><tr><td>Paperback Library</td><td>Best Science Fiction Stories of Clifford D. Simak</td><td>3.94</td></tr><tr><td>Paraglyph Press</td><td>A Theory of Fun for Game Design</td><td>3.94</td></tr><tr><td>Paris Press</td><td>On Being Ill</td><td>4.02</td></tr><tr><td>Park Street Press</td><td>Moksha: Writings on Psychedelics & the Visionary Experience</td><td>4.19</td></tr><tr><td>Parker Publishing Llc</td><td>Vegas Bites: A Werewolf Romance Anthology</td><td>4.12</td></tr><tr><td>Patmos</td><td>Der Golem</td><td>3.75</td></tr><tr><td>Paul Dry Books</td><td>The Music of the Republic: Essays on Socrates' Conversations and Plato's Writings</td><td>4.58</td></tr><tr><td>Paul Mellon Centre BA</td><td>The Stranger from Paradise: A Biography of William Blake</td><td>4.06</td></tr><tr><td>Paul S. Eriksson</td><td>The Headmaster's Papers</td><td>3.99</td></tr><tr><td>Paulist Press</td><td>Tolkien and C.S. Lewis: The Gift of a Friendship</td><td>4.50</td></tr><tr><td>Pavement Saw Press</td><td>Hands Collected: The Books of Simon Perchik</td><td>4.25</td></tr><tr><td>Pavilion Press (Wi)</td><td>Jane Austen's Letters</td><td>4.16</td></tr><tr><td>Payot</td><td>Motel Blues</td><td>4.10</td></tr><tr><td>Peachpit Press</td><td>The Zen of CSS Design: Visual Enlightenment for the Web</td><td>3.98</td></tr><tr><td>Pearson</td><td>The Puritan Dilemma: The Story of John Winthrop</td><td>4.23</td></tr><tr><td>Pearson Education</td><td>The Feynman Lectures on Physics Vol 2</td><td>4.62</td></tr><tr><td>Pearson Longman</td><td>Hard Times</td><td>3.52</td></tr><tr><td>Peerage Books</td><td>The Silence of the Lambs and Red Dragon</td><td>4.48</td></tr><tr><td>Pegasus Books</td><td>Night Has a Thousand Eyes</td><td>3.77</td></tr><tr><td>Pelican Publishing</td><td>This Side of Paradise (Paradise  #1)</td><td>4.04</td></tr><tr><td>Pelican Publishing Company</td><td>The Pirate Dictionary</td><td>3.70</td></tr><tr><td>Pen & Sword Military</td><td>Red Road From Stalingrad: Recollections of a Soviet Infantryman</td><td>4.10</td></tr><tr><td>Penguin</td><td>You Shall Know Our Velocity</td><td>4.55</td></tr><tr><td>Penguin (Business)</td><td>The 48 Laws of Power</td><td>4.18</td></tr><tr><td>Penguin (Non-Classics)</td><td>Selected Letters  1940-1956</td><td>4.13</td></tr><tr><td>Penguin Audio</td><td>Trace (Kay Scarpetta  #13)</td><td>3.78</td></tr><tr><td>Penguin Audio UK</td><td>Middlemarch</td><td>3.96</td></tr><tr><td>Penguin Book Limited</td><td>The Village of Stepanchikovo</td><td>3.87</td></tr><tr><td>Penguin Books</td><td>Youth</td><td>4.55</td></tr><tr><td>Penguin Books  Limited (UK)</td><td>The Railway Children</td><td>4.17</td></tr><tr><td>Penguin Books (London)</td><td>Wanderlust: A History of Walking</td><td>3.92</td></tr><tr><td>Penguin Books (NY)</td><td>My War Gone By  I Miss It So</td><td>4.29</td></tr><tr><td>Penguin Books (NYC)</td><td>Galileo's Daughter: A Historical Memoir of Science  Faith and Love</td><td>3.76</td></tr><tr><td>Penguin Books (Penguin Classics)</td><td>Flaubert in Egypt: A Sensibility on Tour</td><td>3.62</td></tr><tr><td>Penguin Books /Penguin Classics</td><td>Ivanhoe</td><td>3.75</td></tr><tr><td>Penguin Books Australia Ltd.</td><td>Tandia</td><td>4.05</td></tr><tr><td>Penguin Books Canada</td><td>Vinyl Cafe Diaries (Vinyl Cafe  #4)</td><td>4.19</td></tr><tr><td>Penguin Books Limited</td><td>The Shape of Things to Come</td><td>3.68</td></tr><tr><td>Penguin Books Ltd</td><td>Zazie in the Metro</td><td>4.52</td></tr><tr><td>Penguin Books Ltd.</td><td>The Teeth of the Tiger (Jack Ryan Universe  #12)</td><td>3.96</td></tr><tr><td>Penguin Books Ltd. (London)</td><td>Collapse: How Societies Choose to Fail or Succeed</td><td>3.93</td></tr><tr><td>Penguin Books USA Inc.</td><td>The Soldiers' Tale: Bearing Witness to Modern War</td><td>3.80</td></tr><tr><td>Penguin Books in association with Faber & Faber</td><td>Unnatural Causes (Adam Dalgliesh #3)</td><td>3.94</td></tr><tr><td>Penguin Books/Penguin Popular Classics</td><td>Moby Dick</td><td>3.50</td></tr><tr><td>Penguin Classic</td><td>Good Soldier Svejk And His Fortunes In The World</td><td>4.11</td></tr><tr><td>Penguin Classics</td><td>World of Wonders (The Deptford Trilogy  #3)</td><td>4.55</td></tr><tr><td>Penguin Classics Deluxe Edition</td><td>Collected Fictions</td><td>4.58</td></tr><tr><td>Penguin Classics Deluxe Editions</td><td>The Quiet American</td><td>3.97</td></tr><tr><td>Penguin Essential Editions</td><td>The Stone Diaries</td><td>3.87</td></tr><tr><td>Penguin Global</td><td>The Normans in Sicily: The Normans in the South 1016-1130 and the Kingdom in the Sun 1130-1194</td><td>4.34</td></tr><tr><td>Penguin Group</td><td>The Eternity Code (Artemis Fowl  #3)</td><td>4.04</td></tr><tr><td>Penguin Group (USA)</td><td>Of Love and Other Demons</td><td>4.20</td></tr><tr><td>Penguin Group(CA)</td><td>The Periodic Table</td><td>4.21</td></tr><tr><td>Penguin Press</td><td>Ghost Hunters: William James and the Search for Scientific Proof of Life After Death</td><td>4.13</td></tr><tr><td>Penguin Press HC  The</td><td>Revolutionary Characters: What Made the Founders Different</td><td>3.99</td></tr><tr><td>Penguin Putnam</td><td>Inventive Paris clothes: 1909-1939 - a photographic essay</td><td>3.67</td></tr><tr><td>Penguin Signet</td><td>The Green Mile</td><td>4.44</td></tr><tr><td>Penguin UK</td><td>Under the Duvet</td><td>4.26</td></tr><tr><td>Penguin Workshop</td><td>Who Was Thomas Jefferson?</td><td>4.26</td></tr><tr><td>Penguin Young Readers</td><td>The Pizza That We Made</td><td>3.54</td></tr><tr><td>Penguin-HighBridge</td><td>The Iliad</td><td>3.86</td></tr><tr><td>Penguin/Viking Compass (Non-Classics)</td><td>Complete Short Stories  Vol 2</td><td>4.03</td></tr><tr><td>Perennial</td><td>The Map That Changed the World: William Smith and the Birth of Modern Geology</td><td>3.82</td></tr><tr><td>Perennial / William Morrow / HarperCollins</td><td>Practical Demonkeeping (Pine Cove  #1)</td><td>3.83</td></tr><tr><td>PerfectBound</td><td>The Assignation: Stories</td><td>3.80</td></tr><tr><td>PerfectBound (HarperCollins)</td><td>American Gods</td><td>4.11</td></tr><tr><td>Perfection Learning</td><td>The Bean Trees (Greer Family  #1)</td><td>3.97</td></tr><tr><td>Perigee Trade</td><td>The Out-of-Sync Child Has Fun: Activities for Kids with Sensory Integration Dysfunction</td><td>4.22</td></tr><tr><td>Peripatetic Press</td><td>Nicomachean Ethics</td><td>3.94</td></tr><tr><td>Peter Owen Ltd</td><td>Narcissus and Goldmund</td><td>4.20</td></tr><tr><td>Peter Owen Publishers</td><td>Pope Joan: Translated & Adapted from the Greek</td><td>3.92</td></tr><tr><td>Peter Smith Publisher</td><td>The Johnstown Flood</td><td>4.11</td></tr><tr><td>Peter Smith Publisher  Inc.</td><td>Three Prophetic Science Fiction Novels</td><td>3.86</td></tr><tr><td>Pfeiffer & Company</td><td>Leadership Challenge</td><td>4.05</td></tr><tr><td>Phaidon Press</td><td>The Painter of Modern Life and Other Essays (Phaidon Arts and Letters)</td><td>4.72</td></tr><tr><td>Pharos Books</td><td>Good Grief: The Story of Charles M. Schulz</td><td>3.72</td></tr><tr><td>Philomel Books</td><td>Voyage of Slaves (Flying Dutchman  #3)</td><td>4.29</td></tr><tr><td>Phoenix</td><td>The Shadow of the Wind</td><td>4.26</td></tr><tr><td>Phoenix Audio</td><td>Dirk Gently's Holistic Detective Agency (Dirk Gently #1)</td><td>3.99</td></tr><tr><td>Phoenix Books/University of Chicago Press (IL)</td><td>The Gilgamesh Epic and Old Testament Parallels</td><td>3.95</td></tr><tr><td>Phoenix Press</td><td>The Shadow of the Wind (The Cemetery of Forgotten Books  #1)</td><td>4.26</td></tr><tr><td>Phoenix Press (UK)</td><td>Never Call Retreat</td><td>4.33</td></tr><tr><td>Phébus</td><td>Elmer Gantry</td><td>3.99</td></tr><tr><td>Pi Press</td><td>Relativity: The Special and the General Theory: The Masterpiece Science Edition</td><td>4.18</td></tr><tr><td>Piatkus</td><td>The Dive from Clausen's Pier</td><td>3.42</td></tr><tr><td>Piatkus Books</td><td>The Switch</td><td>4.39</td></tr><tr><td>Picador</td><td>What Was She Thinking? [Notes on a Scandal]</td><td>4.33</td></tr><tr><td>Picador  Macmillan Publishers Ltd</td><td>Bridget Jones: The Edge Of Reason (Bridget Jones #2)</td><td>3.57</td></tr><tr><td>Picador USA</td><td>White Man's Grave</td><td>4.37</td></tr><tr><td>Picture Book Studio Ltd</td><td>Alberic the Wise</td><td>3.73</td></tr><tr><td>Piemme</td><td>Piccole donne</td><td>3.98</td></tr><tr><td>Pimlico</td><td>The Fourth Crusade: And the Sack of Constantinople</td><td>4.04</td></tr><tr><td>Pimsleur</td><td>Pimsleur German Level 1 CD: [Lessons 1-30]</td><td>4.23</td></tr><tr><td>Pineapple Press</td><td>Hemingway's Cats: An Illustrated Biography</td><td>3.82</td></tr><tr><td>Pinnacle</td><td>Thicker Than Water (Louis Kincaid  #4)</td><td>4.13</td></tr><tr><td>Pinter & Martin Ltd</td><td>A Midwife's Story</td><td>4.07</td></tr><tr><td>Piper</td><td>In einer regnerischen Nacht.</td><td>3.96</td></tr><tr><td>Piper Taschenbuch</td><td>Balzac und die kleine chinesische Schneiderin</td><td>3.64</td></tr><tr><td>Piper Verlag</td><td>Die Entdeckung der Langsamkeit</td><td>3.95</td></tr><tr><td>Pippin Publishing</td><td>Teaching the World's Children: ESL for Ages Three to Seven (The Pippin Teacher's Library)</td><td>3.40</td></tr><tr><td>Planeta</td><td>Pedro Páramo / El Llano en llamas</td><td>4.32</td></tr><tr><td>Planeta Publishing</td><td>Un Lugar Llamado Nada</td><td>4.38</td></tr><tr><td>Plaza & Janes Editores  S.A.</td><td>El misterio de Salem's Lot</td><td>4.02</td></tr><tr><td>Plaza & Janes Editores Sa</td><td>La danza de la muerte</td><td>4.34</td></tr><tr><td>Plaza & Janés</td><td>El coronel no tiene quien le escriba</td><td>3.75</td></tr><tr><td>Plaza & Janés Editores  S.A.</td><td>Carretera maldita</td><td>3.60</td></tr><tr><td>Plaza & Janés Mexico</td><td>Estado De Miedo</td><td>3.70</td></tr><tr><td>Plaza y Janes</td><td>Veinte poemas de amor y una canción desesperada; Cien sonetos de amor</td><td>4.30</td></tr><tr><td>Plaza y Janés</td><td>Ojos de fuego</td><td>4.24</td></tr><tr><td>Plexus Publishing</td><td>Ewan McGregor: From Junkie to Jedi</td><td>3.86</td></tr><tr><td>Plexus Publishing Ltd</td><td>Blink 182</td><td>4.42</td></tr><tr><td>Plume</td><td>Zombie</td><td>4.48</td></tr><tr><td>Plume (Penguin Books Ltd)</td><td>Paradise</td><td>3.80</td></tr><tr><td>Plume Books</td><td>When Food Is Love: Exploring the Relationship Between Eating and Intimacy</td><td>4.08</td></tr><tr><td>Pluto Press</td><td>The Philosophy of Antonio Negri  Volume One: Resistance in Practice</td><td>4.12</td></tr><tr><td>Pocket</td><td>À tout jamais</td><td>4.44</td></tr><tr><td>Pocket Books</td><td>You Belong To Me</td><td>4.35</td></tr><tr><td>Pocket Books / Simon & Schuster  Inc.</td><td>Ghost Story</td><td>3.95</td></tr><tr><td>Pocket Books/Simon & Schuster (NY)</td><td>Look to Windward (Culture  #7)</td><td>4.20</td></tr><tr><td>Pocket Books/Star Trek</td><td>The Kingdom of Shadow (Diablo  #3)</td><td>3.93</td></tr><tr><td>Pocket Books: Gallery Books</td><td>Citizen of the Galaxy</td><td>3.99</td></tr><tr><td>Pocket Star</td><td>Underworld: Blood Enemy (Underworld  #2)</td><td>4.19</td></tr><tr><td>Pocket Star Books</td><td>V for Vendetta</td><td>4.15</td></tr><tr><td>Pogue Press</td><td>iMovie 4 & iDVD: The Missing Manual: The Missing Manual</td><td>3.25</td></tr><tr><td>Points</td><td>Ecstasy</td><td>3.55</td></tr><tr><td>Poisoned Pen Press</td><td>My Sister's Keeper (Gillian Adams  #2)</td><td>4.03</td></tr><tr><td>Polity Press</td><td>Zizek: A Critical Introduction</td><td>3.93</td></tr><tr><td>Polychrome Publishing Corporation</td><td>Almond Cookies & Dragon Well Tea</td><td>3.89</td></tr><tr><td>Polyface</td><td>Holy Cows and Hog Heaven: The Food Buyer's Guide to Farm Friendly Food</td><td>4.01</td></tr><tr><td>Polygon</td><td>Consider the Lilies</td><td>3.88</td></tr><tr><td>Pomegranate Communications</td><td>The Twelve Terrors of Christmas</td><td>4.23</td></tr><tr><td>Poorhouse Press</td><td>Graphic Storytelling and Visual Narrative</td><td>4.08</td></tr><tr><td>Poppy</td><td>You Know You Love Me (Gossip Girl  #2)</td><td>3.55</td></tr><tr><td>Porrua</td><td>Las Noches Blancas. El Jugador. Un Ladrón Honrado. (Sepan Cuantos  #259)</td><td>3.90</td></tr><tr><td>Portable Press</td><td>Uncle John's Presents Blame It on the Weather: Amazing Weather Facts</td><td>3.57</td></tr><tr><td>Portfolio</td><td>The Art of the Start: The Time-Tested  Battle-Hardened Guide for Anyone Starting Anything</td><td>3.87</td></tr><tr><td>Poseidon Press</td><td>Fevre Dream</td><td>3.86</td></tr><tr><td>Possibilities</td><td>PS I Love You Baby Collection</td><td>4.43</td></tr><tr><td>Potomac Books</td><td>Shattered Sword: The Untold Story of the Battle of Midway</td><td>4.42</td></tr><tr><td>Power Press</td><td>Zen and the Art of Happiness</td><td>4.05</td></tr><tr><td>Praeger</td><td>C. S. Lewis: Life  Works  and Legacy</td><td>4.43</td></tr><tr><td>Praeger Publishers</td><td>The Heights of Courage: A Tank Leader's War on the Golan</td><td>4.20</td></tr><tr><td>Pragmatic Bookshelf</td><td>Programming Ruby: The Pragmatic Programmers' Guide</td><td>4.03</td></tr><tr><td>Prentice Hall</td><td>Working Effectively with Legacy Code</td><td>4.21</td></tr><tr><td>Prentice Hall PTR</td><td>C++ Programmer's Notebook</td><td>3.00</td></tr><tr><td>Prentice Hall Press</td><td>How to Succeed with Women</td><td>3.76</td></tr><tr><td>Prentice Hall/Library of Liberal Arts</td><td>The Presocratics</td><td>4.04</td></tr><tr><td>Prentice Hall/Scribner/Macmillan</td><td>The Aeneid (Verse Translation)</td><td>3.84</td></tr><tr><td>Prentice Hall/Simon & Schuster Company (Englewood Cliffs  NJ)</td><td>Nicomachean Ethics</td><td>3.94</td></tr><tr><td>Presidio Press</td><td>We Were Soldiers Once... and Young: Ia Drang - The Battle that Changed the War in Vietnam</td><td>4.31</td></tr><tr><td>Presses de La Cite</td><td>Maigret à New York (Maigret  #27)</td><td>3.55</td></tr><tr><td>Prestel Publishing</td><td>Joseph Cornell: Secrets in a Box (Adventures in Art)</td><td>4.03</td></tr><tr><td>Prestwick House</td><td>Romeo and Juliet</td><td>3.74</td></tr><tr><td>Prestwick House - (Literary Touchstone Classic)</td><td>Oedipus Rex  (The Theban Plays  #1)</td><td>3.70</td></tr><tr><td>Price Stern Sloan</td><td>Mr. Jelly and the Pirates</td><td>4.03</td></tr><tr><td>Prima Games</td><td>The Elder Scrolls IV: Oblivion -- Revised & Expanded (Xbox360  PC) (Prima Official Game Guide)</td><td>4.62</td></tr><tr><td>Prima Lifestyles</td><td>The Wealthy Barber: Everyone's Common-Sense Guide to Becoming Financially Independent</td><td>4.02</td></tr><tr><td>Princeton Architectural Press</td><td>Yours in Food  John Baldessari: with meditations on eating by Paul Auster  David Byrne  Dave Eggers  David Gilbert  Tim Griffin  Andy Grundberg  John Haskell  Michael Kimmelman  Michael More  Glenn O'Brien  Francine Prose  Peter Schjeldahl  Lynne Tillman</td><td>4.22</td></tr><tr><td>Princeton University Press</td><td>Walden</td><td>4.62</td></tr><tr><td>Princeton University Press (NJ)</td><td>The Collected Dialogues</td><td>4.23</td></tr><tr><td>Profile Books</td><td>The Call of the Mall: How we shop</td><td>3.60</td></tr><tr><td>Project Management Institute</td><td>Earned Value Project Management</td><td>3.77</td></tr><tr><td>Prometheus Books</td><td>The History (Great Minds)</td><td>4.47</td></tr><tr><td>Providence Forum Press</td><td>George Washington's Sacred Fire</td><td>4.18</td></tr><tr><td>Psychology Press</td><td>Writing the Qualitative Dissertation: Understanding by Doing</td><td>4.26</td></tr><tr><td>Public Square Books</td><td>Jimmy Corrigan: El Chico más Listo del Mundo</td><td>4.09</td></tr><tr><td>PublicAffairs</td><td>The White Widow</td><td>4.09</td></tr><tr><td>Puffin</td><td>The Westing Game</td><td>4.39</td></tr><tr><td>Puffin Audiobooks</td><td>Matilda</td><td>4.31</td></tr><tr><td>Puffin Books</td><td>Tom's Midnight Garden</td><td>4.33</td></tr><tr><td>Puffin Books (Penguin Books)</td><td>The Dark Is Rising Sequence</td><td>4.28</td></tr><tr><td>Puffin Group</td><td>The Outsiders</td><td>4.09</td></tr><tr><td>Punto de Lectura</td><td>Me llamo rojo</td><td>4.19</td></tr><tr><td>Purple House Press</td><td>The Brothers Lionheart</td><td>4.36</td></tr><tr><td>Push</td><td>You Remind Me of You: A Poetry Memoir</td><td>3.95</td></tr><tr><td>Putnam</td><td>Polar Shift (NUMA Files  #6)</td><td>4.00</td></tr><tr><td>Putnam Adult</td><td>True Betrayals / Montana Sky / Sanctuary</td><td>4.40</td></tr><tr><td>Putnam Publishing Group</td><td>Under Orders (Sid Halley  #4)</td><td>4.27</td></tr><tr><td>Puzzle-Roca</td><td>Secretos De Familia</td><td>3.57</td></tr><tr><td>Puzzle-Via Magna</td><td>El ojo de fuego</td><td>3.66</td></tr><tr><td>Pygmalion Editions</td><td>Krik? Krak!: Récits</td><td>4.12</td></tr><tr><td>Pyramid Books</td><td>Down the Yellow Brick Road:The Making of The Wizard of Oz</td><td>3.92</td></tr><tr><td>Quality Paperback Book Club</td><td>The Return of the King (The Lord of the Rings  #3)</td><td>4.53</td></tr><tr><td>Quarry Press</td><td>Magic Carpet Ride: The Autobiography of John Kay and Steppenwolf</td><td>4.10</td></tr><tr><td>Quest Books</td><td>Mandala: Luminous Symbols for Healing (with a New CD of Meditations and Exercises!)</td><td>4.24</td></tr><tr><td>Quill</td><td>Zen and the Art of Motorcycle Maintenance: An Inquiry Into Values</td><td>3.79</td></tr><tr><td>Quinteto</td><td>La conjura de los necios</td><td>3.89</td></tr><tr><td>RH Audio</td><td>The Spenser Collection: Volume I (Spenser  #27-28)</td><td>4.27</td></tr><tr><td>RH Audio Price-less</td><td>Potshot (Spenser  #28)</td><td>3.89</td></tr><tr><td>RP Minis</td><td>The Mini Zen Gardening Kit</td><td>3.16</td></tr><tr><td>Raintree</td><td>Bill Gates: Computer Legend (Famous Lives)</td><td>5.00</td></tr><tr><td>Random House</td><td>Young Warriors: Stories of Strength</td><td>4.42</td></tr><tr><td>Random House  Inc.</td><td>The Ends Of The Earth: A Journey At The Dawn Of The 21st Century</td><td>4.12</td></tr><tr><td>Random House  for Young Readers</td><td>Charlie Oink</td><td>4.33</td></tr><tr><td>Random House (NY)</td><td>The Wild Trees: A Story of Passion and Daring</td><td>4.14</td></tr><tr><td>Random House (Vintage)</td><td>Balzac And The Little Chinese Seamstress</td><td>3.64</td></tr><tr><td>Random House Anchor</td><td>Morality for Beautiful Girls (No. 1 Ladies' Detective Agency #3)</td><td>3.98</td></tr><tr><td>Random House Audio</td><td>Waterworks</td><td>4.50</td></tr><tr><td>Random House Audio Publishing Group</td><td>You're Good Enough  You're Smart Enough  & Doggone It  People Like You!</td><td>4.32</td></tr><tr><td>Random House Books for Young Readers</td><td>Tsunamis and Other Natural Disasters (Magic Tree House Research Guide  #15)</td><td>4.35</td></tr><tr><td>Random House Children's Books</td><td>Jurassic Park Institute Dinosaur Field Guide</td><td>4.16</td></tr><tr><td>Random House Inc.</td><td>The Next Whole Earth Catalog: Access to Tools</td><td>4.45</td></tr><tr><td>Random House Large Print</td><td>The Lost Painting</td><td>3.84</td></tr><tr><td>Random House Large Print Publishing</td><td>Memoirs of a Geisha</td><td>4.11</td></tr><tr><td>Random House Mondadori</td><td>La venganza de Opal (Artemis Fowl  #4)</td><td>4.05</td></tr><tr><td>Random House Para Ninos</td><td>Ve  perro ¡Ve!</td><td>4.09</td></tr><tr><td>Random House Puzzles & Games</td><td>Random House Crossword Mega Omnibus  Volume 1</td><td>0.00</td></tr><tr><td>Random House Reference Publishing</td><td>Spunk & Bite: A Writer's Guide to Punchier  More Engaging Language & Style</td><td>3.90</td></tr><tr><td>Random House Trade</td><td>The Truth about the Drug Companies: How They Deceive Us and What to Do about It</td><td>4.21</td></tr><tr><td>Random House Trade Paperbacks</td><td>When Genius Failed: The Rise and Fall of Long-Term Capital Management</td><td>4.30</td></tr><tr><td>Random House UK Distribution</td><td>A Dubious Codicil</td><td>3.25</td></tr><tr><td>Random House UK Ltd (A Division of Random House Group)</td><td>Falconer</td><td>3.66</td></tr><tr><td>Random House Value Publishing</td><td>Unearthly Neighbors</td><td>4.34</td></tr><tr><td>Random House Value Publishing/TheViking Press</td><td>The Portable James Joyce</td><td>4.17</td></tr><tr><td>Random House Vintage</td><td>Geek Love</td><td>3.97</td></tr><tr><td>Random House Vintage Books</td><td>Wilderness: The Lost Writings  Vol. 1</td><td>3.96</td></tr><tr><td>Random House for Young Readers</td><td>Grandma Baa (Easy Peasy People)</td><td>4.67</td></tr><tr><td>Random House: Modern Library</td><td>The Picture of Dorian Gray</td><td>4.08</td></tr><tr><td>Random house</td><td>Comfort Me With Apples</td><td>4.04</td></tr><tr><td>Ravensburger Buchverlag</td><td>Underdog (Wolfe Brothers  #1)</td><td>3.38</td></tr><tr><td>Rayo</td><td>Ya Sé Que Te Quiero</td><td>4.19</td></tr><tr><td>Razorbill</td><td>So Yesterday</td><td>3.58</td></tr><tr><td>Rba Libros</td><td>Una breve historia de casi todo</td><td>4.21</td></tr><tr><td>Re/Search Publications</td><td>William S. Burroughs  Throbbing Gristle  Brion Gysin</td><td>4.26</td></tr><tr><td>Reader's Digest Association</td><td>A Reader's Digest Songbook: Remembering Yesterday's Hits</td><td>4.38</td></tr><tr><td>Readers Digest</td><td>Complete Guide to the Bible</td><td>4.58</td></tr><tr><td>Readers Digest.</td><td>New Complete Guide to Sewing</td><td>4.23</td></tr><tr><td>Reaktion Books</td><td>Photos of the Gods: The Printed Image and Political Struggle in India</td><td>3.96</td></tr><tr><td>Rebel Press</td><td>Leaving the 20th Century: The Incomplete Work of the Situationist International</td><td>4.10</td></tr><tr><td>Reclam</td><td>Zur Genealogie der Moral</td><td>4.11</td></tr><tr><td>Reclam  Ditzingen</td><td>Jacques der Fatalist und sein Herr</td><td>3.84</td></tr><tr><td>Reclam  Leipzig</td><td>Also sprach Zarathustra: Ein Buch für Alle und Keinen.</td><td>4.06</td></tr><tr><td>Record</td><td>Relato de Um Náufrago</td><td>3.78</td></tr><tr><td>Recorded Books</td><td>The Glass Castle</td><td>4.27</td></tr><tr><td>Recorded Books  Inc.</td><td>The Richest Man in Babylon</td><td>4.53</td></tr><tr><td>Red Dress Ink</td><td>Slightly Settled (Slightly  #2)</td><td>3.68</td></tr><tr><td>Red Fox</td><td>The Spook's Apprentice (The Last Apprentice / Wardstone Chronicles  #1)</td><td>4.12</td></tr><tr><td>Red Hen Pr</td><td>To America with Love: Letters from the Underground</td><td>3.96</td></tr><tr><td>Redleaf Press</td><td>Lessons from Turtle Island: Native Curriculum in Early Childhood Classrooms</td><td>4.35</td></tr><tr><td>Regal Books</td><td>Let Justice Roll Down</td><td>4.35</td></tr><tr><td>Regan Books</td><td>Mirror Mirror</td><td>3.28</td></tr><tr><td>ReganBooks</td><td>The Physics of Star Trek</td><td>3.83</td></tr><tr><td>Regnery History</td><td>George Washington and Benedict Arnold: A Tale of Two Patriots</td><td>4.27</td></tr><tr><td>Regnery Publishing</td><td>The Real Jimmy Carter: How Our Worst Ex-President Undermines American Foreign Policy  Coddles Dictators and Created the Party of Clinton and Kerry</td><td>4.13</td></tr><tr><td>Renaissance Books</td><td>The Stephen King Universe: A Guide to the Worlds of the King of Horror</td><td>4.15</td></tr><tr><td>Replica Books</td><td>Resurrection</td><td>4.13</td></tr><tr><td>Revive Publishing</td><td>Desire and Duty: A Sequel to Jane Austen's Pride and Prejudice</td><td>2.86</td></tr><tr><td>Rick Steves</td><td>Road Trip USA: Cross-Country Adventures on America's Two-Lane Highways</td><td>4.24</td></tr><tr><td>Rider</td><td>Man's Search for Meaning</td><td>4.36</td></tr><tr><td>Rivages</td><td>Moo</td><td>3.46</td></tr><tr><td>River City Publishing</td><td>Speaks the Nightbird (Matthew Corbett  #1)</td><td>4.13</td></tr><tr><td>Riverhead Books</td><td>The Zanzibar Chest</td><td>4.28</td></tr><tr><td>Riverhead Hardcover</td><td>The Art of Happiness</td><td>4.16</td></tr><tr><td>Riverrun Press (New York  NY)</td><td>Collected Plays: Henry IV  The Man with the Flower in His Mouth  Right You Are</td><td>3.92</td></tr><tr><td>Rizzoli</td><td>Visions of Heaven and Hell</td><td>4.47</td></tr><tr><td>Rizzoli International Publications</td><td>Romanee Conti: The World's Most Fabled Wine</td><td>4.17</td></tr><tr><td>Roaring Brook Press</td><td>Side Effects</td><td>3.87</td></tr><tr><td>Robert Laffont</td><td>Le Sens du vent</td><td>4.20</td></tr><tr><td>Robert Rose</td><td>The Spice and Herb Bible</td><td>4.25</td></tr><tr><td>Roberts Rinehart Publishers</td><td>Navajo Long Walk</td><td>3.45</td></tr><tr><td>Robson Books  London</td><td>Mammoth Book Of Lesbian Short Stories (Mammoth Books)</td><td>3.65</td></tr><tr><td>Roc</td><td>Thin Air (Weather Warden  #6)</td><td>4.43</td></tr><tr><td>Roc Hardcover</td><td>The River's Gift</td><td>3.90</td></tr><tr><td>Roc Trade</td><td>Bored of the Rings: A Parody of J.R.R. Tolkien's Lord of the Rings</td><td>3.13</td></tr><tr><td>Roca Editorial</td><td>Noches de tormenta</td><td>4.15</td></tr><tr><td>Rockport Publishers</td><td>LOGO Lounge: 2 000 International Identities by Leading Designers</td><td>3.93</td></tr><tr><td>Rodale Books</td><td>The South Beach Diet: The Delicious  Doctor-Designed  Foolproof Plan for Fast and Healthy Weight Loss</td><td>3.98</td></tr><tr><td>Ronin Publishing (CA)</td><td>The Illuminati Papers</td><td>3.83</td></tr><tr><td>Rosenberg Publishing</td><td>A Cargo of Women: Susannah Watson and the Convicts of the Princess Royal</td><td>3.58</td></tr><tr><td>Rough Guides</td><td>The Rough Guide to Vietnam</td><td>3.93</td></tr><tr><td>Routledge</td><td>World War II: A Short History</td><td>4.37</td></tr><tr><td>Routledge Classics</td><td>Tractatus Logico-Philosophicus</td><td>4.07</td></tr><tr><td>Routledge Falmer</td><td>On Democracy & Education (Social Theory  Education & Cultural Change)</td><td>3.96</td></tr><tr><td>Routledge Taylor & Francis Books Ltd imprint</td><td>Man for Himself: An Inquiry into the Psychology of Ethics</td><td>4.17</td></tr><tr><td>Routledge/Taylor & Francis Ltd.</td><td>The Franco-Prussian War</td><td>4.09</td></tr><tr><td>Rowman & Littlefield Publishers</td><td>The Adventures of Baron Munchausen: The Illustrated Screenplay</td><td>4.00</td></tr><tr><td>Rowohlt</td><td>V.</td><td>3.96</td></tr><tr><td>Rowohlt Taschenbuch Verlag GmbH</td><td>Konfetti Ungemütliches + Ungezogenes</td><td>3.59</td></tr><tr><td>Rowohlt Tb</td><td>Wie ich eines schönen Morgens im April das 100%ige Mädchen sah</td><td>3.80</td></tr><tr><td>Rowohlt Tb.</td><td>Die Mandarins von Paris</td><td>4.14</td></tr><tr><td>Rowohlt Verlag</td><td>PanAroma: Jitterbug Perfume</td><td>4.25</td></tr><tr><td>Roxford Books</td><td>Birth Of A Tragedy: Kashmir 1947</td><td>4.00</td></tr><tr><td>Rufus Publications</td><td>The Sawtooth Wolves</td><td>4.58</td></tr><tr><td>Running Press</td><td>World War 3 Illustrated: Confrontational Comics</td><td>4.21</td></tr><tr><td>Running Press Adult</td><td>The New American Splendor Anthology: From Off the Streets of Cleveland</td><td>4.21</td></tr><tr><td>Running Press Book Publishers</td><td>The Zen Gardening Kit/Book and Japanese Rock Garden</td><td>4.07</td></tr><tr><td>Running Press Kids</td><td>Charles Dickens' A Christmas Carol</td><td>4.10</td></tr><tr><td>Rupa & Co</td><td>The Prophet</td><td>4.23</td></tr><tr><td>Russell Enterprises</td><td>Tal-Botvinnik 1960</td><td>4.55</td></tr><tr><td>Rutgers University Press</td><td>The Story of Avis</td><td>4.02</td></tr><tr><td>Rux Martin/Houghton Mifflin Harcourt</td><td>Beat That! Cookbook</td><td>4.31</td></tr><tr><td>Ryland Peters & Small</td><td>Risotto: 30 Simply Delicious Vegetarian Recipes from an Italian Kitchen</td><td>4.08</td></tr><tr><td>SCM Press</td><td>The Poet  the Warrior  the Prophet</td><td>4.43</td></tr><tr><td>Saddleback Educational Publishing  Inc.</td><td>A Long Way from Chicago (Saddleback's Focus on Reading Study Guides)</td><td>4.00</td></tr><tr><td>Sage Publications  Inc</td><td>The Politics of Injustice: Crime and Punishment in America</td><td>3.87</td></tr><tr><td>Sage Publications Ltd</td><td>The Consumer Society: Myths and Structures</td><td>4.11</td></tr><tr><td>Sagebrush</td><td>Theater Shoes</td><td>4.02</td></tr><tr><td>Salamandra</td><td>Jonathan Strange y el señor Norrell</td><td>4.57</td></tr><tr><td>Salani</td><td>L'albero</td><td>4.37</td></tr><tr><td>Salem Press Inc</td><td>American Film Guide</td><td>0.00</td></tr><tr><td>SaltRiver</td><td>Looking for God in Harry Potter</td><td>4.13</td></tr><tr><td>Samhain Publishing</td><td>Naughty Little Secret</td><td>3.73</td></tr><tr><td>Sams</td><td>Programming in C</td><td>3.96</td></tr><tr><td>Samuel French  Inc.</td><td>The Phantom Tollbooth: A Children's Play in Two Acts</td><td>4.13</td></tr><tr><td>Samuel French Ltd</td><td>The Unexpected Guest: A Play In Two Acts</td><td>4.09</td></tr><tr><td>San Val</td><td>The Thief (The Queen's Thief  #1)</td><td>3.88</td></tr><tr><td>Santillana USA Publishing Company</td><td>Los diarios de Nanny</td><td>4.29</td></tr><tr><td>Sarah Crichton Books</td><td>A Long Way Gone: Memoirs of a Boy Soldier</td><td>4.16</td></tr><tr><td>Sasquatch Books</td><td>One Hundred Demons</td><td>4.16</td></tr><tr><td>Saunders</td><td>Robbins and Cotran Review of Pathology</td><td>4.33</td></tr><tr><td>Sceptre</td><td>How the Irish Saved Civilization</td><td>4.02</td></tr><tr><td>Schirmer Mosel</td><td>Willem de Kooning: Late Paintings</td><td>5.00</td></tr><tr><td>Schirmer/Mosel</td><td>Libraries</td><td>4.28</td></tr><tr><td>Schocken</td><td>The Zürau Aphorisms</td><td>4.35</td></tr><tr><td>Schocken Books</td><td>The Trial</td><td>4.35</td></tr><tr><td>Schocken Books Inc</td><td>The Forgotten</td><td>3.94</td></tr><tr><td>Scholastic</td><td>The Zucchini Warriors (Macdonald Hall  #5)</td><td>4.78</td></tr><tr><td>Scholastic  Inc.</td><td>These Happy Golden Years (Little House  #8)</td><td>4.19</td></tr><tr><td>Scholastic Audio Books</td><td>There Was a Cold Lady Who Swallowed Some Snow!</td><td>3.85</td></tr><tr><td>Scholastic Books</td><td>The Rescue (Kidnapped  #3)</td><td>4.11</td></tr><tr><td>Scholastic Inc</td><td>No More Dead Dogs</td><td>3.71</td></tr><tr><td>Scholastic Inc.</td><td>The Wish List</td><td>4.57</td></tr><tr><td>Scholastic Nonfiction</td><td>Built To Last: Building America's Amazing Bridges  Dams  Tunnels  and Skyscrapers (Built to Last)</td><td>4.12</td></tr><tr><td>Scholastic Paperbacks</td><td>Your Best Friend's Boyfriend (Follow Your Heart  #1)</td><td>4.43</td></tr><tr><td>Scholastic Press</td><td>Walt Whitman: Words for America</td><td>4.30</td></tr><tr><td>Scholastic Reference</td><td>A Reading Guide to Island of the Blue Dolphins</td><td>3.89</td></tr><tr><td>School Specialty Publishing</td><td>Explode the Code 1</td><td>4.37</td></tr><tr><td>Schwartz & Wade Books</td><td>Toys Go Out: Being the Adventures of a Knowledgeable Stingray  a Toughy Little Buffalo  and Someone Called Plastic (Toys #1)</td><td>3.94</td></tr><tr><td>Science Fiction Book Club</td><td>Rincewind the Wizzard</td><td>4.21</td></tr><tr><td>Scribner</td><td>Wrapped in Rainbows: The Life of Zora Neale Hurston</td><td>4.35</td></tr><tr><td>Scribner Book Company</td><td>True Evil</td><td>4.09</td></tr><tr><td>Scribner Classics</td><td>The Short Stories of Ernest Hemingway</td><td>4.26</td></tr><tr><td>Seal</td><td>Lord John and the Private Matter (Lord John Grey  #1)</td><td>3.70</td></tr><tr><td>Seal Books</td><td>Pat of Silver Bush (Pat  #1)</td><td>3.93</td></tr><tr><td>Seal Press</td><td>Homelands: Women’s Journeys Across Race  Place  and Time</td><td>4.43</td></tr><tr><td>Secker</td><td>Birds Without Wings</td><td>4.16</td></tr><tr><td>Secker and Warburg</td><td>The Van</td><td>3.94</td></tr><tr><td>See Sharp Press</td><td>The Jungle</td><td>3.74</td></tr><tr><td>Seix Barral</td><td>La Tía Julia y el Escribidor</td><td>4.05</td></tr><tr><td>Self-Realization Fellowship Publishers</td><td>La Ley del Exito</td><td>4.44</td></tr><tr><td>Semiotext(e)</td><td>Burroughs Live: The Collected Interviews  1960-1997</td><td>4.36</td></tr><tr><td>Sensory Resources</td><td>Answers to Questions Teachers Ask about Sensory Integration: Forms  Checklists  and Practical Tools for Teachers and Parents</td><td>4.11</td></tr><tr><td>Sentient Publications</td><td>Cleansing the Doors of Perception: The Religious Significance of Entheogenic Plants and Chemicals</td><td>4.01</td></tr><tr><td>Serpent's Tail</td><td>To the Friend who Didn't Save my Life</td><td>3.98</td></tr><tr><td>Serpents Tail</td><td>Before Night Falls</td><td>4.17</td></tr><tr><td>Servant Publications</td><td>Restless Till We Rest in You: 60 Reflections from the Writings of St. Augustine (Saints Speak Today)</td><td>4.67</td></tr><tr><td>Seuil</td><td>Trainspotting</td><td>4.09</td></tr><tr><td>Seven Stories Press</td><td>The Umbrella of US Power: The Universal Declaration of Human Rights & the Contradictions of US Policy</td><td>4.03</td></tr><tr><td>Severn House</td><td>Being a Green Mother (Incarnations of Immortality  #5)</td><td>3.96</td></tr><tr><td>Severn House Publishers</td><td>Touchy and Feely (Sissy Sawyer  #1)</td><td>4.07</td></tr><tr><td>Shadow Mountain</td><td>Stone Tables</td><td>4.10</td></tr><tr><td>Shambhala</td><td>The Wave in the Mind: Talks and Essays on the Writer  the Reader and the Imagination</td><td>4.61</td></tr><tr><td>Shambhala Publications</td><td>Writing Down the Bones: Freeing the Writer Within</td><td>4.19</td></tr><tr><td>Shaw</td><td>A Full House: An Austin Family Christmas (Austin Family  #5.6)</td><td>3.98</td></tr><tr><td>Shaw Books</td><td>The Rock That Is Higher: Story as Truth</td><td>4.12</td></tr><tr><td>Shaye Areheart Books</td><td>Sliver of Truth (Ridley Jones #2)</td><td>3.68</td></tr><tr><td>Shepard Publications</td><td>The Atlantis Dialogue</td><td>3.77</td></tr><tr><td>Sholom Aleichem Family Publications</td><td>Tevye's Daughters: Collected Stories of Sholom Aleichem</td><td>4.17</td></tr><tr><td>Shueisha</td><td>Death Note  Vol. 4: 恋心 (Death Note  #4)</td><td>4.43</td></tr><tr><td>Sidgwick & Jackson Ltd</td><td>A Gift Of Wings</td><td>3.79</td></tr><tr><td>Sidran Press</td><td>Unspeakable Truths and Happy Endings: Human Cruelty and the New Trauma Therapy</td><td>4.25</td></tr><tr><td>Sierra Club Books</td><td>My Story as told by Water: Confessions  Druidic Rants  Reflections  Bird-watchings  Fish-stalkings  Visions  Songs and Prayers Refracting Light  from Living Rivers  in the Age of the Industrial Dark</td><td>4.10</td></tr><tr><td>Siete Cuentos</td><td>11 de Septiembre</td><td>3.73</td></tr><tr><td>Signet</td><td>What Angels Fear (Sebastian St. Cyr  #1)</td><td>4.46</td></tr><tr><td>Signet Book</td><td>The Waste Lands (The Dark Tower #3)</td><td>4.25</td></tr><tr><td>Signet Books (NY)</td><td>The Oedipus Plays of Sophocles</td><td>3.97</td></tr><tr><td>Signet Classic</td><td>Much Ado About Nothing</td><td>4.07</td></tr><tr><td>Signet Classics</td><td>Wuthering Heights</td><td>4.32</td></tr><tr><td>Silhouette</td><td>Time and Again: Time Was / Times Change</td><td>4.25</td></tr><tr><td>Silhouette Bombshell</td><td>Double-Cross (Athena Force #4)</td><td>3.72</td></tr><tr><td>Silhouette Books</td><td>Wild Fire (The Hot Zone  #3)</td><td>3.86</td></tr><tr><td>Silhouette Desire</td><td>The Accidental Bodyguard (Accidental  #2)</td><td>4.12</td></tr><tr><td>Silhouette Romance</td><td>The Princess Bride (Long  Tall Texans  #15)</td><td>3.89</td></tr><tr><td>Silhouette Special Edition</td><td>The Sheik & the Princess Bride (Desert Rogues  #8)</td><td>3.97</td></tr><tr><td>Siloam</td><td>The Bible Cure For Diabetes</td><td>3.84</td></tr><tr><td>Simon  Schuster</td><td>Will You Miss Me When I'm Gone? The Carter Family and Their Legacy in American Music</td><td>4.38</td></tr><tr><td>Simon  Schuster Audio</td><td>The Sun Also Rises</td><td>4.08</td></tr><tr><td>Simon  Schuster Books for Young Readers</td><td>Who Wants a Cheap Rhinoceros?</td><td>4.20</td></tr><tr><td>Simon  Schuster/Paula Wiseman Books</td><td>Michael's Golden Rules</td><td>4.02</td></tr><tr><td>Simon & Schuster</td><td>Veil: The Secret Wars of the CIA 1981-1987</td><td>4.49</td></tr><tr><td>Simon & Schuster (Trade Division)</td><td>Run (Fearless  #3)</td><td>3.93</td></tr><tr><td>Simon & Schuster Adult Publishing Group</td><td>Nighttime Is My Time</td><td>3.82</td></tr><tr><td>Simon & Schuster Aladddin Paperbacks</td><td>Dragondrums (Harper Hall  #3)</td><td>4.07</td></tr><tr><td>Simon & Schuster Audio</td><td>The Unfortunate Tobacconist & Other Mysteries (Sherlock Holmes 1-6)</td><td>4.22</td></tr><tr><td>Simon & Schuster Books for Young Readers</td><td>The Au Pairs (The Au Pairs #1)</td><td>4.30</td></tr><tr><td>Simon & Schuster Children's Publishing</td><td>The Glorious Impossible</td><td>4.25</td></tr><tr><td>Simon & Schuster Childrens Books</td><td>Twisted (Fearless  #4)</td><td>4.20</td></tr><tr><td>Simon & Schuster Libros en Español</td><td>Misery</td><td>4.16</td></tr><tr><td>Simon & Schuster Paperbacks</td><td>John Adams</td><td>4.06</td></tr><tr><td>Simon & Schuster Simon Pulse</td><td>Pretties (Uglies  #2)</td><td>3.85</td></tr><tr><td>Simon & Schuster; Media Tie-In edition</td><td>Band of Brothers: E Company  506th Regiment  101st Airborne from Normandy to Hitler's Eagle's Nest</td><td>4.43</td></tr><tr><td>Simon Publications</td><td>The Road Back</td><td>4.32</td></tr><tr><td>Simon Pulse</td><td>Z for Zachariah</td><td>4.32</td></tr><tr><td>Simon Schuster</td><td>Twelfth Night</td><td>3.98</td></tr><tr><td>Simon and Schuster</td><td>The Night Awakens: A Mystery Writers of America Anthology</td><td>4.26</td></tr><tr><td>Simple Productions</td><td>Mahatma Gandhi and His Myths: Civil Disobedience  Nonviolence  and Satyagraha in the Real World (Plus Why It's Gandhi  Not Ghandi)</td><td>3.62</td></tr><tr><td>Sinauer Associates</td><td>Essentials of Conservation Biology</td><td>3.92</td></tr><tr><td>Skinner House Books</td><td>True Harvest: Readings From Henry David Thoreau For Every Day Of The Year</td><td>4.75</td></tr><tr><td>Sky Books (NY)</td><td>Pyramids of Montauk: Explorations in Consciousness</td><td>3.89</td></tr><tr><td>Skylight Paths Publishing</td><td>How to Be a Perfect Stranger: The Essential Religious Etiquette Handbook</td><td>3.95</td></tr><tr><td>Sleeping Bear Press</td><td>O Is for Old Dominion: A Virginia Alphabet</td><td>4.00</td></tr><tr><td>Small Beer Press</td><td>Perfect Circle</td><td>3.80</td></tr><tr><td>Smart Pop</td><td>The Anthology at the End of the Universe: Leading Science Fiction Authors on Douglas Adams' The Hitchhiker's Guide to the Galaxy</td><td>3.86</td></tr><tr><td>Smithmark Publishers</td><td>Three Complete Novels: Postmortem / Body Of Evidence / All That Remains (Kay Scarpetta  #1  #2  #3)</td><td>4.29</td></tr><tr><td>Smithsonian Books</td><td>Juan Rulfo's Mexico</td><td>4.47</td></tr><tr><td>Soft Skull Press</td><td>The Good Fairies of New York</td><td>3.92</td></tr><tr><td>Soho Crime</td><td>White Sky  Black Ice (Nathan Active Mystery  #1)</td><td>3.77</td></tr><tr><td>Soho Press</td><td>The Rattle-Rat</td><td>3.97</td></tr><tr><td>Sophia Institute Press</td><td>Aquinas's Shorter Summa: Saint Thomas's Own Concise Version of His Summa Theologica</td><td>4.14</td></tr><tr><td>Soundings</td><td>The Visitor (Jack Reacher  #4)</td><td>4.09</td></tr><tr><td>Sounds True</td><td>Mindfulness for Beginners</td><td>3.82</td></tr><tr><td>Sourcebooks</td><td>Steppenwolf Theatre Company : Twenty-Five Years of an Actor's Theater</td><td>4.25</td></tr><tr><td>South End Press</td><td>Outsiders Within: Writing on Transracial Adoption</td><td>4.17</td></tr><tr><td>South End Press (Boston)</td><td>To Win a Nuclear War: The Pentagon's Secret War Plans</td><td>3.94</td></tr><tr><td>Southern Methodist University Press</td><td>From a Limestone Ledge: Some Essays and Other Ruminations about Country Life in Texas</td><td>4.31</td></tr><tr><td>Souvenir Press</td><td>Zero: The Biography of a Dangerous Idea</td><td>4.31</td></tr><tr><td>Sovereign World</td><td>There's Always Enough: The Miraculous Move of God in Mozambique</td><td>4.46</td></tr><tr><td>Spark Publishing</td><td>A Tale of Two Cities: Charles Dickens</td><td>4.00</td></tr><tr><td>SparkNotes</td><td>The Iliad (SparkNotes Literature Guides)</td><td>4.13</td></tr><tr><td>Speak</td><td>Westminster Abby</td><td>4.03</td></tr><tr><td>Specialty Press</td><td>Sukhoi Su-27 Flanker (WarbirdTech  #42)</td><td>3.00</td></tr><tr><td>Spectra</td><td>Uncharted Territory</td><td>4.19</td></tr><tr><td>Spectra Books</td><td>The Martians (Mars Trilogy  #3.5)</td><td>4.22</td></tr><tr><td>Spectra/Bantam Books (NYC)</td><td>Feersum Endjinn</td><td>3.82</td></tr><tr><td>Sphere</td><td>The Talbot Odyssey</td><td>3.85</td></tr><tr><td>Springer</td><td>The Future of the Universe</td><td>4.27</td></tr><tr><td>Square Fish</td><td>The High King (The Chronicles of Prydain  #5)</td><td>4.25</td></tr><tr><td>Square One Publishers</td><td>The Diamond Color Meditation: Color Pathway to the Soul</td><td>5.00</td></tr><tr><td>St. Augustines Press</td><td>Enthusiasm and Divine Madness</td><td>4.50</td></tr><tr><td>St. Martin's</td><td>Deadly Love (Francesca Cahill Deadly  #1)</td><td>3.96</td></tr><tr><td>St. Martin's Griffin</td><td>Where the Mountain Casts Its Shadow: The Dark Side of Extreme Adventure</td><td>4.41</td></tr><tr><td>St. Martin's Minotaur</td><td>Choke Point: A Brinker Mystery (Brinker P.I.)</td><td>3.22</td></tr><tr><td>St. Martin's Paperback</td><td>Minion (Vampire Huntress  #1)</td><td>3.44</td></tr><tr><td>St. Martin's Paperbacks</td><td>Wings of Fire (Inspector Ian Rutledge  #2)</td><td>4.42</td></tr><tr><td>St. Martin's Press</td><td>Two for the Dough (Stephanie Plum  #2)</td><td>4.70</td></tr><tr><td>St. Martin's True Crime</td><td>What the Corpse Revealed</td><td>3.79</td></tr><tr><td>St. Martins Press</td><td>The Interpreter</td><td>4.12</td></tr><tr><td>St. Martins Press-3PL</td><td>Vita</td><td>4.41</td></tr><tr><td>Stackpole Books</td><td>Blood Stripes: The Grunt's View of the War in Iraq</td><td>3.91</td></tr><tr><td>Stanford University Press</td><td>Unpublished Writings from the Period of Unfashionable Observations (Complete Works 11)</td><td>4.06</td></tr><tr><td>Stanford University Press (Stanford  CA)</td><td>Human  All Too Human (Complete Works 3)</td><td>4.21</td></tr><tr><td>Star Trek</td><td>The Black Road (Diablo #2)</td><td>3.69</td></tr><tr><td>Starcatcher Press</td><td>Drat! We're Rats! (Scrambled Legs  #1)</td><td>3.69</td></tr><tr><td>Starfire</td><td>The Complete Anne of Green Gables Boxed Set (Anne of Green Gables  #1-8)</td><td>4.43</td></tr><tr><td>Starscape</td><td>New Threads in the Pattern: The Great Hunt  Part 2 (Wheel of Time  #2-2)</td><td>4.31</td></tr><tr><td>State University of New York Press</td><td>Experimental Phenomenology: An Introduction</td><td>3.73</td></tr><tr><td>Steerforth</td><td>Under the Red Flag</td><td>3.88</td></tr><tr><td>Steerforth Press</td><td>The Unknown Sigrid Undset: Jenny and Other Works</td><td>4.19</td></tr><tr><td>Steidl</td><td>Early Color</td><td>4.73</td></tr><tr><td>Stenhouse Publishers</td><td>A Note Slipped Under the Door: Teaching from Poems We Love</td><td>4.12</td></tr><tr><td>Sterling</td><td>White Fang</td><td>4.33</td></tr><tr><td>Sterling Children's Books</td><td>Treasure Island</td><td>3.83</td></tr><tr><td>Sterling Publishing Co.  Inc.</td><td>The Three Musketeers (Classic Starts)</td><td>4.12</td></tr><tr><td>Stewart  Tabori and Chang</td><td>Things to Bring  S#!t to Do: And Other Inventories of Anxiety: My Life in Lists</td><td>3.67</td></tr><tr><td>Sticker Design (DC Comics)</td><td>JLA: Tierra 2</td><td>3.97</td></tr><tr><td>Stone Bridge Press</td><td>The Anime Encyclopedia: A Guide to Japanese Animation Since 1917</td><td>4.04</td></tr><tr><td>Stonewall Inn Editions</td><td>And the Band Played On: Politics  People  and the AIDS Epidemic</td><td>4.37</td></tr><tr><td>Storey Publishing  LLC</td><td>Maple Syrup Cookbook: Over 100 Recipes For Breakfast  Lunch & Dinner</td><td>3.81</td></tr><tr><td>Subterranean Press</td><td>Shadow Twin</td><td>3.67</td></tr><tr><td>Sudamericana</td><td>La casa de los espíritus</td><td>4.23</td></tr><tr><td>Suhrkamp</td><td>Schiffbruch mit Zuschauer. Paradigma einer Daseinsmetapher</td><td>4.33</td></tr><tr><td>Suma</td><td>La tía Julia y el escribidor</td><td>3.92</td></tr><tr><td>Suma de Letras Brasileiras</td><td>O Historiador</td><td>3.78</td></tr><tr><td>Sumach Press</td><td>Margaret Atwood's Power: Mirrors  Reflections and Images in Select Fiction and Poetry</td><td>3.43</td></tr><tr><td>Summit University Press</td><td>Soul Mates & Twin Flames: The Spiritual Dimension of Love & Relationships (Pocket Guide to Practical Spirituality)</td><td>4.21</td></tr><tr><td>Sun & Moon Press</td><td>Victoria</td><td>3.74</td></tr><tr><td>Sun and Moon Press</td><td>The Locked Room (The New York Trilogy  #3)</td><td>3.91</td></tr><tr><td>Sunburst</td><td>Everything on a Waffle (Coal Harbour #1)</td><td>3.72</td></tr><tr><td>Sunstone Press</td><td>Corroborating Evidence: The Black Dahlia Murder</td><td>3.39</td></tr><tr><td>Sutton</td><td>The Death and Life of Sylvia Plath</td><td>3.67</td></tr><tr><td>Sutton Publishing</td><td>Boudicca: The Warrior Queen</td><td>3.57</td></tr><tr><td>Swallow Press</td><td>House of Incest</td><td>3.80</td></tr><tr><td>Sweet Valley</td><td>The Wakefields of Sweet Valley (Sweet Valley High Magna Editions #1)</td><td>3.94</td></tr><tr><td>T&T Clark Int'l</td><td>Colossians and Philemon: A Critical and Exegetical Commentary (International Critical Commentary)</td><td>5.00</td></tr><tr><td>TEA</td><td>La regina dei dannati</td><td>3.89</td></tr><tr><td>TIme Warner Books</td><td>Pop Goes the Weasel (Alex Cross  #5)</td><td>4.00</td></tr><tr><td>TSR</td><td>Scholar of Decay (Ravenloft  #14)</td><td>3.54</td></tr><tr><td>TSR Inc.</td><td>Sword and Shield</td><td>4.00</td></tr><tr><td>TSR Inc./Wizards of the Coast</td><td>The Dragons at War (Dragonlance Dragons  #2)</td><td>4.02</td></tr><tr><td>Tachyon Publications</td><td>The Line Between</td><td>4.21</td></tr><tr><td>Tanglewood</td><td>The Kissing Hand</td><td>4.43</td></tr><tr><td>Tantor Media</td><td>The Warlord of Mars (Barsoom  #3)</td><td>3.86</td></tr><tr><td>Taplinger Publ. Company</td><td>The Bram Stoker Bedside Companion: 10 Stories by the Author of Dracula</td><td>3.44</td></tr><tr><td>Taplinger Publishing</td><td>Silence</td><td>4.08</td></tr><tr><td>Tarcher</td><td>The Age of Access: The New Culture of Hypercapitalism  Where All of Life Is a Paid-For Experience</td><td>3.82</td></tr><tr><td>TarcherPerigee</td><td>The Search for the Beloved: Journeys in Mythology and Sacred Psychology (Inner Workbook)</td><td>4.22</td></tr><tr><td>Tarcherperigee</td><td>What Do Women Want?: Essays by Erica Jong</td><td>4.18</td></tr><tr><td>Taschen</td><td>Richard Kern  Action</td><td>4.26</td></tr><tr><td>Taunton Press</td><td>Not So Big House</td><td>4.67</td></tr><tr><td>Tauris Parke Paperbacks</td><td>Mary  Queen of Scots: Pride  Passion and a Kingdom Lost</td><td>3.72</td></tr><tr><td>Taylor Productions Ltd</td><td>All-of-a-Kind Family Uptown (All-of-a-Kind-Family  #4)</td><td>4.28</td></tr><tr><td>Teacher Created Resources</td><td>Hatchet: A Guide for Using Hatchet in the Classroom</td><td>4.00</td></tr><tr><td>Teacher's Pet Publications</td><td>Stargirl LitPlans on CD</td><td>4.86</td></tr><tr><td>Teacher's Pet Publications  Inc.</td><td>Puzzle Pack: The Witch of Blackbird Pond</td><td>1.00</td></tr><tr><td>Teachers College Press</td><td>The Facilitator's Book of Questions: Tools for Looking Together at Student and Teacher Work</td><td>4.00</td></tr><tr><td>Teaching Resources</td><td>Scholastic Success with 4th Grade Workbook</td><td>5.00</td></tr><tr><td>Temenos Press</td><td>Floor Games (Sandplay Classics)</td><td>3.40</td></tr><tr><td>Ten Speed Press</td><td>What Color Is Your Parachute? A Practical Manual for Job-Hunters and Career-Changers</td><td>4.28</td></tr><tr><td>Texas A&M University Press</td><td>The American Campaign: U.S. Presidential Campaigns and the National Vote</td><td>5.00</td></tr><tr><td>Th1nk Books</td><td>Bright Purple: Color Me Confused (TrueColors  #10)</td><td>3.49</td></tr><tr><td>Thames  Hudson</td><td>The Rainbow Goblins</td><td>4.42</td></tr><tr><td>Thames & Hudson</td><td>The Complete World of Greek Mythology</td><td>4.24</td></tr><tr><td>Thames & Hudson Ltd</td><td>Mark Rothko  1903 1970</td><td>4.04</td></tr><tr><td>That Patchwork Place</td><td>Happy Endings: Finishing the Edges of Your Quilts</td><td>4.25</td></tr><tr><td>The Audio Partners</td><td>As You Like It</td><td>3.83</td></tr><tr><td>The Berkley Publishing Group</td><td>Shakespeare: The Invention of the Human</td><td>4.02</td></tr><tr><td>The Bodley Head Ltd</td><td>The Last Unicorn</td><td>4.17</td></tr><tr><td>The Chicken House</td><td>Inkspell (Inkworld  #2)</td><td>3.92</td></tr><tr><td>The Crossroad Publishing Company</td><td>Huxley and God: Essays on Religious Experience</td><td>4.30</td></tr><tr><td>The Disinformation Company (NYC)</td><td>Under the Influence: The Disinformation Guide to Drugs</td><td>3.64</td></tr><tr><td>The Guilford Press</td><td>The Nature of Play: Great Apes and Humans</td><td>4.33</td></tr><tr><td>The Harvill Press</td><td>The Bridge over the Drina</td><td>4.33</td></tr><tr><td>The Liffey Press</td><td>The Scandal of Ulysses: The Life And Afterlife of a Twentieth Century Masterpiece</td><td>3.82</td></tr><tr><td>The MIT Press</td><td>The Puppet and the Dwarf: The Perverse Core of Christianity</td><td>3.85</td></tr><tr><td>The Modern Library</td><td>Adventures of Huckleberry Finn</td><td>3.82</td></tr><tr><td>The Modern Library New York</td><td>The Guermantes Way (In Search of Lost Time  #3)</td><td>4.30</td></tr><tr><td>The Monacelli Press</td><td>New York 2000: Architecture and Urbanism Between the Bicentennial and the Millennium</td><td>4.44</td></tr><tr><td>The New Press</td><td>The War</td><td>4.17</td></tr><tr><td>The New York Review Children's Collection</td><td>An Episode of Sparrows</td><td>4.21</td></tr><tr><td>The Orion Publishing Group Ltd</td><td>The Glass Lake</td><td>3.93</td></tr><tr><td>The Overlook Press</td><td>Lord Emsworth and Others (Blandings Castle  #5.5)</td><td>4.27</td></tr><tr><td>The Putnam & Grosset Group</td><td>The Tomten</td><td>4.24</td></tr><tr><td>Theatre Communications Group</td><td>The Last Night of Ballyhoo</td><td>4.06</td></tr><tr><td>Thomas Dunne Books</td><td>Round Ireland with a Fridge</td><td>3.79</td></tr><tr><td>Thomas Nelson</td><td>Writings to Young Women on Laura Ingalls Wilder: As Told By Her Family  Friends  and Neighbors (Writings to Young Women on Laura Ingalls Wilder #3)</td><td>4.45</td></tr><tr><td>Thomas Nelson Publishers</td><td>The Guardian</td><td>3.72</td></tr><tr><td>Thomas Publications (PA)</td><td>Ghosts of Gettysburg III: Spirits  Apparitions  and Haunted Places of the Battlefield</td><td>4.03</td></tr><tr><td>Thomas Y. Crowell Company</td><td>Betsy and Tacy Go Downtown (Betsy-Tacy  #4)</td><td>4.21</td></tr><tr><td>Thorndike Press</td><td>Ready or Not (All-American Girl  #2)</td><td>3.96</td></tr><tr><td>Thorndike Press Large Print</td><td>The Lightning Thief (Percy Jackson and the Olympians  #1)</td><td>4.47</td></tr><tr><td>Three Rivers Press</td><td>Your First Year in Network Marketing: Overcome Your Fears  Experience Success  and Achieve Your Dreams!</td><td>4.21</td></tr><tr><td>Three Rivers Press (CA)</td><td>The Sweet Potato Queens' Big-Ass Cookbook (and Financial Planner)</td><td>4.09</td></tr><tr><td>Thunder's Mouth Press Books</td><td>Freaks of the Storm: From Flying Cows to Stealing Thunder: The World's Strangest True Weather Stories</td><td>3.17</td></tr><tr><td>Timber Press (OR)</td><td>A Book of Blue Flowers</td><td>3.83</td></tr><tr><td>Time Life Books</td><td>What Life Was Like on the Banks of the Nile: Egypt  3050-30 BC</td><td>4.00</td></tr><tr><td>Time Life Medical</td><td>What Life Was Like in the Time of War and Peace: Imperial Russia  AD 1696-1917 (What Life Was Like)</td><td>4.50</td></tr><tr><td>Time Warner Books UK</td><td>The Calvin And Hobbes:  Tenth Anniversary Book</td><td>4.63</td></tr><tr><td>Time Warner Paperbacks</td><td>The Waste Lands (The Dark Tower  #3)</td><td>4.24</td></tr><tr><td>Time-Life Books</td><td>Soups</td><td>3.88</td></tr><tr><td>Time-Life Books  Inc.</td><td>Master Index: An Illustrated Guide</td><td>3.56</td></tr><tr><td>Timeless Texts</td><td>Teach Them Diligently: How to Use the Scriptures in Child Training</td><td>4.25</td></tr><tr><td>Times Books</td><td>Warren G. Harding (The American Presidents  #29)</td><td>3.89</td></tr><tr><td>Tin House Books</td><td>Pictures Showing What Happens on Each Page of Thomas Pynchon's Novel Gravity's Rainbow</td><td>4.10</td></tr><tr><td>Tin House Magazine</td><td>Tin House: Evil (Volume 8 no. 3)</td><td>3.90</td></tr><tr><td>Tinder Press</td><td>Never Far From Nowhere</td><td>3.70</td></tr><tr><td>Titan</td><td>Ghost in the Shell</td><td>4.18</td></tr><tr><td>Titan Books</td><td>Death: The High Cost of Living</td><td>4.19</td></tr><tr><td>Titan Books Ltd</td><td>Planet of the Apes: The Human War</td><td>3.28</td></tr><tr><td>TokyoPop</td><td>Tramps Like Us  Volume 9</td><td>4.37</td></tr><tr><td>Tokyopop</td><td>RG Veda  Vol. 01</td><td>3.72</td></tr><tr><td>Tom Doherty Associates</td><td>The Sixth Book of Lost Swords: Mindsword's Story (Lost Swords  #6)</td><td>3.81</td></tr><tr><td>Tom Doherty Associates/Orb Books</td><td>The Collected Stories of Arthur C. Clarke</td><td>4.29</td></tr><tr><td>Tom Doherty Tor Fantasy</td><td>The Shadow Rising (The Wheel of Time  #4)</td><td>4.24</td></tr><tr><td>Tommy Nelson</td><td>Writings to Young Women from Laura Ingalls Wilder: On Wisdom and Virtues (Writings to Young Women on Laura Ingalls Wilder #1)</td><td>3.99</td></tr><tr><td>Top Shelf Productions</td><td>Carnet de Voyage</td><td>4.05</td></tr><tr><td>Topaz</td><td>Angel Christmas</td><td>3.49</td></tr><tr><td>Tor</td><td>The Callahan Chronicals (Callahan's #1-3)</td><td>4.36</td></tr><tr><td>Tor Books</td><td>Xenocide (Ender's Saga  #3)</td><td>4.49</td></tr><tr><td>Tor Classics</td><td>The Gate of Fire (Oath Of Empire Book Two)</td><td>4.14</td></tr><tr><td>Tor Fantasy</td><td>Yon Ill Wind (Xanth #20)</td><td>4.10</td></tr><tr><td>Tor Science Fiction</td><td>The Road to Dune</td><td>3.88</td></tr><tr><td>Totem Books</td><td>Turing and the Universal Machine: The Making of the Modern Computer</td><td>3.80</td></tr><tr><td>Touchstone</td><td>What Jane Austen Ate and Charles Dickens Knew: From Fox Hunting to Whist—the Facts of Daily Life in 19th-Century England</td><td>4.35</td></tr><tr><td>Touchstone Books</td><td>The Secret Garden: Talking Beetles and Signaling Trees: The Hidden Ways Gardens Communicate</td><td>4.32</td></tr><tr><td>Tougher Disguises</td><td>The Frequencies</td><td>4.32</td></tr><tr><td>Townsend Press</td><td>Silas Marner</td><td>3.64</td></tr><tr><td>Trafalgar Square Publishing</td><td>Raised on Rock: Growing Up at Graceland</td><td>2.75</td></tr><tr><td>Trafford Publishing</td><td>The Radical Right & the Murder of John F. Kennedy: Stunning Evidence in the Assassination of the President</td><td>3.76</td></tr><tr><td>Transaction Publishers</td><td>The Intelligent Woman's Guide to Socialism  Capitalism  Sovietism and Fascism</td><td>3.87</td></tr><tr><td>Transworld Publishers</td><td>The Secret Dreamworld of a Shopaholic (Shopaholic  #1)</td><td>4.06</td></tr><tr><td>Transworld Publishers Ltd</td><td>Not Without My Daughter</td><td>4.10</td></tr><tr><td>Travelers' Tales</td><td>There's No Toilet Paper . . . on the Road Less Traveled: The Best of Travel Humor and Misadventure</td><td>3.38</td></tr><tr><td>Treat Enterprises</td><td>Dark Birthright</td><td>3.63</td></tr><tr><td>Trine Day</td><td>Dr. Mary's Monkey: How the Unsolved Murder of a Doctor  a Secret Laboratory in New Orleans and Cancer-Causing Monkey Viruses are Linked to Lee Harvey Oswald  the JFK Assassination and Emerging Global Epidemics</td><td>3.92</td></tr><tr><td>Triple Crown Publications</td><td>In Cahootz: Sequel to Hoodwinked</td><td>4.47</td></tr><tr><td>Troll Communications</td><td>You Can Never Go Home Again</td><td>4.23</td></tr><tr><td>Tropismos</td><td>Un café lejos de aquí</td><td>3.84</td></tr><tr><td>Turtleback</td><td>The Princess Diaries (The Princess Diaries  #1)</td><td>3.96</td></tr><tr><td>Turtleback Books</td><td>White Teeth</td><td>4.47</td></tr><tr><td>Turtleback Books Distributed by Demco Media</td><td>Amelia Bedelia and the Baby (Amelia Bedelia)</td><td>4.17</td></tr><tr><td>TusQuets</td><td>Hasta que te encuentre</td><td>4.17</td></tr><tr><td>Tusquets</td><td>Soldados de Salamina</td><td>3.81</td></tr><tr><td>Tuttle Publishing</td><td>The Golden Country</td><td>4.04</td></tr><tr><td>Twayne Publishers</td><td>Astrid Lindgren</td><td>3.78</td></tr><tr><td>Twenty-First Century Books (CT)</td><td>The Brave Women of the Gulf Wars: Operation Desert Storm and Operation Iraqi Freedom</td><td>4.00</td></tr><tr><td>Twin Palms Publishers</td><td>Harm's Way: Lust & Madness & Murder & Mayhem</td><td>4.54</td></tr><tr><td>Two Lions</td><td>The Bone Collector's Son</td><td>3.27</td></tr><tr><td>Two Plus Two Publishing LLC</td><td>Harrington on Hold 'em: Expert Strategy for No-Limit Tournaments  Volume II: The Endgame</td><td>4.24</td></tr><tr><td>Tyndale House Publishers</td><td>The Strategy of Satan: How to Detect and Defeat Him</td><td>4.50</td></tr><tr><td>Tyndale Momentum</td><td>Chosen By God: Know God's Perfect Plan for His Glory and His Children</td><td>4.34</td></tr><tr><td>US Green Building Council</td><td>Design Like You Give a Damn: Architectural Responses to Humanitarian Crises</td><td>4.12</td></tr><tr><td>US Naval Institute Press</td><td>Bull Halsey</td><td>4.16</td></tr><tr><td>Ullstein</td><td>Wolfsbrut.</td><td>3.85</td></tr><tr><td>Ullstein Buchverlage GmbH & Co. KG / Ullstein Tas</td><td>Hafen des Unglücks (Aubrey/Maturin Book 11)</td><td>4.41</td></tr><tr><td>Ullstein Tb</td><td>Manöver um Feuerland (The Far Side of the World) (Aubrey/Maturin Book 10)</td><td>4.45</td></tr><tr><td>Ulysses Press</td><td>Mugglenet.Com's What Will Happen in Harry Potter 7: Who Lives  Who Dies  Who Falls in Love and How Will the Adventure Finally End?</td><td>4.23</td></tr><tr><td>Umbriel</td><td>Ángeles y demonios (Robert Langdon  #1)</td><td>3.89</td></tr><tr><td>Underwood/Miller  Berkley</td><td>The Last Castle</td><td>3.79</td></tr><tr><td>Union Square Press</td><td>The Book of the Dragon</td><td>4.20</td></tr><tr><td>Univ Of Minnesota Press</td><td>The Karma Of Brown Folk</td><td>4.22</td></tr><tr><td>Universal Publishers</td><td>Doctor Tandy's First Guide to Life Extension and Transhumanity</td><td>4.00</td></tr><tr><td>Universe</td><td>This Is New York</td><td>4.30</td></tr><tr><td>Universe Publishing(NY)</td><td>Corvette</td><td>4.83</td></tr><tr><td>University Of Chicago Press</td><td>Young Men and Fire</td><td>4.29</td></tr><tr><td>University Of Minnesota Press</td><td>Problems of Dostoevsky's Poetics</td><td>4.34</td></tr><tr><td>University Press of America</td><td>Outsider</td><td>3.98</td></tr><tr><td>University Press of Florida</td><td>Winter Season: A Dancer's Journal</td><td>4.47</td></tr><tr><td>University Press of Kansas</td><td>Unpainted to the Last: Moby Dick and Twentieth-century American Art</td><td>4.28</td></tr><tr><td>University Press of Kentucky</td><td>The Cave</td><td>4.13</td></tr><tr><td>University Press of Mississippi</td><td>Tim Burton: Interviews</td><td>4.50</td></tr><tr><td>University Press of New England</td><td>Oliver Wendell Holmes in Paris: Medicine  Theology  and the Autocrat of the Breakfast Table</td><td>5.00</td></tr><tr><td>University of Alaska Press</td><td>Not Just a Pretty Face: Dolls and Human Figurines in Alaska Native Cultures</td><td>3.50</td></tr><tr><td>University of Arizona Press</td><td>After Collapse: The Regeneration of Complex Societies</td><td>4.00</td></tr><tr><td>University of Arkansas Press</td><td>The Apple that Astonished Paris</td><td>4.20</td></tr><tr><td>University of Calgary Press</td><td>Galapagos: A Natural History</td><td>3.88</td></tr><tr><td>University of California Press</td><td>World Atlas of Great Apes and their Conservation</td><td>4.50</td></tr><tr><td>University of Chicago Press</td><td>Works of Hesiod and the Homeric Hymns</td><td>4.43</td></tr><tr><td>University of Georgia Press</td><td>Because I Remember Terror  Father  I Remember You</td><td>4.11</td></tr><tr><td>University of Illinois Press</td><td>Zora Neale Hurston: A Literary Biography</td><td>4.17</td></tr><tr><td>University of Massachusetts Press</td><td>The Library of Apollodorus: Gods and Heroes of the Greeks</td><td>3.98</td></tr><tr><td>University of Michigan Press</td><td>Their Sisters' Keepers: Women's Prison Reform in America  1830-1930</td><td>4.40</td></tr><tr><td>University of Minnesota Press</td><td>Blindness and Insight: Essays in the Rhetoric of Contemporary Criticism</td><td>4.12</td></tr><tr><td>University of Nebraska Press</td><td>Lectures on the History of Philosophy 1: Greek Philosophy to Plato</td><td>4.05</td></tr><tr><td>University of New Mexico Press</td><td>Quito 1599: City and Colony in Transition</td><td>3.52</td></tr><tr><td>University of North Carolina Press</td><td>The Scotch-Irish: A Social History</td><td>4.04</td></tr><tr><td>University of Notre Dame Press</td><td>Treatise on Happiness</td><td>3.83</td></tr><tr><td>University of Oklahoma Press</td><td>Warfare in the Classical World: An Illustrated Encyclopedia of Weapons  Warriors  and Warfare in the Ancient Civilizations of Greece and Rome</td><td>4.41</td></tr><tr><td>University of Pennsylvania Press</td><td>The Negro</td><td>4.32</td></tr><tr><td>University of Pittsburgh Press</td><td>A Mad People's History of Madness</td><td>4.33</td></tr><tr><td>University of South Carolina Press</td><td>On Authorship</td><td>3.75</td></tr><tr><td>University of Texas Press</td><td>The Burning Plain and Other Stories</td><td>4.39</td></tr><tr><td>University of Texas Press (Austin/London)</td><td>The Book of Merlyn: The Unpublished Conclusion to The Once & Future King</td><td>3.96</td></tr><tr><td>University of Toronto Press</td><td>The Boys of the Archangel Raphael: A Youth Confraternity in Florence  1411-1785</td><td>2.00</td></tr><tr><td>University of Utah Press</td><td>A Gateway to Sindarin: A Grammar of an Elvish Language from J.R.R. Tolkien's Lord of the Rings</td><td>3.73</td></tr><tr><td>University of Washington Press</td><td>The Art of the Ridiculous Sublime: On David Lynch's Lost Highway</td><td>4.43</td></tr><tr><td>University of Wisconsin Press</td><td>Mark Twain's Own Autobiography: The Chapters from the North American Review</td><td>3.80</td></tr><tr><td>Unwin Paperbacks</td><td>The Silmarillion</td><td>3.92</td></tr><tr><td>Urban Books</td><td>My Woman His Wife</td><td>4.38</td></tr><tr><td>Urion Press</td><td>Life Amongst the Modocs</td><td>4.32</td></tr><tr><td>Usborne Books</td><td>Gulliver's Travels</td><td>3.35</td></tr><tr><td>VIZ Media</td><td>Video Girl Ai  Vol. 15: Len's Story</td><td>4.62</td></tr><tr><td>VIZ Media LLC</td><td>Yakitate!! Japan  Volume 7</td><td>4.60</td></tr><tr><td>Vacation Work Publications</td><td>Teaching English Abroad</td><td>3.57</td></tr><tr><td>Van Patten Publishing</td><td>Marijuana Horticulture: The Indoor/Outdoor Medical Grower's Bible</td><td>4.39</td></tr><tr><td>Vanderbilt University Press</td><td>Cervantes in Algiers: A Captive's Tale</td><td>3.14</td></tr><tr><td>Vanguard Press</td><td>Scavenger (Frank Balenger  #2)</td><td>4.00</td></tr><tr><td>Vantage Press</td><td>Bulgakov's the Master and Margarita: The Text as a Cipher</td><td>5.00</td></tr><tr><td>VeloPress</td><td>Zinn & the Art of Road Bike Maintenance</td><td>4.29</td></tr><tr><td>Vendome Press</td><td>Tuscan Countess: The Life and Extraordinary Times of Matilda of Canossa</td><td>3.68</td></tr><tr><td>Verba Mundi</td><td>A Void</td><td>3.80</td></tr><tr><td>Veritas Publishing</td><td>Transcending the Levels of Consciousness: The Stairway to Enlightenment</td><td>4.61</td></tr><tr><td>Vermilion</td><td>Who Moved My Cheese?</td><td>4.19</td></tr><tr><td>Verso</td><td>Unacknowledged Legislation: Writers in the Public Sphere</td><td>4.22</td></tr><tr><td>Versus Press</td><td>User</td><td>3.37</td></tr><tr><td>Vertical</td><td>Ring (Ring  #1)</td><td>3.82</td></tr><tr><td>Vertigo</td><td>World's End (The Sandman  #8)</td><td>4.65</td></tr><tr><td>Vertigo (DC Comics)</td><td>Bite Club (Bite Club  #1)</td><td>3.07</td></tr><tr><td>Victor Gollancz</td><td>God Emperor of Dune (Dune Chronicles #4)</td><td>3.84</td></tr><tr><td>Vida</td><td>Una Vida Con Proposito Volumen 6</td><td>4.35</td></tr><tr><td>Viking</td><td>The Mistress's Daughter</td><td>4.50</td></tr><tr><td>Viking Adult</td><td>War and Peace</td><td>4.40</td></tr><tr><td>Viking Books</td><td>Winston Churchill</td><td>4.38</td></tr><tr><td>Viking Books for Young Readers</td><td>Pippi in the South Seas</td><td>4.46</td></tr><tr><td>Viking Children's Books</td><td>Haroun and the Sea of Stories (Khalifa Brothers  #1)</td><td>4.08</td></tr><tr><td>Viking Juvenile</td><td>Roald Dahl Treasury</td><td>4.43</td></tr><tr><td>Viking Penguin Inc.</td><td>Spy Catcher: The Candid Autobiography of a Senior Intelligence Officer</td><td>3.73</td></tr><tr><td>Viking Press</td><td>Maia (Beklan Empire #2)</td><td>4.01</td></tr><tr><td>Viking UK</td><td>Mirror in the Mirror</td><td>4.14</td></tr><tr><td>Viking; G. P. Putnam & Sons</td><td>The Talisman</td><td>4.13</td></tr><tr><td>Villard</td><td>We Thought You Would Be Prettier: True Tales of the Dorkiest Girl Alive</td><td>3.98</td></tr><tr><td>Villard Books</td><td>I Love Everybody (and Other Atrocious Lies)</td><td>3.97</td></tr><tr><td>Vince Emery Productions</td><td>Lost Stories</td><td>3.98</td></tr><tr><td>Vintage</td><td>You Shall Know Our Velocity!</td><td>4.53</td></tr><tr><td>Vintage Books</td><td>Three Famous Short Novels: Spotted Horses Old Man the Bear</td><td>4.28</td></tr><tr><td>Vintage Books USA</td><td>When I Was Puerto Rican</td><td>4.32</td></tr><tr><td>Vintage Books a division of Random House</td><td>Going to Meet the Man</td><td>4.35</td></tr><tr><td>Vintage Books/Vintage Classics</td><td>The Quiet American</td><td>3.97</td></tr><tr><td>Vintage Classics</td><td>Timequake</td><td>4.47</td></tr><tr><td>Vintage Contemporaries</td><td>Where I'm Calling From: New and Selected Stories</td><td>4.42</td></tr><tr><td>Vintage Crime</td><td>The Big Sleep (Philip Marlowe  #1)</td><td>4.01</td></tr><tr><td>Vintage Crime/Black Lizard</td><td>Trouble Is My Business</td><td>4.22</td></tr><tr><td>Vintage Espanol</td><td>Memoria de mis putas tristes</td><td>3.97</td></tr><tr><td>Vintage International</td><td>The Unconsoled</td><td>4.27</td></tr><tr><td>Vintage/Ebury</td><td>Ali and Nino</td><td>3.92</td></tr><tr><td>Vintage/Ebury (A Division of Random House Group)</td><td>The Life Of Dashiell Hammett</td><td>3.73</td></tr><tr><td>Vintage/Random House (NY)</td><td>Montaillou: The Promised Land of Error</td><td>4.21</td></tr><tr><td>Vintage/Random House Inc. (NYC)</td><td>The Occult: A History</td><td>3.91</td></tr><tr><td>Virago</td><td>The Transit of Venus</td><td>3.95</td></tr><tr><td>Virago Press (UK)</td><td>Rebecca</td><td>4.23</td></tr><tr><td>Virago Press Ltd</td><td>Handmaid's Tale</td><td>4.11</td></tr><tr><td>Virago UK</td><td>Desert Dawn</td><td>3.83</td></tr><tr><td>Virgin Publishing</td><td>Doctor Who: Cat's Cradle-Witch Mark</td><td>3.51</td></tr><tr><td>Vision</td><td>Up Country</td><td>4.17</td></tr><tr><td>Vision Forum</td><td>Beloved Bride: The Letters of Stonewall Jackson to His Wife</td><td>4.10</td></tr><tr><td>Vivendi</td><td>Diablo II Ultimate Strategy Guide</td><td>3.81</td></tr><tr><td>Viz Media</td><td>Uzumaki: Spiral into Horror  Vol. 2.</td><td>4.45</td></tr><tr><td>Voice</td><td>Secret Identity (Lost  #2)</td><td>2.93</td></tr><tr><td>Volo</td><td>Maurice Sendak's Seven Little Monsters: What Time is It? - Book #4</td><td>2.75</td></tr><tr><td>Voyager</td><td>Warhost of Vastmark (Wars of Light & Shadow  #3; Arc 2 - The Ships of Merior  #2)</td><td>4.44</td></tr><tr><td>Voyageur Press</td><td>Walking the Rez Road</td><td>4.75</td></tr><tr><td>W Publishing Group</td><td>Lead Like Jesus: Lessons from the Greatest Leadership Role Model of All Time</td><td>4.04</td></tr><tr><td>W. W. Norton  Company</td><td>iWoz</td><td>4.70</td></tr><tr><td>W. W. Norton & Co.</td><td>The Turn of the Screw (Norton Critical Edition)</td><td>3.43</td></tr><tr><td>W. W. Norton & Company</td><td>Wonderful Life: The Burgess Shale and the Nature of History</td><td>4.64</td></tr><tr><td>W. W. Norton and Company</td><td>Candide</td><td>3.77</td></tr><tr><td>W.W. Norton</td><td>The Echo of Greece</td><td>4.09</td></tr><tr><td>W.W. Norton  Company</td><td>The Doctor is Sick</td><td>3.62</td></tr><tr><td>W.W. Norton & Company</td><td>What Do You Care What Other People Think?</td><td>4.30</td></tr><tr><td>W.W. Norton & Company  Inc. (NY)</td><td>Civilization and Its Discontents</td><td>3.78</td></tr><tr><td>W.W. Norton & Company (NY)</td><td>Hen's Teeth and Horse's Toes: Further Reflections in Natural History</td><td>4.10</td></tr><tr><td>W.W. Norton & Company (NY/London)</td><td>Will in the World: How Shakespeare Became Shakespeare</td><td>3.94</td></tr><tr><td>W.W. Norton & Company (NYC)</td><td>Spook: Science Tackles the Afterlife</td><td>4.19</td></tr><tr><td>Wadsworth Publishing Company</td><td>The Dobe Ju/'hoansi</td><td>3.94</td></tr><tr><td>Waking Lion Press</td><td>The Lost Continent</td><td>3.95</td></tr><tr><td>Walker</td><td>Sir Gawain And The Green Knight</td><td>3.94</td></tr><tr><td>Walker & Company</td><td>The Frog King</td><td>4.08</td></tr><tr><td>Walker Books</td><td>The Illustrated Longitude: The True Story of a Lone Genius Who Solved the Greatest Scientific Problem of His Time</td><td>4.09</td></tr><tr><td>Walker Books Ltd</td><td>Sir Gawain and the Green Knight</td><td>3.99</td></tr><tr><td>Walter Foster Publishing</td><td>Mandala Sand Art Kit</td><td>1.00</td></tr><tr><td>Walter de Gruyter</td><td>Syntactic Structures</td><td>3.84</td></tr><tr><td>Warne</td><td>The World of Peter Rabbit (Original Peter Rabbit  Books 1-23)</td><td>4.62</td></tr><tr><td>Warner</td><td>Mythology: Timeless Tales of Gods and Heroes</td><td>4.17</td></tr><tr><td>Warner Adult</td><td>A Study Guide to Gabriel Garcia Marquez' One Hundred Years of Solitude</td><td>4.11</td></tr><tr><td>Warner Books</td><td>True Believer</td><td>4.35</td></tr><tr><td>Warner Books (NY)</td><td>Wild Fire (John Corey  #4)</td><td>4.22</td></tr><tr><td>Warner Forever</td><td>The Raven Prince (Princes Trilogy  #1)</td><td>3.98</td></tr><tr><td>Warner Vision</td><td>Reversible Errors (Kindle County Legal Thriller #6)</td><td>3.83</td></tr><tr><td>Warners Visions Books</td><td>Last Man Standing</td><td>4.04</td></tr><tr><td>Wasendorf & Associates Inc</td><td>The Crowd/Extraordinary Popular Delusions & the Madness of Crowds</td><td>3.93</td></tr><tr><td>Washington Square Press</td><td>Wideacre  (The Wideacre Trilogy  #1)</td><td>4.36</td></tr><tr><td>WaterBrook</td><td>Scoop (Occupational Hazards  #1)</td><td>3.61</td></tr><tr><td>Waterbrook Press</td><td>Leading with a Limp: Turning Your Struggles Into Strengths</td><td>4.18</td></tr><tr><td>Watkins</td><td>Mysteries</td><td>4.08</td></tr><tr><td>Watkins Publishing</td><td>Beowulf & Grendel: The Truth Behind England's Oldest Legend</td><td>3.57</td></tr><tr><td>Watson-Guptill</td><td>Classical Drawing Atelier: A Contemporary Guide to Traditional Studio Practice</td><td>4.12</td></tr><tr><td>Watson-Guptill Publications</td><td>Freaks!: How to Draw Fantastic Fantasy Creatures</td><td>4.06</td></tr><tr><td>Waveland Press</td><td>Myth and Reality</td><td>4.08</td></tr><tr><td>Wayne State University Press</td><td>Practice! Practice!: A Latin Via Ovid Workbook</td><td>4.36</td></tr><tr><td>Webster's New World</td><td>The MacMillan Bible Atlas</td><td>4.32</td></tr><tr><td>Weidenfeld & Nicolson</td><td>The Science Book</td><td>4.05</td></tr><tr><td>Weiser Books</td><td>What Is Goth?</td><td>4.10</td></tr><tr><td>Welcome Books</td><td>Little Big Book for God's Children</td><td>4.88</td></tr><tr><td>Wenner Books</td><td>The Essential Interviews</td><td>4.11</td></tr><tr><td>Wesleyan University Press</td><td>Notebook of a Return to the Native Land</td><td>4.09</td></tr><tr><td>Western Publishing Company  Golden Books</td><td>Herbert the Timid Dragon</td><td>4.62</td></tr><tr><td>Westholme Publishing</td><td>Seabiscuit: The Saga of a Great Champion</td><td>4.47</td></tr><tr><td>Westminster John Knox Press</td><td>The Gospel According to the Beatles</td><td>4.09</td></tr><tr><td>Westview Press</td><td>Romanticism</td><td>3.75</td></tr><tr><td>Wheeler Publishing</td><td>Undead and Unwed (Undead  #1)</td><td>4.22</td></tr><tr><td>Whitaker House</td><td>He Came to Set the Captives Free</td><td>4.45</td></tr><tr><td>White Wolf Games Studio</td><td>The Eternal Champion (Eternal Champion  #1)</td><td>3.95</td></tr><tr><td>Wildside Press</td><td>The Picture of Dorian Gray</td><td>4.13</td></tr><tr><td>Wildstorm</td><td>The Authority  Vol. 2: Under New Management</td><td>4.15</td></tr><tr><td>Wiley</td><td>ebay Timesaving Techniques for Dummies</td><td>4.27</td></tr><tr><td>Wiley (TP)</td><td>Lafayette</td><td>4.37</td></tr><tr><td>Wiley Publishing</td><td>Texas Hold'em for Dummies</td><td>3.82</td></tr><tr><td>Wiley Publishing  Inc.</td><td>Astronomy For Dummies</td><td>3.84</td></tr><tr><td>Wiley-Blackwell</td><td>Western Philosophy: An Anthology</td><td>4.16</td></tr><tr><td>Wilhelm Goldmann Verlag  GmbH</td><td>Hitler's Willinge Vollstrecker: Ganz gewöhlnliche Deutsche und der Holocaust</td><td>4.11</td></tr><tr><td>William B. Eerdmans Publishing Company</td><td>The Pilgrim's Regress</td><td>4.21</td></tr><tr><td>William Heinemann</td><td>Quicksilver (The Baroque Cycle  #1)</td><td>3.93</td></tr><tr><td>William Heinemann Ltd.</td><td>The Hannibal Lecter Trilogy</td><td>4.42</td></tr><tr><td>William Morrow</td><td>You Suck (A Love Story  #2)</td><td>4.42</td></tr><tr><td>William Morrow & Company</td><td>Worlds Enough and Time (Worlds #3)</td><td>4.12</td></tr><tr><td>William Morrow & Company  Inc.</td><td>Stand Back  Said the Elephant  I'm Going to Sneeze!</td><td>4.39</td></tr><tr><td>William Morrow & Company (NYC)</td><td>The First Man in Rome (Masters of Rome  #1)</td><td>4.11</td></tr><tr><td>William Morrow / Harper</td><td>Good Omens: The Nice and Accurate Prophecies of Agnes Nutter  Witch</td><td>4.25</td></tr><tr><td>William Morrow / HarperCollins / Harper Perennial</td><td>Lamb: The Gospel According to Biff  Christ's Childhood Pal</td><td>4.25</td></tr><tr><td>William Morrow Paperbacks</td><td>Wicked: The Life and Times of the Wicked Witch of the West</td><td>4.41</td></tr><tr><td>William Morrow; 1ST edition</td><td>Marley and Me: Life and Love With the World's Worst Dog</td><td>4.13</td></tr><tr><td>Windsor Golden Series</td><td>From Babylon to Timbuktu: A History of the Ancient Black Races Including the Black Hebrews</td><td>4.31</td></tr><tr><td>Wings</td><td>Three Complete Xanth Novels (Xanth  #1-3)</td><td>4.54</td></tr><tr><td>Wings Books</td><td>The Ultimate Hitchhiker's Guide (Hitchhiker's Guide to the Galaxy  #1-5)</td><td>4.38</td></tr><tr><td>Winter on the Farm (My First Little House)</td><td>Winter on the Farm</td><td>4.15</td></tr><tr><td>Wipf & Stock Publishers</td><td>Natural Theology: Comprising Nature & Grace by Professor Dr Emil Brunner & the Reply No! by Dr Karl Barth</td><td>3.72</td></tr><tr><td>Wisdom Publications</td><td>The State of Mind Called Beautiful</td><td>4.30</td></tr><tr><td>Wizarding World Press</td><td>Ultimate Unofficial Guide to the Mysteries of Harry Potter: Analysis of Books 1-4</td><td>4.05</td></tr><tr><td>Wizards of the Coast</td><td>Time of the Twins (Dragonlance: Legends  #1)</td><td>4.19</td></tr><tr><td>Woodbridge Press Publishing Company</td><td>Follow Your Heart's Vegetarian Soup Cookbook</td><td>3.47</td></tr><tr><td>Woodrow Wilson Center Press / Johns Hopkins University Press</td><td>Rethinking the Economics of War: The Intersection of Need  Creed  and Greed</td><td>3.50</td></tr><tr><td>Wordsworth Classics</td><td>Selected Works of the Brontë Sisters: Jane Eyre / Villette / Wuthering Heights / Agnes Grey / The Tenant of Wildfell Hall</td><td>4.38</td></tr><tr><td>Wordsworth Editions</td><td>Tom Jones</td><td>4.55</td></tr><tr><td>Workman Publishing Company</td><td>What to Expect the First Year (What to Expect)</td><td>4.32</td></tr><tr><td>World Wrestling Entertainment Books</td><td>Controversy Creates Cash</td><td>3.62</td></tr><tr><td>Worth Publishers</td><td>Economics</td><td>3.99</td></tr><tr><td>Writer's Digest Books</td><td>Writing the Novel: From Plot to Print</td><td>4.10</td></tr><tr><td>Wyatt Book</td><td>I Capture the Castle</td><td>4.00</td></tr><tr><td>Xlibris Corporation</td><td>A Dracula Handbook</td><td>4.07</td></tr><tr><td>Xulon Press</td><td>Marilyn Manson: The Lonely Watchman</td><td>4.00</td></tr><tr><td>Y Lolfa</td><td>Delwau Duon: Peintiadau Nicholas Evans = Symphonies in Black: The Paintings of Nicholas Evans</td><td>5.00</td></tr><tr><td>Yale University Press</td><td>Writings on Art</td><td>4.55</td></tr><tr><td>Yale University Press (New Haven  CT)</td><td>Psychoanalysis and Religion</td><td>4.02</td></tr><tr><td>Yapı Kredi Yayınları</td><td>Harry Potter ve Sırlar Odası (Harry Potter  #2)</td><td>4.42</td></tr><tr><td>Yearling</td><td>War Comes to Willy Freeman (Arabus Family Saga  #1)</td><td>4.44</td></tr><tr><td>Yearling Books</td><td>The Sly Spy (Olivia Sharp  Agent for Secrets #3)</td><td>4.13</td></tr><tr><td>Yellow Jersey</td><td>It's Not About the Bike: My Journey Back to Life</td><td>3.72</td></tr><tr><td>Yesterday's Classics</td><td>The Discovery of New Worlds (Story of the World  #2)</td><td>3.50</td></tr><tr><td>York Press</td><td>The spire  William Golding : notes</td><td>3.60</td></tr><tr><td>Yoruba Theological Archministry</td><td>Orin Aoraiosaa: Songs for Selected Heads</td><td>4.39</td></tr><tr><td>Yosemite Conservancy</td><td>Yosemite: Its Discovery  Its Wonder and Its People</td><td>3.96</td></tr><tr><td>Young Picador</td><td>The Butterfly Tattoo</td><td>3.19</td></tr><tr><td>YoungJin Singapore Pte. Ltd.</td><td>Gulliver's Travels</td><td>3.57</td></tr><tr><td>Your Coach Digital</td><td>The Botany of Desire: A Plant's-Eye View of the World</td><td>4.06</td></tr><tr><td>Zebra</td><td>This Christmas</td><td>4.19</td></tr><tr><td>Zebra Books</td><td>See How She Dies</td><td>3.90</td></tr><tr><td>Zenith Press</td><td>The Sling and the Stone: On War in the 21st Century</td><td>3.93</td></tr><tr><td>Zeta Bolsillo</td><td>Chamán (Familia Cole  #2)</td><td>4.12</td></tr><tr><td>Zondervan</td><td>Trial by Fire (Newpointe 911 #4)</td><td>5.00</td></tr><tr><td>Zondervan Publishing Company</td><td>Velvet Elvis: Repainting the Christian Faith</td><td>4.17</td></tr><tr><td>Zondervan Publishing House</td><td>Study Bible: NIV</td><td>4.70</td></tr><tr><td>btb</td><td>Naokos Lächeln</td><td>4.03</td></tr><tr><td>dtv</td><td>Bevor es Nacht wird. Ein Leben in Havanna</td><td>4.17</td></tr><tr><td>iBooks</td><td>Watchtower (Chronicles of Tornor  #1)</td><td>4.07</td></tr><tr><td>iUniverse</td><td>Vesco</td><td>4.67</td></tr><tr><td>l'ecole des loisirs</td><td>La toile de Charlotte</td><td>4.17</td></tr><tr><td>rbooks</td><td>A Damsel in Distress</td><td>4.08</td></tr><tr><td>Éditions 10/18</td><td>Un rôle qui me convient</td><td>4.02</td></tr><tr><td>Éditions de L'Olivier</td><td>Mumbo Jumbo</td><td>3.82</td></tr><tr><td>Éditions de Minuit</td><td>En attendant Godot</td><td>3.83</td></tr><tr><td>Éditions du Rocher</td><td>L'Épée de Darwin</td><td>3.33</td></tr><tr><td>Эксмо</td><td>Мастер и Маргарита</td><td>4.30</td></tr><tr><td>ガンガンコミックス</td><td>鋼の錬金術師 8 (Fullmetal Alchemist 8)</td><td>4.57</td></tr><tr><td>ビブロス</td><td>LOVE MODE 11</td><td>4.37</td></tr><tr><td>小学館</td><td>犬夜叉 8</td><td>4.30</td></tr><tr><td>小学館 [Shōgakukan]</td><td>らんま½ 12</td><td>4.06</td></tr><tr><td>時報出版</td><td>戰廢品</td><td>3.79</td></tr><tr><td>東立</td><td>鋼之鍊金術師 9</td><td>4.60</td></tr><tr><td>皇冠文化出版有限公司</td><td>火盃的考驗 (哈利波特  #4)</td><td>4.57</td></tr><tr><td>聯經出版事業股份有限公司</td><td>魔戒首部曲：魔戒現身</td><td>4.44</td></tr><tr><td>英文漢聲出版股份有限公司</td><td>野獸國 (漢聲精選世界最佳兒童圖畫書．心理成長類  #36)</td><td>4.22</td></tr><tr><td>角川書店 (Kadokawa Shoten)</td><td>叫んでやるぜ! (2) (ASUKA COMICS CL-DX)</td><td>3.95</td></tr><tr><td>講談社</td><td>ツバサ-RESERVoir CHRoNiCLE- 8</td><td>4.30</td></tr><tr><td>集英社</td><td>ヒカルの碁 9、本戦開始</td><td>4.43</td></tr></tbody></table></div>"
      ]
     },
     "metadata": {
      "application/vnd.databricks.v1+output": {
       "addedWidgets": {},
       "aggData": [],
       "aggError": "",
       "aggOverflow": false,
       "aggSchema": [],
       "aggSeriesLimitReached": false,
       "aggType": "",
       "arguments": {},
       "columnCustomDisplayInfos": {},
       "data": [
        [
         "1/15/1999",
         "Patriots (The Coming Collapse)",
         " Rawles"
        ],
        [
         "10/18",
         "La mezzanine",
         "3.84"
        ],
        [
         "1st Book Library",
         "Lila's Child: An Inquiry into Quality",
         "3.58"
        ],
        [
         "1st World Library",
         "Nineteen Eighty-Four",
         "4.18"
        ],
        [
         "4/20/2004",
         "Streetcar Suburbs: The Process of Growth in Boston  1870-1900",
         " Jr./Sam B. Warner"
        ],
        [
         "4/6/2004",
         "The Tolkien Fan's Medieval Reader",
         " one of the founding members of this Tolkien website)/Verlyn Flieger/Turgon (=David E. Smith)"
        ],
        [
         "5/1/1977",
         "Brown's Star Atlas: Showing All The Bright Stars With Full Instructions How To Find And Use Them For Navigational Purposes And Department Of Trade Examinations.",
         " Son & Ferguson"
        ],
        [
         "A & C Black (Childrens books)",
         "The Custard Kid (Black Cats)",
         "4.40"
        ],
        [
         "A Harvest Book/Harcourt  Inc.",
         "Women and Writing",
         "4.07"
        ],
        [
         "A K PETERS",
         "Advanced Global Illumination",
         "4.50"
        ],
        [
         "AA World Services",
         "Alcoholics Anonymous",
         "4.45"
        ],
        [
         "ACE",
         "Killobyte",
         "3.56"
        ],
        [
         "ADV Manga",
         "Your and My Secret  Vol. 1",
         "4.38"
        ],
        [
         "AHA! Process",
         "A Framework for Understanding Poverty",
         "3.90"
        ],
        [
         "AIT Planet Lar",
         "Proof of Concept",
         "3.00"
        ],
        [
         "AK Press",
         "On Anarchism",
         "3.93"
        ],
        [
         "AMR/Advanced Management Reports",
         "The Leadership Challenge: Skills for Taking Charge",
         "0.00"
        ],
        [
         "ASCD",
         "Getting Results with Curriculum Mapping",
         "3.25"
        ],
        [
         "AVA Publishing",
         "Thinking Visually (Basics Illustration  #1)",
         "3.62"
        ],
        [
         "Abacus",
         "Venice: Tales of the City",
         "4.40"
        ],
        [
         "Abacus Books",
         "Lincoln (Narratives of a Golden Age)",
         "4.21"
        ],
        [
         "Abacus Books (London)",
         "The Life and Death of My Lord Gilles de Rais",
         "3.87"
        ],
        [
         "Abdo Publishing Company",
         "Treasure Island (Great Illustrated Classics)",
         "4.51"
        ],
        [
         "Abingdon Press",
         "Exclusion & Embrace: A Theological Exploration of Identity  Otherness  and Reconciliation",
         "4.27"
        ],
        [
         "Abradale Books/Harry N. Abrams",
         "The National Geographic Society: 100 Years of Adventure & Discovery",
         "4.11"
        ],
        [
         "Abraham Guillen Press",
         "Mini-Manual of the Urban Guerrilla",
         "3.31"
        ],
        [
         "Abrams",
         "The Adventuress",
         "4.05"
        ],
        [
         "Absolute Press",
         "We Are Michael Field",
         "3.55"
        ],
        [
         "Abstract Studio",
         "Strangers In Paradise  Pocket Book 5",
         "4.38"
        ],
        [
         "Academic Press",
         "Horizontal Gene Transfer",
         "4.00"
        ],
        [
         "Academica Press",
         "The Irish Anatomist: A Study of Flann O'Brien",
         "5.00"
        ],
        [
         "Academy Chicago Publishers",
         "Homer's Daughter",
         "3.81"
        ],
        [
         "Ace",
         "The Work of the Sun (The Green Lion Trilogy #3)",
         "4.22"
        ],
        [
         "Ace Book",
         "Starship Troopers",
         "4.01"
        ],
        [
         "Ace Books",
         "Vision of Tarot (Tarot  #2)",
         "4.21"
        ],
        [
         "Ace Hardcover",
         "Cursor's Fury (Codex Alera  #3)",
         "4.36"
        ],
        [
         "Ace Trade",
         "The Rosetta Codex",
         "3.40"
        ],
        [
         "Ace/SFBC",
         "Starship Troopers",
         "4.01"
        ],
        [
         "Acento Editorial",
         "Lincoln",
         "4.21"
        ],
        [
         "Acropolis Books (NY)",
         "Black on Red: My 44 Years Inside the Soviet Union: An Autobiography",
         "4.33"
        ],
        [
         "Actes Sud",
         "Timbuktu / Leviathan / Moon Palace",
         "4.38"
        ],
        [
         "Adamant Media Corporation",
         "Rob Roy",
         "3.70"
        ],
        [
         "Adams Media",
         "Sun Tzu: The Art of War for Managers; 50 Strategic Rules",
         "3.85"
        ],
        [
         "Addison Wesley",
         "Absolute C++",
         "3.83"
        ],
        [
         "Addison Wesley Publishing Company",
         "The Firm",
         "4.63"
        ],
        [
         "Addison-Wesley Professional",
         "The Pragmatic Programmer: From Journeyman to Master",
         "4.31"
        ],
        [
         "Advantage World Press",
         "Zero Debt: The Ultimate Guide to Financial Freedom",
         "3.74"
        ],
        [
         "Adventures Unlimited Press",
         "Tesla Papers",
         "4.13"
        ],
        [
         "Aegypan",
         "From the Earth to the Moon (Extraordinary Voyages  #4)",
         "3.78"
        ],
        [
         "Aerie",
         "The Invisible Man",
         "3.64"
        ],
        [
         "Aivia Press",
         "Youth in Revolt: The Journals of Nick Twisp : Volumes I  II  III/Youth in Revolt/Youth in Bondage/Youth in Exile",
         "4.04"
        ],
        [
         "Akashic Books/Punk Planet Books",
         "Hairstyles of the Damned",
         "3.72"
        ],
        [
         "Aladdin",
         "What a Scare  Jesse Bear",
         "4.28"
        ],
        [
         "Aladdin Paperbacks",
         "Voting Rights Days (Hitty's Travels  #3)",
         "4.27"
        ],
        [
         "Alan Rodgers Books",
         "The Sea Wolf",
         "4.04"
        ],
        [
         "Albert Whitman  Company",
         "When I Feel Angry",
         "3.98"
        ],
        [
         "Albin Michel",
         "Monsieur Ibrahim et les fleurs du Coran",
         "4.01"
        ],
        [
         "Albury Publishing",
         "Jesus Freaks: Stories of Those Who Stood for Jesus  the Ultimate Jesus Freaks (Jesus Freaks  #1)",
         "4.21"
        ],
        [
         "Alcoholics Anonymous World Services Inc",
         "Alcoholics Anonymous",
         "4.45"
        ],
        [
         "Alderac Entertainment Group",
         "Legend of the Five Rings RPG",
         "3.78"
        ],
        [
         "Alderac Entertainment Group (AEG)",
         "Secrets of the Scorpion",
         "3.68"
        ],
        [
         "Alfabeta Bokförlag",
         "Verserade tankar",
         "3.00"
        ],
        [
         "Alfaguara",
         "No me cogeréis vivo: artículos 2001-2005",
         "4.16"
        ],
        [
         "Alfaguara Infantil",
         "El Superzorro",
         "4.05"
        ],
        [
         "Alfred A. Knopf",
         "Wildwood Dancing (Wildwood  #1)",
         "4.69"
        ],
        [
         "Alfred A. Knopf  Inc.",
         "Gargantua and Pantagruel",
         "3.71"
        ],
        [
         "Alfred A. Knopf Books for Young Readers",
         "Wild About Books",
         "4.17"
        ],
        [
         "Alfred A. Knopf Borzoi Books",
         "I Am the Messenger",
         "4.07"
        ],
        [
         "Alfred A.Knopf",
         "A Tear and a Smile",
         "4.03"
        ],
        [
         "Algonquin Books",
         "Water for Elephants",
         "4.09"
        ],
        [
         "Alianza Editorial",
         "La caída",
         "4.04"
        ],
        [
         "Alison Green Books",
         "Hello! Is That Grandma?",
         "3.53"
        ],
        [
         "Allen & Ulwin",
         "The Tenth Circle",
         "3.50"
        ],
        [
         "Allen Lane",
         "The Origin of Consciousness in the Breakdown of the Bicameral Mind",
         "4.25"
        ],
        [
         "Alliance Publishing",
         "Natural Cures They Don't Want You to Know about",
         "3.09"
        ],
        [
         "Allworth",
         "Beauty and the Contemporary Sublime",
         "3.56"
        ],
        [
         "Allyn & Bacon",
         "The Actor in You: Sixteen Simple Steps to Understanding the Art of Acting",
         "3.65"
        ],
        [
         "Alpha",
         "The Complete Idiot's Guide to Calculus",
         "4.11"
        ],
        [
         "Alpha Books",
         "The Complete Idiot's Guide to Business Plans",
         "3.32"
        ],
        [
         "Alyson Books",
         "Stir-Fry",
         "3.59"
        ],
        [
         "Amadeus",
         "The John Adams Reader: Eseential Writings on an American Composer",
         "3.50"
        ],
        [
         "Amereon Limited",
         "The Epic of Gilgamesh",
         "3.68"
        ],
        [
         "Amereon Ltd",
         "The Great Gatsby",
         "3.91"
        ],
        [
         "America's Test Kitchen",
         "The Best of America's Test Kitchen 2007: The Year's Best Recipes  Equipment Reviews  and Tastings",
         "4.57"
        ],
        [
         "American Diabetes Association",
         "Diabetes Meal Planning Made Easy",
         "3.42"
        ],
        [
         "American Girl Publishing Inc",
         "What Would You Do? (American Girl Library)",
         "4.26"
        ],
        [
         "American University in Cairo Press",
         "Zaat",
         "3.55"
        ],
        [
         "Amherst Media",
         "Posing for Portrait Photography: A Head-To-Toe Guide",
         "3.38"
        ],
        [
         "Amherst Media  Inc.",
         "Portrait Photographer's Handbook",
         "3.62"
        ],
        [
         "Amistad",
         "sex.lies.murder.fame.",
         "4.25"
        ],
        [
         "Amistad Press",
         "Lost in the City",
         "4.03"
        ],
        [
         "Anagrama",
         "Respiración artificial",
         "4.18"
        ],
        [
         "Anchor",
         "What the Body Remembers",
         "4.35"
        ],
        [
         "Anchor Bible",
         "II Maccabees",
         "4.04"
        ],
        [
         "Anchor Books",
         "Wickett's Remedy",
         "4.38"
        ],
        [
         "Anchor Books/Knopf Doubleday Publishing Group",
         "Amsterdam",
         "3.43"
        ],
        [
         "Anchor Canada",
         "A Short History of Nearly Everything (Illustrated Edition)",
         "4.21"
        ],
        [
         "Andrews McMeel Publishing",
         "The Perfect London Walk",
         "4.82"
        ],
        [
         "Andrews and McMeel",
         "The Unauthorized Anne Rice Companion",
         "3.68"
        ],
        [
         "Ann Arbor Media",
         "The Scarlet Letter",
         "4.00"
        ],
        [
         "Annick Press",
         "From Far Away",
         "4.00"
        ],
        [
         "Applause Books",
         "William Goldman: Four Screenplays",
         "4.44"
        ],
        [
         "Applause Theatre & Cinema Book Publishers",
         "Life Is a Dream and Other Spanish Classics (Eric Bentley's Dramatic Repertoire) - Volume II",
         "3.81"
        ],
        [
         "Apple",
         "Amanda's Unlucky Day (Junior Gymnasts  #6)",
         "3.50"
        ],
        [
         "Apple Paperbacks (Scholastic)",
         "The Discovery (Dive  #1)",
         "3.72"
        ],
        [
         "Applewood Books",
         "The Secret of the Old Clock (Nancy Drew Mystery Stories  #1)",
         "4.08"
        ],
        [
         "Apress",
         "The Career Programmer: Guerilla Tactics for an Imperfect World (Expert's Voice)",
         "4.25"
        ],
        [
         "Arbordale Publishing",
         "The Giraffe Who Was Afraid of Heights (Physical & Behavioral Adaptation)",
         "3.87"
        ],
        [
         "Arcade Publishing",
         "A Short History of Decay",
         "4.25"
        ],
        [
         "Arcadia Publishing",
         "Middlesex Borough (Images of America: New Jersey)",
         "5.00"
        ],
        [
         "Arcadia Publishing (SC)",
         "Selections from the Oakland Tribune Archives (Images of America: California)",
         "4.44"
        ],
        [
         "Archaia",
         "Artesia: Adventures in the Known World",
         "4.13"
        ],
        [
         "Archie Comics",
         "Archie Americana Series: Best of the Eighties  Vol. 1",
         "3.91"
        ],
        [
         "Archipelago Books",
         "Bacacay",
         "3.94"
        ],
        [
         "Arden Shakespeare",
         "The Arden Shakespeare Complete Works",
         "4.50"
        ],
        [
         "Aris & Phillips",
         "Exemplary Novels IV: Lady Cornelia  the Deceitful Marriage  the Dialogue of the Dogs",
         "4.20"
        ],
        [
         "Aris and Phillips",
         "The Iliad  Books 8-9 (Classical Texts Series)",
         "4.50"
        ],
        [
         "Arkana",
         "The Ghost in the Machine",
         "4.00"
        ],
        [
         "Arkana/Penguin",
         "The Sleepwalkers: A History of Man's Changing Vision of the Universe",
         "4.26"
        ],
        [
         "Arkham House Publishers",
         "Evermore",
         "4.44"
        ],
        [
         "Arlington House",
         "An Inquiry into the Nature and Causes of the Wealth of Nations",
         "3.88"
        ],
        [
         "Arléa",
         "Les Essais (mis en français moderne par Claude Pinganaud)",
         "4.24"
        ],
        [
         "Arrow",
         "Women Who Love Too Much",
         "4.24"
        ],
        [
         "Arrow (A Division of Random House Group)",
         "The Crazed",
         "3.50"
        ],
        [
         "Arrow Books",
         "Open House",
         "4.23"
        ],
        [
         "Arrow Books Ltd",
         "Illusions: The Adventures of a Reluctant Messiah",
         "4.15"
        ],
        [
         "Arsenal Pulp Press",
         "Patience & Sarah",
         "3.90"
        ],
        [
         "Arthur A. Levine",
         "Harry Potter Schoolbooks Box Set: Two Classic Books from the Library of Hogwarts School of Witchcraft and Wizardry",
         "4.40"
        ],
        [
         "Arthur A. Levine Books",
         "Historia de una Gaviota y del Gato Que le Enseñó a Volar",
         "4.14"
        ],
        [
         "Arthur A. Levine Books / Scholastic Inc.",
         "Harry Potter and the Chamber of Secrets (Harry Potter  #2)",
         "4.42"
        ],
        [
         "Artisan",
         "Mangoes & Curry Leaves: Culinary Travels Through the Great Subcontinent",
         "4.28"
        ],
        [
         "Arts Publications",
         "Canopy: A Work for Voice and Light in Harvard Yard",
         "0.00"
        ],
        [
         "Ash Tree Publishing",
         "Common Herbs for Natural Health",
         "4.45"
        ],
        [
         "Ash-Tree Press",
         "Dancing On Air",
         "4.00"
        ],
        [
         "Aspect",
         "The Wild Swans",
         "4.30"
        ],
        [
         "Association for Scottish Literary Studies",
         "Iain Banks' 'The Wasp Factory'  'The Crow Road' and 'Whit'",
         "3.92"
        ],
        [
         "Association for Supervision & Curriculum Development",
         "Teaching with the Brain in Mind",
         "4.11"
        ],
        [
         "Atelos Press",
         "City Eclogue",
         "4.13"
        ],
        [
         "Atheneum",
         "Winter Cottage",
         "4.34"
        ],
        [
         "Atheneum Books",
         "The Wind Thief",
         "4.19"
        ],
        [
         "Atheneum Books for Young Readers",
         "Treasure Island",
         "4.39"
        ],
        [
         "Atheneum Books for Young Readers: Richard Jackson Books",
         "Hatchet (Brian's Saga  #1)",
         "3.72"
        ],
        [
         "Atheneum/Richard Jackson Books",
         "Sailor Moo: Cow at Sea",
         "4.07"
        ],
        [
         "Atlantic",
         "Sellevision",
         "4.03"
        ],
        [
         "Atlantic Books",
         "Running with Scissors",
         "3.72"
        ],
        [
         "Atlantic Books (UK)",
         "The Sot-Weed Factor",
         "4.09"
        ],
        [
         "Atlantic Monthly Press",
         "Suffer the Little Children (Commissario Brunetti  #16)",
         "4.26"
        ],
        [
         "Atlantic Monthly Press (NYC)",
         "Cold Mountain",
         "3.86"
        ],
        [
         "Atlas Books/HarperCollins Publishers",
         "Thomas Jefferson: Author of America",
         "3.91"
        ],
        [
         "Atria Books",
         "Zolar's Encyclopedia and Dictionary of Dreams: Fully Revised and Updated for the 21st Century",
         "4.29"
        ],
        [
         "Audio Literature",
         "Chance (Spenser  #23)",
         "4.10"
        ],
        [
         "Audio Partners",
         "The Great Gatsby",
         "4.00"
        ],
        [
         "Audio Renaissance",
         "The Altman Code (Covert-One  #4)",
         "3.95"
        ],
        [
         "AudioGO",
         "The Story of Philosophy",
         "4.36"
        ],
        [
         "AudioText",
         "Lobsters",
         "3.83"
        ],
        [
         "Audiogo",
         "The Last Kingdom (The Saxon Stories  #1)",
         "4.26"
        ],
        [
         "Augsburg Fortress Publishing",
         "Missing Persons and Mistaken Identities: Women and Gender in Ancient Israel",
         "3.96"
        ],
        [
         "Aurum",
         "My Wicked  Wicked Ways",
         "4.02"
        ],
        [
         "Aurum Press",
         "Landscape Within: Insights and Inspirations for Photographers",
         "4.36"
        ],
        [
         "Authorhouse",
         "The Trouble with the Pears: An Intimate Portrait of Erzsebet Bathory",
         "3.50"
        ],
        [
         "Avalon Travel",
         "Rick Steves' Europe Through the Back Door",
         "4.24"
        ],
        [
         "Ave Maria Press",
         "With Open Hands",
         "4.30"
        ],
        [
         "Avenel Books",
         "Five Complete Miss Marple Novels: The Mirror Crack'd / A Caribbean Mystery / Nemesis / What Mrs. McGillicuddy Saw! / The Body in the Library",
         "4.39"
        ],
        [
         "Avery",
         "Game of Shadows: Barry Bonds  BALCO  and the Steroids Scandal that Rocked Professional Sports",
         "3.81"
        ],
        [
         "Avery Publishing Group",
         "The Hip Chick's Guide to Macrobiotics: A Philosophy for Achieving a Radiant Mind and a Fabulous Body",
         "4.25"
        ],
        [
         "Avon",
         "With Her Last Breath",
         "4.37"
        ],
        [
         "Avon Books",
         "West To Eden",
         "4.23"
        ],
        [
         "Avon Books (AvoNova)",
         "Worlds Apart (Worlds 2)",
         "3.69"
        ],
        [
         "Avon Books (P)",
         "Asimov's Guide to the Bible: The Old Testament",
         "4.07"
        ],
        [
         "Avon HarperCollins",
         "Her Highness  My Wife (Effingtons  #5)",
         "3.66"
        ],
        [
         "AvonEos",
         "Shards of a Broken Crown (The Serpentwar Saga  #4)",
         "4.02"
        ],
        [
         "Award Books",
         "Battle for the Planet of the Apes",
         "3.66"
        ],
        [
         "B Books",
         "Things Pondered: From the Heart of a Lesser Woman",
         "4.09"
        ],
        [
         "B Fiction",
         "Once Upon a Gulf Coast Summer",
         "3.44"
        ],
        [
         "B&H Publishing Group",
         "Watchmen on the Walls",
         "4.19"
        ],
        [
         "B.E.S. Publishing",
         "The Night at the Museum",
         "3.91"
        ],
        [
         "BALLANTINE BOOKS",
         "Founding Brothers: The Revolutionary Generation",
         "3.93"
        ],
        [
         "BBC Audiobooks",
         "The Time Traveler's Wife",
         "4.50"
        ],
        [
         "BBC Audiobooks America",
         "Much Ado about Nothing",
         "4.07"
        ],
        [
         "BBC Audiobooks Ltd",
         "The Return of the King (The Lord of the Rings  #3)",
         "4.35"
        ],
        [
         "BBC Books",
         "Terry Jones' Medieval Lives",
         "4.22"
        ],
        [
         "BBC Physical Audio",
         "The Goon Show: Moriarty Where Are You?",
         "5.00"
        ],
        [
         "BBC Worldwide",
         "The Long Goodbye (Philip Marlowe  #6)",
         "4.22"
        ],
        [
         "BCP/Duckworth Publishing",
         "Ficciones",
         "4.45"
        ],
        [
         "Babel",
         "Mao II",
         "3.99"
        ],
        [
         "Back Bay",
         "Holidays on Ice",
         "3.92"
        ],
        [
         "Back Bay Books",
         "Youngblood Hawke",
         "4.41"
        ],
        [
         "Backinprint.com",
         "Satan: His Psychotherapy and Cure by the Unfortunate Dr. Kassler  J.S.P.S.",
         "4.13"
        ],
        [
         "Backstage Books",
         "The Munsters: A Trip Down Mockingbird Lane",
         "4.45"
        ],
        [
         "Baen",
         "Wind Rider's Oath (War God  #3)",
         "4.27"
        ],
        [
         "Baen Books",
         "The Ship Avenged",
         "4.13"
        ],
        [
         "Baker Books",
         "The J.R.R. Tolkien Handbook: A Comprehensive Guide to His Life  Writings  and World of Middle-Earth",
         "3.72"
        ],
        [
         "Ballantine",
         "Return of the Straight Dope",
         "4.27"
        ],
        [
         "Ballantine Books",
         "Your Oasis on Flame Lake",
         "4.59"
        ],
        [
         "Ballantine Books (NY)",
         "Tolkien: A Look Behind The Lord of the Rings",
         "4.08"
        ],
        [
         "Banner of Truth",
         "The Valley of Vision: A Collection of Puritan Prayers and Devotions",
         "4.54"
        ],
        [
         "Bantam",
         "Wouldn't Take Nothing for My Journey Now",
         "4.42"
        ],
        [
         "Bantam (Fanfare Imprint)",
         "Heaven's Price",
         "3.55"
        ],
        [
         "Bantam (Fanfare)",
         "22 Indigo Place",
         "3.63"
        ],
        [
         "Bantam Books",
         "Winter Dreams (Sweet Dreams  #141)",
         "4.37"
        ],
        [
         "Bantam Books  Inc.",
         "Exodus",
         "4.34"
        ],
        [
         "Bantam Books (NY)",
         "Use of Weapons",
         "4.18"
        ],
        [
         "Bantam Classic",
         "The Turn of the Screw and Other Short Fiction",
         "3.80"
        ],
        [
         "Bantam Classics",
         "The Last of the Mohicans (The Leatherstocking Tales #2)",
         "4.47"
        ],
        [
         "Bantam Doubleday Dell (NYC)",
         "How the Irish Saved Civilization: The Untold Story of Ireland's Heroic Role from the Fall of Rome to the Rise of Medieval Europe",
         "3.81"
        ],
        [
         "Bantam Doubleday Dell Publishing Company Inc.",
         "Lincoln's Dreams",
         "3.52"
        ],
        [
         "Bantam Doubleday Dell Publishing Group",
         "Sixty Days and Counting (Science in the Capital  #3)",
         "4.15"
        ],
        [
         "Bantam Press",
         "The Devil in the White City: Murder  Magic and Madness at the Fair that Changed America",
         "4.36"
        ],
        [
         "Bantam Skylark",
         "James and the Giant Peach",
         "4.39"
        ],
        [
         "Bantam Spectra",
         "The Hollow Man",
         "4.26"
        ],
        [
         "Bantam Spectra (NY)",
         "Excession (Culture  #5)",
         "4.21"
        ],
        [
         "Bantam Starfire",
         "Against the Odds: Tales of Achievement",
         "3.83"
        ],
        [
         "BantamSpectra",
         "Prince of the Blood (Krondor's Sons  #1)",
         "3.98"
        ],
        [
         "Bantem Press",
         "The Sinner (Rizzoli & Isles  #3)",
         "4.13"
        ],
        [
         "Barbour Books",
         "Come Away My Beloved",
         "4.58"
        ],
        [
         "Barefoot Books",
         "The Barefoot Book Of Ballet Stories",
         "4.21"
        ],
        [
         "Barn Owl Books",
         "The Spiral Stair (Arabel and Mortimer  #6)",
         "4.33"
        ],
        [
         "Barnes  Noble",
         "The Conquest of Gaul",
         "4.13"
        ],
        [
         "Barnes  Noble Classics",
         "Ward No. 6 and Other Stories",
         "4.49"
        ],
        [
         "Barnes & Noble",
         "Twenty Thousand Leagues Under the Sea (Extraordinary Voyages  #6)",
         "4.35"
        ],
        [
         "Barnes & Noble Books",
         "Swann's Way (Remembrance of Things Past  #1)",
         "4.14"
        ],
        [
         "Barnes & Noble Classics",
         "Robinson Crusoe",
         "4.07"
        ],
        [
         "Baronet Books",
         "The Three Musketeers (Great Illustrated Classics)",
         "4.08"
        ],
        [
         "Barricade Books",
         "Jimmy Stewart: The Truth Behind the Legend",
         "4.25"
        ],
        [
         "Barrington Stoke",
         "Before Night Falls",
         "3.39"
        ],
        [
         "Barron's Educational Series",
         "Winter (Four Seasons  #4)",
         "4.00"
        ],
        [
         "Barrons Educational Series",
         "Twelfth Night",
         "4.06"
        ],
        [
         "Basic Books",
         "Why Orwell Matters",
         "4.80"
        ],
        [
         "Basic Books (AZ)",
         "Basic Economics: A Common Sense Guide to the Economy",
         "4.32"
        ],
        [
         "Basil Blackwell (Cambridge  MA/Oxford)",
         "The Ideology of the Aesthetic",
         "4.11"
        ],
        [
         "Bastei Lübbe",
         "The Stand: Das letzte Gefecht",
         "4.34"
        ],
        [
         "Baton Wicks",
         "Everest: Expedition to the Ultimate",
         "3.93"
        ],
        [
         "Batsford",
         "Falconry & Hawking",
         "4.31"
        ],
        [
         "Be Beautiful",
         "Embracing Love  Vol. 6",
         "4.36"
        ],
        [
         "Beach Lane Books",
         "The Turtle (The Lighthouse Family  #4)",
         "4.18"
        ],
        [
         "Beacon Press",
         "You Can't Be Neutral on a Moving Train: A Personal History of Our Times",
         "4.36"
        ],
        [
         "Beacon Press (Boston)",
         "Man's Search for Meaning",
         "4.36"
        ],
        [
         "Bear  Company",
         "Maya Cosmogenesis 2012: The True Meaning of the Maya Calendar End-Date",
         "3.71"
        ],
        [
         "Beckett Media",
         "Beckett Football Card Price Guide",
         "0.00"
        ],
        [
         "Bedford Books",
         "What Did the Constitution Mean to Early Americans? (Historians at Work)",
         "4.02"
        ],
        [
         "Bedford/St. Martin's",
         "The Communist Manifesto with Related Documents",
         "3.55"
        ],
        [
         "Belknap Press",
         "What Is Ancient Philosophy?",
         "4.30"
        ],
        [
         "Belknap Press of Harvard University Press",
         "The Art of Shakespeare's Sonnets",
         "4.30"
        ],
        [
         "Beltz und Gelberg",
         "Cool Girl",
         "3.76"
        ],
        [
         "BenBella Books",
         "The Sheep Look Up",
         "3.95"
        ],
        [
         "Benjamin Cummings",
         "Astronomy: A Beginner's Guide to the Universe",
         "3.88"
        ],
        [
         "Benjamin-Cummings Publishing Company",
         "Physics: for Scientists and Engineers with Modern Physics",
         "3.78"
        ],
        [
         "Benziger",
         "Der Prophet",
         "4.23"
        ],
        [
         "Berkley",
         "Winter Prey (Lucas Davenport  #5)",
         "4.26"
        ],
        [
         "Berkley Books",
         "Without Remorse (John Clark  #1; Jack Ryan Universe Publication Order #6)",
         "4.26"
        ],
        [
         "Berkley Books (NY)",
         "Incident at Exeter",
         "3.56"
        ],
        [
         "Berkley Hardcover",
         "The Lunatic Cafe (Anita Blake  Vampire Hunter #4)",
         "4.13"
        ],
        [
         "Berkley Heat",
         "Wicked Ties (Wicked Lovers  #1)",
         "3.96"
        ],
        [
         "Berkley Prime Crime",
         "A New Leash on Death (A Dog Lover's Mystery  #1)",
         "3.79"
        ],
        [
         "Berkley Prime Crime Books",
         "Stud Rites (A Dog Lover's Mystery #9)",
         "3.81"
        ],
        [
         "Berkley Publishing",
         "Stardust of Yesterday (de Piaget  #9; de Paiget/MacLeod  #1)",
         "4.09"
        ],
        [
         "Berkley Publishing Group",
         "Strange Candy (Anita Blake  Vampire Hunter #0.5)",
         "3.95"
        ],
        [
         "Berkley Sensation",
         "Shadow of the Moon (Moon #5)",
         "4.22"
        ],
        [
         "Berkley Trade",
         "The Magical Worlds of Lord of the Rings: The Amazing Myths  Legends and Facts Behind the Masterpiece",
         "4.20"
        ],
        [
         "Berlitz Kids",
         "La gata perdida = The Missing Cat (Las Aventuras de Nicolas = Adventures with Nicholas)",
         "4.14"
        ],
        [
         "Berrett-Koehler Publishers",
         "The 21 Success Secrets of Self-Made Millionaires: How to Achieve Financial Independence Faster and Easier Than You Ever Thought Possible",
         "4.05"
        ],
        [
         "Bertrand",
         "Disparitions",
         "3.81"
        ],
        [
         "Bethany House Publishers",
         "The Tutor's First Love",
         "4.33"
        ],
        [
         "Better Homes and Gardens Books",
         "Second Home: Finding Your Place in the Fun (Better Homes and Gardens)",
         "3.83"
        ],
        [
         "Between the Lines Productions",
         "Anthony Thwaite: In Conversation With Peter Dale and Ian Hamilton",
         "0.00"
        ],
        [
         "BiblioLife",
         "The Adventures of Sally",
         "3.78"
        ],
        [
         "Big Finish",
         "Doctor Who Short Trips: Repercussions",
         "3.38"
        ],
        [
         "Billboard Books",
         "The Weekend Novelist",
         "3.67"
        ],
        [
         "Birlinn",
         "The Nightmare Years: 1930-40 (20th Century Journey  #2)",
         "4.24"
        ],
        [
         "Birlinn Ltd",
         "The Killer Angels (The Civil War Trilogy  #2)",
         "4.32"
        ],
        [
         "Bison Books",
         "The Lost Continent: The Story of Atlantis",
         "4.13"
        ],
        [
         "Black Classic Press",
         "Black Man of the Nile and His Family",
         "4.61"
        ],
        [
         "Black Dog & Leventhal",
         "The Right Stuff",
         "4.24"
        ],
        [
         "Black Dog & Leventhal Publishers",
         "The Mystery of the Blue Train (Hercule Poirot  #6)",
         "4.26"
        ],
        [
         "Black Lizard Books",
         "The Long Goodbye (Philip Marlowe  #6)",
         "4.22"
        ],
        [
         "Black Sparrow Press",
         "You Get So Alone at Times That it Just Makes Sense",
         "4.24"
        ],
        [
         "Black Swan",
         "Until I Find You",
         "4.23"
        ],
        [
         "Blackstone Audiobooks",
         "The Reverse of the Medal (Aubrey/Maturin  #11)",
         "4.41"
        ],
        [
         "Blackstone Publishing",
         "Till We Have Faces: A Myth Retold",
         "4.19"
        ],
        [
         "Blackwell Publishers",
         "The Christian Theology Reader",
         "4.17"
        ],
        [
         "Blackwell Publishing  Inc.",
         "Philosophical Investigations",
         "4.23"
        ],
        [
         "Blanvalet Taschenbuch",
         "Endymion: Pforten der Zeit",
         "4.17"
        ],
        [
         "Blanvalet Taschenbuch Verlag",
         "Star Wars. Episode I - Die dunkle Bedrohung",
         "4.06"
        ],
        [
         "Blanvalet Verlag GmbH",
         "Betrogen",
         "3.92"
        ],
        [
         "Blood Moon Productions",
         "Brando Unzipped: A Revisionist and Very Private Look at America's Greatest Actor",
         "3.51"
        ],
        [
         "Bloomsbury",
         "The Little Friend",
         "4.56"
        ],
        [
         "Bloomsbury (NYC)",
         "Supermob: How Sidney Korshak and His Criminal Associates Became America's Hidden Power Brokers",
         "3.88"
        ],
        [
         "Bloomsbury / Continuum",
         "Beyond the Chains of Illusion: My Encounter with Marx and Freud",
         "4.07"
        ],
        [
         "Bloomsbury Academic",
         "Time for Revolution",
         "4.27"
        ],
        [
         "Bloomsbury Arden Shakespeare",
         "Romeo and Juliet",
         "4.27"
        ],
        [
         "Bloomsbury Children's Books",
         "Tanglewreck",
         "3.46"
        ],
        [
         "Bloomsbury Childrens Books",
         "Sideways Stories from Wayside School (Wayside School #1)",
         "4.15"
        ],
        [
         "Bloomsbury Methuen Drama",
         "You'll Have Had Your Hole",
         "4.27"
        ],
        [
         "Bloomsbury Paperbacks",
         "A Friend of the Earth",
         "3.67"
        ],
        [
         "Bloomsbury Publishing",
         "Pastoralia",
         "4.57"
        ],
        [
         "Bloomsbury Publishing PLC",
         "Turtle Diary",
         "4.12"
        ],
        [
         "Bloomsbury U.S.A. Children's Books",
         "Wayside School Gets A Little Stranger (Wayside School  #3)",
         "4.19"
        ],
        [
         "Bloomsbury UK",
         "Harry Potter and the Prisoner of Azkaban (Harry Potter  #3)",
         "4.56"
        ],
        [
         "Bloomsbury USA",
         "Soldiers of Salamis",
         "3.81"
        ],
        [
         "Bloomsbury USA Children's Books",
         "Harrius Potter et Camera Secretorum",
         "4.42"
        ],
        [
         "Bloomsbury USA Childrens",
         "Harry Potter and the Philosopher's Stone (Harry Potter  #1)",
         "4.47"
        ],
        [
         "Blu",
         "Shout Out Loud! 5",
         "4.32"
        ],
        [
         "Blue Sky Press",
         "Common Ground: The Water  Earth  and Air We Share",
         "3.74"
        ],
        [
         "Bolchazy-Carducci Publishers",
         "The Evolution of the Gilgamesh Epic",
         "4.35"
        ],
        [
         "Bold Strokes Books",
         "Carly's Sound",
         "4.21"
        ],
        [
         "Bollingen/Princeton University Press (NJ)",
         "The Complete Works: The Revised Oxford Translation  Vol. 1",
         "4.43"
        ],
        [
         "Book Publishing Company",
         "Monday Night Class",
         "3.89"
        ],
        [
         "Book Publishing Company (TN)",
         "Spiritual Midwifery",
         "4.38"
        ],
        [
         "Book of the Month Club",
         "Storm of the Century: An Original Screenplay",
         "3.92"
        ],
        [
         "Bookclub-In-A-Box",
         "A Complicated Kindness (Bookclub-In-A-Box)",
         "4.00"
        ],
        [
         "Booket",
         "El perfume: Historia de un asesino",
         "4.02"
        ],
        [
         "Booklocker.com  Inc.",
         "The Play Soldier",
         "4.50"
        ],
        [
         "Books on Tape",
         "Undaunted Courage",
         "4.21"
        ],
        [
         "Booksales",
         "The Complete Dream Dictionary",
         "3.82"
        ],
        [
         "Bookspan",
         "Something Wicked This Way Comes",
         "3.94"
        ],
        [
         "Boosey & Hawkes Inc",
         "The Complete Theory Fun Factory: Music Theory Puzzles and Games for the Early Grades",
         "5.00"
        ],
        [
         "Borgo Press",
         "The Well at the World's End: Volume II",
         "3.90"
        ],
        [
         "Boston Common Press",
         "Cook's Illustrated 2003 (Cook's Illustrated Annuals)",
         "4.69"
        ],
        [
         "Bradford Book",
         "Turtles  Termites  and Traffic Jams: Explorations in Massively Parallel Microworlds",
         "4.50"
        ],
        [
         "BradyGames",
         "Zone of the Enders: The 2nd Runner Official Strategy Guide",
         "5.00"
        ],
        [
         "Bradygames",
         "Manhunt Official Strategy Guide",
         "4.00"
        ],
        [
         "Bragelonne",
         "L'epée de Shannara",
         "3.45"
        ],
        [
         "Brava",
         "You Don't Know Jack (NY Girlfriends  #2)",
         "3.73"
        ],
        [
         "Bright Sky Press",
         "Dark Rivers of the Heart / Sole Survivor / Intensity",
         "4.41"
        ],
        [
         "Brill/Rodopi",
         "I'm Telling You Stories: Jeanette Winterson and the Politics of Reading (Postmodern Studies 25)",
         "3.70"
        ],
        [
         "Brilliance Audio",
         "Without Fail (Jack Reacher  #6)",
         "4.21"
        ],
        [
         "Bristol Classical Press",
         "Theocritus: Select Poems: Select Poems",
         "4.04"
        ],
        [
         "British Academy",
         "1848: The Revolution of the Intellectuals",
         "3.11"
        ],
        [
         "British Film Institute",
         "Trainspotting",
         "4.43"
        ],
        [
         "British Library",
         "Jack Vance: Critical Appreciations and a Bibliography",
         "4.15"
        ],
        [
         "Broadview Press Inc",
         "The Woman in White",
         "4.11"
        ],
        [
         "Broadway",
         "The Complete Stories  Vol 1",
         "4.36"
        ],
        [
         "Broadway Books",
         "Youth in Revolt: The Journals of Nick Twisp",
         "4.43"
        ],
        [
         "Broadway Business",
         "The Art of Innovation: Lessons in Creativity from IDEO  America's Leading Design Firm",
         "3.97"
        ],
        [
         "Broadway/Crown Publishing Group",
         "Going After Cacciato",
         "3.91"
        ],
        [
         "Brookline Books",
         "Writing",
         "3.75"
        ],
        [
         "Bruno Gmünder",
         "Wicked Dreams",
         "3.67"
        ],
        [
         "Bryn Mawr Commentaries",
         "Thucydides  Book 6 Commentary",
         "4.50"
        ],
        [
         "Buccaneer Books",
         "The Untouchables",
         "4.14"
        ],
        [
         "Bulfinch",
         "Odes to Common Things",
         "4.39"
        ],
        [
         "Bureau of Public Secrets",
         "Situationist International Anthology: Revised and Expanded Edition",
         "4.26"
        ],
        [
         "Burford Books",
         "Shattered Air: A True Account of Catastrophe and Courage on Yosemite's Half Dome",
         "3.77"
        ],
        [
         "Business Plus",
         "The Coming Economic Collapse: How You Can Thrive When Oil Costs $200 a Barrel",
         "4.14"
        ],
        [
         "Byblos",
         "La reina de los condenados (Crónicas Vampíricas  #3)",
         "3.89"
        ],
        [
         "C. Bange",
         "Erläuterungen Zu Max Frisch  Homo Faber",
         "3.60"
        ],
        [
         "CDS Books",
         "Creepers",
         "3.66"
        ],
        [
         "CMX",
         "Emma  Vol. 01",
         "3.83"
        ],
        [
         "CQ Press",
         "The Elections of 2004",
         "4.00"
        ],
        [
         "CRC Press",
         "A History of the Life Sciences",
         "4.53"
        ],
        [
         "Caedmon",
         "Welcome to the Monkey House",
         "4.30"
        ],
        [
         "Cambridge University Press",
         "Who Needs Greek? Contests in the Cultural History of Hellenism",
         "4.54"
        ],
        [
         "Cambridge University Press/The New Cambridge Shakespeare",
         "Hamlet  Prince of Denmark",
         "4.02"
        ],
        [
         "Canadian Broadcasting Corporation (CBC Audio)",
         "Vinyl Cafe Odd Jobs",
         "4.56"
        ],
        [
         "Candlewick",
         "Judy Moody Declares Independence (Judy Moody #6)",
         "4.09"
        ],
        [
         "Candlewick Press",
         "The Tiger Rising",
         "4.37"
        ],
        [
         "Candlewick Press (MA)",
         "Captain Slaughterboard Drops Anchor",
         "4.15"
        ],
        [
         "Canongate Books",
         "The Crimson Petal and the White",
         "4.00"
        ],
        [
         "Canongate U.S.",
         "Weight: The Myth of Atlas and Heracles",
         "3.77"
        ],
        [
         "Capstone Press",
         "The Girlhood Diary of Louisa May Alcott  1843-1846: Writings of a Young Author",
         "4.33"
        ],
        [
         "Cardoza",
         "Doyle Brunson's Super System",
         "3.94"
        ],
        [
         "Carl Hanser",
         "Operation Shylock. Ein Bekenntnis",
         "4.09"
        ],
        [
         "Carlsen",
         "Utena: Revolutionary Girl 01",
         "4.56"
        ],
        [
         "Carlton Publishing Group",
         "Seven Men and Two Others",
         "3.88"
        ],
        [
         "Carole Marsh Mysteries",
         "The Mystery on the Mighty Mississippi",
         "3.73"
        ],
        [
         "Carroll & Graf",
         "The Burnt Orange Heresy",
         "3.90"
        ],
        [
         "Carroll & Graf Publishers",
         "The Boys of Everest: Chris Bonington and the Tragedy of Climbing's Greatest Generation",
         "4.06"
        ],
        [
         "Cartago",
         "Doisneau",
         "4.36"
        ],
        [
         "Cartwheel",
         "The Treasure Hunt: A Little Bill Book",
         "3.69"
        ],
        [
         "Casa Creacion",
         "Amor Y Respeto/love And Respect: El Respeto Que El Desesperadamente Necesita/ The Love She Most Desires And The Respect He Desperately Needs",
         "4.18"
        ],
        [
         "Castle Books",
         "The Treasured Writings of Kahlil Gibran",
         "4.42"
        ],
        [
         "Catholic Book Publishing",
         "Confessions of Saint Augustine (Paraclete Living Library)",
         "3.92"
        ],
        [
         "Cavendish Square Publishing",
         "The White House (Symbols of America)",
         "4.00"
        ],
        [
         "Cedar Books",
         "How to Win Friends and Influence People",
         "4.19"
        ],
        [
         "Celestial Arts",
         "Heart & Hands: A Midwife's Guide to Pregnancy & Birth",
         "4.37"
        ],
        [
         "Cemetery Dance Publications",
         "Wild Things: Four Tales",
         "4.47"
        ],
        [
         "Cengage Learning",
         "The Riverside Milton",
         "4.26"
        ],
        [
         "Center Point",
         "Act of Treason (Mitch Rapp  #9)",
         "4.29"
        ],
        [
         "Century",
         "Eat Right 4 Your Type",
         "3.57"
        ],
        [
         "Chalice Press",
         "The Wolf Shall Dwell With the Lamb: A Spirituality for Leadership in a Multicultural Community",
         "3.96"
        ],
        [
         "Challenge Press  Inc./Challcrest Press",
         "Algernon  Charlie  and I: A Writer's Journey: Plus the Complete Original Short Novelette Version of Flowers for Algernon",
         "4.06"
        ],
        [
         "Changeling Press",
         "A Changeling for All Seasons (Changeling Seasons #1)",
         "3.76"
        ],
        [
         "Chaosium",
         "The Keeper's Companion Vol. 1 (Call of Cthulhu RPG)",
         "4.45"
        ],
        [
         "Charles Scribner's Sons",
         "Watership Down",
         "4.06"
        ],
        [
         "Charlesbridge",
         "Mosquito Bite",
         "3.78"
        ],
        [
         "Charnwood",
         "Pride and Prejudice",
         "4.26"
        ],
        [
         "Chartwell Books",
         "Winchester Shotguns",
         "5.00"
        ],
        [
         "Chatto  Windus",
         "The Pure in Heart (Simon Serrailler  #2)",
         "4.00"
        ],
        [
         "Chatto & Windus",
         "The Risk of Darkness (Simon Serrailler  #3)",
         "4.34"
        ],
        [
         "Chatto and Windus",
         "Swanns Way (In Search of Lost Time #1)",
         "4.14"
        ],
        [
         "Checkmark Books",
         "Edgar Allan Poe A to Z",
         "4.33"
        ],
        [
         "Chelsea House Publications",
         "Ray Bradbury's Fahrenheit 451",
         "4.41"
        ],
        [
         "Chelsea House Publishers",
         "Sarah Bernhardt",
         "4.25"
        ],
        [
         "Cherry Lane Music Company",
         "Molly Hatchet - 5 of the Best",
         "4.33"
        ],
        [
         "Cherry Red Books",
         "The Day the Country Died: A History of Anarcho-Punk  1980-1984",
         "3.99"
        ],
        [
         "Chicago Review Press",
         "Women  Cats: The History of a Love Affair",
         "4.24"
        ],
        [
         "Chicken House",
         "Ghosthunters and the Muddy Monster of Doom! (Ghosthunters  #4)",
         "3.93"
        ],
        [
         "Chicken House / Scholastic",
         "When Santa Fell to Earth",
         "3.76"
        ],
        [
         "Child's Play International",
         "The Little Mouse  the Red Ripe Strawberry and the Big Hungry Bear",
         "4.32"
        ],
        [
         "Children's Classics",
         "The Secret Garden",
         "4.13"
        ],
        [
         "Children's Press(CT)",
         "Latitude and Longitude (Rookie Read-About Geography)",
         "3.53"
        ],
        [
         "Chosen Books",
         "Meeting God at Every Turn",
         "4.46"
        ],
        [
         "Christian Classics",
         "Summa Theologica  5 Vols",
         "4.50"
        ],
        [
         "Chronicle Books",
         "i am 8-bit: Art Inspired by Classic Videogames of the '80s",
         "4.50"
        ],
        [
         "Chu Hartley Publishers LLC",
         "The American Religion",
         "3.76"
        ],
        [
         "Churchill Livingstone",
         "Anesthesiology Review",
         "3.67"
        ],
        [
         "Circlet Press",
         "Through a Brazen Mirror",
         "3.37"
        ],
        [
         "Cisne",
         "Anhelos ocultos",
         "3.94"
        ],
        [
         "Cistercian Publications",
         "Gertrud The Great Of Helfta: Spiritual Exercises",
         "3.43"
        ],
        [
         "Citadel",
         "Wizard: The Life and Times of Nikola Tesla: Biography of a Genius",
         "4.28"
        ],
        [
         "Citadel Press",
         "The Parrot-Head Companion: An Insider's Guide to Jimmy Buffett",
         "4.19"
        ],
        [
         "City Lights",
         "Howl and Other Poems",
         "4.13"
        ],
        [
         "City Lights Publishers",
         "The Essential Neruda: Selected Poems",
         "4.46"
        ],
        [
         "Civitas Books",
         "Shattered Bonds: The Color of Child Welfare",
         "4.19"
        ],
        [
         "Claassen Verlag",
         "Der Buchhändler aus Kabul: Eine Familiengeschichte",
         "3.76"
        ],
        [
         "Clarendon Press",
         "Theogonia  Opera et Dies  Scutum  Fragmenta Selecta (Classical Texts)",
         "4.10"
        ],
        [
         "Clarion Books",
         "The Turtle and the Monkey",
         "4.21"
        ],
        [
         "Clarity Press",
         "Dalit: The Black Untaouchables of India",
         "4.20"
        ],
        [
         "Clarkson Potter",
         "Tyler's Ultimate: Brilliant Simple Food to Make Any Time",
         "4.15"
        ],
        [
         "Clarkson Potter Publishers",
         "Tyler Florence's Real Kitchen: An Indespensible Guide for Anybody Who Likes to Cook",
         "4.06"
        ],
        [
         "Clarkson Potter/Publishers",
         "Gale Gand's Short + Sweet : Quick Desserts with Eight Ingredients or Less",
         "3.71"
        ],
        [
         "Classic Books",
         "Indiscretions of Archie",
         "3.87"
        ],
        [
         "Cleis Press",
         "Tristan Taormino's True Lust",
         "4.33"
        ],
        [
         "Cliffs Notes",
         "William Shakespeare's A Midsummer Night's Dream (Cliffs Complete)",
         "4.32"
        ],
        [
         "Coffee House Press",
         "Tropic of Orange",
         "3.90"
        ],
        [
         "Cold Spring Harbor Laboratory Press",
         "Bioinformatics: Sequence and Genome Analysis",
         "3.86"
        ],
        [
         "Cold Spring Press",
         "The Sillymarillion: An Unauthorized Parody of J.R.R. Tolkien's Classic the Silmarillion",
         "3.54"
        ],
        [
         "Collection of Historical Scientific Instruments",
         "The Quest for Longitude: The Proceedings of the Longitude Symposium  Harvard University  Cambridge  Massachusetts  November 4-6  1993",
         "4.50"
        ],
        [
         "Collector's Library",
         "The Iliad",
         "4.07"
        ],
        [
         "Collectors Library",
         "Three Men in a Boat: To Say Nothing of the Dog",
         "3.89"
        ],
        [
         "Collier Books",
         "The Song of Rhiannon",
         "4.02"
        ],
        [
         "Collins",
         "Sam And The Firefly (Beginner Books)",
         "4.17"
        ],
        [
         "Collins Design",
         "The Homecoming",
         "4.08"
        ],
        [
         "Collins Modern Classics",
         "The Lord of the Rings / The Hobbit",
         "4.59"
        ],
        [
         "Collins Publishers",
         "You: The Owner's Manual: An Insider's Guide to the Body That Will Make You Healthier and Younger",
         "3.82"
        ],
        [
         "Collins Reference",
         "How to Go to College Almost for Free  Updated",
         "4.38"
        ],
        [
         "Columbia Pictures Pubns",
         "Stand by Me",
         "4.32"
        ],
        [
         "Columbia University Press",
         "William Faulkner: The Sound and the Fury and as I Lay Dying: Essays  Articles  Reviews",
         "4.25"
        ],
        [
         "ComicsLit",
         "Within a Budding Grove  Volume 2 (Remembrance of Things Past  #3)",
         "4.04"
        ],
        [
         "ComicsOne Corporation",
         "Tomie 2  富江 Part 2",
         "3.94"
        ],
        [
         "Companhia das Letras",
         "O Xará",
         "3.99"
        ],
        [
         "Conari Press",
         "The Book of Awakening: Having the Life You Want by Being Present to the Life You Have",
         "4.31"
        ],
        [
         "Condor Books",
         "The Wanderer",
         "3.96"
        ],
        [
         "Contemporary Books",
         "How to Talk to Anyone: 92 Little Tricks for Big Success in Relationships",
         "3.78"
        ],
        [
         "Contemporary French Fiction",
         "V.",
         "3.96"
        ],
        [
         "Continuum",
         "Gita on the Green",
         "3.78"
        ],
        [
         "Cook's Illustrated",
         "The Best American Classics",
         "4.53"
        ],
        [
         "Cooper Square Press",
         "Temptations",
         "4.19"
        ],
        [
         "Cooper Square Publishers",
         "Marilyn Monroe: The Biography",
         "4.03"
        ],
        [
         "Copernicus Books",
         "Leaps of Faith: Science  Miracles & the Search for Supernatural Consolation",
         "3.61"
        ],
        [
         "Copper Canyon Press",
         "The Collected Songs of Cold Mountain",
         "4.41"
        ],
        [
         "Corgi",
         "Witches Abroad (Discworld  #12)",
         "4.32"
        ],
        [
         "Corgi Books",
         "The Hotel New Hampshire",
         "3.90"
        ],
        [
         "Corgi Books (Adult)",
         "Queen of Sorcery (The Belgariad  #2)",
         "4.14"
        ],
        [
         "Corgi Childrens",
         "Spindle's End",
         "4.30"
        ],
        [
         "Cornell University Press",
         "The River Runs Black: The Environmental Challenge to China's Future",
         "4.35"
        ],
        [
         "Cornerstone Press Chicago",
         "Christian Mythmakers: C.S. Lewis  Madeleine L'Engle  J.R.R. Tolkien  George MacDonald  G.K. Chesterton  Charles Williams  Dante Alighieri  John Bunyan  Walter Wangerin  Robert Siegel  and Hannah Hurnard",
         "3.93"
        ],
        [
         "Coronet",
         "Girl Meets Ape",
         "3.73"
        ],
        [
         "Coronet Books (GB)",
         "The Stone Monkey (Lincoln Rhyme  #4)",
         "4.20"
        ],
        [
         "Cosimo Classics",
         "The Phenomenology of Mind  Volume II",
         "4.00"
        ],
        [
         "Cosmos Books (OH)",
         "Toast  and Other Stories",
         "3.80"
        ],
        [
         "Council Oak Books",
         "Kick the Can (One-Eyed Mack  #1)",
         "3.85"
        ],
        [
         "Council Press",
         "Huck Finn and Tom Sawyer Among the Indians",
         "3.57"
        ],
        [
         "Counterpoint",
         "The Soloist",
         "3.85"
        ],
        [
         "Counterpoint LLC",
         "The Horizontal World: Growing Up Wild in the Middle of Nowhere",
         "3.77"
        ],
        [
         "Countryman Press",
         "King Arthur Flour Whole Grain Baking: Delicious Recipes Using Nutritious Whole Grains",
         "4.13"
        ],
        [
         "Courage Books",
         "The New Big Book of America",
         "5.00"
        ],
        [
         "Course Technology",
         "programming.java: An Introduction to Programming Using Java: An Introduction to Programming Using Java",
         "4.00"
        ],
        [
         "Creation Books",
         "Fucked By Rock + Cd",
         "3.96"
        ],
        [
         "Crescent",
         "China and Japan (Myths and Legends)",
         "3.52"
        ],
        [
         "Critica (Grijalbo Mondadori)",
         "Brevísima historia del tiempo",
         "4.22"
        ],
        [
         "Crossing Press",
         "Sister Outsider: Essays and Speeches",
         "4.49"
        ],
        [
         "Crossroad",
         "Life of the Beloved: Spiritual Living in a Secular World",
         "4.34"
        ],
        [
         "Crossroad Publishing Company",
         "Save the Date: A Spirituality of Dating  Love  Dinner  and the Divine",
         "3.60"
        ],
        [
         "Crossway Books",
         "When the Darkness Will Not Lift: Doing What We Can While We Wait for God—And Joy",
         "4.46"
        ],
        [
         "Crown",
         "World War Z: An Oral History of the Zombie War",
         "4.22"
        ],
        [
         "Crown Business",
         "Rule #1: The Simple Strategy for Successful Investing in Only 15 Minutes a Week!",
         "4.02"
        ],
        [
         "Crown Forum",
         "FDR's Folly: How Roosevelt and His New Deal Prolonged the Great Depression",
         "4.00"
        ],
        [
         "Crown Journeys/Crown Publishers/Crown Publishing Group/Random House",
         "Fugitives and Refugees: A Walk in Portland  Oregon",
         "3.51"
        ],
        [
         "Crown Publishers",
         "Men  Martians and Machines",
         "3.77"
        ],
        [
         "Crown Publishing Group",
         "The Clan of the Cave Bear (Earth's Children  #1)",
         "4.05"
        ],
        [
         "Crown Publishing Group (NY)",
         "Thunderstruck",
         "4.22"
        ],
        [
         "Cruithne Press",
         "The Work of Work Servitude  Slavery and Labor in Medieval England",
         "3.00"
        ],
        [
         "Crystal Clarity Publishers",
         "How to Be Happy All the Time",
         "4.36"
        ],
        [
         "Cumberland House Publishing",
         "The Southern Haunting of Truman Capote",
         "3.90"
        ],
        [
         "Cybereditions Corp",
         "King Lear  Macbeth  Indefinition  and Tragedy",
         "4.11"
        ],
        [
         "Cátedra",
         "El Diablo Cojuelo",
         "3.06"
        ],
        [
         "Círculo de Lectores",
         "El amor en los tiempos del cólera",
         "3.91"
        ],
        [
         "DAW",
         "Winds of Fury (Valdemar: Mage Winds #3)",
         "4.25"
        ],
        [
         "DAW Books",
         "In the Green Star's Glow (Green Star  #5)",
         "3.95"
        ],
        [
         "DAW Books (NY)",
         "Polymath (Zarathustra Refugee Planets  #2)",
         "3.56"
        ],
        [
         "DAW Books Inc",
         "The Many Worlds of Magnus Ridolph",
         "4.27"
        ],
        [
         "DAW Fantasy",
         "To Green Angel Tower  Part 2 (Memory  Sorrow  and Thorn  #3; Part 2)",
         "4.20"
        ],
        [
         "DAW Hardcover",
         "Regeneration (Species Imperative  #3)",
         "4.13"
        ],
        [
         "DAW SF",
         "Manshape",
         "3.11"
        ],
        [
         "DC Comics",
         "Underworld Unleashed",
         "4.47"
        ],
        [
         "DC Comics Vertigo",
         "The Invisibles  Vol. 7: The Invisible Kingdom",
         "4.24"
        ],
        [
         "DEBOLS!LLO",
         "Artemis Fowl (Artemis Fowl  #1)",
         "3.84"
        ],
        [
         "DK",
         "The Marvel Encyclopedia",
         "4.51"
        ],
        [
         "DK Children",
         "You Can Draw: Star Wars",
         "4.33"
        ],
        [
         "DK Publishing",
         "Touch & Feel: Animals Boxed Set",
         "4.29"
        ],
        [
         "DK Publishing (Dorling Kindersley)",
         "The Story of Philosophy: A Concise Introduction to the World's Greatest Thinkers and Their Ideas",
         "4.41"
        ],
        [
         "Da Capo Press",
         "Unsung Heroes Of Rock 'n' Roll: The Birth Of Rock In The Wild Years Before Elvis",
         "4.53"
        ],
        [
         "Dabel Brothers Productions",
         "Magician: Apprentice (The Riftwar Saga  #1)",
         "4.45"
        ],
        [
         "Dabel Brothers Publishing",
         "The Wood Boy / The Burning Man",
         "4.14"
        ],
        [
         "Dafina Books",
         "When Somebody Loves You Back (Soulmates Dissipate  #6)",
         "4.38"
        ],
        [
         "Daimon Verlag",
         "C.G. Jung and Hermann Hesse: A Book of Two Friendships",
         "4.02"
        ],
        [
         "Dalkey Archive Press",
         "Yellow Back Radio Broke-Down",
         "4.01"
        ],
        [
         "Dante University of America Press",
         "The Prince",
         "3.81"
        ],
        [
         "Dark Horse",
         "The Amazing Adventures of the Escapist: Volume 1",
         "3.94"
        ],
        [
         "Dark Horse Books",
         "The Tale of Genji",
         "4.58"
        ],
        [
         "Dark Horse Comics",
         "Will Eisner Sketchbook",
         "4.31"
        ],
        [
         "Dark Horse Manga",
         "The Ring Volume 4 Birthday",
         "4.37"
        ],
        [
         "Dartmouth College Press",
         "Julie  or the New Heloise",
         "3.46"
        ],
        [
         "Darton  Longman & Todd",
         "The Wounded Healer: Ministry in Contemporary Society",
         "4.26"
        ],
        [
         "David C Cook",
         "Louisa May Alcott's Christmas Treasury",
         "3.96"
        ],
        [
         "David C. Cook",
         "The Heart of a Leader",
         "3.96"
        ],
        [
         "David R. Godine",
         "How Tom Beat Captain Najork and His Hired Sportsmen (Captain Najork #1)",
         "4.29"
        ],
        [
         "David R. Godine Publisher",
         "Waiting for the Party: The Life of Frances Hodgson Burnett  1849-1924",
         "4.33"
        ],
        [
         "Daw Books",
         "The Sword of Angels (The Bronze Knight  #3)",
         "4.20"
        ],
        [
         "De Boekerij",
         "Vergeef me",
         "4.18"
        ],
        [
         "DeBolsillo",
         "¿Quién te lo ha contado?",
         "4.12"
        ],
        [
         "DeVorss & Company",
         "The Guide to Dan Brown's the Solomon Key",
         "2.98"
        ],
        [
         "Deadite Press (Eraserhead Press)",
         "Jesus Freaks",
         "3.69"
        ],
        [
         "Debolsillo",
         "Todo está iluminado",
         "4.22"
        ],
        [
         "Dedalus",
         "Eugene Onegin",
         "4.09"
        ],
        [
         "Dedalus Limited",
         "The Perfume of the Lady in Black",
         "3.53"
        ],
        [
         "Del Rey",
         "Yoda: Dark Rendezvous",
         "4.53"
        ],
        [
         "Del Rey Ballantine Random House",
         "The Bloody Crown of Conan (Conan the Cimmerian  #2)",
         "4.30"
        ],
        [
         "Del Rey Books",
         "Tsubasa: RESERVoir CHRoNiCLE  Vol. 04 (Tsubasa: RESERVoir CHRoNiCLE  #4)",
         "4.38"
        ],
        [
         "Del Rey Books (NY)",
         "The Best of Philip K. Dick",
         "4.22"
        ],
        [
         "Del Rey Fantasy",
         "The Mantle of Kendis-Dai (Starshield  #1)",
         "3.67"
        ],
        [
         "Del Rey/Ballantine Books",
         "The Book of Lost Tales  Part One (The History of Middle-Earth  #1)",
         "3.83"
        ],
        [
         "Delacorte Books",
         "Forever in Blue: The Fourth Summer of the Sisterhood (Sisterhood  #4)",
         "3.81"
        ],
        [
         "Delacorte Books for Young Readers",
         "The Power of One (The Power of One  #1)",
         "4.35"
        ],
        [
         "Delacorte Press",
         "Triptych (Will Trent  #1)",
         "4.32"
        ],
        [
         "Delcourt",
         "Black Hole  tome 4 : Reine des lézards",
         "4.26"
        ],
        [
         "Dell",
         "Your Eight Year Old: Lively and Outgoing",
         "4.27"
        ],
        [
         "Dell Laurel-Leaf",
         "Emily of New Moon (Emily  #1)",
         "4.10"
        ],
        [
         "Dell Publishing",
         "Traveller",
         "3.92"
        ],
        [
         "Dell Publishing Company",
         "The Rule of Four",
         "4.23"
        ],
        [
         "Dell Yearling",
         "The Witches of Worm",
         "3.69"
        ],
        [
         "Delmar Thomson Learning",
         "Graphic Design Solutions",
         "4.04"
        ],
        [
         "Delta",
         "Voyager (Outlander  #3)",
         "4.48"
        ],
        [
         "Delta Publishing",
         "Black and Blue",
         "3.88"
        ],
        [
         "Denoël",
         "Zodiac",
         "4.10"
        ],
        [
         "Deodand",
         "The Mysterious Affair at Styles (Hercule Poirot  #1)",
         "3.99"
        ],
        [
         "Deodand Publishing",
         "Lair of the White Worm",
         "2.86"
        ],
        [
         "Dervy",
         "Le prophète",
         "4.23"
        ],
        [
         "Deseret Book Company",
         "The Loftier Way: Tales from the Ancient American Frontier",
         "3.78"
        ],
        [
         "Destino Ediciones",
         "La historia de la familia Roccamatio de Helsinki",
         "3.48"
        ],
        [
         "Destiny Books",
         "Psychonavigation: Techniques for Travel Beyond Time",
         "4.10"
        ],
        [
         "Destiny Image Incorporated",
         "Experiencing Father's Embrace",
         "4.33"
        ],
        [
         "Deutscher Taschenbuch Verlag",
         "Power: Die 48 Gesetze Der Macht",
         "4.18"
        ],
        [
         "Devil's Due Publishing",
         "Dragons of Winter Night (Dragonlance: Chronicles  #2)",
         "4.12"
        ],
        [
         "Dey Street Books",
         "The Dirt: Confessions of the World's Most Notorious Rock Band",
         "4.16"
        ],
        [
         "Dhv der Hörverlag",
         "Harry Potter und der Gefangene von Askaban (Harry Potter  #3)",
         "4.56"
        ],
        [
         "Dial",
         "William Shakespeare’s: Twelfth Night (Shakespeare Retellings  #6)",
         "4.11"
        ],
        [
         "Dial Books",
         "William Shakespeare’s: Romeo and Juliet (Shakespeare Retellings  #4)",
         "3.97"
        ],
        [
         "Dial Press",
         "The Cloud Atlas",
         "4.22"
        ],
        [
         "Dial Press Trade Paperback",
         "Wampeters  Foma and Granfalloons",
         "4.38"
        ],
        [
         "Diamond/Charter",
         "Something Borrowed",
         "4.14"
        ],
        [
         "Diana TB",
         "Fuselfieber",
         "3.79"
        ],
        [
         "Digireads.com",
         "The Trojan Women",
         "4.08"
        ],
        [
         "Digital Manga Publishing",
         "The Art of Loving",
         "4.21"
        ],
        [
         "Digital Manga Publishing / Dark Horse",
         "Vampire Hunter D Volume 07: Mysterious Journey to the North Sea - Part One",
         "4.27"
        ],
        [
         "Diogenes",
         "Das Parfum. Die Geschichte eines Mörders",
         "4.02"
        ],
        [
         "Diogenes Verlag",
         "Das Hotel New Hampshire",
         "3.90"
        ],
        [
         "Disinformation Books",
         "The Real Rule of Four: The Unauthorized Guide to the New York Times #1 Bestseller",
         "3.46"
        ],
        [
         "Disinformation Company",
         "You are Being Lied To: The Disinformation Guide to Media Distortion  Historical Whitewashes  and Cultural Myths",
         "3.87"
        ],
        [
         "Disney Editions",
         "The Art of the Hunchback of Notre Dame",
         "4.44"
        ],
        [
         "Disney Enterprises",
         "The Making Of Disney's Animal Kingdom Theme Park",
         "4.32"
        ],
        [
         "Disney Hyperion Books",
         "The Sea of Monsters (Percy Jackson and the Olympians  #2)",
         "4.25"
        ],
        [
         "Disney Press",
         "Violet's House: A Giant Touch-and-Feel Book (Baby Einstein)",
         "5.00"
        ],
        [
         "Disney-Hyperion",
         "The Supernaturalist",
         "4.13"
        ],
        [
         "Distribooks",
         "Violin",
         "3.28"
        ],
        [
         "Do-Not Press",
         "Judas Pig",
         "4.27"
        ],
        [
         "Dodd Mead; 1st edition (September 1976)",
         "Sleeping Murder (Miss Marple  #13)",
         "3.95"
        ],
        [
         "Dodo Press",
         "Stalky & Co.",
         "4.16"
        ],
        [
         "Doherty  Tom Associates  LLC",
         "Shadow Puppets (Shadow Series  #3)",
         "3.89"
        ],
        [
         "Dominion Press",
         "The Days of Vengeance: An Exposition of the Book of Revelation",
         "4.18"
        ],
        [
         "Dorling Kindersley Children",
         "Flowers (Eyewitness Explorers)",
         "3.85"
        ],
        [
         "Doubleday",
         "Where's My Cow? (Discworld  #34.5)",
         "4.25"
        ],
        [
         "Doubleday & Company  Inc.",
         "The Complete Stories and Poems",
         "4.38"
        ],
        [
         "Doubleday Books",
         "You Don't Love Me Yet",
         "4.37"
        ],
        [
         "Doubleday Books for Young Readers",
         "Laura Ingalls Wilder's Fairy Poems",
         "4.31"
        ],
        [
         "Doubleday Canada",
         "The Curious Incident of the Dog in the Night-time",
         "3.88"
        ],
        [
         "Doubleday Publishing (NY)",
         "The Da Vinci Code (Robert Langdon  #2)",
         "3.84"
        ],
        [
         "Douglas  McIntyre",
         "Souvenir of Canada 2",
         "3.85"
        ],
        [
         "Douglas & McIntyre",
         "Terry: Terry Fox and His Marathon of Hope",
         "4.34"
        ],
        [
         "Dover Publications",
         "Young Goodman Brown and Other Short Stories",
         "4.50"
        ],
        [
         "Dover Publications  Inc.",
         "The Birth of Tragedy",
         "3.98"
        ],
        [
         "Dover Publications (NY)",
         "Fads and Fallacies in the Name of Science",
         "4.06"
        ],
        [
         "Dover Publications (NYC)",
         "Lost Continents",
         "3.65"
        ],
        [
         "Downtown Press",
         "The Manolo Matrix (Codebreaker Trilogy #2)",
         "4.02"
        ],
        [
         "Dr. Master Productions Inc.",
         "Category: Freaks  Vol. 1 (Category: Freaks  #1)",
         "3.55"
        ],
        [
         "Dragon Door Publications",
         "The Naked Warrior: Master the Secrets of the Super-Strong - Using Bodyweight Exercises Only",
         "4.00"
        ],
        [
         "Dragonfly Books",
         "Switch on the Night",
         "4.13"
        ],
        [
         "Dramatists Play Service",
         "The SantaLand Diaries and Season's Greetings",
         "4.18"
        ],
        [
         "Dramatists Play Service  Inc.",
         "Wonder of the World",
         "3.93"
        ],
        [
         "Drawn and Quarterly",
         "The Acme Novelty Library #17",
         "4.35"
        ],
        [
         "Droemer Knaur",
         "Die Farbe von Wasser",
         "4.09"
        ],
        [
         "Dtv",
         "Das Tulpenhaus oder Bekenntnisse einer häßlichen Stiefschwester",
         "3.53"
        ],
        [
         "Duke University Press Books",
         "Photography's Other Histories",
         "4.11"
        ],
        [
         "Dundurn",
         "The Fish Kisser",
         "4.00"
        ],
        [
         "Dutton",
         "The Innocent",
         "4.04"
        ],
        [
         "Dutton Adult",
         "Animal E.R.: Extraordinary Stories Hope Healing from 1 World's Leading Veterinary Hospitals",
         "3.95"
        ],
        [
         "Dutton Books",
         "The Deception of the Emerald Ring (Pink Carnation  #3)",
         "4.08"
        ],
        [
         "Dutton Books for Young Readers",
         "Oh Rats! The Story of Rats and People",
         "3.93"
        ],
        [
         "Dutton Children's Books",
         "Stopping by Woods on a Snowy Evening",
         "4.40"
        ],
        [
         "Dutton Juvenile",
         "The Invisible Child",
         "4.27"
        ],
        [
         "ECW Press",
         "Bite Me!: An Unofficial Guide to the World of Buffy the Vampire Slayer",
         "4.13"
        ],
        [
         "EMC/Paradigm Publishing",
         "A Wrinkle in Time: With Related Readings (A Wrinkle in Time Quintet #1)",
         "4.00"
        ],
        [
         "EOS",
         "Into a Dark Realm (The Darkwar Saga  #2)",
         "4.00"
        ],
        [
         "Earthlight",
         "One More For The Road",
         "3.96"
        ],
        [
         "East Bay Municipal Utility District",
         "Plants and Landscapes for Summer-Dry Climates of the San Francisco Bay Region",
         "4.30"
        ],
        [
         "Ebury Press",
         "The Weekenders: Travels in the Heart of Africa",
         "3.94"
        ],
        [
         "Ecco",
         "Women",
         "4.19"
        ],
        [
         "Ecco / HarperCollins",
         "Rough Crossings: Britain  the Slaves and the American Revolution",
         "3.98"
        ],
        [
         "Ecco Press",
         "The Sheltering Sky",
         "4.25"
        ],
        [
         "Ecco/Harper Perennial",
         "Kitchen Confidential: Adventures in the Culinary Underbelly",
         "4.07"
        ],
        [
         "Edaf S.A.",
         "Los hermanos Karamazov",
         "4.32"
        ],
        [
         "Edebé",
         "Las luces de septiembre (Niebla  #3)",
         "3.77"
        ],
        [
         "Ediciones B",
         "Merrick (Crónicas Vampíricas  #7)",
         "4.24"
        ],
        [
         "Ediciones Glénat España",
         "Gravitation #2",
         "3.99"
        ],
        [
         "Ediciones Urano",
         "La economía Long Tail",
         "3.81"
        ],
        [
         "Edicións Xerais de Galicia  S.A.",
         "Os libros arden mal",
         "3.36"
        ],
        [
         "Edimat Libros",
         "Las aventuras de Tom Sawyer",
         "4.33"
        ],
        [
         "Editions 10/18",
         "Tar baby",
         "3.93"
        ],
        [
         "Editions Gallimard",
         "L'Étranger",
         "3.98"
        ],
        [
         "Editions de l'Olivier",
         "Bright Lights  Big City",
         "3.77"
        ],
        [
         "Editions du Rocher",
         "Vengeance (Joe Kurtz  #1)",
         "3.80"
        ],
        [
         "Editorial Diana",
         "La increíble y triste historia de la cándida Eréndira y de su abuela desalmada",
         "3.90"
        ],
        [
         "Editorial Juventud",
         "Pippi Calzaslargas (Pippi Calzaslargas  #1)",
         "4.13"
        ],
        [
         "Editorial Presença",
         "O Trono de Prata (As Crónicas de Nárnia  #6)",
         "4.09"
        ],
        [
         "Editorial RM",
         "Pedro Páramo",
         "4.05"
        ],
        [
         "Edwin Mellen Press",
         "Critique of Pure Reason (Studies in the History of Philosophy)",
         "3.94"
        ],
        [
         "Eerdmans",
         "The Early History of God: Yahweh and the Other Deities in Ancient Israel",
         "4.03"
        ],
        [
         "Egmont Books Ltd",
         "Den of Thieves (Cat Royal  #3)",
         "4.21"
        ],
        [
         "Egmont Children's Books",
         "Mr. Happy",
         "3.98"
        ],
        [
         "El Paso Norte Press",
         "The Art of War",
         "4.20"
        ],
        [
         "Element",
         "The Art of Dreaming",
         "4.10"
        ],
        [
         "Ellora's Cave",
         "Primal Heat (Includes: Breeds  #8.5; Devlin Dynasty  #1; Moon Lust  #1)",
         "4.13"
        ],
        [
         "Elloras Cave",
         "Wicked Sacrifice (Bound Hearts  #4-5)",
         "4.21"
        ],
        [
         "Ember",
         "The Realm of Possibility",
         "4.13"
        ],
        [
         "Emece Editores",
         "Harry Potter y la Orden del Fénix (Harry Potter  #5)",
         "4.49"
        ],
        [
         "Emecé Editores",
         "Obra Poética",
         "4.49"
        ],
        [
         "Eminent Lives",
         "Ulysses S. Grant: The Unlikely Hero",
         "4.08"
        ],
        [
         "Encounter Books",
         "Black Rednecks and White Liberals",
         "4.38"
        ],
        [
         "Enitharmon Press",
         "Book of Haikus",
         "3.91"
        ],
        [
         "Eos",
         "The Wicked Day (Arthurian Saga  #4)",
         "4.19"
        ],
        [
         "Eraserhead Press",
         "Satan Burger",
         "3.56"
        ],
        [
         "Eros Comix",
         "Black Kiss",
         "3.56"
        ],
        [
         "Europa Editions",
         "Old Filth (Old Filth  #1)",
         "3.93"
        ],
        [
         "Evans Brothers",
         "20 000 Leagues Under The Sea",
         "3.76"
        ],
        [
         "Everyman",
         "Uncle Fred in the Springtime (Blandings Castle  #6)",
         "4.34"
        ],
        [
         "Everyman Chess",
         "The Life and Games of Mikhail Tal",
         "4.52"
        ],
        [
         "Everyman Library / Overlook Press",
         "Mr. Mulliner Speaking",
         "4.01"
        ],
        [
         "Everyman Paperback Classics",
         "Holiday Romance and Other Writings for Children",
         "3.32"
        ],
        [
         "Everyman Paperbacks",
         "The Faerie Queene: Books I to III",
         "3.79"
        ],
        [
         "Everyman's Library",
         "We Tell Ourselves Stories in Order to Live: Collected Nonfiction",
         "4.57"
        ],
        [
         "Everyman's Library 234",
         "The Histories",
         "3.99"
        ],
        [
         "Everyman's Library Classics",
         "Essays",
         "4.33"
        ],
        [
         "Everymans Library",
         "Notes from Underground & A Confession (Everyman's Library)",
         "3.76"
        ],
        [
         "Exact Change",
         "Watchfiends and Rack Screams: Works from the Final Period",
         "4.25"
        ],
        [
         "Express Publishing",
         "The Portrait of Dorian Gray",
         "4.08"
        ],
        [
         "F & W Publications Inc.",
         "How to Write Science Fiction and Fantasy",
         "3.90"
        ],
        [
         "F. Meiner",
         "Wissenschaft der Logik: Die Lehre Vom Begriff (1816)",
         "4.78"
        ],
        [
         "FASA Corp.",
         "The Price of Glory (Saga of the Gray Death Legion  #3)",
         "3.89"
        ],
        [
         "FASA Corporation",
         "The Blood Wood (Earthdawn 6113)",
         "3.71"
        ],
        [
         "FT Press",
         "Traders  Guns & Money: Knowns and Unknowns in the Dazzling World of Derivatives",
         "3.83"
        ],
        [
         "Fab Press",
         "The Gospel of Filth: A Bible of Decadence & Darkness",
         "4.45"
        ],
        [
         "Faber  Faber",
         "View with a Grain of Sand: Selected Poems",
         "4.33"
        ],
        [
         "Faber & Faber",
         "When We Were Orphans",
         "4.31"
        ],
        [
         "Faber & Faber Limited",
         "The Moth Diaries",
         "3.49"
        ],
        [
         "Faber & Faber Ltd.",
         "The Basketball Diaries and the Book of Nods",
         "4.25"
        ],
        [
         "Faber and Faber",
         "The White Castle",
         "4.19"
        ],
        [
         "Faber and Faber & Penguin India",
         "Tales from Firozsha Baag [Jan 01  2002] Mistry  Rohinton",
         "3.94"
        ],
        [
         "FaithWords",
         "The Red Gloves Collection (Red Gloves  #1-4)",
         "4.49"
        ],
        [
         "Fandemonium Books",
         "Trial by Fire (Stargate SG-1  #1)",
         "3.79"
        ],
        [
         "Fanfare",
         "Once a Warrior (Warriors  #1)",
         "3.75"
        ],
        [
         "Fantagraphics",
         "Like a Velvet Glove Cast in Iron",
         "4.06"
        ],
        [
         "Fantagraphics Books",
         "Lout Rampage!",
         "4.10"
        ],
        [
         "Fantasy Flight Games",
         "The Art of H.P. Lovecraft's the Cthulhu Mythos",
         "4.05"
        ],
        [
         "Farrar  Straus & Giroux",
         "The Georgics of Virgil",
         "3.91"
        ],
        [
         "Farrar  Straus and Giroux",
         "The Tenants",
         "4.45"
        ],
        [
         "Farrar  Straus and Giroux (BYR)",
         "The Night of Wishes",
         "4.12"
        ],
        [
         "Farrar  Straus and Giroux (NY)",
         "The World Is Flat: A Brief History of the Twenty-first Century",
         "3.68"
        ],
        [
         "Farrar  Strauss & Giroux-3pl",
         "The Artist of the Missing",
         "3.58"
        ],
        [
         "Farrar Straus Giroux",
         "Uncommon Carriers",
         "4.21"
        ],
        [
         "Farrar Straus and Giroux",
         "The Assistant",
         "3.89"
        ],
        [
         "Fawcett",
         "Winter of Magic's Return",
         "4.31"
        ],
        [
         "Fawcett Books",
         "Trust Fund",
         "4.24"
        ],
        [
         "Fawcett Coventry",
         "Turn of the Cards",
         "3.00"
        ],
        [
         "Fawcett Crest",
         "All Quiet on the Western Front",
         "3.97"
        ],
        [
         "Fawcett Crest Books",
         "Iberia",
         "3.76"
        ],
        [
         "Fawcett crest",
         "The Currents of Space (Galactic Empire  #2)",
         "3.83"
        ],
        [
         "Feiwel & Friends",
         "On the Night You Were Born",
         "4.36"
        ],
        [
         "Fellowship for the Performance",
         "The Listener's Bible: NIV",
         "4.60"
        ],
        [
         "Felony & Mayhem",
         "Belshazzar's Daughter (Inspector Ikmen #1)",
         "3.51"
        ],
        [
         "Feminist Press",
         "Brown Girl  Brownstones",
         "4.07"
        ],
        [
         "Feral House",
         "The covert war against rock: what you don't know about the deaths of Jim Morrison  Tupac Shakur  Michael Hutchence  Brian Jones  Jimi Hendrix  Phil Ochs  Bob Marley  Peter Tosh  John Lennon  The Notorious B.I.G",
         "3.72"
        ],
        [
         "Festival",
         "The Secret Garden Cookbook: Recipes Inspired by Frances Hodgson Burnett's The Secret Garden",
         "4.30"
        ],
        [
         "Festival Books",
         "Matilda",
         "4.31"
        ],
        [
         "Filiquarian Publishing  LLC.",
         "The Communist Manifesto",
         "4.01"
        ],
        [
         "Findakly",
         "Le Chef-D'Œuvre Inconnu",
         "3.87"
        ],
        [
         "Firebird",
         "Triss (Redwall  #15)",
         "4.19"
        ],
        [
         "Firebird Books",
         "Westmark (Westmark  #1)",
         "3.98"
        ],
        [
         "Firebrand Books",
         "Read My Lips: Sexual Subversion and the End of Gender",
         "3.95"
        ],
        [
         "Firelight Press",
         "The Dragon's Eye (Erec Rex  #1)",
         "4.00"
        ],
        [
         "Fireside",
         "Still More George W. Bushisms: Neither in French nor in English nor in Mexican",
         "4.03"
        ],
        [
         "Fireside Books",
         "La Milla Verde",
         "4.44"
        ],
        [
         "First Avenue Editions (Tm)",
         "It's Winter",
         "3.64"
        ],
        [
         "Fischer (Tb.)",
         "Traumjäger und Goldpfote",
         "3.97"
        ],
        [
         "Fischer TB",
         "The Snapper",
         "3.93"
        ],
        [
         "Fischer Taschenbuch Verlag",
         "Fish & Chips (The Barrytown Trilogie  #3)",
         "3.94"
        ],
        [
         "Fithian Press",
         "Laguna  I Love You: The Best of Our Town",
         "0.00"
        ],
        [
         "Five Star (ME)",
         "Such a Good Girl and Other Crime Stories",
         "3.60"
        ],
        [
         "Five Star Trade",
         "Uncommon Grounds (Maggy Thorsen Mystery #1)",
         "3.61"
        ],
        [
         "Flamingo",
         "The Solace Of Leaving Early",
         "3.95"
        ],
        [
         "Fleming H Revell Co",
         "The Screwtape Letters/Book & Study Guide",
         "4.22"
        ],
        [
         "Fleming H. Revell Company",
         "Letters of St. Augustine",
         "4.36"
        ],
        [
         "Focal Press",
         "Practical DV Filmmaking",
         "4.23"
        ],
        [
         "Focus",
         "The Theban Plays: Antigone  King Oidipous & Oidipous at Colonus (Focus Classical Library)",
         "4.04"
        ],
        [
         "Focus Publishing/R. Pullins Company",
         "Acharnians",
         "3.42"
        ],
        [
         "Focus on the Family Publishing",
         "Boomers  Xers  and Other Strangers: Understanding the Generational Differences that Divide Us",
         "3.36"
        ],
        [
         "Fodor's",
         "Fodor's Amsterdam (Fodor's Gold Guides)",
         "3.43"
        ],
        [
         "Folio",
         "Les Mandarins: Tome 2",
         "4.20"
        ],
        [
         "Folio histoire",
         "Montaillou  village occitan de 1294 à 1324",
         "3.96"
        ],
        [
         "FonoLibro",
         "Angeles & Demonios",
         "3.89"
        ],
        [
         "Fontana",
         "The One Tree (The Second Chronicles of Thomas Covenant  #2)",
         "4.07"
        ],
        [
         "Fontana Books",
         "The Great And Secret Show (Book of the Art #1)",
         "4.05"
        ],
        [
         "Fontana Press",
         "Image-Music-Text",
         "4.10"
        ],
        [
         "For Dummies",
         "Turtles & Tortoises for Dummies",
         "4.01"
        ],
        [
         "Forge",
         "Seminole Song",
         "3.88"
        ],
        [
         "Forge Books",
         "Saints",
         "3.85"
        ],
        [
         "Fortress Press",
         "How to Think Theologically",
         "3.67"
        ],
        [
         "Fount",
         "Divine Conspiracy: Rediscovering Our Hidden Life in God",
         "4.22"
        ],
        [
         "Four Ninety-Eight Productions",
         "The Beatles' Story on Capitol Records  Part Two: The Albums",
         "4.72"
        ],
        [
         "Four Walls Eight Windows Press",
         "A Place So Foreign and Eight More",
         "3.72"
        ],
        [
         "Fourth Estate",
         "When Genius Failed: The Rise And Fall Of Long Term Capital Management",
         "4.19"
        ],
        [
         "Fourth Estate (GB)",
         "Strong Motion",
         "3.52"
        ],
        [
         "Fourth Estate Ltd",
         "Galileo's Daughter",
         "3.76"
        ],
        [
         "Fourth Estate Paperbacks",
         "The Corrections",
         "3.79"
        ],
        [
         "Franklin Watts",
         "Tornado!",
         "3.60"
        ],
        [
         "Frederick P. Lenz Foundation for American Buddhism",
         "Insights: Talks On The Nature Of Existence",
         "0.00"
        ],
        [
         "Fredonia Books (NL)",
         "The Lighthouse at the End of the World",
         "3.99"
        ],
        [
         "Free Press",
         "You: On a Diet: The Owner's Manual for Waist Management",
         "4.23"
        ],
        [
         "Free Spirit Publishing",
         "Hands Are Not for Hitting (Ages 4-7)",
         "4.04"
        ],
        [
         "French & European",
         "Cien años de soledad",
         "4.07"
        ],
        [
         "French & European Publications",
         "Kiffe Kiffe Demain (French Edition)",
         "3.40"
        ],
        [
         "French & European Pubns",
         "La Dernière Leçon",
         "4.10"
        ],
        [
         "Fulcrum Publishing",
         "The Gonzo Way: A Celebration of Dr. Hunter S. Thompson",
         "3.96"
        ],
        [
         "Futura",
         "Different Seasons",
         "4.35"
        ],
        [
         "G. P. Putnam's Sons",
         "At Risk (Winston Garano  #1)",
         "3.41"
        ],
        [
         "G.P. Putnam's Sons",
         "Wild Horses",
         "4.31"
        ],
        [
         "G.P. Putnam's Sons Books for Young Readers",
         "The Story of Salt",
         "4.15"
        ],
        [
         "Gaia Books",
         "La Biblia de los Critales: Guia definitiva de los cristales (Cuerpo-Mente)",
         "4.38"
        ],
        [
         "Galahad Books",
         "Portraits of Murder: 47 Short Stories Chosen by the Master of Suspense",
         "4.17"
        ],
        [
         "Gale Cengage",
         "American Writers  Supplement VIII",
         "0.00"
        ],
        [
         "Gallery / Saga Press",
         "The Tombs of Atuan (Earthsea Cycle  #2)",
         "4.09"
        ],
        [
         "Gallery Books",
         "Uncle Shelby's ABZ Book",
         "4.36"
        ],
        [
         "Gallimard",
         "U.S.A.: 42e Parallèle/L'An premier du siècle/La Grosse galette",
         "4.15"
        ],
        [
         "Gallimard Education",
         "Les petits chevaux de Tarquinia",
         "3.96"
        ],
        [
         "Gallimard Jeunesse",
         "Les Nouvelles Recettes irrésistibles de Roald Dahl",
         "4.31"
        ],
        [
         "Gallopade International",
         "The Mystery of the Ancient Pyramid: Cairo  Egypt (Around the World in 80 Mysteries)",
         "3.61"
        ],
        [
         "Gamble Guides",
         "New York City's Best Dive Bars: Drinking and Diving in the Five Boroughs",
         "3.75"
        ],
        [
         "Games Workshop",
         "The Ultramarines Omnibus (Ultramarines #1-3)",
         "3.97"
        ],
        [
         "Games Workshop(uk)",
         "The Soul Drinkers Omnibus (Soul Drinkers #1-3)",
         "3.85"
        ],
        [
         "Gardners Books",
         "Death of an Expert Witness (Adam Dalgliesh #6)",
         "3.99"
        ],
        [
         "Gauntlet Press",
         "Collected Stories  Vol. 2",
         "4.32"
        ],
        [
         "Geddes & Grosset",
         "The Adventures of Sherlock Holmes",
         "4.36"
        ],
        [
         "Gemstone Publishing",
         "Uncle Scrooge #359",
         "4.67"
        ],
        [
         "Geoplaneta",
         "Lonely Planet Londres",
         "4.03"
        ],
        [
         "George Braziller",
         "Te Kaihau: The Windeater",
         "3.72"
        ],
        [
         "George Braziller Inc.",
         "1912 Manuscript on the Special Theory of Relativity",
         "4.41"
        ],
        [
         "Gibbs Smith",
         "Sudden Fiction: American Short-Short Stories",
         "4.09"
        ],
        [
         "Gibbs Smith Publishers",
         "The Big Book of Boy Stuff",
         "4.23"
        ],
        [
         "Gingko Press",
         "Understanding Media: The Extensions of Man",
         "4.12"
        ],
        [
         "Globe",
         "Things Fall Apart: An Adapted Classic",
         "3.66"
        ],
        [
         "Glénat",
         "Nausicaä de la vallée du vent  tome 3",
         "4.59"
        ],
        [
         "Godsfield Press Ltd",
         "Zen in Your Garden",
         "3.60"
        ],
        [
         "Gold Eagle",
         "Savage Sun (Outlanders  #3)",
         "4.11"
        ],
        [
         "Golden Books",
         "The Monster at the End of this Book",
         "4.44"
        ],
        [
         "Golden Gryphon Press",
         "The Fantasy Writer's Assistant and Other Stories",
         "4.09"
        ],
        [
         "Golden/Disney",
         "Walt Disney's Peter Pan (A Little Golden Book)",
         "4.41"
        ],
        [
         "Goldmann",
         "Schöne Lügen",
         "4.16"
        ],
        [
         "Goldmann Verlag",
         "Die Naschkatzen",
         "3.94"
        ],
        [
         "Gollancz",
         "The Rediscovery of Man",
         "4.17"
        ],
        [
         "Gollehon Books",
         "A Sudden Wild Magic",
         "3.75"
        ],
        [
         "Gotham",
         "Candy Girl: A Year in the Life of an Unlikely Stripper",
         "3.54"
        ],
        [
         "Grafton",
         "The Dark Descent  Vol 1: The Color of Evil",
         "4.12"
        ],
        [
         "Gramedia Pustaka Utama",
         "Riley in the Morning",
         "3.44"
        ],
        [
         "Gramercy",
         "The Complete Works",
         "4.50"
        ],
        [
         "Gramercy Books",
         "Treasure Island",
         "4.55"
        ],
        [
         "Grand Central",
         "Nothing Lasts Forever",
         "3.84"
        ],
        [
         "Grand Central Life & Style",
         "The 36-Hour Day: A Family Guide to Caring for Persons with Alzheimer Disease  Related Dementing Illnesses  and Memory Loss in Later Life",
         "4.24"
        ],
        [
         "Grand Central Publishing",
         "Words of Silk",
         "4.56"
        ],
        [
         "Grand Central Publishing (Formerly Warner Books)",
         "Where There's Smoke",
         "3.97"
        ],
        [
         "Granta",
         "When the World Was Steady",
         "3.17"
        ],
        [
         "Granta Books",
         "Granta 7",
         "3.94"
        ],
        [
         "Granta UK",
         "Rodinsky's Room",
         "3.85"
        ],
        [
         "Graphics Press",
         "The Cognitive Style of PowerPoint: Pitching Out Corrupts Within",
         "4.08"
        ],
        [
         "Graphics Press LLC",
         "Beautiful Evidence",
         "4.15"
        ],
        [
         "Grasset",
         "L'Orient  c'est l'Orient",
         "3.88"
        ],
        [
         "Graywolf Press",
         "Some Ether",
         "4.16"
        ],
        [
         "Green Integer",
         "The Last Joy",
         "3.77"
        ],
        [
         "Green Ronin Publishing",
         "Mutants & Masterminds: RPG",
         "3.81"
        ],
        [
         "Greenery Press (CA)",
         "The Mistress Manual: The Good Girl's Guide to Female Dominance",
         "3.76"
        ],
        [
         "Greenwillow Books",
         "The Zebra Wall",
         "4.43"
        ],
        [
         "Greenwood",
         "From Hinton to Hamlet: Building Bridges between Young Adult Literature and the Classics",
         "4.01"
        ],
        [
         "Greenwood Press",
         "The Fantastic Vampire: Studies in the Children of the Night: Selected Essays from the Eighteenth International Conference on the Fantastic in the Arts",
         "0.00"
        ],
        [
         "Griffin",
         "The Autobiography of Henry VIII: With Notes by His Fool  Will Somers",
         "4.26"
        ],
        [
         "Grijalbo",
         "7 hábitos de las familias altamente efectivas",
         "4.16"
        ],
        [
         "Grijalbo Mondadori Sa",
         "La Emperatriz tras el velo (Trilogía Taj Mahal  #1)",
         "4.04"
        ],
        [
         "Grosset & Dunlap",
         "Who Was William Shakespeare?",
         "4.23"
        ],
        [
         "Grove Press",
         "Tropic of Capricorn",
         "4.64"
        ],
        [
         "Grove Press  Black Cat",
         "Layer Cake",
         "3.98"
        ],
        [
         "Grove Press  Granta",
         "Granta 85: Hidden Histories",
         "3.83"
        ],
        [
         "Grove Press  Open City Books",
         "Open City 6: The Only Woman He Ever Left",
         "3.76"
        ],
        [
         "Grove Press (NYC)",
         "Che Guevara: A Revolutionary Life",
         "4.12"
        ],
        [
         "Grove Weidenfeld",
         "Malcolm X Speaks: Selected Speeches and Statements",
         "4.46"
        ],
        [
         "Grove/Atlantic  Inc.",
         "Henry IV",
         "3.91"
        ],
        [
         "Grupo Editorial Norma  S.A.",
         "El diablo de la botella",
         "3.74"
        ],
        [
         "Grupo Océano",
         "El librero de Kabul",
         "3.76"
        ],
        [
         "Gun Digest Books",
         "Standard Catalog of Smith & Wesson",
         "4.44"
        ],
        [
         "Gurze Books",
         "Father Hunger: Fathers  Daughters & Food",
         "3.57"
        ],
        [
         "Gürze Books",
         "Father Hunger: Fathers  Daughters  and the Pursuit of Thinness",
         "3.57"
        ],
        [
         "HJ Kramer",
         "Way of the Peaceful Warrior: A Book That Changes Lives",
         "4.15"
        ],
        [
         "HMH Books for Young Readers",
         "Where the Broken Heart Still Beats: The Story of Cynthia Ann Parker",
         "4.53"
        ],
        [
         "HQN",
         "Tell Me No Lies",
         "3.99"
        ],
        [
         "HQN Books",
         "Anyone But You",
         "3.80"
        ],
        [
         "Hachette",
         "Madame Je-Sais-Tout",
         "4.09"
        ],
        [
         "Hachette Audio",
         "The Closers (Harry Bosch  #11; Harry Bosch Universe  #14)",
         "4.13"
        ],
        [
         "Hachette Books",
         "Wicked: The Grimmerie",
         "4.18"
        ],
        [
         "Hachette Children's",
         "Nightingale's Song",
         "3.02"
        ],
        [
         "Hachette Jeunesse",
         "Le Royaume fantôme",
         "4.21"
        ],
        [
         "Hachette Littérature",
         "Christopher et son monde  1929-1939",
         "4.11"
        ],
        [
         "Hackett Publ. Co Inc",
         "Confessions  Books 1-13",
         "3.98"
        ],
        [
         "Hackett Publishing Company",
         "The Trial and Death of Socrates (Euthyphro  Apology  Crito  Phaedo (death scene only))",
         "4.08"
        ],
        [
         "Hackett Publishing Company  Inc.",
         "Theban Plays",
         "4.36"
        ],
        [
         "Hackett Publishing Company  Inc. (USA)",
         "Aristophanes I: Clouds/Wasps/Birds",
         "3.77"
        ],
        [
         "Hackett Publishing Company (Indianapolis  IN)",
         "The Essential Augustine",
         "3.69"
        ],
        [
         "Hakusen Sha",
         "彼方から 13",
         "4.48"
        ],
        [
         "Hal Leonard Pub Corp",
         "The Perfect Wrong Note: Learning to Trust Your Musical Self",
         "4.24"
        ],
        [
         "Hal Leonard Publishing Corporation",
         "The Beatles Complete - Updated Edition",
         "4.48"
        ],
        [
         "Hamish Hamilton",
         "Raise High the Roof Beam  Carpenters and Seymour: an Introduction",
         "4.11"
        ],
        [
         "Hamish Hamilton Ltd",
         "What Sappho Would Have Said",
         "3.62"
        ],
        [
         "Hamish hamilton",
         "The Best of McSweeney's  Vol. 2",
         "3.81"
        ],
        [
         "Hampton Roads Publishing Company",
         "The Ultimate Time Machine: A Remote Viewer's Perception of Time & Predictions for the New Millennium",
         "4.21"
        ],
        [
         "Harbor Press",
         "Yes  Your Teen Is Crazy!: Loving Your Kid Without Losing Your Mind",
         "4.29"
        ],
        [
         "Harcourt",
         "Winter Is the Warmest Season",
         "4.29"
        ],
        [
         "Harcourt  Brace  Jovanovich",
         "The Princess Bride: S. Morgenstern's Classic Tale of True Love and High Adventure",
         "4.26"
        ],
        [
         "Harcourt  Brace Jovanovich/Harvest",
         "Murder in the Cathedral",
         "3.76"
        ],
        [
         "Harcourt  Inc.(Harvest Book)",
         "Homage to Catalonia",
         "4.14"
        ],
        [
         "Harcourt Brace",
         "The Metamorphoses of Ovid",
         "4.09"
        ],
        [
         "Harcourt Brace & Company",
         "The Curious Sofa",
         "4.18"
        ],
        [
         "Harcourt Brace & company",
         "This Is the Way the World Ends",
         "3.75"
        ],
        [
         "Harcourt Brace Jovanovich",
         "Lectures on Don Quixote",
         "3.87"
        ],
        [
         "Harcourt Brace Jovanovich (NY)",
         "The Fountains of Paradise",
         "3.96"
        ],
        [
         "Harcourt Children's Books",
         "Loving Will Shakespeare",
         "3.47"
        ],
        [
         "Hard Crime Case",
         "The Last Quarry (Quarry #7)",
         "3.93"
        ],
        [
         "Hard Press",
         "The Clicking of Cuthbert",
         "4.32"
        ],
        [
         "Harlequin",
         "The Pirate / The Adventurer / The Cowboy",
         "4.11"
        ],
        [
         "Harlequin American Romance",
         "Seize The Fire",
         "4.00"
        ],
        [
         "Harlequin Anthologies",
         "And the Envelope  Please...: Ever After / An Affair To Remember / It Happened One Night",
         "3.57"
        ],
        [
         "Harlequin Blaze",
         "Take on Me (Secret Lives of Daytime Divas  #1)",
         "3.77"
        ],
        [
         "Harlequin Books",
         "The Part-Time Wife (The Secret Lives of Society Wives  #6)",
         "4.04"
        ],
        [
         "Harlequin Historical",
         "The Gunslinger's Bride (Montana Mavericks: Historicals #1)",
         "4.10"
        ],
        [
         "Harlequin Presents",
         "The Sultan's Bought Bride  (Princess Brides  #1)",
         "3.74"
        ],
        [
         "Harlequin Readers' Choice",
         "Year's Happy Ending",
         "3.97"
        ],
        [
         "Harlequin Romance",
         "P.S. I Love You (Sealed with a Kiss #4)",
         "3.25"
        ],
        [
         "Harlequin Special Releases",
         "The Other Woman (Dundee  Idaho  #7)",
         "4.11"
        ],
        [
         "Harlequin Superromance",
         "First Love  Second Chance",
         "3.73"
        ],
        [
         "Harlequin Temptation",
         "Just Another Pretty Face (Hollywood Dynasty  #2)",
         "3.89"
        ],
        [
         "Harmony",
         "Your Child's Self-Esteem: Step-by-Step Guidelines for Raising Responsible  Productive  Happy Children",
         "4.39"
        ],
        [
         "Harper",
         "With No One as Witness (Inspector Lynley  #13)",
         "4.44"
        ],
        [
         "Harper & Row",
         "West from Home: Letters of Laura Ingalls Wilder  San Francisco  1915  (Little House #11)",
         "3.84"
        ],
        [
         "Harper & Row (NYC et al.)",
         "The Blue and Brown Books",
         "4.14"
        ],
        [
         "Harper Audio",
         "The Edgar Allan Poe Audio Collection",
         "4.39"
        ],
        [
         "Harper Business",
         "What Would Machiavelli Do?: The Ends Justify the Meanness",
         "4.19"
        ],
        [
         "Harper Collins",
         "Mistaken Identity",
         "4.32"
        ],
        [
         "Harper Design",
         "Diana Vreeland",
         "4.24"
        ],
        [
         "Harper Element",
         "The Monk Who Sold His Ferrari: A Fable about Fulfilling Your Dreams and Reaching Your Destiny (Revised)",
         "3.83"
        ],
        [
         "Harper Paperbacks",
         "Zora Neale Hurston: Critical Perspectives Past And Present (Amistad Literary Series)",
         "4.20"
        ],
        [
         "Harper Perennial",
         "You Can't Go Home Again",
         "4.47"
        ],
        [
         "Harper Perennial (HarperCollins)",
         "The Red Queen: Sex and the Evolution of Human Nature",
         "4.04"
        ],
        [
         "Harper Perennial (NYC)",
         "1421: The Year China Discovered America",
         "3.60"
        ],
        [
         "Harper Perennial Classics",
         "Island",
         "3.83"
        ],
        [
         "Harper Perennial Modern Classics",
         "Walt Whitman: A Life",
         "4.42"
        ],
        [
         "Harper Teen",
         "Touching Darkness (Midnighters  #2)",
         "3.89"
        ],
        [
         "Harper Trophy",
         "Old Town in the Green Groves: Laura Ingalls Wilder's Lost Little House Years",
         "4.29"
        ],
        [
         "Harper Voyager",
         "Worlds Enough & Time: Five Tales of Speculative Fiction",
         "4.39"
        ],
        [
         "HarperAudio",
         "The Rocky Road to Romance (Elsie Hawkins  #4)",
         "4.25"
        ],
        [
         "HarperCollins",
         "Winter Days in the Big Woods",
         "4.59"
        ],
        [
         "HarperCollins (SanFrancisco)",
         "Selected Writings",
         "4.29"
        ],
        [
         "HarperCollins Espanol",
         "Las Crónicas de Narnia",
         "4.26"
        ],
        [
         "HarperCollins Leadership",
         "Winning with People Workbook",
         "4.22"
        ],
        [
         "HarperCollins Perennial",
         "Quicksilver (The Baroque Cycle  #1)",
         "3.93"
        ],
        [
         "HarperCollins Publishers",
         "Zelda's Cut",
         "4.45"
        ],
        [
         "HarperCollins Publishers  Inc.",
         "Body For Life: 12 Weeks to Mental and Physical Strength",
         "3.74"
        ],
        [
         "HarperCollins Publishers Ltd",
         "Witness for the Prosecution and Selected Plays",
         "4.53"
        ],
        [
         "HarperCollins UK",
         "Ocean Star Express",
         "3.57"
        ],
        [
         "HarperCollinsChildren’sBooks",
         "Ten Apples Up On Top!",
         "4.35"
        ],
        [
         "HarperCollinsPublishers",
         "The Book of Lost Tales  Part Two (The History of Middle-earth  #2)",
         "4.17"
        ],
        [
         "HarperEntertainment",
         "The Lion  the Witch and the Wardrobe (Chronicles of Narnia #2)",
         "4.26"
        ],
        [
         "HarperFestival",
         "These Happy Golden Years (Little House  #8)",
         "4.26"
        ],
        [
         "HarperLargePrint",
         "Zorro",
         "3.76"
        ],
        [
         "HarperOne",
         "When the Heart Waits: Spiritual Direction for Life's Sacred Questions",
         "4.61"
        ],
        [
         "HarperPaperbacks",
         "Kilo Class (Admiral Arnold Morgan  #2)",
         "4.05"
        ],
        [
         "HarperPerennial",
         "Watership Down",
         "4.06"
        ],
        [
         "HarperPerennial / Perennial Classics",
         "Brave New World",
         "3.99"
        ],
        [
         "HarperPrism",
         "The Player of Games (Culture  #2)",
         "4.27"
        ],
        [
         "HarperResource",
         "A Hard Day's Write: The Stories Behind Every Beatles Song",
         "4.18"
        ],
        [
         "HarperSanFrancisco",
         "The Enneagram Made Easy: Discover the 9 Types of People",
         "3.82"
        ],
        [
         "HarperTeen",
         "Witch Baby (Weetzie Bat  #2)",
         "4.43"
        ],
        [
         "HarperTempest",
         "Wintersmith (Discworld  #35; Tiffany Aching  #3)",
         "4.24"
        ],
        [
         "HarperTorch",
         "Zen and the Art of Motorcycle Maintenance: An Inquiry Into Values (Phaedrus  #1)",
         "4.42"
        ],
        [
         "HarperTorch (an imprint of HarperCollins Publishers)",
         "The Valkyries",
         "3.31"
        ],
        [
         "HarperTrophy",
         "The Time of the Ghost",
         "4.31"
        ],
        [
         "HarperVoyager",
         "Grand Conspiracy (Wars of Light & Shadow #5; Arc 3 - Alliance of Light  #2)",
         "4.11"
        ],
        [
         "Harpercollins",
         "How to be Idle",
         "3.81"
        ],
        [
         "Harpercollins Children's Books",
         "Horton Hatches the Egg",
         "4.16"
        ],
        [
         "Harpercollins Childrens Books",
         "A Light in the Attic",
         "4.34"
        ],
        [
         "Harpperen",
         "Travels",
         "4.16"
        ],
        [
         "Harrison House",
         "Getting a Grip on the Basics: Building a Firm Foundation for the Victorious Christian Life",
         "4.67"
        ],
        [
         "Harry N. Abrams",
         "Ukridge",
         "4.43"
        ],
        [
         "Hartley & Marks Publishers",
         "The Elements of Typographic Style",
         "4.24"
        ],
        [
         "Hartorch",
         "Wyrd Sisters (Discworld  #6; Witches #2)",
         "4.13"
        ],
        [
         "Harvard Business Review Press",
         "Hardball: Are You Playing to Play or Playing to Win?",
         "4.12"
        ],
        [
         "Harvard Common Press",
         "Smart Love",
         "3.94"
        ],
        [
         "Harvard University Press",
         "Wittgenstein on Rules and Private Language: An Elementary Exposition",
         "4.52"
        ],
        [
         "Harvard University Press (Cambridge  MA)/Wm Heinemann Ltd. (London)",
         "The Library 1  Books 1-3.9",
         "3.93"
        ],
        [
         "Harvard University Press (Cambridge)",
         "Discourses  Books 3-4. The Enchiridion (Loeb Classical Library #218)",
         "4.34"
        ],
        [
         "Harvest / Harcourt",
         "A Tale of Love and Darkness",
         "4.22"
        ],
        [
         "Harvest Books",
         "Flowers for Algernon",
         "4.12"
        ],
        [
         "Harvest Books/Harcourt",
         "Anaximander  Heraclitus  Parmenides  Plotinus  Lao-Tzu  Nagarjuna (from Great Philosophers 2)",
         "3.92"
        ],
        [
         "Harvest House Publishers",
         "The Rapture: Who Will Face the Tribulation",
         "4.69"
        ],
        [
         "Harvill Press",
         "The Gospel According to Jesus Christ",
         "4.29"
        ],
        [
         "Haus Publishing",
         "Dostoevsky",
         "3.76"
        ],
        [
         "Hawthorne Books",
         "Clown Girl",
         "3.39"
        ],
        [
         "Hay House",
         "You Can Have What You Want: Proven Strategies for Inner and Outer Success",
         "4.21"
        ],
        [
         "Haymarket Books",
         "The Communist Manifesto",
         "4.08"
        ],
        [
         "Haynes Manuals N. America  Inc.",
         "Motorcycle Basics Techbook",
         "3.93"
        ],
        [
         "Hazelden Publishing",
         "Drop The Rock: Removing Character Defects - Steps Six and Seven",
         "4.44"
        ],
        [
         "Hci",
         "Read for Your Life: 11 Ways to Better Yourself Through Books",
         "3.70"
        ],
        [
         "Headline",
         "The Jester",
         "4.48"
        ],
        [
         "Headline Book Pub Ltd",
         "The Fall of Hyperion (Hyperion Cantos  #2)",
         "4.20"
        ],
        [
         "Headline Book Publishing",
         "The Brotherhood of the Rose (Mortalis  #1)",
         "4.14"
        ],
        [
         "Headline Feature",
         "The Servants of Twilight",
         "3.83"
        ],
        [
         "Headline Review",
         "Two's Company",
         "4.17"
        ],
        [
         "Healing Arts Press",
         "Walking the World in Wonder: A Children's Herbal",
         "4.29"
        ],
        [
         "Health Communications",
         "Intimate Communion: Awakening Your Sexual Essence",
         "3.99"
        ],
        [
         "Health Communications Inc",
         "The Lost Boy (Dave Pelzer #2)",
         "4.10"
        ],
        [
         "Hearst Communications",
         "The Good Housekeeping Illustrated Cookbook",
         "4.37"
        ],
        [
         "Heinemann",
         "Flowers for Algernon",
         "4.12"
        ],
        [
         "Heinemann Drama",
         "The Power of One: The Solo Play for Playwrights  Actors  and Directors",
         "3.67"
        ],
        [
         "Heinemann Educational Books",
         "When Rain Clouds Gather",
         "3.84"
        ],
        [
         "Heinemann Library",
         "The Handmaid's Tale",
         "4.11"
        ],
        [
         "Heinemann-Octopus",
         "Dr No / Moonraker / Thunderball / From Russia with Love / On Her Majesty's Secret Service / Goldfinger",
         "3.98"
        ],
        [
         "Heinle",
         "Entre Amis: An Interactive Approach",
         "3.39"
        ],
        [
         "Helen Marx Books",
         "The World of Jules Verne",
         "4.00"
        ],
        [
         "Henry Holt",
         "Oracle Night",
         "3.78"
        ],
        [
         "Henry Holt & Company",
         "Travels in the Scriptorium",
         "3.88"
        ],
        [
         "Henry Holt and Co.",
         "Peter Pan",
         "4.08"
        ],
        [
         "Henry Holt and Co. (BYR)",
         "Theories of Relativity",
         "4.35"
        ],
        [
         "Henry Holt and Company",
         "Voyage of the Turtle: In Pursuit of the Earth's Last Dinosaur",
         "4.24"
        ],
        [
         "Here's Life Publishers",
         "A Door of Hope",
         "3.97"
        ],
        [
         "Hesperus Press",
         "The Gambler",
         "3.93"
        ],
        [
         "Heyne",
         "Weg der Träume",
         "4.42"
        ],
        [
         "High Point Media",
         "Eating for Life: Your Guide to Great Health  Fat Loss and Increased Energy!",
         "3.95"
        ],
        [
         "High Roads Media",
         "Think and Grow Rich",
         "4.18"
        ],
        [
         "HighBridge Company",
         "The Discomfort Zone: A Personal Journey",
         "3.96"
        ],
        [
         "Highbridge Audio",
         "Wigfield: The Can-Do Town That Just May Not",
         "3.58"
        ],
        [
         "Hill & Wang",
         "Dawn (The Night Trilogy  #2)",
         "3.87"
        ],
        [
         "Hill & Wang Publ. (NY)",
         "Prepared for the Worst: Selected Essays and Minority Reports",
         "4.02"
        ],
        [
         "Hill and Wang",
         "Writing Degree Zero",
         "4.29"
        ],
        [
         "Hiperión",
         "Norte",
         "4.09"
        ],
        [
         "Hippo/Scholastic",
         "His Dark Materials Trilogy (Northern Lights; The Subtle Knife; The Amber Spyglass)",
         "4.26"
        ],
        [
         "History Press Ltd",
         "Ulysses Found",
         "4.07"
        ],
        [
         "Hodder",
         "The Secret Seven (The Secret Seven  #1)",
         "4.16"
        ],
        [
         "Hodder & Stoughton",
         "The Pact",
         "4.39"
        ],
        [
         "Hodder & Stoughton Educational Division",
         "The Road To War  1933 39",
         "0.00"
        ],
        [
         "Hodder & Stoughton Ltd",
         "The Battle Of Corrin (Legends of Dune  #3)",
         "4.02"
        ],
        [
         "Hodder Audio",
         "Gulliver's Travels",
         "3.57"
        ],
        [
         "Hodder Children's Books",
         "Skellig: The Play",
         "4.02"
        ],
        [
         "Hodder Mobius",
         "The Art of Happiness at Work",
         "3.95"
        ],
        [
         "Hodder Wayland",
         "Roald Dahl: The Storyteller (Famous Lives)",
         "4.06"
        ],
        [
         "Hodder and Stoughton",
         "The Eyre Affair (Thursday Next  #1)",
         "3.91"
        ],
        [
         "Holiday House",
         "Patrick: Patron Saint of Ireland",
         "4.18"
        ],
        [
         "Holloway House",
         "Whoreson",
         "4.32"
        ],
        [
         "Holt  Rinehart and Winston  Inc.",
         "Rest Rabbit Rest (Sweet Pickles  #18)",
         "4.02"
        ],
        [
         "Holt McDougal",
         "Where the Red Fern Grows with Connections",
         "4.38"
        ],
        [
         "Holt Paperbacks",
         "The Magic Journey",
         "4.28"
        ],
        [
         "Honor Books",
         "The Quiet Little Woman: A Christmas Story",
         "3.67"
        ],
        [
         "Houghton Mifflin",
         "Winston S. Churchill  Volume VIII: 'Never Despair ' 1945-1965",
         "4.50"
        ],
        [
         "Houghton Mifflin Co. (Boston/NY)",
         "The God Delusion",
         "3.90"
        ],
        [
         "Houghton Mifflin Company",
         "The Silmarillion",
         "4.36"
        ],
        [
         "Houghton Mifflin Harcourt",
         "William James: In the Maelstrom of American Modernism",
         "4.64"
        ],
        [
         "Houghton Mifflin Harcourt P",
         "Postscript to the Name of the Rose",
         "4.05"
        ],
        [
         "Houghton Mifflin/Seymour Lawrence",
         "Trout Fishing in America / The Pill vs. the Springhill Mine Disaster / In Watermelon Sugar",
         "4.15"
        ],
        [
         "House of Anansi Press",
         "Feeding the Future: From Fat to Famine  How to Solve the World's Food Crises",
         "3.48"
        ],
        [
         "House of Stratus",
         "On the Beach",
         "3.94"
        ],
        [
         "Hovel Audio",
         "The Brothers Karamazov",
         "4.32"
        ],
        [
         "Howard Books",
         "Shoofly Pie (Bug Man  #1)",
         "4.22"
        ],
        [
         "Howard Publishing Co",
         "The Good Earth (House of Earth  #1)",
         "3.98"
        ],
        [
         "Howard University Press",
         "How Europe Underdeveloped Africa",
         "4.27"
        ],
        [
         "Hqn",
         "Venetia",
         "4.10"
        ],
        [
         "Hub City Press",
         "Eureka Mill",
         "4.20"
        ],
        [
         "Hungry Minds",
         "Shakespeare's Romeo and Juliet",
         "3.82"
        ],
        [
         "Hyperio",
         "Shopgirl",
         "3.43"
        ],
        [
         "Hyperion",
         "The Five People You Meet in Heaven",
         "4.20"
        ],
        [
         "Hyperion Books",
         "The Sea of Monsters (Percy Jackson and the Olympians  #2)",
         "4.24"
        ],
        [
         "Hyperion Books for Children",
         "Water  Water Everywhere: A Splash & Giggle Bath Book (Baby Einstein)",
         "3.76"
        ],
        [
         "Hyperion Paperbacks",
         "Hollywood Hustle (Son of the Mob  #2)",
         "3.64"
        ],
        [
         "IDW Publishing",
         "The Complete Clive Barker's The Great And Secret Show",
         "4.50"
        ],
        [
         "IVP Academic",
         "The Hermeneutical Spiral: A Comprehensive Introduction to Biblical Interpretation",
         "3.94"
        ],
        [
         "IVP Books",
         "The Hip-Hop Church: Connecting with the Movement Shaping Our Culture",
         "3.91"
        ],
        [
         "Icon Books",
         "Introducing Sartre (Introducing... S.)",
         "3.58"
        ],
        [
         "Ig Publishing",
         "In Wonderland",
         "3.60"
        ],
        [
         "Ignatius Press",
         "Tolkien: Man and Myth: A Literary Life",
         "4.59"
        ],
        [
         "Image",
         "Saint Thomas Aquinas",
         "4.14"
        ],
        [
         "Image Comics",
         "The Walking Dead  Vol. 5: The Best Defense",
         "4.35"
        ],
        [
         "Impact",
         "Feeling Better  Getting Better  Staying Better: Profound Self-Help Therapy for Your Emotions",
         "4.02"
        ],
        [
         "Imprint Academic",
         "A Throne in Brussels: Britain  the Saxe-Coburgs and the Belgianisation of Europe",
         "4.14"
        ],
        [
         "Indiana University Press",
         "Vita Nuova",
         "4.29"
        ],
        [
         "Indigo",
         "Dark Visions",
         "3.89"
        ],
        [
         "IndyPublish.com",
         "Swann's Way (Remembrance of Things Past  #1)",
         "4.14"
        ],
        [
         "Inkling Books",
         "On the Lines of Morris' Romances: Two Books That Inspired J. R. R. Tolkien-The Wood Beyond the World and the Well at the World's End",
         "4.09"
        ],
        [
         "Inner City Books",
         "Melville's Moby Dick: An American Nekyia (Studies in Jungian Psychology by Jungian Analysts)",
         "3.93"
        ],
        [
         "Inner Light - Global Communications",
         "Teleportation: From Star Trek to Tesla",
         "2.83"
        ],
        [
         "Inner Traditions",
         "The Magus of Freemasonry: The Mysterious Life of Elias Ashmole—Scientist  Alchemist  and Founder of the Royal Society",
         "4.10"
        ],
        [
         "Inner Traditions International",
         "The Complete I Ching: The Definitive Translation",
         "4.28"
        ],
        [
         "Insel",
         "Homo faber: Ein Bericht.",
         "3.74"
        ],
        [
         "Insel  Frankfurt",
         "April  May und June",
         "3.88"
        ],
        [
         "Insight International",
         "You're Born an Original  Don't Die a Copy!",
         "4.06"
        ],
        [
         "Inter Varsity Press",
         "Salvation to the Ends of the Earth: A Biblical Theology of Mission (New Studies in Biblical Theology (InterVarsity Press)  #11)",
         "3.93"
        ],
        [
         "Inter-Varsity Press",
         "Desiring God: Meditations of a Christian Hedonist",
         "4.14"
        ],
        [
         "InterVarsity Press",
         "Too Busy Not to Pray: Slowing Down to Be With God",
         "4.16"
        ],
        [
         "Intercultural Publishing",
         "The Art of Loving by Erich Fromm: A True Story of a Japanese Woman",
         "1.67"
        ],
        [
         "Interlink Publishing Group",
         "Kahlil Gibran: His Life and World",
         "4.21"
        ],
        [
         "International Code Council",
         "International Building Code 2003",
         "3.62"
        ],
        [
         "International Polygonics",
         "Murder from the East",
         "3.63"
        ],
        [
         "International Publishers",
         "The Modern Prince and Other Writings",
         "3.89"
        ],
        [
         "International Publishers (NYC)",
         "The Communist Manifesto",
         "3.55"
        ],
        [
         "Island",
         "The Testament",
         "3.86"
        ],
        [
         "Island Books",
         "The Coalwood Way: A Memoir  (Coalwood  #2)",
         "4.14"
        ],
        [
         "Island Press",
         "Marine Conservation Biology: The Science of Maintaining the Sea's Biodiversity",
         "4.59"
        ],
        [
         "It Books",
         "The Long Hard Road Out of Hell",
         "4.18"
        ],
        [
         "Ivan R. Dee",
         "Complete Essays 4  1936-38",
         "4.29"
        ],
        [
         "Ivan R. Dee  Publisher",
         "Complete Essays 1  1920-25",
         "4.33"
        ],
        [
         "Ivan R. Dee Publisher",
         "Wittgenstein's Vienna",
         "4.06"
        ],
        [
         "Ivy Books",
         "The Silk Vendetta",
         "4.01"
        ],
        [
         "Izdavačka agencija Draganić",
         "Venac sonetnih venaca; Puževa srma",
         "0.00"
        ],
        [
         "J'AI LU",
         "Neverwhere",
         "4.17"
        ],
        [
         "J'ai Lu",
         "Starship Titanic",
         "4.44"
        ],
        [
         "J'ai lu",
         "Xénocide (Ender's Saga  #3)",
         "4.45"
        ],
        [
         "Jane Nissen Books",
         "The Elephant War",
         "3.67"
        ],
        [
         "Jessica Kingsley Publishers",
         "Laughter and Tears: A Family's Journey to Understanding the Autism Spectrum",
         "4.00"
        ],
        [
         "Jimmy Patterson",
         "SantaKid",
         "3.88"
        ],
        [
         "Joanna Cotler Books",
         "Psyche in a Dress",
         "3.84"
        ],
        [
         "Joanna Cotler Books/HarperCollinsPublishers",
         "The Rose and the Beast: Fairy Tales Retold",
         "3.77"
        ],
        [
         "John F. Blair  Publisher",
         "Topsail Island: Mayberry by the Sea",
         "3.94"
        ],
        [
         "John Wiley",
         "Jane Austen For Dummies",
         "4.03"
        ],
        [
         "John Wiley & Sons",
         "The Warren Buffett Way",
         "4.13"
        ],
        [
         "Johns Hopkins University Press",
         "Theogony/Works and Days/Shield",
         "4.29"
        ],
        [
         "Johnson Publishing Company (IL)",
         "Before the Mayflower: A History of Black America",
         "4.44"
        ],
        [
         "Jonathan Cape",
         "Timequake",
         "4.09"
        ],
        [
         "Jones & Bartlett Publishers",
         "Varney's Pocket Midwife",
         "4.06"
        ],
        [
         "Jones Books",
         "Tea with Jane Austen",
         "3.79"
        ],
        [
         "Joshua Odell Editions",
         "Zen in the Art of Writing: Essays on Creativity",
         "4.10"
        ],
        [
         "Jossey-Bass",
         "The Leadership Challenge",
         "4.62"
        ],
        [
         "Jove",
         "The List",
         "4.54"
        ],
        [
         "Jove Books",
         "The Echo",
         "4.14"
        ],
        [
         "Julia MacRae",
         "Imaginary Lands",
         "4.05"
        ],
        [
         "Julie Andrews Collection",
         "Dumpy's Valentine",
         "3.31"
        ],
        [
         "Jump At The Sun",
         "Homemade Love",
         "4.18"
        ],
        [
         "Jump at the Sun",
         "Shop in the Name of Love (The Cheetah Girls #2)",
         "3.64"
        ],
        [
         "K.G. Saur Verlag",
         "Mythographi Graeci 1: Apollodori Bibliotheca  Apollodori epitoma  Procli excerpta ex cycli epici carminibus  Pediasmi libellus de duodecim Herculis...Graecorum et Romanorum Teubneriana",
         "0.00"
        ],
        [
         "Kabel  Verlag GmbH Ernst",
         "Die Hexen von Salem Falls",
         "3.82"
        ],
        [
         "Kaplan",
         "The Scarlet Letter",
         "3.79"
        ],
        [
         "Kaplan Publishing",
         "Frankenstein",
         "3.79"
        ],
        [
         "Keep It Simple Books",
         "There Is Nothing Wrong with You: Going Beyond Self-Hate",
         "4.25"
        ],
        [
         "Kensington",
         "Weekend Warriors (Sisterhood  #1)",
         "4.20"
        ],
        [
         "Kensington Publishing Corporation",
         "Sugar Cookie Murder (Hannah Swensen  #6)",
         "3.91"
        ],
        [
         "Kent State University Press",
         "Interrupted Music: The Making of Tolkien's Mythology",
         "4.21"
        ],
        [
         "Kent State University Press (OH)",
         "Chekhov's Doctors: A Collection of Chekhov's Medical Tales (Literature & Medicine 5)",
         "4.04"
        ],
        [
         "Kessinger Publishing",
         "The Works and Days/Theogony",
         "4.10"
        ],
        [
         "KiWi",
         "Glamorama",
         "3.46"
        ],
        [
         "Kids Can Press",
         "Suki's Kimono",
         "4.19"
        ],
        [
         "Kiepenheuer & Witsch",
         "Der Fänger im Roggen",
         "3.97"
        ],
        [
         "Kindle",
         "The Perfume Factory",
         "4.18"
        ],
        [
         "Kingfisher",
         "Treasure Island",
         "4.12"
        ],
        [
         "Klett",
         "The Catcher in the Rye: Annotations and Study Aids",
         "3.80"
        ],
        [
         "Klincksieck",
         "Margaret Atwood: The Handmaid's Tale",
         "4.27"
        ],
        [
         "Knopf",
         "What Work Is",
         "4.42"
        ],
        [
         "Knopf Books for Young Readers",
         "The Wonderful Story of Henry Sugar and Six More",
         "4.26"
        ],
        [
         "Knopf Doubleday Publishing Group",
         "I'll Be Home Before Midnight and I Won't Get Pregnant",
         "0.00"
        ],
        [
         "Knopf Publishing Group",
         "Whitethorn Woods",
         "4.22"
        ],
        [
         "Knowledge Products",
         "Jean-Paul Sartre: (The Giants of Philosophy)",
         "3.86"
        ],
        [
         "Kodansha",
         "Love  Hate and Everything in Between: Expressing Emotions in Japanese",
         "4.15"
        ],
        [
         "Kodansha America",
         "The Tale of Genji: Scenes from the World's First Novel (Illustrated Japanese Classics)",
         "3.76"
        ],
        [
         "Kodansha International",
         "The Book of Five Rings",
         "4.07"
        ],
        [
         "Konemann",
         "War and Peace",
         "4.11"
        ],
        [
         "Krause Publications",
         "200 Quilt Blocks: To Mix and Match",
         "4.09"
        ],
        [
         "Kregel Academic & Professional",
         "Raising the Bar: Ministry to Youth in the New Millennium",
         "3.86"
        ],
        [
         "Kregel Publications",
         "Reinventing Jesus: How Contemporary Skeptics Miss the Real Jesus and Mislead Popular Culture",
         "4.20"
        ],
        [
         "Kuperard",
         "Culture Shock! Laos (Culture Shock!)",
         "3.29"
        ],
        [
         "Kyle Books",
         "Irish Traditional Cooking: Over 300 Recipes from Ireland's Heritage",
         "4.19"
        ],
        [
         "L.A. Weekly Books",
         "If Chins Could Kill: Confessions of a B Movie Actor",
         "4.00"
        ],
        [
         "LGF",
         "Christine",
         "3.77"
        ],
        [
         "LSU Press",
         "The Collected Poems of Robert Penn Warren",
         "4.37"
        ],
        [
         "LWW",
         "Study Guide to Accompany Brunner and Suddarth's Textbook of Medical-Surgical Nursing",
         "4.22"
        ],
        [
         "La factoría de ideas",
         "Ubik",
         "4.09"
        ],
        [
         "Laffont",
         "Territoires (Le talisman des territoires  #2)",
         "4.01"
        ],
        [
         "Lama Foundation (San Cristobal  NM)",
         "Be Here Now",
         "4.29"
        ],
        [
         "Lantern Books",
         "God's Covenant with Animals: A Biblical Basis for the Humane Treatment of All Creatures",
         "4.00"
        ],
        [
         "Large Print Press",
         "The Lovely Bones",
         "4.27"
        ],
        [
         "Lark Books",
         "Artful Paper Dolls: New Ways to Play with a Traditional Form",
         "4.23"
        ],
        [
         "Larousse",
         "Un amour de swann (À la recherche du temps perdu  #1.2)",
         "3.92"
        ],
        [
         "Larousse Kingfisher Chambers",
         "Candide",
         "3.77"
        ],
        [
         "Lasser Press",
         "El Clan Del Oso Cavernario",
         "4.05"
        ],
        [
         "Laurel",
         "The Turn of the Screw/Daisy Miller",
         "3.82"
        ],
        [
         "Laurel Leaf",
         "The Time Travelers: Volume One",
         "4.15"
        ],
        [
         "Laurel Leaf Books",
         "An Acceptable Time (Time Quintet  #5)",
         "3.82"
        ],
        [
         "Laurel Leaf Library",
         "The Subtle Knife (His Dark Materials  #2)",
         "4.17"
        ],
        [
         "Laurel Press",
         "My Name is Aram",
         "4.15"
        ],
        [
         "Laurel-Leaf Books",
         "Quiver",
         "3.51"
        ],
        [
         "Lawbook Exchange  Ltd.",
         "Charles Dickens as a Legal Historian",
         "4.00"
        ],
        [
         "Lawrence Hill Books",
         "They Dare to Speak Out: People and Institutions Confront Israel's Lobby",
         "4.07"
        ],
        [
         "Le Livre de Poche",
         "Siddhartha",
         "4.36"
        ],
        [
         "Learning Matters",
         "Primary English: Knowledge and Understanding",
         "3.87"
        ],
        [
         "Lectorum",
         "1984",
         "4.18"
        ],
        [
         "Lectorum Publications",
         "¡Horton escucha a quién!",
         "4.18"
        ],
        [
         "Leete's Island Books",
         "In Praise of Shadows",
         "4.09"
        ],
        [
         "Legend",
         "The Abyss",
         "4.07"
        ],
        [
         "Leisure",
         "The Reluctant Reformer",
         "3.91"
        ],
        [
         "Leisure Books",
         "The Perfect Wife",
         "4.45"
        ],
        [
         "Lerner Publications",
         "Oprah Winfrey",
         "3.96"
        ],
        [
         "Let's Go Publications",
         "Let's Go Australia on a Budget",
         "3.93"
        ],
        [
         "Libraries Unlimited",
         "In Web Design for Libraries",
         "2.67"
        ],
        [
         "Library of America",
         "Writings and Selected Narratives of the Exploration and Settlement of Virginia",
         "4.63"
        ],
        [
         "Library of America (NY)",
         "Collected Essays: Notes of a Native Son / Nobody Knows My Name / The Fire Next Time / No Name in the Street / The Devil Finds Work / Other Essays",
         "4.61"
        ],
        [
         "Library of American Comics",
         "The Complete Dick Tracy Volume 1: 1931-1933",
         "4.02"
        ],
        [
         "Library of Liberal Arts/Bobb-Merrill (Indianapolis  IN)",
         "On Christian Doctrine",
         "4.03"
        ],
        [
         "Libros para ninos",
         "Bailando al rescate (Dora La Exploradora)",
         "3.47"
        ],
        [
         "Liguori Publications",
         "Modern Reader's Guide to Dante's the Divine Comedy",
         "4.49"
        ],
        [
         "Limelight",
         "The Season: A Candid Look at Broadway",
         "4.10"
        ],
        [
         "Limelight Editions",
         "Harpo Speaks!",
         "4.41"
        ],
        [
         "Limitless Corporation",
         "My Sister's Keeper",
         "3.86"
        ],
        [
         "Lions",
         "When the Siren Wailed",
         "3.72"
        ],
        [
         "Lippincott Williams & Wilkins",
         "Post Captain (Aubrey/Maturin Book 2)",
         "4.29"
        ],
        [
         "List",
         "Wenn Engel fallen",
         "3.92"
        ],
        [
         "List Taschenbuch",
         "Yeats ist tot!",
         "3.40"
        ],
        [
         "Listening Library",
         "Trickster's Choice (Daughter of the Lioness  #1)",
         "4.27"
        ],
        [
         "Listening Library (Audio)",
         "Treasury of American Tall Tales: Volume 1: Davy Crockett  Rip Van Winkle  Johnny Appleseed  Paul Bunyan (Rabbit Ears)",
         "4.42"
        ],
        [
         "Literatura Random House",
         "Pégate un tiro para sobrevivir: un viaje personal por la América de los mitos",
         "3.81"
        ],
        [
         "Little  Brown",
         "Leadership",
         "4.25"
        ],
        [
         "Little  Brown & Company",
         "The Last Lion: Winston Spencer Churchill: Visions of Glory  1874-1932",
         "4.48"
        ],
        [
         "Little  Brown & Company (Boston/Toronto)",
         "The Glory and the Dream: A Narrative History of America 1932-72",
         "4.43"
        ],
        [
         "Little  Brown Book Group",
         "Waiting Sands",
         "4.37"
        ],
        [
         "Little  Brown Books for Young Readers",
         "Trials of Death (Cirque Du Freak  #5)",
         "4.25"
        ],
        [
         "Little  Brown Young Readers",
         "You're the One That I Want (Gossip Girl  #6)",
         "4.16"
        ],
        [
         "Little  Brown and Company",
         "Yiddish with Dick and Jane",
         "4.49"
        ],
        [
         "Little Apple",
         "Sunny The Yellow Fairy (Rainbow Magic  #3)",
         "3.82"
        ],
        [
         "Little Bookroom",
         "Here Is New York",
         "4.30"
        ],
        [
         "Little Brown",
         "The Beatles: The Biography",
         "4.15"
        ],
        [
         "Little Brown and Company",
         "You've Been Warned",
         "4.04"
        ],
        [
         "Little Simon",
         "Where Is Baby's Mommy? (A Lift-the-Flap Book)",
         "4.33"
        ],
        [
         "Live Oak Media",
         "Animales No Se Visten  Los (Animals Should Definitely Not Wear Clothing) with CD",
         "4.11"
        ],
        [
         "Liveright",
         "Selected Poems",
         "4.22"
        ],
        [
         "Liveright Publishing Corp.",
         "Tulips & Chimneys",
         "4.38"
        ],
        [
         "Liveright/W.W. Norton & Company  Inc.",
         "E.E. Cummings: Complete Poems 1904-1962 (Revised  Corrected  and Expanded Edition)",
         "4.35"
        ],
        [
         "Living Books",
         "Four Mothers at Chautuaqua",
         "4.04"
        ],
        [
         "Livre de Poche",
         "Mon Ami Maigret",
         "4.33"
        ],
        [
         "Llewellyn Publications",
         "Three Books of Occult Philosophy",
         "4.12"
        ],
        [
         "Lodestar Books",
         "Uncle Setnakt's Essential Guide to the Left Hand Path",
         "4.37"
        ],
        [
         "Loeb Classical Library",
         "Trojan Women / Iphigenia Among the Taurians / Ion",
         "4.47"
        ],
        [
         "Loeb Classical Library 307",
         "Minor Works: On Colours/On Things Heard/Physiognomics/On Plants/On Marvellous Things Heard/Mechanical Problems/On Indivisible Lines/The...Gorgias",
         "4.57"
        ],
        [
         "Loeb Classical Library 443",
         "Ennead IV (Plotinus IV)",
         "4.52"
        ],
        [
         "Loeb Classical Library/Harvard University Press",
         "Clouds/Wasps/Peace",
         "4.07"
        ],
        [
         "London : Collins  2004.",
         "Oh Say Can You Say?",
         "4.01"
        ],
        [
         "London : Faber  2002",
         "Garden State",
         "3.07"
        ],
        [
         "Lone Oak Press",
         "1968: War and Democracy",
         "4.50"
        ],
        [
         "Lonely Planet",
         "Ukraine",
         "4.05"
        ],
        [
         "Longman",
         "The Beach",
         "3.84"
        ],
        [
         "Longman Publishing Group",
         "The Pursuit of History",
         "4.31"
        ],
        [
         "Longman Schools Division (a Pearson Education Company)",
         "The Grapes of Wrath",
         "3.96"
        ],
        [
         "Longmeadow Press",
         "The More Than Complete Hitchhiker's Guide (Hitchhiker's Guide  #1-4 + short story)",
         "4.58"
        ],
        [
         "Loose Id  LLC",
         "Hard Candy",
         "3.99"
        ],
        [
         "Love Inspired",
         "Suddenly Daddy (Suddenly #1)",
         "3.78"
        ],
        [
         "Love Spell",
         "The Cat's Fancy",
         "4.13"
        ],
        [
         "Loveswept",
         "Fanta C (Loveswept   #217)",
         "3.62"
        ],
        [
         "Loyola Classics",
         "Helena",
         "3.60"
        ],
        [
         "Loyola Press (Chicago)",
         "Dark Intimacy: Hope for Those in Difficult Prayer-Experiences",
         "4.00"
        ],
        [
         "Luath Press Ltd",
         "On the Trail of Mary  Queen of Scots",
         "3.25"
        ],
        [
         "Lucas Books",
         "Revenge of the Sith (Star Wars: Novelizations  #3)",
         "4.14"
        ],
        [
         "Lucent Books",
         "The History of Rock and Roll (World History)",
         "4.00"
        ],
        [
         "Lulu Press",
         "The Master and Margarita",
         "4.30"
        ],
        [
         "Lulu.com",
         "Existential Meditation",
         "4.91"
        ],
        [
         "Lumen",
         "Tan fuerte  tan cerca",
         "3.98"
        ],
        [
         "Luna",
         "Cast in Shadow (Chronicles of Elantra  #1)",
         "4.11"
        ],
        [
         "Luna Books",
         "Winter Moon (Walker Papers  #1.5)",
         "4.14"
        ],
        [
         "Lyons Press",
         "The Long Walk: The True Story of a Trek to Freedom",
         "4.21"
        ],
        [
         "Lübbe",
         "Melliandra",
         "4.31"
        ],
        [
         "MIRA",
         "What The Lady Wants",
         "3.91"
        ],
        [
         "MIT Press",
         "Theory of Colours",
         "4.45"
        ],
        [
         "MIT Press (Cambridge  MA)",
         "Aspects of the Theory of Syntax",
         "3.96"
        ],
        [
         "MIT Press (MA)",
         "The Parallax View",
         "4.00"
        ],
        [
         "MJF Books",
         "The Life You Were Born to Live",
         "4.11"
        ],
        [
         "MONDIAL",
         "The Sorrows of Young Werther",
         "3.90"
        ],
        [
         "MTV Books",
         "The Fuck-Up",
         "4.39"
        ],
        [
         "MacAdam/Cage",
         "The Time Traveler's Wife",
         "3.97"
        ],
        [
         "MacMillan",
         "Hour Game (Sean King & Michelle Maxwell  #2)",
         "4.28"
        ],
        [
         "MacMillan Audio",
         "Whiteout",
         "3.80"
        ],
        [
         "MacMillan Children's Books",
         "Absolutely Normal Chaos",
         "3.92"
        ],
        [
         "MacMillan General Books",
         "The Memoirs of Cleopatra",
         "4.18"
        ],
        [
         "MacMillan Publishing Company",
         "The Elements of Style",
         "4.19"
        ],
        [
         "MacMillan UK",
         "Miss Happiness and Miss Flower",
         "4.27"
        ],
        [
         "Macmillan",
         "The Dolls' House",
         "4.01"
        ],
        [
         "Macmillan Audio",
         "The Power of Truth: A Leading with Emotional Intelligence Conversation with Warren Bennis",
         "4.29"
        ],
        [
         "Macmillan Children's Books",
         "Just as Long as We're Together",
         "4.07"
        ],
        [
         "Macmillan Publ. Co.",
         "Spandau: The Secret Diaries",
         "4.13"
        ],
        [
         "Macmillan Publishing Company/Collier Books",
         "The Voyage of the “Dawn Treader” (The Chronicles of Narnia  #3)",
         "4.09"
        ],
        [
         "Main Street Books",
         "Merlin's Tour of the Universe",
         "4.17"
        ],
        [
         "Malhavoc Press",
         "Monte Cook Presents The Year's Best D20 (Volume One)",
         "4.20"
        ],
        [
         "Management Books 2000",
         "The Deming Management Method",
         "3.95"
        ],
        [
         "Manchester University Press",
         "A Farewell to Arms?: Beyond the Good Friday Agreement",
         "4.33"
        ],
        [
         "Manesse Verlag",
         "Jane Eyre",
         "4.12"
        ],
        [
         "Manning Publications",
         "Ruby for Rails: Ruby Techniques for Rails Developers",
         "3.77"
        ],
        [
         "Margaret K. McElderry Books",
         "Silver on the Tree (The Dark is Rising  #5)",
         "4.15"
        ],
        [
         "Mariner Books",
         "Winterdance: The Fine Madness of Running the Iditarod",
         "4.53"
        ],
        [
         "Mariner Books / Harvest Books",
         "Life of Pi",
         "3.91"
        ],
        [
         "Marion Boyars Publishers",
         "Teach Us To Outgrow Our Madness",
         "4.05"
        ],
        [
         "Marion Boyars Publishers Ltd",
         "Quintessential Tarantino",
         "3.90"
        ],
        [
         "Mark Cahill Ministries",
         "Lo único que no podrás hacer en el cielo",
         "4.13"
        ],
        [
         "Marlowe & Company",
         "Notebooks  1935-1951",
         "4.28"
        ],
        [
         "Marshall Cavendish Editions",
         "Kenang-Kenangan Seorang Geisha (Memoirs of a Geisha)",
         "4.11"
        ],
        [
         "Marsilio Publishers",
         "One  No One and One Hundred Thousand",
         "4.10"
        ],
        [
         "Martínez Roca",
         "Rabia",
         "3.78"
        ],
        [
         "Marvel",
         "X-Statix  Volume 1: Good Omens",
         "4.24"
        ],
        [
         "Marvel Comics",
         "Miracleman  Book Three: Olympus",
         "4.39"
        ],
        [
         "Marvel Comics Group",
         "The Punisher  Vol. 6: Confederacy of Dunces",
         "4.45"
        ],
        [
         "Material World",
         "Hungry Planet",
         "4.44"
        ],
        [
         "Maxima New Media",
         "Edward Lear's Book of Nonsense: With Lear's Original Illustrations",
         "3.65"
        ],
        [
         "Mayfield Publishing Company (NY)",
         "A Guided Tour of 5 Works by Plato: Euthyphro/Apology/Crito/Phaedo/Cave",
         "4.33"
        ],
        [
         "McClelland & Stewart",
         "The Jane Austen Cookbook",
         "4.11"
        ],
        [
         "McClelland and Stewart",
         "The View From Castle Rock",
         "3.68"
        ],
        [
         "McDougal Littel",
         "McDougal Littell Science: Student Edition Grade 6 Earth Science 2006",
         "2.00"
        ],
        [
         "McFarland & Company",
         "The War of the Worlds",
         "3.82"
        ],
        [
         "McGraw-Hill",
         "Wooden: A Lifetime of Observations and Reflections On and Off the Court",
         "4.45"
        ],
        [
         "McGraw-Hill Companies",
         "Virgin",
         "4.00"
        ],
        [
         "McGraw-Hill Education",
         "The Dissociative Identity Disorder Sourcebook",
         "4.16"
        ],
        [
         "McGraw-Hill Humanities/Social Sciences/Languages",
         "The Last Dance: Encountering Death and Dying",
         "4.29"
        ],
        [
         "McGraw-Hill Medical Publishing",
         "Harrison's Principles of Internal Medicine",
         "4.35"
        ],
        [
         "McGraw-Hill Professional Publishing",
         "Sclerotherapy and vein treatment",
         "4.29"
        ],
        [
         "McGraw-Hill Science/Engineering/Math",
         "Heat and Mass Transfer",
         "4.15"
        ],
        [
         "McGraw-Hill/Glencoe",
         "Von Helden Und Schelmen: Tall Tales and Legends for Intermediate Students of German",
         "4.00"
        ],
        [
         "McSweeney's",
         "What Is the What",
         "4.29"
        ],
        [
         "Meisha Merlin Publishing",
         "Tuf Voyaging",
         "4.24"
        ],
        [
         "Mel Bay Publications  Inc.",
         "Deluxe Encyclopedia of Mandolin Chords",
         "3.83"
        ],
        [
         "Melodrama Publishing",
         "The Criss Cross",
         "4.20"
        ],
        [
         "Melville House Publishing",
         "Sister Bernadette's Barking Dog: The Quirky History and Lost Art of Diagramming Sentences",
         "3.78"
        ],
        [
         "Meredith Corporation",
         "Day and Night",
         "0.00"
        ],
        [
         "Merlin Publishing",
         "The Modern Prince: Charles J. Haughey and the Quest for Power",
         "3.50"
        ],
        [
         "Mestas Ediciones",
         "El Retrato De Dorian Gray",
         "4.08"
        ],
        [
         "Methuen Drama",
         "A Clockwork Orange (Stage Play)",
         "3.84"
        ],
        [
         "Methuen Publishing",
         "Three Plays",
         "4.09"
        ],
        [
         "MetroBooks (NY)",
         "The American Heritage New History of the Civil War",
         "4.11"
        ],
        [
         "Metropolitan Books",
         "The Nubian Prince",
         "3.54"
        ],
        [
         "Metropolitan Books/Henry Holt & Co. (NY)",
         "Imperial Ambitions: Conversations on the Post-9/11 World",
         "3.97"
        ],
        [
         "Michael Joseph",
         "Banker",
         "4.06"
        ],
        [
         "Michael Joseph Ltd./Penguin Books Ltd.",
         "The Savage Wars Of Peace: Soldiers' Voices 1945-1989",
         "4.50"
        ],
        [
         "Michael O'Mara",
         "The Wicked Wit of Charles Dickens",
         "3.55"
        ],
        [
         "Michael O'Mara Books",
         "J.K. Rowling - A Biography",
         "3.73"
        ],
        [
         "Microsoft Press",
         "Writing Secure Code",
         "4.39"
        ],
        [
         "Middlesex University Press",
         "Life Is a Caravanserai",
         "3.71"
        ],
        [
         "Middleway Press",
         "The Buddha in Your Mirror: Practical Buddhism and the Search for Self",
         "4.28"
        ],
        [
         "Midnight Ink",
         "June Bug (Murder-by-Month Mystery #2)",
         "3.56"
        ],
        [
         "Mikaya Press",
         "The Brooklyn Bridge (Wonders of the World)",
         "4.44"
        ],
        [
         "Millenium",
         "The Gods Themselves",
         "4.09"
        ],
        [
         "Millipede Press",
         "Falling Angel",
         "3.92"
        ],
        [
         "Mills & Boon",
         "The Baby Emergency (Tennengarrah Clinic #1)",
         "3.60"
        ],
        [
         "Minnesota Heritage Publishing",
         "Maud Hart Lovelace's Deep Valley: A Guidebook of Mankato Places in the Betsy-Tacy Series",
         "4.29"
        ],
        [
         "Minnesota Historical Society Press",
         "The St. Paul Stories of F. Scott Fitzgerald",
         "4.00"
        ],
        [
         "Minotaur Books",
         "True Believers (Gregor Demarkian  #17)",
         "4.18"
        ],
        [
         "Mira",
         "The MacGregors: Serena & Caine (The MacGregors  #1 -2)",
         "4.11"
        ],
        [
         "Mira (Mills and Boon)",
         "A Secret Splendor",
         "3.66"
        ],
        [
         "Mira Books",
         "Two Alone",
         "4.20"
        ],
        [
         "Mira books",
         "Monkey Business",
         "3.67"
        ],
        [
         "Miramax",
         "The Eternity Code (Artemis Fowl  #3)",
         "4.36"
        ],
        [
         "Miramax Books",
         "The Titan's Curse (Percy Jackson and the Olympians  #3)",
         "4.46"
        ],
        [
         "Mirrorstone",
         "A Practical Guide to Dragons",
         "4.33"
        ],
        [
         "Modern Language Association of America",
         "Approaches to Teaching Atwood's the Handmaid's Tale and Other Works (Approaches to Teaching World Literature)",
         "3.75"
        ],
        [
         "Modern Library",
         "Wonderland (Wonderland Quartet  #4)",
         "4.63"
        ],
        [
         "Modern Library (NY)",
         "Stars in Their Courses: The Gettysburg Campaign  June-July 1863",
         "4.44"
        ],
        [
         "Modern Library Classics",
         "Sons and Lovers",
         "4.35"
        ],
        [
         "Modern Library/Random House (NY)",
         "The Basic Works of Aristotle",
         "4.24"
        ],
        [
         "Modern Publishing",
         "Frankenstein",
         "3.79"
        ],
        [
         "Mondadori",
         "Fantasmas",
         "3.63"
        ],
        [
         "Mongoose Publishing",
         "Elric of Melnibone: Bright Shadows",
         "4.00"
        ],
        [
         "Monkfish Book Publishing",
         "The Mind Parasites",
         "3.77"
        ],
        [
         "Monolith Graphics",
         "Tales from the Dark Tower",
         "4.23"
        ],
        [
         "Montena",
         "La venganza de opal (Artemis Fowl  #4)",
         "4.05"
        ],
        [
         "Montlake Romance",
         "The Ivy Tree",
         "4.24"
        ],
        [
         "Moody Publishers",
         "Your Child and Jesus: A Family Activity Book",
         "4.70"
        ],
        [
         "Moody Publishers (Chicago)",
         "An Introduction to the Old Testament Poetic Books",
         "3.68"
        ],
        [
         "Morgan Road Books",
         "The Female Brain",
         "3.83"
        ],
        [
         "Morpheus International",
         "Retrospective  1964-1984",
         "4.35"
        ],
        [
         "Morrow",
         "Whirlwind (Asian Saga  #6)",
         "3.82"
        ],
        [
         "Motilal Banarsidass",
         "Autobiography of a Yogi",
         "4.23"
        ],
        [
         "Motorbooks",
         "Corvette: Fifty Years",
         "4.06"
        ],
        [
         "Motorbooks International",
         "John Deere Farm Tractors: A History of the John Deere Tractor",
         "4.22"
        ],
        [
         "Mountaineers Books",
         "The Avalanche Handbook",
         "4.07"
        ],
        [
         "Moyer Bell and its subsidiaries",
         "The Mother",
         "4.19"
        ],
        [
         "Multnomah",
         "The Treasure Principle: Unlocking the Secret of Joyful Giving",
         "5.00"
        ],
        [
         "Multnomah Books",
         "The Dream Giver",
         "4.26"
        ],
        [
         "Museum of Modern Art",
         "Andreas Gursky",
         "4.22"
        ],
        [
         "Mysterious Press",
         "The Black Dahlia (L.A. Quartet  #1)",
         "3.95"
        ],
        [
         "Mythopoeic Press",
         "Tolkien on Film: Essays on Peter Jackson's The Lord of the Rings",
         "3.79"
        ],
        [
         "Métailié",
         "Premières Histoires",
         "4.33"
        ],
        [
         "NAL",
         "Who's Afraid of Virginia Woolf?",
         "4.10"
        ],
        [
         "NAL Books",
         "The Bachman Books: Four Early Novels by Stephen King",
         "4.11"
        ],
        [
         "NAL Jam",
         "Glass Houses (The Morganville Vampires  #1)",
         "3.92"
        ],
        [
         "NAL Trade",
         "She Who Remembers (Kwani  #1)",
         "4.18"
        ],
        [
         "NYRB Classics",
         "Witch Grass",
         "4.26"
        ],
        [
         "Naiad Press",
         "The Other Woman",
         "3.74"
        ],
        [
         "Nan A. Talese",
         "The Tent",
         "3.90"
        ],
        [
         "Nantier Beall Minoustchine Publishing",
         "Combray (Remembrance of Things Past  #1)",
         "3.79"
        ],
        [
         "Napoleon and Co",
         "The Devil's in the Details (A Camilla MacPhee Mystery  #4)",
         "4.00"
        ],
        [
         "Nation Books",
         "The Big Empty: Dialogues on Politics  Sex  God  Boxing  Morality  Myth  Poker & Bad Conscience in America",
         "3.30"
        ],
        [
         "National Gallery London",
         "Tom Hunter: Living in Hell and Other Stories",
         "3.64"
        ],
        [
         "National Geographic",
         "Park Profiles: Grand Canyon Country (Park Profiles)",
         "4.10"
        ],
        [
         "National Geographic Children's Books",
         "Freedom Riders: John Lewis and Jim Zwerg on the Front Lines of the Civil Rights Movement",
         "3.98"
        ],
        [
         "National Geographic Society",
         "National Geographic Field Guide to the Birds of North America",
         "4.38"
        ],
        [
         "National Park Service",
         "More Readings From One Man's Wilderness: The Journals of Richard L. Proenneke  1974-1980",
         "4.42"
        ],
        [
         "Naxos Audiobooks",
         "The Hound of the Baskervilles (Sherlock Holmes  #5)",
         "4.11"
        ],
        [
         "Neil Wilson Publishing",
         "Rob Roy MacGregor",
         "3.93"
        ],
        [
         "Nelson Books",
         "Inside My Heart: Choosing to Live with Passion and Purpose",
         "3.91"
        ],
        [
         "Nelson Current",
         "From the Age of Discovery to a World at War (America: The Last Best Hope #1)",
         "4.24"
        ],
        [
         "Nelson Reference & Electronic Publishing",
         "Living on the Ragged Edge: Finding Joy in a World Gone Mad: Workbook",
         "4.20"
        ],
        [
         "Nelson Thornes Ltd",
         "Romeo & Juliet",
         "3.74"
        ],
        [
         "New American Library",
         "The Godfather",
         "4.37"
        ],
        [
         "New City Press",
         "The Enchiridion on Faith Hope and Love (Augustine Series 1)",
         "4.08"
        ],
        [
         "New Directions",
         "Turtle Island",
         "4.38"
        ],
        [
         "New Directions Publishing",
         "Henry Miller on Writing",
         "4.22"
        ],
        [
         "New Directions Publishing Corporation",
         "The Selected Poems of Federico García Lorca",
         "4.33"
        ],
        [
         "New English Library",
         "The Dark Half",
         "4.33"
        ],
        [
         "New English Library (Hodder & Stoughton)",
         "The Shining",
         "4.22"
        ],
        [
         "New Falcon Publications",
         "Prometheus Rising",
         "4.26"
        ],
        [
         "New Harbinger Publications",
         "Get Out of Your Mind and Into Your Life: The New Acceptance and Commitment Therapy",
         "4.05"
        ],
        [
         "New Island Books",
         "The Builders",
         "3.97"
        ],
        [
         "New Millennium Library",
         "My Ántonia (Great Plains Trilogy  #3)",
         "3.79"
        ],
        [
         "New Page Books",
         "Exploring the Northern Tradition: A Guide to the Gods  Lore  Rites  and Celebrations From the Norse  German  and Anglo-Saxon Traditions",
         "3.83"
        ],
        [
         "New Press",
         "On the Edge of the New Century",
         "4.06"
        ],
        [
         "New Press  The",
         "The Darker Nations: A People's History of the Third World",
         "3.98"
        ],
        [
         "New Press (NY)",
         "Japan at War:  An Oral History",
         "4.34"
        ],
        [
         "New Riders Publishing",
         "Prioritizing Web Usability",
         "4.25"
        ],
        [
         "New Tradition Books",
         "My Dirty Thirties: Romantic Hedonism",
         "3.00"
        ],
        [
         "New World Library",
         "The Power of Now: A Guide to Spiritual Enlightenment",
         "4.43"
        ],
        [
         "New World Publishing",
         "Micro Eco-Farming: Prospering from Backyard to Small Acreage in Partnership with the Earth",
         "3.76"
        ],
        [
         "New York : Penguin Books",
         "Syrup",
         "3.88"
        ],
        [
         "New York Review Children's Collection",
         "Mistress Masham's Repose",
         "3.93"
        ],
        [
         "New York Review of Books",
         "The Man Who Watched Trains Go By",
         "4.40"
        ],
        [
         "New York University Press",
         "The House of Mirth",
         "3.95"
        ],
        [
         "New York: Random House",
         "Dr. Seuss's Sleep Book",
         "4.17"
        ],
        [
         "Newmarket",
         "The Namesake: A Portrait of the Film Based on the Novel by Jhumpa Lahiri",
         "4.05"
        ],
        [
         "Newmarket Press",
         "The Sideways Guide to Wine and Life",
         "4.64"
        ],
        [
         "Nicholas Brealey",
         "Snapshots From Hell: The Making Of An MBA",
         "3.70"
        ],
        [
         "Nick Hern Books",
         "His Dark Materials: New Edition",
         "4.06"
        ],
        [
         "Night Shade",
         "The State of the Art",
         "3.84"
        ],
        [
         "Night Shade Books",
         "The Algebraist",
         "4.02"
        ],
        [
         "Nimble Books",
         "Unauthorized Harry Potter Book Seven News: Half-Blood Prince Analysis and Speculation",
         "3.74"
        ],
        [
         "No Exit Press",
         "Still Life with Woodpecker",
         "4.25"
        ],
        [
         "No Starch Press",
         "Write Great Code: Volume 1: Understanding the Machine",
         "3.92"
        ],
        [
         "Nonpareil Books",
         "Hamlet's Mill: An Essay Investigating the Origins of Human Knowledge and Its Transmission Through Myth",
         "4.29"
        ],
        [
         "Nonsuch Publishing",
         "Thus Spoke Zarathustra",
         "4.06"
        ],
        [
         "Noonday Press",
         "The Spirit Catches You and You Fall Down: A Hmong Child  Her American Doctors  and the Collision of Two Cultures",
         "4.17"
        ],
        [
         "Norma",
         "La verdad acerca de las Industrias Farmacéuticas: cómo nos engaña y qué hacer al respecto",
         "3.95"
        ],
        [
         "Norma Editorial",
         "Buenos Presagios: las buenas y ajustadas profecías de Agnes La Chalada",
         "4.25"
        ],
        [
         "North Atlantic Books",
         "Your Inner Physician and You: CranioSacral Therapy and SomatoEmotional Release",
         "4.67"
        ],
        [
         "North Light Books",
         "Simply Beautiful Beading: 53 Quick and Easy Projects",
         "3.78"
        ],
        [
         "North Point Press",
         "The Splendid Outcast: Beryl Markham's African Stories",
         "4.32"
        ],
        [
         "North Star Publications (MA)",
         "The Long Road Back: A Survivor's Guide to Anorexia",
         "3.20"
        ],
        [
         "Northeastern University Press",
         "Louisa May Alcott on Race  Sex  and Slavery",
         "3.94"
        ],
        [
         "Northwestern Univ Press",
         "Billy Budd  Sailor and Other Uncompleted Writings: The Writings of Herman Melville  Volume 13",
         "3.11"
        ],
        [
         "Northwestern University Press",
         "War with the Newts",
         "4.24"
        ],
        [
         "Norton",
         "The History of Love",
         "3.99"
        ],
        [
         "Norton and Co.",
         "Crime and Punishment (Norton Critical Editions)",
         "4.21"
        ],
        [
         "Nostalgia Ventures",
         "Fortress of Solitude / The Devil Genghis",
         "3.99"
        ],
        [
         "Not Avail",
         "Why I Hate Canadians",
         "4.50"
        ],
        [
         "Nova Audio Books",
         "Tripwire (Jack Reacher  #3)",
         "4.09"
        ],
        [
         "Nova Fronteira",
         "O Ano do Pensamento Mágico",
         "3.89"
        ],
        [
         "Nymphenburger",
         "Ein Koch für Mma Ramotswe (No. 1 Ladies' Detective Agency  #3)",
         "3.98"
        ],
        [
         "O'Brien Press",
         "Going Potty",
         "3.14"
        ],
        [
         "O'Reilly Media",
         "Ruby Cookbook",
         "4.23"
        ],
        [
         "OUP Oxford",
         "The Church in Ancient Society: From Galilee to Gregory the Great (History of the Christian Church)",
         "4.19"
        ],
        [
         "Oberlin College Press",
         "Five T'ang Poets",
         "4.30"
        ],
        [
         "Oberon Books",
         "The Coming of Godot: A Short History of a Masterpiece",
         "4.00"
        ],
        [
         "Octopus Books",
         "The Sound and the Fury  As I Lay Dying  Sanctuary  Intruder in the Dust",
         "4.05"
        ],
        [
         "Octopus Books (London)",
         "Seven Novels",
         "4.14"
        ],
        [
         "Oddysey/Harcourt Young Classics",
         "The Moffats (The Moffats  #1)",
         "4.00"
        ],
        [
         "Odonian Press",
         "What Uncle Sam Really Wants",
         "4.01"
        ],
        [
         "Ohio State University Press",
         "Youth Without Youth & Other Novellas (Romanian Literature & Thought in Translation)",
         "3.92"
        ],
        [
         "Omnibus Hc Bei Bertelsmann",
         "Rover rettet Weihnachten.",
         "4.12"
        ],
        [
         "Omnibus Press",
         "The Beatles Diary  Vol 1: From Liverpool to London (Falk Symposium)",
         "4.56"
        ],
        [
         "Omohundro Institute and University of North Carolina Press",
         "The Creation of the American Republic  1776-1787",
         "4.12"
        ],
        [
         "One Hour Entertainment",
         "The Player's Handbook: The Ultimate Guide on Dating and Relationships",
         "3.82"
        ],
        [
         "One World (UK)",
         "The Mantle of the Prophet: Religion and Politics in Iran",
         "4.08"
        ],
        [
         "One World/Ballantine",
         "Candy Licker",
         "4.39"
        ],
        [
         "Oni Press",
         "Scott Pilgrim  Volume 1: Scott Pilgrim's Precious Little Life",
         "4.17"
        ],
        [
         "Onyx",
         "Trial By Fire",
         "4.30"
        ],
        [
         "Onyx Books",
         "River Of Ruin (Philip Mercer  #5)",
         "4.19"
        ],
        [
         "Open Court",
         "Woody Allen and Philosophy: [You Mean My Whole Fallacy Is Wrong?]",
         "4.48"
        ],
        [
         "Open Court Publishing Company",
         "Peking to Paris",
         "3.79"
        ],
        [
         "Open Heaven Publications",
         "Open My Eyes  Lord: A Practical Guide to Angelic Visitations and Heavenly Experiences",
         "4.31"
        ],
        [
         "Orb Books",
         "Wyrms",
         "4.32"
        ],
        [
         "Orbis Books",
         "Mother Maria Skobtsova: Essential Writings",
         "4.37"
        ],
        [
         "Orbit",
         "The Scions of Shannara (Heritage of Shannara  #1)",
         "4.21"
        ],
        [
         "Orbit Books",
         "Running with the Demon (Word & Void #1)",
         "3.97"
        ],
        [
         "Orchard",
         "Big Red Tub",
         "4.03"
        ],
        [
         "Orchard Books",
         "Wonderful Alexander and the Catwings",
         "4.30"
        ],
        [
         "Orchard Books (NY)",
         "The Snow Spider (Snow Spider Trilogy  #1)",
         "3.70"
        ],
        [
         "Oregon State University Press",
         "The Grail: A Year Ambling & Shambling Through an Oregon Vineyard in Pursuit of the Best Pinot Noir Wine in the Whole Wild World",
         "4.01"
        ],
        [
         "Orion",
         "Trevayne",
         "4.14"
        ],
        [
         "Orion (an Imprint of The Orion Publishing Group Ltd )",
         "Tara Road",
         "3.90"
        ],
        [
         "Orion Books",
         "The Pusher (87th Precinct  #3)",
         "3.96"
        ],
        [
         "Orion Children's Books",
         "Ballet Shoes",
         "4.07"
        ],
        [
         "Orion Paperbacks",
         "Do Androids Dream Of Electric Sheep?",
         "4.08"
        ],
        [
         "Orion Publishing",
         "The Complete Short Stories",
         "4.14"
        ],
        [
         "Orion Publishing Co",
         "Worlds of Wonder",
         "4.13"
        ],
        [
         "Orion Publishing Co.",
         "Mouse or Rat?: Translation as Negotiation",
         "3.80"
        ],
        [
         "Orion Publishing Group",
         "Time and Again (Time  #1)",
         "3.99"
        ],
        [
         "Orion Publishing Group  Ltd.",
         "The Republic",
         "3.94"
        ],
        [
         "Osprey Publishing",
         "Lützen 1632 : climax of the Thirty Years war",
         "3.56"
        ],
        [
         "Other Press (NY)",
         "Phantom Pain",
         "3.34"
        ],
        [
         "Our Daily Bread Publishing",
         "Oswald Chambers  Abandoned to God: The Life Story of the Author of My Utmost for His Highest",
         "4.45"
        ],
        [
         "Overeaters Anonymous  Incorporated",
         "The Twelve Steps & Twelve Traditions of Overeaters Anonymous",
         "4.36"
        ],
        [
         "Overlook Press",
         "The Stones of Summer",
         "4.11"
        ],
        [
         "Overlook TP",
         "This Is Berlin: Reporting from Nazi Germany 1938-40",
         "4.24"
        ],
        [
         "Owl Books",
         "The Poetry of Robert Frost: The Collected Poems  Complete and Unabridged",
         "4.29"
        ],
        [
         "Owl Books (Henry Holt)",
         "Nickel and Dimed: On (Not) Getting by in America",
         "3.63"
        ],
        [
         "Owl Books (NY)",
         "Robert Frost: A Life",
         "4.11"
        ],
        [
         "Owl Publishing Company",
         "Real Boys: Rescuing Our Sons from the Myths of Boyhood",
         "3.83"
        ],
        [
         "Owlet Paperbacks",
         "You Come Too: Favorite Poems for Readers of All Ages",
         "4.15"
        ],
        [
         "Oxford University Press",
         "Waverley",
         "4.34"
        ],
        [
         "Oxford University Press  USA",
         "Truth and Fiction in The Da Vinci Code: A Historian Reveals What We Really Know about Jesus  Mary Magdalene & Constantine",
         "5.00"
        ],
        [
         "P & R Publishing",
         "Blame It on the Brain: Distinguishing Chemical Imbalances  Brain Disorders  and Disobedience",
         "4.05"
        ],
        [
         "P. F. Collier and Sons",
         "For Whom the Bell Tolls",
         "3.97"
        ],
        [
         "Palgrave Macmillan",
         "Wide Sargasso Sea: A Reader's Guide to Essential Criticism",
         "4.25"
        ],
        [
         "Pan",
         "The River",
         "4.11"
        ],
        [
         "Pan Australia",
         "Just Disgusting!",
         "3.83"
        ],
        [
         "Pan Books",
         "Blackout (Kat Bronsky #2)",
         "3.96"
        ],
        [
         "Pan Childrens",
         "Forever . . .",
         "3.62"
        ],
        [
         "Pan MacMillan",
         "Valparaiso",
         "4.26"
        ],
        [
         "Pan Macmillan Ltd. (London)",
         "Them: Adventures with Extremists",
         "3.95"
        ],
        [
         "Pan Publishing",
         "Total Control",
         "4.08"
        ],
        [
         "Panamericana Editorial",
         "Narraciones Extraordinarias",
         "4.13"
        ],
        [
         "Pantheon",
         "The Whalestoe Letters",
         "4.44"
        ],
        [
         "Pantheon Books",
         "The Right Attitude to Rain (Isabel Dalhousie  #3)",
         "4.34"
        ],
        [
         "Pantheon Books (NY)",
         "The History of Sexuality 1: An Introduction",
         "4.04"
        ],
        [
         "Panther",
         "The Stone Raft",
         "3.80"
        ],
        [
         "Paperback Library",
         "Best Science Fiction Stories of Clifford D. Simak",
         "3.94"
        ],
        [
         "Paraglyph Press",
         "A Theory of Fun for Game Design",
         "3.94"
        ],
        [
         "Paris Press",
         "On Being Ill",
         "4.02"
        ],
        [
         "Park Street Press",
         "Moksha: Writings on Psychedelics & the Visionary Experience",
         "4.19"
        ],
        [
         "Parker Publishing Llc",
         "Vegas Bites: A Werewolf Romance Anthology",
         "4.12"
        ],
        [
         "Patmos",
         "Der Golem",
         "3.75"
        ],
        [
         "Paul Dry Books",
         "The Music of the Republic: Essays on Socrates' Conversations and Plato's Writings",
         "4.58"
        ],
        [
         "Paul Mellon Centre BA",
         "The Stranger from Paradise: A Biography of William Blake",
         "4.06"
        ],
        [
         "Paul S. Eriksson",
         "The Headmaster's Papers",
         "3.99"
        ],
        [
         "Paulist Press",
         "Tolkien and C.S. Lewis: The Gift of a Friendship",
         "4.50"
        ],
        [
         "Pavement Saw Press",
         "Hands Collected: The Books of Simon Perchik",
         "4.25"
        ],
        [
         "Pavilion Press (Wi)",
         "Jane Austen's Letters",
         "4.16"
        ],
        [
         "Payot",
         "Motel Blues",
         "4.10"
        ],
        [
         "Peachpit Press",
         "The Zen of CSS Design: Visual Enlightenment for the Web",
         "3.98"
        ],
        [
         "Pearson",
         "The Puritan Dilemma: The Story of John Winthrop",
         "4.23"
        ],
        [
         "Pearson Education",
         "The Feynman Lectures on Physics Vol 2",
         "4.62"
        ],
        [
         "Pearson Longman",
         "Hard Times",
         "3.52"
        ],
        [
         "Peerage Books",
         "The Silence of the Lambs and Red Dragon",
         "4.48"
        ],
        [
         "Pegasus Books",
         "Night Has a Thousand Eyes",
         "3.77"
        ],
        [
         "Pelican Publishing",
         "This Side of Paradise (Paradise  #1)",
         "4.04"
        ],
        [
         "Pelican Publishing Company",
         "The Pirate Dictionary",
         "3.70"
        ],
        [
         "Pen & Sword Military",
         "Red Road From Stalingrad: Recollections of a Soviet Infantryman",
         "4.10"
        ],
        [
         "Penguin",
         "You Shall Know Our Velocity",
         "4.55"
        ],
        [
         "Penguin (Business)",
         "The 48 Laws of Power",
         "4.18"
        ],
        [
         "Penguin (Non-Classics)",
         "Selected Letters  1940-1956",
         "4.13"
        ],
        [
         "Penguin Audio",
         "Trace (Kay Scarpetta  #13)",
         "3.78"
        ],
        [
         "Penguin Audio UK",
         "Middlemarch",
         "3.96"
        ],
        [
         "Penguin Book Limited",
         "The Village of Stepanchikovo",
         "3.87"
        ],
        [
         "Penguin Books",
         "Youth",
         "4.55"
        ],
        [
         "Penguin Books  Limited (UK)",
         "The Railway Children",
         "4.17"
        ],
        [
         "Penguin Books (London)",
         "Wanderlust: A History of Walking",
         "3.92"
        ],
        [
         "Penguin Books (NY)",
         "My War Gone By  I Miss It So",
         "4.29"
        ],
        [
         "Penguin Books (NYC)",
         "Galileo's Daughter: A Historical Memoir of Science  Faith and Love",
         "3.76"
        ],
        [
         "Penguin Books (Penguin Classics)",
         "Flaubert in Egypt: A Sensibility on Tour",
         "3.62"
        ],
        [
         "Penguin Books /Penguin Classics",
         "Ivanhoe",
         "3.75"
        ],
        [
         "Penguin Books Australia Ltd.",
         "Tandia",
         "4.05"
        ],
        [
         "Penguin Books Canada",
         "Vinyl Cafe Diaries (Vinyl Cafe  #4)",
         "4.19"
        ],
        [
         "Penguin Books Limited",
         "The Shape of Things to Come",
         "3.68"
        ],
        [
         "Penguin Books Ltd",
         "Zazie in the Metro",
         "4.52"
        ],
        [
         "Penguin Books Ltd.",
         "The Teeth of the Tiger (Jack Ryan Universe  #12)",
         "3.96"
        ],
        [
         "Penguin Books Ltd. (London)",
         "Collapse: How Societies Choose to Fail or Succeed",
         "3.93"
        ],
        [
         "Penguin Books USA Inc.",
         "The Soldiers' Tale: Bearing Witness to Modern War",
         "3.80"
        ],
        [
         "Penguin Books in association with Faber & Faber",
         "Unnatural Causes (Adam Dalgliesh #3)",
         "3.94"
        ],
        [
         "Penguin Books/Penguin Popular Classics",
         "Moby Dick",
         "3.50"
        ],
        [
         "Penguin Classic",
         "Good Soldier Svejk And His Fortunes In The World",
         "4.11"
        ],
        [
         "Penguin Classics",
         "World of Wonders (The Deptford Trilogy  #3)",
         "4.55"
        ],
        [
         "Penguin Classics Deluxe Edition",
         "Collected Fictions",
         "4.58"
        ],
        [
         "Penguin Classics Deluxe Editions",
         "The Quiet American",
         "3.97"
        ],
        [
         "Penguin Essential Editions",
         "The Stone Diaries",
         "3.87"
        ],
        [
         "Penguin Global",
         "The Normans in Sicily: The Normans in the South 1016-1130 and the Kingdom in the Sun 1130-1194",
         "4.34"
        ],
        [
         "Penguin Group",
         "The Eternity Code (Artemis Fowl  #3)",
         "4.04"
        ],
        [
         "Penguin Group (USA)",
         "Of Love and Other Demons",
         "4.20"
        ],
        [
         "Penguin Group(CA)",
         "The Periodic Table",
         "4.21"
        ],
        [
         "Penguin Press",
         "Ghost Hunters: William James and the Search for Scientific Proof of Life After Death",
         "4.13"
        ],
        [
         "Penguin Press HC  The",
         "Revolutionary Characters: What Made the Founders Different",
         "3.99"
        ],
        [
         "Penguin Putnam",
         "Inventive Paris clothes: 1909-1939 - a photographic essay",
         "3.67"
        ],
        [
         "Penguin Signet",
         "The Green Mile",
         "4.44"
        ],
        [
         "Penguin UK",
         "Under the Duvet",
         "4.26"
        ],
        [
         "Penguin Workshop",
         "Who Was Thomas Jefferson?",
         "4.26"
        ],
        [
         "Penguin Young Readers",
         "The Pizza That We Made",
         "3.54"
        ],
        [
         "Penguin-HighBridge",
         "The Iliad",
         "3.86"
        ],
        [
         "Penguin/Viking Compass (Non-Classics)",
         "Complete Short Stories  Vol 2",
         "4.03"
        ],
        [
         "Perennial",
         "The Map That Changed the World: William Smith and the Birth of Modern Geology",
         "3.82"
        ],
        [
         "Perennial / William Morrow / HarperCollins",
         "Practical Demonkeeping (Pine Cove  #1)",
         "3.83"
        ],
        [
         "PerfectBound",
         "The Assignation: Stories",
         "3.80"
        ],
        [
         "PerfectBound (HarperCollins)",
         "American Gods",
         "4.11"
        ],
        [
         "Perfection Learning",
         "The Bean Trees (Greer Family  #1)",
         "3.97"
        ],
        [
         "Perigee Trade",
         "The Out-of-Sync Child Has Fun: Activities for Kids with Sensory Integration Dysfunction",
         "4.22"
        ],
        [
         "Peripatetic Press",
         "Nicomachean Ethics",
         "3.94"
        ],
        [
         "Peter Owen Ltd",
         "Narcissus and Goldmund",
         "4.20"
        ],
        [
         "Peter Owen Publishers",
         "Pope Joan: Translated & Adapted from the Greek",
         "3.92"
        ],
        [
         "Peter Smith Publisher",
         "The Johnstown Flood",
         "4.11"
        ],
        [
         "Peter Smith Publisher  Inc.",
         "Three Prophetic Science Fiction Novels",
         "3.86"
        ],
        [
         "Pfeiffer & Company",
         "Leadership Challenge",
         "4.05"
        ],
        [
         "Phaidon Press",
         "The Painter of Modern Life and Other Essays (Phaidon Arts and Letters)",
         "4.72"
        ],
        [
         "Pharos Books",
         "Good Grief: The Story of Charles M. Schulz",
         "3.72"
        ],
        [
         "Philomel Books",
         "Voyage of Slaves (Flying Dutchman  #3)",
         "4.29"
        ],
        [
         "Phoenix",
         "The Shadow of the Wind",
         "4.26"
        ],
        [
         "Phoenix Audio",
         "Dirk Gently's Holistic Detective Agency (Dirk Gently #1)",
         "3.99"
        ],
        [
         "Phoenix Books/University of Chicago Press (IL)",
         "The Gilgamesh Epic and Old Testament Parallels",
         "3.95"
        ],
        [
         "Phoenix Press",
         "The Shadow of the Wind (The Cemetery of Forgotten Books  #1)",
         "4.26"
        ],
        [
         "Phoenix Press (UK)",
         "Never Call Retreat",
         "4.33"
        ],
        [
         "Phébus",
         "Elmer Gantry",
         "3.99"
        ],
        [
         "Pi Press",
         "Relativity: The Special and the General Theory: The Masterpiece Science Edition",
         "4.18"
        ],
        [
         "Piatkus",
         "The Dive from Clausen's Pier",
         "3.42"
        ],
        [
         "Piatkus Books",
         "The Switch",
         "4.39"
        ],
        [
         "Picador",
         "What Was She Thinking? [Notes on a Scandal]",
         "4.33"
        ],
        [
         "Picador  Macmillan Publishers Ltd",
         "Bridget Jones: The Edge Of Reason (Bridget Jones #2)",
         "3.57"
        ],
        [
         "Picador USA",
         "White Man's Grave",
         "4.37"
        ],
        [
         "Picture Book Studio Ltd",
         "Alberic the Wise",
         "3.73"
        ],
        [
         "Piemme",
         "Piccole donne",
         "3.98"
        ],
        [
         "Pimlico",
         "The Fourth Crusade: And the Sack of Constantinople",
         "4.04"
        ],
        [
         "Pimsleur",
         "Pimsleur German Level 1 CD: [Lessons 1-30]",
         "4.23"
        ],
        [
         "Pineapple Press",
         "Hemingway's Cats: An Illustrated Biography",
         "3.82"
        ],
        [
         "Pinnacle",
         "Thicker Than Water (Louis Kincaid  #4)",
         "4.13"
        ],
        [
         "Pinter & Martin Ltd",
         "A Midwife's Story",
         "4.07"
        ],
        [
         "Piper",
         "In einer regnerischen Nacht.",
         "3.96"
        ],
        [
         "Piper Taschenbuch",
         "Balzac und die kleine chinesische Schneiderin",
         "3.64"
        ],
        [
         "Piper Verlag",
         "Die Entdeckung der Langsamkeit",
         "3.95"
        ],
        [
         "Pippin Publishing",
         "Teaching the World's Children: ESL for Ages Three to Seven (The Pippin Teacher's Library)",
         "3.40"
        ],
        [
         "Planeta",
         "Pedro Páramo / El Llano en llamas",
         "4.32"
        ],
        [
         "Planeta Publishing",
         "Un Lugar Llamado Nada",
         "4.38"
        ],
        [
         "Plaza & Janes Editores  S.A.",
         "El misterio de Salem's Lot",
         "4.02"
        ],
        [
         "Plaza & Janes Editores Sa",
         "La danza de la muerte",
         "4.34"
        ],
        [
         "Plaza & Janés",
         "El coronel no tiene quien le escriba",
         "3.75"
        ],
        [
         "Plaza & Janés Editores  S.A.",
         "Carretera maldita",
         "3.60"
        ],
        [
         "Plaza & Janés Mexico",
         "Estado De Miedo",
         "3.70"
        ],
        [
         "Plaza y Janes",
         "Veinte poemas de amor y una canción desesperada; Cien sonetos de amor",
         "4.30"
        ],
        [
         "Plaza y Janés",
         "Ojos de fuego",
         "4.24"
        ],
        [
         "Plexus Publishing",
         "Ewan McGregor: From Junkie to Jedi",
         "3.86"
        ],
        [
         "Plexus Publishing Ltd",
         "Blink 182",
         "4.42"
        ],
        [
         "Plume",
         "Zombie",
         "4.48"
        ],
        [
         "Plume (Penguin Books Ltd)",
         "Paradise",
         "3.80"
        ],
        [
         "Plume Books",
         "When Food Is Love: Exploring the Relationship Between Eating and Intimacy",
         "4.08"
        ],
        [
         "Pluto Press",
         "The Philosophy of Antonio Negri  Volume One: Resistance in Practice",
         "4.12"
        ],
        [
         "Pocket",
         "À tout jamais",
         "4.44"
        ],
        [
         "Pocket Books",
         "You Belong To Me",
         "4.35"
        ],
        [
         "Pocket Books / Simon & Schuster  Inc.",
         "Ghost Story",
         "3.95"
        ],
        [
         "Pocket Books/Simon & Schuster (NY)",
         "Look to Windward (Culture  #7)",
         "4.20"
        ],
        [
         "Pocket Books/Star Trek",
         "The Kingdom of Shadow (Diablo  #3)",
         "3.93"
        ],
        [
         "Pocket Books: Gallery Books",
         "Citizen of the Galaxy",
         "3.99"
        ],
        [
         "Pocket Star",
         "Underworld: Blood Enemy (Underworld  #2)",
         "4.19"
        ],
        [
         "Pocket Star Books",
         "V for Vendetta",
         "4.15"
        ],
        [
         "Pogue Press",
         "iMovie 4 & iDVD: The Missing Manual: The Missing Manual",
         "3.25"
        ],
        [
         "Points",
         "Ecstasy",
         "3.55"
        ],
        [
         "Poisoned Pen Press",
         "My Sister's Keeper (Gillian Adams  #2)",
         "4.03"
        ],
        [
         "Polity Press",
         "Zizek: A Critical Introduction",
         "3.93"
        ],
        [
         "Polychrome Publishing Corporation",
         "Almond Cookies & Dragon Well Tea",
         "3.89"
        ],
        [
         "Polyface",
         "Holy Cows and Hog Heaven: The Food Buyer's Guide to Farm Friendly Food",
         "4.01"
        ],
        [
         "Polygon",
         "Consider the Lilies",
         "3.88"
        ],
        [
         "Pomegranate Communications",
         "The Twelve Terrors of Christmas",
         "4.23"
        ],
        [
         "Poorhouse Press",
         "Graphic Storytelling and Visual Narrative",
         "4.08"
        ],
        [
         "Poppy",
         "You Know You Love Me (Gossip Girl  #2)",
         "3.55"
        ],
        [
         "Porrua",
         "Las Noches Blancas. El Jugador. Un Ladrón Honrado. (Sepan Cuantos  #259)",
         "3.90"
        ],
        [
         "Portable Press",
         "Uncle John's Presents Blame It on the Weather: Amazing Weather Facts",
         "3.57"
        ],
        [
         "Portfolio",
         "The Art of the Start: The Time-Tested  Battle-Hardened Guide for Anyone Starting Anything",
         "3.87"
        ],
        [
         "Poseidon Press",
         "Fevre Dream",
         "3.86"
        ],
        [
         "Possibilities",
         "PS I Love You Baby Collection",
         "4.43"
        ],
        [
         "Potomac Books",
         "Shattered Sword: The Untold Story of the Battle of Midway",
         "4.42"
        ],
        [
         "Power Press",
         "Zen and the Art of Happiness",
         "4.05"
        ],
        [
         "Praeger",
         "C. S. Lewis: Life  Works  and Legacy",
         "4.43"
        ],
        [
         "Praeger Publishers",
         "The Heights of Courage: A Tank Leader's War on the Golan",
         "4.20"
        ],
        [
         "Pragmatic Bookshelf",
         "Programming Ruby: The Pragmatic Programmers' Guide",
         "4.03"
        ],
        [
         "Prentice Hall",
         "Working Effectively with Legacy Code",
         "4.21"
        ],
        [
         "Prentice Hall PTR",
         "C++ Programmer's Notebook",
         "3.00"
        ],
        [
         "Prentice Hall Press",
         "How to Succeed with Women",
         "3.76"
        ],
        [
         "Prentice Hall/Library of Liberal Arts",
         "The Presocratics",
         "4.04"
        ],
        [
         "Prentice Hall/Scribner/Macmillan",
         "The Aeneid (Verse Translation)",
         "3.84"
        ],
        [
         "Prentice Hall/Simon & Schuster Company (Englewood Cliffs  NJ)",
         "Nicomachean Ethics",
         "3.94"
        ],
        [
         "Presidio Press",
         "We Were Soldiers Once... and Young: Ia Drang - The Battle that Changed the War in Vietnam",
         "4.31"
        ],
        [
         "Presses de La Cite",
         "Maigret à New York (Maigret  #27)",
         "3.55"
        ],
        [
         "Prestel Publishing",
         "Joseph Cornell: Secrets in a Box (Adventures in Art)",
         "4.03"
        ],
        [
         "Prestwick House",
         "Romeo and Juliet",
         "3.74"
        ],
        [
         "Prestwick House - (Literary Touchstone Classic)",
         "Oedipus Rex  (The Theban Plays  #1)",
         "3.70"
        ],
        [
         "Price Stern Sloan",
         "Mr. Jelly and the Pirates",
         "4.03"
        ],
        [
         "Prima Games",
         "The Elder Scrolls IV: Oblivion -- Revised & Expanded (Xbox360  PC) (Prima Official Game Guide)",
         "4.62"
        ],
        [
         "Prima Lifestyles",
         "The Wealthy Barber: Everyone's Common-Sense Guide to Becoming Financially Independent",
         "4.02"
        ],
        [
         "Princeton Architectural Press",
         "Yours in Food  John Baldessari: with meditations on eating by Paul Auster  David Byrne  Dave Eggers  David Gilbert  Tim Griffin  Andy Grundberg  John Haskell  Michael Kimmelman  Michael More  Glenn O'Brien  Francine Prose  Peter Schjeldahl  Lynne Tillman",
         "4.22"
        ],
        [
         "Princeton University Press",
         "Walden",
         "4.62"
        ],
        [
         "Princeton University Press (NJ)",
         "The Collected Dialogues",
         "4.23"
        ],
        [
         "Profile Books",
         "The Call of the Mall: How we shop",
         "3.60"
        ],
        [
         "Project Management Institute",
         "Earned Value Project Management",
         "3.77"
        ],
        [
         "Prometheus Books",
         "The History (Great Minds)",
         "4.47"
        ],
        [
         "Providence Forum Press",
         "George Washington's Sacred Fire",
         "4.18"
        ],
        [
         "Psychology Press",
         "Writing the Qualitative Dissertation: Understanding by Doing",
         "4.26"
        ],
        [
         "Public Square Books",
         "Jimmy Corrigan: El Chico más Listo del Mundo",
         "4.09"
        ],
        [
         "PublicAffairs",
         "The White Widow",
         "4.09"
        ],
        [
         "Puffin",
         "The Westing Game",
         "4.39"
        ],
        [
         "Puffin Audiobooks",
         "Matilda",
         "4.31"
        ],
        [
         "Puffin Books",
         "Tom's Midnight Garden",
         "4.33"
        ],
        [
         "Puffin Books (Penguin Books)",
         "The Dark Is Rising Sequence",
         "4.28"
        ],
        [
         "Puffin Group",
         "The Outsiders",
         "4.09"
        ],
        [
         "Punto de Lectura",
         "Me llamo rojo",
         "4.19"
        ],
        [
         "Purple House Press",
         "The Brothers Lionheart",
         "4.36"
        ],
        [
         "Push",
         "You Remind Me of You: A Poetry Memoir",
         "3.95"
        ],
        [
         "Putnam",
         "Polar Shift (NUMA Files  #6)",
         "4.00"
        ],
        [
         "Putnam Adult",
         "True Betrayals / Montana Sky / Sanctuary",
         "4.40"
        ],
        [
         "Putnam Publishing Group",
         "Under Orders (Sid Halley  #4)",
         "4.27"
        ],
        [
         "Puzzle-Roca",
         "Secretos De Familia",
         "3.57"
        ],
        [
         "Puzzle-Via Magna",
         "El ojo de fuego",
         "3.66"
        ],
        [
         "Pygmalion Editions",
         "Krik? Krak!: Récits",
         "4.12"
        ],
        [
         "Pyramid Books",
         "Down the Yellow Brick Road:The Making of The Wizard of Oz",
         "3.92"
        ],
        [
         "Quality Paperback Book Club",
         "The Return of the King (The Lord of the Rings  #3)",
         "4.53"
        ],
        [
         "Quarry Press",
         "Magic Carpet Ride: The Autobiography of John Kay and Steppenwolf",
         "4.10"
        ],
        [
         "Quest Books",
         "Mandala: Luminous Symbols for Healing (with a New CD of Meditations and Exercises!)",
         "4.24"
        ],
        [
         "Quill",
         "Zen and the Art of Motorcycle Maintenance: An Inquiry Into Values",
         "3.79"
        ],
        [
         "Quinteto",
         "La conjura de los necios",
         "3.89"
        ],
        [
         "RH Audio",
         "The Spenser Collection: Volume I (Spenser  #27-28)",
         "4.27"
        ],
        [
         "RH Audio Price-less",
         "Potshot (Spenser  #28)",
         "3.89"
        ],
        [
         "RP Minis",
         "The Mini Zen Gardening Kit",
         "3.16"
        ],
        [
         "Raintree",
         "Bill Gates: Computer Legend (Famous Lives)",
         "5.00"
        ],
        [
         "Random House",
         "Young Warriors: Stories of Strength",
         "4.42"
        ],
        [
         "Random House  Inc.",
         "The Ends Of The Earth: A Journey At The Dawn Of The 21st Century",
         "4.12"
        ],
        [
         "Random House  for Young Readers",
         "Charlie Oink",
         "4.33"
        ],
        [
         "Random House (NY)",
         "The Wild Trees: A Story of Passion and Daring",
         "4.14"
        ],
        [
         "Random House (Vintage)",
         "Balzac And The Little Chinese Seamstress",
         "3.64"
        ],
        [
         "Random House Anchor",
         "Morality for Beautiful Girls (No. 1 Ladies' Detective Agency #3)",
         "3.98"
        ],
        [
         "Random House Audio",
         "Waterworks",
         "4.50"
        ],
        [
         "Random House Audio Publishing Group",
         "You're Good Enough  You're Smart Enough  & Doggone It  People Like You!",
         "4.32"
        ],
        [
         "Random House Books for Young Readers",
         "Tsunamis and Other Natural Disasters (Magic Tree House Research Guide  #15)",
         "4.35"
        ],
        [
         "Random House Children's Books",
         "Jurassic Park Institute Dinosaur Field Guide",
         "4.16"
        ],
        [
         "Random House Inc.",
         "The Next Whole Earth Catalog: Access to Tools",
         "4.45"
        ],
        [
         "Random House Large Print",
         "The Lost Painting",
         "3.84"
        ],
        [
         "Random House Large Print Publishing",
         "Memoirs of a Geisha",
         "4.11"
        ],
        [
         "Random House Mondadori",
         "La venganza de Opal (Artemis Fowl  #4)",
         "4.05"
        ],
        [
         "Random House Para Ninos",
         "Ve  perro ¡Ve!",
         "4.09"
        ],
        [
         "Random House Puzzles & Games",
         "Random House Crossword Mega Omnibus  Volume 1",
         "0.00"
        ],
        [
         "Random House Reference Publishing",
         "Spunk & Bite: A Writer's Guide to Punchier  More Engaging Language & Style",
         "3.90"
        ],
        [
         "Random House Trade",
         "The Truth about the Drug Companies: How They Deceive Us and What to Do about It",
         "4.21"
        ],
        [
         "Random House Trade Paperbacks",
         "When Genius Failed: The Rise and Fall of Long-Term Capital Management",
         "4.30"
        ],
        [
         "Random House UK Distribution",
         "A Dubious Codicil",
         "3.25"
        ],
        [
         "Random House UK Ltd (A Division of Random House Group)",
         "Falconer",
         "3.66"
        ],
        [
         "Random House Value Publishing",
         "Unearthly Neighbors",
         "4.34"
        ],
        [
         "Random House Value Publishing/TheViking Press",
         "The Portable James Joyce",
         "4.17"
        ],
        [
         "Random House Vintage",
         "Geek Love",
         "3.97"
        ],
        [
         "Random House Vintage Books",
         "Wilderness: The Lost Writings  Vol. 1",
         "3.96"
        ],
        [
         "Random House for Young Readers",
         "Grandma Baa (Easy Peasy People)",
         "4.67"
        ],
        [
         "Random House: Modern Library",
         "The Picture of Dorian Gray",
         "4.08"
        ],
        [
         "Random house",
         "Comfort Me With Apples",
         "4.04"
        ],
        [
         "Ravensburger Buchverlag",
         "Underdog (Wolfe Brothers  #1)",
         "3.38"
        ],
        [
         "Rayo",
         "Ya Sé Que Te Quiero",
         "4.19"
        ],
        [
         "Razorbill",
         "So Yesterday",
         "3.58"
        ],
        [
         "Rba Libros",
         "Una breve historia de casi todo",
         "4.21"
        ],
        [
         "Re/Search Publications",
         "William S. Burroughs  Throbbing Gristle  Brion Gysin",
         "4.26"
        ],
        [
         "Reader's Digest Association",
         "A Reader's Digest Songbook: Remembering Yesterday's Hits",
         "4.38"
        ],
        [
         "Readers Digest",
         "Complete Guide to the Bible",
         "4.58"
        ],
        [
         "Readers Digest.",
         "New Complete Guide to Sewing",
         "4.23"
        ],
        [
         "Reaktion Books",
         "Photos of the Gods: The Printed Image and Political Struggle in India",
         "3.96"
        ],
        [
         "Rebel Press",
         "Leaving the 20th Century: The Incomplete Work of the Situationist International",
         "4.10"
        ],
        [
         "Reclam",
         "Zur Genealogie der Moral",
         "4.11"
        ],
        [
         "Reclam  Ditzingen",
         "Jacques der Fatalist und sein Herr",
         "3.84"
        ],
        [
         "Reclam  Leipzig",
         "Also sprach Zarathustra: Ein Buch für Alle und Keinen.",
         "4.06"
        ],
        [
         "Record",
         "Relato de Um Náufrago",
         "3.78"
        ],
        [
         "Recorded Books",
         "The Glass Castle",
         "4.27"
        ],
        [
         "Recorded Books  Inc.",
         "The Richest Man in Babylon",
         "4.53"
        ],
        [
         "Red Dress Ink",
         "Slightly Settled (Slightly  #2)",
         "3.68"
        ],
        [
         "Red Fox",
         "The Spook's Apprentice (The Last Apprentice / Wardstone Chronicles  #1)",
         "4.12"
        ],
        [
         "Red Hen Pr",
         "To America with Love: Letters from the Underground",
         "3.96"
        ],
        [
         "Redleaf Press",
         "Lessons from Turtle Island: Native Curriculum in Early Childhood Classrooms",
         "4.35"
        ],
        [
         "Regal Books",
         "Let Justice Roll Down",
         "4.35"
        ],
        [
         "Regan Books",
         "Mirror Mirror",
         "3.28"
        ],
        [
         "ReganBooks",
         "The Physics of Star Trek",
         "3.83"
        ],
        [
         "Regnery History",
         "George Washington and Benedict Arnold: A Tale of Two Patriots",
         "4.27"
        ],
        [
         "Regnery Publishing",
         "The Real Jimmy Carter: How Our Worst Ex-President Undermines American Foreign Policy  Coddles Dictators and Created the Party of Clinton and Kerry",
         "4.13"
        ],
        [
         "Renaissance Books",
         "The Stephen King Universe: A Guide to the Worlds of the King of Horror",
         "4.15"
        ],
        [
         "Replica Books",
         "Resurrection",
         "4.13"
        ],
        [
         "Revive Publishing",
         "Desire and Duty: A Sequel to Jane Austen's Pride and Prejudice",
         "2.86"
        ],
        [
         "Rick Steves",
         "Road Trip USA: Cross-Country Adventures on America's Two-Lane Highways",
         "4.24"
        ],
        [
         "Rider",
         "Man's Search for Meaning",
         "4.36"
        ],
        [
         "Rivages",
         "Moo",
         "3.46"
        ],
        [
         "River City Publishing",
         "Speaks the Nightbird (Matthew Corbett  #1)",
         "4.13"
        ],
        [
         "Riverhead Books",
         "The Zanzibar Chest",
         "4.28"
        ],
        [
         "Riverhead Hardcover",
         "The Art of Happiness",
         "4.16"
        ],
        [
         "Riverrun Press (New York  NY)",
         "Collected Plays: Henry IV  The Man with the Flower in His Mouth  Right You Are",
         "3.92"
        ],
        [
         "Rizzoli",
         "Visions of Heaven and Hell",
         "4.47"
        ],
        [
         "Rizzoli International Publications",
         "Romanee Conti: The World's Most Fabled Wine",
         "4.17"
        ],
        [
         "Roaring Brook Press",
         "Side Effects",
         "3.87"
        ],
        [
         "Robert Laffont",
         "Le Sens du vent",
         "4.20"
        ],
        [
         "Robert Rose",
         "The Spice and Herb Bible",
         "4.25"
        ],
        [
         "Roberts Rinehart Publishers",
         "Navajo Long Walk",
         "3.45"
        ],
        [
         "Robson Books  London",
         "Mammoth Book Of Lesbian Short Stories (Mammoth Books)",
         "3.65"
        ],
        [
         "Roc",
         "Thin Air (Weather Warden  #6)",
         "4.43"
        ],
        [
         "Roc Hardcover",
         "The River's Gift",
         "3.90"
        ],
        [
         "Roc Trade",
         "Bored of the Rings: A Parody of J.R.R. Tolkien's Lord of the Rings",
         "3.13"
        ],
        [
         "Roca Editorial",
         "Noches de tormenta",
         "4.15"
        ],
        [
         "Rockport Publishers",
         "LOGO Lounge: 2 000 International Identities by Leading Designers",
         "3.93"
        ],
        [
         "Rodale Books",
         "The South Beach Diet: The Delicious  Doctor-Designed  Foolproof Plan for Fast and Healthy Weight Loss",
         "3.98"
        ],
        [
         "Ronin Publishing (CA)",
         "The Illuminati Papers",
         "3.83"
        ],
        [
         "Rosenberg Publishing",
         "A Cargo of Women: Susannah Watson and the Convicts of the Princess Royal",
         "3.58"
        ],
        [
         "Rough Guides",
         "The Rough Guide to Vietnam",
         "3.93"
        ],
        [
         "Routledge",
         "World War II: A Short History",
         "4.37"
        ],
        [
         "Routledge Classics",
         "Tractatus Logico-Philosophicus",
         "4.07"
        ],
        [
         "Routledge Falmer",
         "On Democracy & Education (Social Theory  Education & Cultural Change)",
         "3.96"
        ],
        [
         "Routledge Taylor & Francis Books Ltd imprint",
         "Man for Himself: An Inquiry into the Psychology of Ethics",
         "4.17"
        ],
        [
         "Routledge/Taylor & Francis Ltd.",
         "The Franco-Prussian War",
         "4.09"
        ],
        [
         "Rowman & Littlefield Publishers",
         "The Adventures of Baron Munchausen: The Illustrated Screenplay",
         "4.00"
        ],
        [
         "Rowohlt",
         "V.",
         "3.96"
        ],
        [
         "Rowohlt Taschenbuch Verlag GmbH",
         "Konfetti Ungemütliches + Ungezogenes",
         "3.59"
        ],
        [
         "Rowohlt Tb",
         "Wie ich eines schönen Morgens im April das 100%ige Mädchen sah",
         "3.80"
        ],
        [
         "Rowohlt Tb.",
         "Die Mandarins von Paris",
         "4.14"
        ],
        [
         "Rowohlt Verlag",
         "PanAroma: Jitterbug Perfume",
         "4.25"
        ],
        [
         "Roxford Books",
         "Birth Of A Tragedy: Kashmir 1947",
         "4.00"
        ],
        [
         "Rufus Publications",
         "The Sawtooth Wolves",
         "4.58"
        ],
        [
         "Running Press",
         "World War 3 Illustrated: Confrontational Comics",
         "4.21"
        ],
        [
         "Running Press Adult",
         "The New American Splendor Anthology: From Off the Streets of Cleveland",
         "4.21"
        ],
        [
         "Running Press Book Publishers",
         "The Zen Gardening Kit/Book and Japanese Rock Garden",
         "4.07"
        ],
        [
         "Running Press Kids",
         "Charles Dickens' A Christmas Carol",
         "4.10"
        ],
        [
         "Rupa & Co",
         "The Prophet",
         "4.23"
        ],
        [
         "Russell Enterprises",
         "Tal-Botvinnik 1960",
         "4.55"
        ],
        [
         "Rutgers University Press",
         "The Story of Avis",
         "4.02"
        ],
        [
         "Rux Martin/Houghton Mifflin Harcourt",
         "Beat That! Cookbook",
         "4.31"
        ],
        [
         "Ryland Peters & Small",
         "Risotto: 30 Simply Delicious Vegetarian Recipes from an Italian Kitchen",
         "4.08"
        ],
        [
         "SCM Press",
         "The Poet  the Warrior  the Prophet",
         "4.43"
        ],
        [
         "Saddleback Educational Publishing  Inc.",
         "A Long Way from Chicago (Saddleback's Focus on Reading Study Guides)",
         "4.00"
        ],
        [
         "Sage Publications  Inc",
         "The Politics of Injustice: Crime and Punishment in America",
         "3.87"
        ],
        [
         "Sage Publications Ltd",
         "The Consumer Society: Myths and Structures",
         "4.11"
        ],
        [
         "Sagebrush",
         "Theater Shoes",
         "4.02"
        ],
        [
         "Salamandra",
         "Jonathan Strange y el señor Norrell",
         "4.57"
        ],
        [
         "Salani",
         "L'albero",
         "4.37"
        ],
        [
         "Salem Press Inc",
         "American Film Guide",
         "0.00"
        ],
        [
         "SaltRiver",
         "Looking for God in Harry Potter",
         "4.13"
        ],
        [
         "Samhain Publishing",
         "Naughty Little Secret",
         "3.73"
        ],
        [
         "Sams",
         "Programming in C",
         "3.96"
        ],
        [
         "Samuel French  Inc.",
         "The Phantom Tollbooth: A Children's Play in Two Acts",
         "4.13"
        ],
        [
         "Samuel French Ltd",
         "The Unexpected Guest: A Play In Two Acts",
         "4.09"
        ],
        [
         "San Val",
         "The Thief (The Queen's Thief  #1)",
         "3.88"
        ],
        [
         "Santillana USA Publishing Company",
         "Los diarios de Nanny",
         "4.29"
        ],
        [
         "Sarah Crichton Books",
         "A Long Way Gone: Memoirs of a Boy Soldier",
         "4.16"
        ],
        [
         "Sasquatch Books",
         "One Hundred Demons",
         "4.16"
        ],
        [
         "Saunders",
         "Robbins and Cotran Review of Pathology",
         "4.33"
        ],
        [
         "Sceptre",
         "How the Irish Saved Civilization",
         "4.02"
        ],
        [
         "Schirmer Mosel",
         "Willem de Kooning: Late Paintings",
         "5.00"
        ],
        [
         "Schirmer/Mosel",
         "Libraries",
         "4.28"
        ],
        [
         "Schocken",
         "The Zürau Aphorisms",
         "4.35"
        ],
        [
         "Schocken Books",
         "The Trial",
         "4.35"
        ],
        [
         "Schocken Books Inc",
         "The Forgotten",
         "3.94"
        ],
        [
         "Scholastic",
         "The Zucchini Warriors (Macdonald Hall  #5)",
         "4.78"
        ],
        [
         "Scholastic  Inc.",
         "These Happy Golden Years (Little House  #8)",
         "4.19"
        ],
        [
         "Scholastic Audio Books",
         "There Was a Cold Lady Who Swallowed Some Snow!",
         "3.85"
        ],
        [
         "Scholastic Books",
         "The Rescue (Kidnapped  #3)",
         "4.11"
        ],
        [
         "Scholastic Inc",
         "No More Dead Dogs",
         "3.71"
        ],
        [
         "Scholastic Inc.",
         "The Wish List",
         "4.57"
        ],
        [
         "Scholastic Nonfiction",
         "Built To Last: Building America's Amazing Bridges  Dams  Tunnels  and Skyscrapers (Built to Last)",
         "4.12"
        ],
        [
         "Scholastic Paperbacks",
         "Your Best Friend's Boyfriend (Follow Your Heart  #1)",
         "4.43"
        ],
        [
         "Scholastic Press",
         "Walt Whitman: Words for America",
         "4.30"
        ],
        [
         "Scholastic Reference",
         "A Reading Guide to Island of the Blue Dolphins",
         "3.89"
        ],
        [
         "School Specialty Publishing",
         "Explode the Code 1",
         "4.37"
        ],
        [
         "Schwartz & Wade Books",
         "Toys Go Out: Being the Adventures of a Knowledgeable Stingray  a Toughy Little Buffalo  and Someone Called Plastic (Toys #1)",
         "3.94"
        ],
        [
         "Science Fiction Book Club",
         "Rincewind the Wizzard",
         "4.21"
        ],
        [
         "Scribner",
         "Wrapped in Rainbows: The Life of Zora Neale Hurston",
         "4.35"
        ],
        [
         "Scribner Book Company",
         "True Evil",
         "4.09"
        ],
        [
         "Scribner Classics",
         "The Short Stories of Ernest Hemingway",
         "4.26"
        ],
        [
         "Seal",
         "Lord John and the Private Matter (Lord John Grey  #1)",
         "3.70"
        ],
        [
         "Seal Books",
         "Pat of Silver Bush (Pat  #1)",
         "3.93"
        ],
        [
         "Seal Press",
         "Homelands: Women’s Journeys Across Race  Place  and Time",
         "4.43"
        ],
        [
         "Secker",
         "Birds Without Wings",
         "4.16"
        ],
        [
         "Secker and Warburg",
         "The Van",
         "3.94"
        ],
        [
         "See Sharp Press",
         "The Jungle",
         "3.74"
        ],
        [
         "Seix Barral",
         "La Tía Julia y el Escribidor",
         "4.05"
        ],
        [
         "Self-Realization Fellowship Publishers",
         "La Ley del Exito",
         "4.44"
        ],
        [
         "Semiotext(e)",
         "Burroughs Live: The Collected Interviews  1960-1997",
         "4.36"
        ],
        [
         "Sensory Resources",
         "Answers to Questions Teachers Ask about Sensory Integration: Forms  Checklists  and Practical Tools for Teachers and Parents",
         "4.11"
        ],
        [
         "Sentient Publications",
         "Cleansing the Doors of Perception: The Religious Significance of Entheogenic Plants and Chemicals",
         "4.01"
        ],
        [
         "Serpent's Tail",
         "To the Friend who Didn't Save my Life",
         "3.98"
        ],
        [
         "Serpents Tail",
         "Before Night Falls",
         "4.17"
        ],
        [
         "Servant Publications",
         "Restless Till We Rest in You: 60 Reflections from the Writings of St. Augustine (Saints Speak Today)",
         "4.67"
        ],
        [
         "Seuil",
         "Trainspotting",
         "4.09"
        ],
        [
         "Seven Stories Press",
         "The Umbrella of US Power: The Universal Declaration of Human Rights & the Contradictions of US Policy",
         "4.03"
        ],
        [
         "Severn House",
         "Being a Green Mother (Incarnations of Immortality  #5)",
         "3.96"
        ],
        [
         "Severn House Publishers",
         "Touchy and Feely (Sissy Sawyer  #1)",
         "4.07"
        ],
        [
         "Shadow Mountain",
         "Stone Tables",
         "4.10"
        ],
        [
         "Shambhala",
         "The Wave in the Mind: Talks and Essays on the Writer  the Reader and the Imagination",
         "4.61"
        ],
        [
         "Shambhala Publications",
         "Writing Down the Bones: Freeing the Writer Within",
         "4.19"
        ],
        [
         "Shaw",
         "A Full House: An Austin Family Christmas (Austin Family  #5.6)",
         "3.98"
        ],
        [
         "Shaw Books",
         "The Rock That Is Higher: Story as Truth",
         "4.12"
        ],
        [
         "Shaye Areheart Books",
         "Sliver of Truth (Ridley Jones #2)",
         "3.68"
        ],
        [
         "Shepard Publications",
         "The Atlantis Dialogue",
         "3.77"
        ],
        [
         "Sholom Aleichem Family Publications",
         "Tevye's Daughters: Collected Stories of Sholom Aleichem",
         "4.17"
        ],
        [
         "Shueisha",
         "Death Note  Vol. 4: 恋心 (Death Note  #4)",
         "4.43"
        ],
        [
         "Sidgwick & Jackson Ltd",
         "A Gift Of Wings",
         "3.79"
        ],
        [
         "Sidran Press",
         "Unspeakable Truths and Happy Endings: Human Cruelty and the New Trauma Therapy",
         "4.25"
        ],
        [
         "Sierra Club Books",
         "My Story as told by Water: Confessions  Druidic Rants  Reflections  Bird-watchings  Fish-stalkings  Visions  Songs and Prayers Refracting Light  from Living Rivers  in the Age of the Industrial Dark",
         "4.10"
        ],
        [
         "Siete Cuentos",
         "11 de Septiembre",
         "3.73"
        ],
        [
         "Signet",
         "What Angels Fear (Sebastian St. Cyr  #1)",
         "4.46"
        ],
        [
         "Signet Book",
         "The Waste Lands (The Dark Tower #3)",
         "4.25"
        ],
        [
         "Signet Books (NY)",
         "The Oedipus Plays of Sophocles",
         "3.97"
        ],
        [
         "Signet Classic",
         "Much Ado About Nothing",
         "4.07"
        ],
        [
         "Signet Classics",
         "Wuthering Heights",
         "4.32"
        ],
        [
         "Silhouette",
         "Time and Again: Time Was / Times Change",
         "4.25"
        ],
        [
         "Silhouette Bombshell",
         "Double-Cross (Athena Force #4)",
         "3.72"
        ],
        [
         "Silhouette Books",
         "Wild Fire (The Hot Zone  #3)",
         "3.86"
        ],
        [
         "Silhouette Desire",
         "The Accidental Bodyguard (Accidental  #2)",
         "4.12"
        ],
        [
         "Silhouette Romance",
         "The Princess Bride (Long  Tall Texans  #15)",
         "3.89"
        ],
        [
         "Silhouette Special Edition",
         "The Sheik & the Princess Bride (Desert Rogues  #8)",
         "3.97"
        ],
        [
         "Siloam",
         "The Bible Cure For Diabetes",
         "3.84"
        ],
        [
         "Simon  Schuster",
         "Will You Miss Me When I'm Gone? The Carter Family and Their Legacy in American Music",
         "4.38"
        ],
        [
         "Simon  Schuster Audio",
         "The Sun Also Rises",
         "4.08"
        ],
        [
         "Simon  Schuster Books for Young Readers",
         "Who Wants a Cheap Rhinoceros?",
         "4.20"
        ],
        [
         "Simon  Schuster/Paula Wiseman Books",
         "Michael's Golden Rules",
         "4.02"
        ],
        [
         "Simon & Schuster",
         "Veil: The Secret Wars of the CIA 1981-1987",
         "4.49"
        ],
        [
         "Simon & Schuster (Trade Division)",
         "Run (Fearless  #3)",
         "3.93"
        ],
        [
         "Simon & Schuster Adult Publishing Group",
         "Nighttime Is My Time",
         "3.82"
        ],
        [
         "Simon & Schuster Aladddin Paperbacks",
         "Dragondrums (Harper Hall  #3)",
         "4.07"
        ],
        [
         "Simon & Schuster Audio",
         "The Unfortunate Tobacconist & Other Mysteries (Sherlock Holmes 1-6)",
         "4.22"
        ],
        [
         "Simon & Schuster Books for Young Readers",
         "The Au Pairs (The Au Pairs #1)",
         "4.30"
        ],
        [
         "Simon & Schuster Children's Publishing",
         "The Glorious Impossible",
         "4.25"
        ],
        [
         "Simon & Schuster Childrens Books",
         "Twisted (Fearless  #4)",
         "4.20"
        ],
        [
         "Simon & Schuster Libros en Español",
         "Misery",
         "4.16"
        ],
        [
         "Simon & Schuster Paperbacks",
         "John Adams",
         "4.06"
        ],
        [
         "Simon & Schuster Simon Pulse",
         "Pretties (Uglies  #2)",
         "3.85"
        ],
        [
         "Simon & Schuster; Media Tie-In edition",
         "Band of Brothers: E Company  506th Regiment  101st Airborne from Normandy to Hitler's Eagle's Nest",
         "4.43"
        ],
        [
         "Simon Publications",
         "The Road Back",
         "4.32"
        ],
        [
         "Simon Pulse",
         "Z for Zachariah",
         "4.32"
        ],
        [
         "Simon Schuster",
         "Twelfth Night",
         "3.98"
        ],
        [
         "Simon and Schuster",
         "The Night Awakens: A Mystery Writers of America Anthology",
         "4.26"
        ],
        [
         "Simple Productions",
         "Mahatma Gandhi and His Myths: Civil Disobedience  Nonviolence  and Satyagraha in the Real World (Plus Why It's Gandhi  Not Ghandi)",
         "3.62"
        ],
        [
         "Sinauer Associates",
         "Essentials of Conservation Biology",
         "3.92"
        ],
        [
         "Skinner House Books",
         "True Harvest: Readings From Henry David Thoreau For Every Day Of The Year",
         "4.75"
        ],
        [
         "Sky Books (NY)",
         "Pyramids of Montauk: Explorations in Consciousness",
         "3.89"
        ],
        [
         "Skylight Paths Publishing",
         "How to Be a Perfect Stranger: The Essential Religious Etiquette Handbook",
         "3.95"
        ],
        [
         "Sleeping Bear Press",
         "O Is for Old Dominion: A Virginia Alphabet",
         "4.00"
        ],
        [
         "Small Beer Press",
         "Perfect Circle",
         "3.80"
        ],
        [
         "Smart Pop",
         "The Anthology at the End of the Universe: Leading Science Fiction Authors on Douglas Adams' The Hitchhiker's Guide to the Galaxy",
         "3.86"
        ],
        [
         "Smithmark Publishers",
         "Three Complete Novels: Postmortem / Body Of Evidence / All That Remains (Kay Scarpetta  #1  #2  #3)",
         "4.29"
        ],
        [
         "Smithsonian Books",
         "Juan Rulfo's Mexico",
         "4.47"
        ],
        [
         "Soft Skull Press",
         "The Good Fairies of New York",
         "3.92"
        ],
        [
         "Soho Crime",
         "White Sky  Black Ice (Nathan Active Mystery  #1)",
         "3.77"
        ],
        [
         "Soho Press",
         "The Rattle-Rat",
         "3.97"
        ],
        [
         "Sophia Institute Press",
         "Aquinas's Shorter Summa: Saint Thomas's Own Concise Version of His Summa Theologica",
         "4.14"
        ],
        [
         "Soundings",
         "The Visitor (Jack Reacher  #4)",
         "4.09"
        ],
        [
         "Sounds True",
         "Mindfulness for Beginners",
         "3.82"
        ],
        [
         "Sourcebooks",
         "Steppenwolf Theatre Company : Twenty-Five Years of an Actor's Theater",
         "4.25"
        ],
        [
         "South End Press",
         "Outsiders Within: Writing on Transracial Adoption",
         "4.17"
        ],
        [
         "South End Press (Boston)",
         "To Win a Nuclear War: The Pentagon's Secret War Plans",
         "3.94"
        ],
        [
         "Southern Methodist University Press",
         "From a Limestone Ledge: Some Essays and Other Ruminations about Country Life in Texas",
         "4.31"
        ],
        [
         "Souvenir Press",
         "Zero: The Biography of a Dangerous Idea",
         "4.31"
        ],
        [
         "Sovereign World",
         "There's Always Enough: The Miraculous Move of God in Mozambique",
         "4.46"
        ],
        [
         "Spark Publishing",
         "A Tale of Two Cities: Charles Dickens",
         "4.00"
        ],
        [
         "SparkNotes",
         "The Iliad (SparkNotes Literature Guides)",
         "4.13"
        ],
        [
         "Speak",
         "Westminster Abby",
         "4.03"
        ],
        [
         "Specialty Press",
         "Sukhoi Su-27 Flanker (WarbirdTech  #42)",
         "3.00"
        ],
        [
         "Spectra",
         "Uncharted Territory",
         "4.19"
        ],
        [
         "Spectra Books",
         "The Martians (Mars Trilogy  #3.5)",
         "4.22"
        ],
        [
         "Spectra/Bantam Books (NYC)",
         "Feersum Endjinn",
         "3.82"
        ],
        [
         "Sphere",
         "The Talbot Odyssey",
         "3.85"
        ],
        [
         "Springer",
         "The Future of the Universe",
         "4.27"
        ],
        [
         "Square Fish",
         "The High King (The Chronicles of Prydain  #5)",
         "4.25"
        ],
        [
         "Square One Publishers",
         "The Diamond Color Meditation: Color Pathway to the Soul",
         "5.00"
        ],
        [
         "St. Augustines Press",
         "Enthusiasm and Divine Madness",
         "4.50"
        ],
        [
         "St. Martin's",
         "Deadly Love (Francesca Cahill Deadly  #1)",
         "3.96"
        ],
        [
         "St. Martin's Griffin",
         "Where the Mountain Casts Its Shadow: The Dark Side of Extreme Adventure",
         "4.41"
        ],
        [
         "St. Martin's Minotaur",
         "Choke Point: A Brinker Mystery (Brinker P.I.)",
         "3.22"
        ],
        [
         "St. Martin's Paperback",
         "Minion (Vampire Huntress  #1)",
         "3.44"
        ],
        [
         "St. Martin's Paperbacks",
         "Wings of Fire (Inspector Ian Rutledge  #2)",
         "4.42"
        ],
        [
         "St. Martin's Press",
         "Two for the Dough (Stephanie Plum  #2)",
         "4.70"
        ],
        [
         "St. Martin's True Crime",
         "What the Corpse Revealed",
         "3.79"
        ],
        [
         "St. Martins Press",
         "The Interpreter",
         "4.12"
        ],
        [
         "St. Martins Press-3PL",
         "Vita",
         "4.41"
        ],
        [
         "Stackpole Books",
         "Blood Stripes: The Grunt's View of the War in Iraq",
         "3.91"
        ],
        [
         "Stanford University Press",
         "Unpublished Writings from the Period of Unfashionable Observations (Complete Works 11)",
         "4.06"
        ],
        [
         "Stanford University Press (Stanford  CA)",
         "Human  All Too Human (Complete Works 3)",
         "4.21"
        ],
        [
         "Star Trek",
         "The Black Road (Diablo #2)",
         "3.69"
        ],
        [
         "Starcatcher Press",
         "Drat! We're Rats! (Scrambled Legs  #1)",
         "3.69"
        ],
        [
         "Starfire",
         "The Complete Anne of Green Gables Boxed Set (Anne of Green Gables  #1-8)",
         "4.43"
        ],
        [
         "Starscape",
         "New Threads in the Pattern: The Great Hunt  Part 2 (Wheel of Time  #2-2)",
         "4.31"
        ],
        [
         "State University of New York Press",
         "Experimental Phenomenology: An Introduction",
         "3.73"
        ],
        [
         "Steerforth",
         "Under the Red Flag",
         "3.88"
        ],
        [
         "Steerforth Press",
         "The Unknown Sigrid Undset: Jenny and Other Works",
         "4.19"
        ],
        [
         "Steidl",
         "Early Color",
         "4.73"
        ],
        [
         "Stenhouse Publishers",
         "A Note Slipped Under the Door: Teaching from Poems We Love",
         "4.12"
        ],
        [
         "Sterling",
         "White Fang",
         "4.33"
        ],
        [
         "Sterling Children's Books",
         "Treasure Island",
         "3.83"
        ],
        [
         "Sterling Publishing Co.  Inc.",
         "The Three Musketeers (Classic Starts)",
         "4.12"
        ],
        [
         "Stewart  Tabori and Chang",
         "Things to Bring  S#!t to Do: And Other Inventories of Anxiety: My Life in Lists",
         "3.67"
        ],
        [
         "Sticker Design (DC Comics)",
         "JLA: Tierra 2",
         "3.97"
        ],
        [
         "Stone Bridge Press",
         "The Anime Encyclopedia: A Guide to Japanese Animation Since 1917",
         "4.04"
        ],
        [
         "Stonewall Inn Editions",
         "And the Band Played On: Politics  People  and the AIDS Epidemic",
         "4.37"
        ],
        [
         "Storey Publishing  LLC",
         "Maple Syrup Cookbook: Over 100 Recipes For Breakfast  Lunch & Dinner",
         "3.81"
        ],
        [
         "Subterranean Press",
         "Shadow Twin",
         "3.67"
        ],
        [
         "Sudamericana",
         "La casa de los espíritus",
         "4.23"
        ],
        [
         "Suhrkamp",
         "Schiffbruch mit Zuschauer. Paradigma einer Daseinsmetapher",
         "4.33"
        ],
        [
         "Suma",
         "La tía Julia y el escribidor",
         "3.92"
        ],
        [
         "Suma de Letras Brasileiras",
         "O Historiador",
         "3.78"
        ],
        [
         "Sumach Press",
         "Margaret Atwood's Power: Mirrors  Reflections and Images in Select Fiction and Poetry",
         "3.43"
        ],
        [
         "Summit University Press",
         "Soul Mates & Twin Flames: The Spiritual Dimension of Love & Relationships (Pocket Guide to Practical Spirituality)",
         "4.21"
        ],
        [
         "Sun & Moon Press",
         "Victoria",
         "3.74"
        ],
        [
         "Sun and Moon Press",
         "The Locked Room (The New York Trilogy  #3)",
         "3.91"
        ],
        [
         "Sunburst",
         "Everything on a Waffle (Coal Harbour #1)",
         "3.72"
        ],
        [
         "Sunstone Press",
         "Corroborating Evidence: The Black Dahlia Murder",
         "3.39"
        ],
        [
         "Sutton",
         "The Death and Life of Sylvia Plath",
         "3.67"
        ],
        [
         "Sutton Publishing",
         "Boudicca: The Warrior Queen",
         "3.57"
        ],
        [
         "Swallow Press",
         "House of Incest",
         "3.80"
        ],
        [
         "Sweet Valley",
         "The Wakefields of Sweet Valley (Sweet Valley High Magna Editions #1)",
         "3.94"
        ],
        [
         "T&T Clark Int'l",
         "Colossians and Philemon: A Critical and Exegetical Commentary (International Critical Commentary)",
         "5.00"
        ],
        [
         "TEA",
         "La regina dei dannati",
         "3.89"
        ],
        [
         "TIme Warner Books",
         "Pop Goes the Weasel (Alex Cross  #5)",
         "4.00"
        ],
        [
         "TSR",
         "Scholar of Decay (Ravenloft  #14)",
         "3.54"
        ],
        [
         "TSR Inc.",
         "Sword and Shield",
         "4.00"
        ],
        [
         "TSR Inc./Wizards of the Coast",
         "The Dragons at War (Dragonlance Dragons  #2)",
         "4.02"
        ],
        [
         "Tachyon Publications",
         "The Line Between",
         "4.21"
        ],
        [
         "Tanglewood",
         "The Kissing Hand",
         "4.43"
        ],
        [
         "Tantor Media",
         "The Warlord of Mars (Barsoom  #3)",
         "3.86"
        ],
        [
         "Taplinger Publ. Company",
         "The Bram Stoker Bedside Companion: 10 Stories by the Author of Dracula",
         "3.44"
        ],
        [
         "Taplinger Publishing",
         "Silence",
         "4.08"
        ],
        [
         "Tarcher",
         "The Age of Access: The New Culture of Hypercapitalism  Where All of Life Is a Paid-For Experience",
         "3.82"
        ],
        [
         "TarcherPerigee",
         "The Search for the Beloved: Journeys in Mythology and Sacred Psychology (Inner Workbook)",
         "4.22"
        ],
        [
         "Tarcherperigee",
         "What Do Women Want?: Essays by Erica Jong",
         "4.18"
        ],
        [
         "Taschen",
         "Richard Kern  Action",
         "4.26"
        ],
        [
         "Taunton Press",
         "Not So Big House",
         "4.67"
        ],
        [
         "Tauris Parke Paperbacks",
         "Mary  Queen of Scots: Pride  Passion and a Kingdom Lost",
         "3.72"
        ],
        [
         "Taylor Productions Ltd",
         "All-of-a-Kind Family Uptown (All-of-a-Kind-Family  #4)",
         "4.28"
        ],
        [
         "Teacher Created Resources",
         "Hatchet: A Guide for Using Hatchet in the Classroom",
         "4.00"
        ],
        [
         "Teacher's Pet Publications",
         "Stargirl LitPlans on CD",
         "4.86"
        ],
        [
         "Teacher's Pet Publications  Inc.",
         "Puzzle Pack: The Witch of Blackbird Pond",
         "1.00"
        ],
        [
         "Teachers College Press",
         "The Facilitator's Book of Questions: Tools for Looking Together at Student and Teacher Work",
         "4.00"
        ],
        [
         "Teaching Resources",
         "Scholastic Success with 4th Grade Workbook",
         "5.00"
        ],
        [
         "Temenos Press",
         "Floor Games (Sandplay Classics)",
         "3.40"
        ],
        [
         "Ten Speed Press",
         "What Color Is Your Parachute? A Practical Manual for Job-Hunters and Career-Changers",
         "4.28"
        ],
        [
         "Texas A&M University Press",
         "The American Campaign: U.S. Presidential Campaigns and the National Vote",
         "5.00"
        ],
        [
         "Th1nk Books",
         "Bright Purple: Color Me Confused (TrueColors  #10)",
         "3.49"
        ],
        [
         "Thames  Hudson",
         "The Rainbow Goblins",
         "4.42"
        ],
        [
         "Thames & Hudson",
         "The Complete World of Greek Mythology",
         "4.24"
        ],
        [
         "Thames & Hudson Ltd",
         "Mark Rothko  1903 1970",
         "4.04"
        ],
        [
         "That Patchwork Place",
         "Happy Endings: Finishing the Edges of Your Quilts",
         "4.25"
        ],
        [
         "The Audio Partners",
         "As You Like It",
         "3.83"
        ],
        [
         "The Berkley Publishing Group",
         "Shakespeare: The Invention of the Human",
         "4.02"
        ],
        [
         "The Bodley Head Ltd",
         "The Last Unicorn",
         "4.17"
        ],
        [
         "The Chicken House",
         "Inkspell (Inkworld  #2)",
         "3.92"
        ],
        [
         "The Crossroad Publishing Company",
         "Huxley and God: Essays on Religious Experience",
         "4.30"
        ],
        [
         "The Disinformation Company (NYC)",
         "Under the Influence: The Disinformation Guide to Drugs",
         "3.64"
        ],
        [
         "The Guilford Press",
         "The Nature of Play: Great Apes and Humans",
         "4.33"
        ],
        [
         "The Harvill Press",
         "The Bridge over the Drina",
         "4.33"
        ],
        [
         "The Liffey Press",
         "The Scandal of Ulysses: The Life And Afterlife of a Twentieth Century Masterpiece",
         "3.82"
        ],
        [
         "The MIT Press",
         "The Puppet and the Dwarf: The Perverse Core of Christianity",
         "3.85"
        ],
        [
         "The Modern Library",
         "Adventures of Huckleberry Finn",
         "3.82"
        ],
        [
         "The Modern Library New York",
         "The Guermantes Way (In Search of Lost Time  #3)",
         "4.30"
        ],
        [
         "The Monacelli Press",
         "New York 2000: Architecture and Urbanism Between the Bicentennial and the Millennium",
         "4.44"
        ],
        [
         "The New Press",
         "The War",
         "4.17"
        ],
        [
         "The New York Review Children's Collection",
         "An Episode of Sparrows",
         "4.21"
        ],
        [
         "The Orion Publishing Group Ltd",
         "The Glass Lake",
         "3.93"
        ],
        [
         "The Overlook Press",
         "Lord Emsworth and Others (Blandings Castle  #5.5)",
         "4.27"
        ],
        [
         "The Putnam & Grosset Group",
         "The Tomten",
         "4.24"
        ],
        [
         "Theatre Communications Group",
         "The Last Night of Ballyhoo",
         "4.06"
        ],
        [
         "Thomas Dunne Books",
         "Round Ireland with a Fridge",
         "3.79"
        ],
        [
         "Thomas Nelson",
         "Writings to Young Women on Laura Ingalls Wilder: As Told By Her Family  Friends  and Neighbors (Writings to Young Women on Laura Ingalls Wilder #3)",
         "4.45"
        ],
        [
         "Thomas Nelson Publishers",
         "The Guardian",
         "3.72"
        ],
        [
         "Thomas Publications (PA)",
         "Ghosts of Gettysburg III: Spirits  Apparitions  and Haunted Places of the Battlefield",
         "4.03"
        ],
        [
         "Thomas Y. Crowell Company",
         "Betsy and Tacy Go Downtown (Betsy-Tacy  #4)",
         "4.21"
        ],
        [
         "Thorndike Press",
         "Ready or Not (All-American Girl  #2)",
         "3.96"
        ],
        [
         "Thorndike Press Large Print",
         "The Lightning Thief (Percy Jackson and the Olympians  #1)",
         "4.47"
        ],
        [
         "Three Rivers Press",
         "Your First Year in Network Marketing: Overcome Your Fears  Experience Success  and Achieve Your Dreams!",
         "4.21"
        ],
        [
         "Three Rivers Press (CA)",
         "The Sweet Potato Queens' Big-Ass Cookbook (and Financial Planner)",
         "4.09"
        ],
        [
         "Thunder's Mouth Press Books",
         "Freaks of the Storm: From Flying Cows to Stealing Thunder: The World's Strangest True Weather Stories",
         "3.17"
        ],
        [
         "Timber Press (OR)",
         "A Book of Blue Flowers",
         "3.83"
        ],
        [
         "Time Life Books",
         "What Life Was Like on the Banks of the Nile: Egypt  3050-30 BC",
         "4.00"
        ],
        [
         "Time Life Medical",
         "What Life Was Like in the Time of War and Peace: Imperial Russia  AD 1696-1917 (What Life Was Like)",
         "4.50"
        ],
        [
         "Time Warner Books UK",
         "The Calvin And Hobbes:  Tenth Anniversary Book",
         "4.63"
        ],
        [
         "Time Warner Paperbacks",
         "The Waste Lands (The Dark Tower  #3)",
         "4.24"
        ],
        [
         "Time-Life Books",
         "Soups",
         "3.88"
        ],
        [
         "Time-Life Books  Inc.",
         "Master Index: An Illustrated Guide",
         "3.56"
        ],
        [
         "Timeless Texts",
         "Teach Them Diligently: How to Use the Scriptures in Child Training",
         "4.25"
        ],
        [
         "Times Books",
         "Warren G. Harding (The American Presidents  #29)",
         "3.89"
        ],
        [
         "Tin House Books",
         "Pictures Showing What Happens on Each Page of Thomas Pynchon's Novel Gravity's Rainbow",
         "4.10"
        ],
        [
         "Tin House Magazine",
         "Tin House: Evil (Volume 8 no. 3)",
         "3.90"
        ],
        [
         "Tinder Press",
         "Never Far From Nowhere",
         "3.70"
        ],
        [
         "Titan",
         "Ghost in the Shell",
         "4.18"
        ],
        [
         "Titan Books",
         "Death: The High Cost of Living",
         "4.19"
        ],
        [
         "Titan Books Ltd",
         "Planet of the Apes: The Human War",
         "3.28"
        ],
        [
         "TokyoPop",
         "Tramps Like Us  Volume 9",
         "4.37"
        ],
        [
         "Tokyopop",
         "RG Veda  Vol. 01",
         "3.72"
        ],
        [
         "Tom Doherty Associates",
         "The Sixth Book of Lost Swords: Mindsword's Story (Lost Swords  #6)",
         "3.81"
        ],
        [
         "Tom Doherty Associates/Orb Books",
         "The Collected Stories of Arthur C. Clarke",
         "4.29"
        ],
        [
         "Tom Doherty Tor Fantasy",
         "The Shadow Rising (The Wheel of Time  #4)",
         "4.24"
        ],
        [
         "Tommy Nelson",
         "Writings to Young Women from Laura Ingalls Wilder: On Wisdom and Virtues (Writings to Young Women on Laura Ingalls Wilder #1)",
         "3.99"
        ],
        [
         "Top Shelf Productions",
         "Carnet de Voyage",
         "4.05"
        ],
        [
         "Topaz",
         "Angel Christmas",
         "3.49"
        ],
        [
         "Tor",
         "The Callahan Chronicals (Callahan's #1-3)",
         "4.36"
        ],
        [
         "Tor Books",
         "Xenocide (Ender's Saga  #3)",
         "4.49"
        ],
        [
         "Tor Classics",
         "The Gate of Fire (Oath Of Empire Book Two)",
         "4.14"
        ],
        [
         "Tor Fantasy",
         "Yon Ill Wind (Xanth #20)",
         "4.10"
        ],
        [
         "Tor Science Fiction",
         "The Road to Dune",
         "3.88"
        ],
        [
         "Totem Books",
         "Turing and the Universal Machine: The Making of the Modern Computer",
         "3.80"
        ],
        [
         "Touchstone",
         "What Jane Austen Ate and Charles Dickens Knew: From Fox Hunting to Whist—the Facts of Daily Life in 19th-Century England",
         "4.35"
        ],
        [
         "Touchstone Books",
         "The Secret Garden: Talking Beetles and Signaling Trees: The Hidden Ways Gardens Communicate",
         "4.32"
        ],
        [
         "Tougher Disguises",
         "The Frequencies",
         "4.32"
        ],
        [
         "Townsend Press",
         "Silas Marner",
         "3.64"
        ],
        [
         "Trafalgar Square Publishing",
         "Raised on Rock: Growing Up at Graceland",
         "2.75"
        ],
        [
         "Trafford Publishing",
         "The Radical Right & the Murder of John F. Kennedy: Stunning Evidence in the Assassination of the President",
         "3.76"
        ],
        [
         "Transaction Publishers",
         "The Intelligent Woman's Guide to Socialism  Capitalism  Sovietism and Fascism",
         "3.87"
        ],
        [
         "Transworld Publishers",
         "The Secret Dreamworld of a Shopaholic (Shopaholic  #1)",
         "4.06"
        ],
        [
         "Transworld Publishers Ltd",
         "Not Without My Daughter",
         "4.10"
        ],
        [
         "Travelers' Tales",
         "There's No Toilet Paper . . . on the Road Less Traveled: The Best of Travel Humor and Misadventure",
         "3.38"
        ],
        [
         "Treat Enterprises",
         "Dark Birthright",
         "3.63"
        ],
        [
         "Trine Day",
         "Dr. Mary's Monkey: How the Unsolved Murder of a Doctor  a Secret Laboratory in New Orleans and Cancer-Causing Monkey Viruses are Linked to Lee Harvey Oswald  the JFK Assassination and Emerging Global Epidemics",
         "3.92"
        ],
        [
         "Triple Crown Publications",
         "In Cahootz: Sequel to Hoodwinked",
         "4.47"
        ],
        [
         "Troll Communications",
         "You Can Never Go Home Again",
         "4.23"
        ],
        [
         "Tropismos",
         "Un café lejos de aquí",
         "3.84"
        ],
        [
         "Turtleback",
         "The Princess Diaries (The Princess Diaries  #1)",
         "3.96"
        ],
        [
         "Turtleback Books",
         "White Teeth",
         "4.47"
        ],
        [
         "Turtleback Books Distributed by Demco Media",
         "Amelia Bedelia and the Baby (Amelia Bedelia)",
         "4.17"
        ],
        [
         "TusQuets",
         "Hasta que te encuentre",
         "4.17"
        ],
        [
         "Tusquets",
         "Soldados de Salamina",
         "3.81"
        ],
        [
         "Tuttle Publishing",
         "The Golden Country",
         "4.04"
        ],
        [
         "Twayne Publishers",
         "Astrid Lindgren",
         "3.78"
        ],
        [
         "Twenty-First Century Books (CT)",
         "The Brave Women of the Gulf Wars: Operation Desert Storm and Operation Iraqi Freedom",
         "4.00"
        ],
        [
         "Twin Palms Publishers",
         "Harm's Way: Lust & Madness & Murder & Mayhem",
         "4.54"
        ],
        [
         "Two Lions",
         "The Bone Collector's Son",
         "3.27"
        ],
        [
         "Two Plus Two Publishing LLC",
         "Harrington on Hold 'em: Expert Strategy for No-Limit Tournaments  Volume II: The Endgame",
         "4.24"
        ],
        [
         "Tyndale House Publishers",
         "The Strategy of Satan: How to Detect and Defeat Him",
         "4.50"
        ],
        [
         "Tyndale Momentum",
         "Chosen By God: Know God's Perfect Plan for His Glory and His Children",
         "4.34"
        ],
        [
         "US Green Building Council",
         "Design Like You Give a Damn: Architectural Responses to Humanitarian Crises",
         "4.12"
        ],
        [
         "US Naval Institute Press",
         "Bull Halsey",
         "4.16"
        ],
        [
         "Ullstein",
         "Wolfsbrut.",
         "3.85"
        ],
        [
         "Ullstein Buchverlage GmbH & Co. KG / Ullstein Tas",
         "Hafen des Unglücks (Aubrey/Maturin Book 11)",
         "4.41"
        ],
        [
         "Ullstein Tb",
         "Manöver um Feuerland (The Far Side of the World) (Aubrey/Maturin Book 10)",
         "4.45"
        ],
        [
         "Ulysses Press",
         "Mugglenet.Com's What Will Happen in Harry Potter 7: Who Lives  Who Dies  Who Falls in Love and How Will the Adventure Finally End?",
         "4.23"
        ],
        [
         "Umbriel",
         "Ángeles y demonios (Robert Langdon  #1)",
         "3.89"
        ],
        [
         "Underwood/Miller  Berkley",
         "The Last Castle",
         "3.79"
        ],
        [
         "Union Square Press",
         "The Book of the Dragon",
         "4.20"
        ],
        [
         "Univ Of Minnesota Press",
         "The Karma Of Brown Folk",
         "4.22"
        ],
        [
         "Universal Publishers",
         "Doctor Tandy's First Guide to Life Extension and Transhumanity",
         "4.00"
        ],
        [
         "Universe",
         "This Is New York",
         "4.30"
        ],
        [
         "Universe Publishing(NY)",
         "Corvette",
         "4.83"
        ],
        [
         "University Of Chicago Press",
         "Young Men and Fire",
         "4.29"
        ],
        [
         "University Of Minnesota Press",
         "Problems of Dostoevsky's Poetics",
         "4.34"
        ],
        [
         "University Press of America",
         "Outsider",
         "3.98"
        ],
        [
         "University Press of Florida",
         "Winter Season: A Dancer's Journal",
         "4.47"
        ],
        [
         "University Press of Kansas",
         "Unpainted to the Last: Moby Dick and Twentieth-century American Art",
         "4.28"
        ],
        [
         "University Press of Kentucky",
         "The Cave",
         "4.13"
        ],
        [
         "University Press of Mississippi",
         "Tim Burton: Interviews",
         "4.50"
        ],
        [
         "University Press of New England",
         "Oliver Wendell Holmes in Paris: Medicine  Theology  and the Autocrat of the Breakfast Table",
         "5.00"
        ],
        [
         "University of Alaska Press",
         "Not Just a Pretty Face: Dolls and Human Figurines in Alaska Native Cultures",
         "3.50"
        ],
        [
         "University of Arizona Press",
         "After Collapse: The Regeneration of Complex Societies",
         "4.00"
        ],
        [
         "University of Arkansas Press",
         "The Apple that Astonished Paris",
         "4.20"
        ],
        [
         "University of Calgary Press",
         "Galapagos: A Natural History",
         "3.88"
        ],
        [
         "University of California Press",
         "World Atlas of Great Apes and their Conservation",
         "4.50"
        ],
        [
         "University of Chicago Press",
         "Works of Hesiod and the Homeric Hymns",
         "4.43"
        ],
        [
         "University of Georgia Press",
         "Because I Remember Terror  Father  I Remember You",
         "4.11"
        ],
        [
         "University of Illinois Press",
         "Zora Neale Hurston: A Literary Biography",
         "4.17"
        ],
        [
         "University of Massachusetts Press",
         "The Library of Apollodorus: Gods and Heroes of the Greeks",
         "3.98"
        ],
        [
         "University of Michigan Press",
         "Their Sisters' Keepers: Women's Prison Reform in America  1830-1930",
         "4.40"
        ],
        [
         "University of Minnesota Press",
         "Blindness and Insight: Essays in the Rhetoric of Contemporary Criticism",
         "4.12"
        ],
        [
         "University of Nebraska Press",
         "Lectures on the History of Philosophy 1: Greek Philosophy to Plato",
         "4.05"
        ],
        [
         "University of New Mexico Press",
         "Quito 1599: City and Colony in Transition",
         "3.52"
        ],
        [
         "University of North Carolina Press",
         "The Scotch-Irish: A Social History",
         "4.04"
        ],
        [
         "University of Notre Dame Press",
         "Treatise on Happiness",
         "3.83"
        ],
        [
         "University of Oklahoma Press",
         "Warfare in the Classical World: An Illustrated Encyclopedia of Weapons  Warriors  and Warfare in the Ancient Civilizations of Greece and Rome",
         "4.41"
        ],
        [
         "University of Pennsylvania Press",
         "The Negro",
         "4.32"
        ],
        [
         "University of Pittsburgh Press",
         "A Mad People's History of Madness",
         "4.33"
        ],
        [
         "University of South Carolina Press",
         "On Authorship",
         "3.75"
        ],
        [
         "University of Texas Press",
         "The Burning Plain and Other Stories",
         "4.39"
        ],
        [
         "University of Texas Press (Austin/London)",
         "The Book of Merlyn: The Unpublished Conclusion to The Once & Future King",
         "3.96"
        ],
        [
         "University of Toronto Press",
         "The Boys of the Archangel Raphael: A Youth Confraternity in Florence  1411-1785",
         "2.00"
        ],
        [
         "University of Utah Press",
         "A Gateway to Sindarin: A Grammar of an Elvish Language from J.R.R. Tolkien's Lord of the Rings",
         "3.73"
        ],
        [
         "University of Washington Press",
         "The Art of the Ridiculous Sublime: On David Lynch's Lost Highway",
         "4.43"
        ],
        [
         "University of Wisconsin Press",
         "Mark Twain's Own Autobiography: The Chapters from the North American Review",
         "3.80"
        ],
        [
         "Unwin Paperbacks",
         "The Silmarillion",
         "3.92"
        ],
        [
         "Urban Books",
         "My Woman His Wife",
         "4.38"
        ],
        [
         "Urion Press",
         "Life Amongst the Modocs",
         "4.32"
        ],
        [
         "Usborne Books",
         "Gulliver's Travels",
         "3.35"
        ],
        [
         "VIZ Media",
         "Video Girl Ai  Vol. 15: Len's Story",
         "4.62"
        ],
        [
         "VIZ Media LLC",
         "Yakitate!! Japan  Volume 7",
         "4.60"
        ],
        [
         "Vacation Work Publications",
         "Teaching English Abroad",
         "3.57"
        ],
        [
         "Van Patten Publishing",
         "Marijuana Horticulture: The Indoor/Outdoor Medical Grower's Bible",
         "4.39"
        ],
        [
         "Vanderbilt University Press",
         "Cervantes in Algiers: A Captive's Tale",
         "3.14"
        ],
        [
         "Vanguard Press",
         "Scavenger (Frank Balenger  #2)",
         "4.00"
        ],
        [
         "Vantage Press",
         "Bulgakov's the Master and Margarita: The Text as a Cipher",
         "5.00"
        ],
        [
         "VeloPress",
         "Zinn & the Art of Road Bike Maintenance",
         "4.29"
        ],
        [
         "Vendome Press",
         "Tuscan Countess: The Life and Extraordinary Times of Matilda of Canossa",
         "3.68"
        ],
        [
         "Verba Mundi",
         "A Void",
         "3.80"
        ],
        [
         "Veritas Publishing",
         "Transcending the Levels of Consciousness: The Stairway to Enlightenment",
         "4.61"
        ],
        [
         "Vermilion",
         "Who Moved My Cheese?",
         "4.19"
        ],
        [
         "Verso",
         "Unacknowledged Legislation: Writers in the Public Sphere",
         "4.22"
        ],
        [
         "Versus Press",
         "User",
         "3.37"
        ],
        [
         "Vertical",
         "Ring (Ring  #1)",
         "3.82"
        ],
        [
         "Vertigo",
         "World's End (The Sandman  #8)",
         "4.65"
        ],
        [
         "Vertigo (DC Comics)",
         "Bite Club (Bite Club  #1)",
         "3.07"
        ],
        [
         "Victor Gollancz",
         "God Emperor of Dune (Dune Chronicles #4)",
         "3.84"
        ],
        [
         "Vida",
         "Una Vida Con Proposito Volumen 6",
         "4.35"
        ],
        [
         "Viking",
         "The Mistress's Daughter",
         "4.50"
        ],
        [
         "Viking Adult",
         "War and Peace",
         "4.40"
        ],
        [
         "Viking Books",
         "Winston Churchill",
         "4.38"
        ],
        [
         "Viking Books for Young Readers",
         "Pippi in the South Seas",
         "4.46"
        ],
        [
         "Viking Children's Books",
         "Haroun and the Sea of Stories (Khalifa Brothers  #1)",
         "4.08"
        ],
        [
         "Viking Juvenile",
         "Roald Dahl Treasury",
         "4.43"
        ],
        [
         "Viking Penguin Inc.",
         "Spy Catcher: The Candid Autobiography of a Senior Intelligence Officer",
         "3.73"
        ],
        [
         "Viking Press",
         "Maia (Beklan Empire #2)",
         "4.01"
        ],
        [
         "Viking UK",
         "Mirror in the Mirror",
         "4.14"
        ],
        [
         "Viking; G. P. Putnam & Sons",
         "The Talisman",
         "4.13"
        ],
        [
         "Villard",
         "We Thought You Would Be Prettier: True Tales of the Dorkiest Girl Alive",
         "3.98"
        ],
        [
         "Villard Books",
         "I Love Everybody (and Other Atrocious Lies)",
         "3.97"
        ],
        [
         "Vince Emery Productions",
         "Lost Stories",
         "3.98"
        ],
        [
         "Vintage",
         "You Shall Know Our Velocity!",
         "4.53"
        ],
        [
         "Vintage Books",
         "Three Famous Short Novels: Spotted Horses Old Man the Bear",
         "4.28"
        ],
        [
         "Vintage Books USA",
         "When I Was Puerto Rican",
         "4.32"
        ],
        [
         "Vintage Books a division of Random House",
         "Going to Meet the Man",
         "4.35"
        ],
        [
         "Vintage Books/Vintage Classics",
         "The Quiet American",
         "3.97"
        ],
        [
         "Vintage Classics",
         "Timequake",
         "4.47"
        ],
        [
         "Vintage Contemporaries",
         "Where I'm Calling From: New and Selected Stories",
         "4.42"
        ],
        [
         "Vintage Crime",
         "The Big Sleep (Philip Marlowe  #1)",
         "4.01"
        ],
        [
         "Vintage Crime/Black Lizard",
         "Trouble Is My Business",
         "4.22"
        ],
        [
         "Vintage Espanol",
         "Memoria de mis putas tristes",
         "3.97"
        ],
        [
         "Vintage International",
         "The Unconsoled",
         "4.27"
        ],
        [
         "Vintage/Ebury",
         "Ali and Nino",
         "3.92"
        ],
        [
         "Vintage/Ebury (A Division of Random House Group)",
         "The Life Of Dashiell Hammett",
         "3.73"
        ],
        [
         "Vintage/Random House (NY)",
         "Montaillou: The Promised Land of Error",
         "4.21"
        ],
        [
         "Vintage/Random House Inc. (NYC)",
         "The Occult: A History",
         "3.91"
        ],
        [
         "Virago",
         "The Transit of Venus",
         "3.95"
        ],
        [
         "Virago Press (UK)",
         "Rebecca",
         "4.23"
        ],
        [
         "Virago Press Ltd",
         "Handmaid's Tale",
         "4.11"
        ],
        [
         "Virago UK",
         "Desert Dawn",
         "3.83"
        ],
        [
         "Virgin Publishing",
         "Doctor Who: Cat's Cradle-Witch Mark",
         "3.51"
        ],
        [
         "Vision",
         "Up Country",
         "4.17"
        ],
        [
         "Vision Forum",
         "Beloved Bride: The Letters of Stonewall Jackson to His Wife",
         "4.10"
        ],
        [
         "Vivendi",
         "Diablo II Ultimate Strategy Guide",
         "3.81"
        ],
        [
         "Viz Media",
         "Uzumaki: Spiral into Horror  Vol. 2.",
         "4.45"
        ],
        [
         "Voice",
         "Secret Identity (Lost  #2)",
         "2.93"
        ],
        [
         "Volo",
         "Maurice Sendak's Seven Little Monsters: What Time is It? - Book #4",
         "2.75"
        ],
        [
         "Voyager",
         "Warhost of Vastmark (Wars of Light & Shadow  #3; Arc 2 - The Ships of Merior  #2)",
         "4.44"
        ],
        [
         "Voyageur Press",
         "Walking the Rez Road",
         "4.75"
        ],
        [
         "W Publishing Group",
         "Lead Like Jesus: Lessons from the Greatest Leadership Role Model of All Time",
         "4.04"
        ],
        [
         "W. W. Norton  Company",
         "iWoz",
         "4.70"
        ],
        [
         "W. W. Norton & Co.",
         "The Turn of the Screw (Norton Critical Edition)",
         "3.43"
        ],
        [
         "W. W. Norton & Company",
         "Wonderful Life: The Burgess Shale and the Nature of History",
         "4.64"
        ],
        [
         "W. W. Norton and Company",
         "Candide",
         "3.77"
        ],
        [
         "W.W. Norton",
         "The Echo of Greece",
         "4.09"
        ],
        [
         "W.W. Norton  Company",
         "The Doctor is Sick",
         "3.62"
        ],
        [
         "W.W. Norton & Company",
         "What Do You Care What Other People Think?",
         "4.30"
        ],
        [
         "W.W. Norton & Company  Inc. (NY)",
         "Civilization and Its Discontents",
         "3.78"
        ],
        [
         "W.W. Norton & Company (NY)",
         "Hen's Teeth and Horse's Toes: Further Reflections in Natural History",
         "4.10"
        ],
        [
         "W.W. Norton & Company (NY/London)",
         "Will in the World: How Shakespeare Became Shakespeare",
         "3.94"
        ],
        [
         "W.W. Norton & Company (NYC)",
         "Spook: Science Tackles the Afterlife",
         "4.19"
        ],
        [
         "Wadsworth Publishing Company",
         "The Dobe Ju/'hoansi",
         "3.94"
        ],
        [
         "Waking Lion Press",
         "The Lost Continent",
         "3.95"
        ],
        [
         "Walker",
         "Sir Gawain And The Green Knight",
         "3.94"
        ],
        [
         "Walker & Company",
         "The Frog King",
         "4.08"
        ],
        [
         "Walker Books",
         "The Illustrated Longitude: The True Story of a Lone Genius Who Solved the Greatest Scientific Problem of His Time",
         "4.09"
        ],
        [
         "Walker Books Ltd",
         "Sir Gawain and the Green Knight",
         "3.99"
        ],
        [
         "Walter Foster Publishing",
         "Mandala Sand Art Kit",
         "1.00"
        ],
        [
         "Walter de Gruyter",
         "Syntactic Structures",
         "3.84"
        ],
        [
         "Warne",
         "The World of Peter Rabbit (Original Peter Rabbit  Books 1-23)",
         "4.62"
        ],
        [
         "Warner",
         "Mythology: Timeless Tales of Gods and Heroes",
         "4.17"
        ],
        [
         "Warner Adult",
         "A Study Guide to Gabriel Garcia Marquez' One Hundred Years of Solitude",
         "4.11"
        ],
        [
         "Warner Books",
         "True Believer",
         "4.35"
        ],
        [
         "Warner Books (NY)",
         "Wild Fire (John Corey  #4)",
         "4.22"
        ],
        [
         "Warner Forever",
         "The Raven Prince (Princes Trilogy  #1)",
         "3.98"
        ],
        [
         "Warner Vision",
         "Reversible Errors (Kindle County Legal Thriller #6)",
         "3.83"
        ],
        [
         "Warners Visions Books",
         "Last Man Standing",
         "4.04"
        ],
        [
         "Wasendorf & Associates Inc",
         "The Crowd/Extraordinary Popular Delusions & the Madness of Crowds",
         "3.93"
        ],
        [
         "Washington Square Press",
         "Wideacre  (The Wideacre Trilogy  #1)",
         "4.36"
        ],
        [
         "WaterBrook",
         "Scoop (Occupational Hazards  #1)",
         "3.61"
        ],
        [
         "Waterbrook Press",
         "Leading with a Limp: Turning Your Struggles Into Strengths",
         "4.18"
        ],
        [
         "Watkins",
         "Mysteries",
         "4.08"
        ],
        [
         "Watkins Publishing",
         "Beowulf & Grendel: The Truth Behind England's Oldest Legend",
         "3.57"
        ],
        [
         "Watson-Guptill",
         "Classical Drawing Atelier: A Contemporary Guide to Traditional Studio Practice",
         "4.12"
        ],
        [
         "Watson-Guptill Publications",
         "Freaks!: How to Draw Fantastic Fantasy Creatures",
         "4.06"
        ],
        [
         "Waveland Press",
         "Myth and Reality",
         "4.08"
        ],
        [
         "Wayne State University Press",
         "Practice! Practice!: A Latin Via Ovid Workbook",
         "4.36"
        ],
        [
         "Webster's New World",
         "The MacMillan Bible Atlas",
         "4.32"
        ],
        [
         "Weidenfeld & Nicolson",
         "The Science Book",
         "4.05"
        ],
        [
         "Weiser Books",
         "What Is Goth?",
         "4.10"
        ],
        [
         "Welcome Books",
         "Little Big Book for God's Children",
         "4.88"
        ],
        [
         "Wenner Books",
         "The Essential Interviews",
         "4.11"
        ],
        [
         "Wesleyan University Press",
         "Notebook of a Return to the Native Land",
         "4.09"
        ],
        [
         "Western Publishing Company  Golden Books",
         "Herbert the Timid Dragon",
         "4.62"
        ],
        [
         "Westholme Publishing",
         "Seabiscuit: The Saga of a Great Champion",
         "4.47"
        ],
        [
         "Westminster John Knox Press",
         "The Gospel According to the Beatles",
         "4.09"
        ],
        [
         "Westview Press",
         "Romanticism",
         "3.75"
        ],
        [
         "Wheeler Publishing",
         "Undead and Unwed (Undead  #1)",
         "4.22"
        ],
        [
         "Whitaker House",
         "He Came to Set the Captives Free",
         "4.45"
        ],
        [
         "White Wolf Games Studio",
         "The Eternal Champion (Eternal Champion  #1)",
         "3.95"
        ],
        [
         "Wildside Press",
         "The Picture of Dorian Gray",
         "4.13"
        ],
        [
         "Wildstorm",
         "The Authority  Vol. 2: Under New Management",
         "4.15"
        ],
        [
         "Wiley",
         "ebay Timesaving Techniques for Dummies",
         "4.27"
        ],
        [
         "Wiley (TP)",
         "Lafayette",
         "4.37"
        ],
        [
         "Wiley Publishing",
         "Texas Hold'em for Dummies",
         "3.82"
        ],
        [
         "Wiley Publishing  Inc.",
         "Astronomy For Dummies",
         "3.84"
        ],
        [
         "Wiley-Blackwell",
         "Western Philosophy: An Anthology",
         "4.16"
        ],
        [
         "Wilhelm Goldmann Verlag  GmbH",
         "Hitler's Willinge Vollstrecker: Ganz gewöhlnliche Deutsche und der Holocaust",
         "4.11"
        ],
        [
         "William B. Eerdmans Publishing Company",
         "The Pilgrim's Regress",
         "4.21"
        ],
        [
         "William Heinemann",
         "Quicksilver (The Baroque Cycle  #1)",
         "3.93"
        ],
        [
         "William Heinemann Ltd.",
         "The Hannibal Lecter Trilogy",
         "4.42"
        ],
        [
         "William Morrow",
         "You Suck (A Love Story  #2)",
         "4.42"
        ],
        [
         "William Morrow & Company",
         "Worlds Enough and Time (Worlds #3)",
         "4.12"
        ],
        [
         "William Morrow & Company  Inc.",
         "Stand Back  Said the Elephant  I'm Going to Sneeze!",
         "4.39"
        ],
        [
         "William Morrow & Company (NYC)",
         "The First Man in Rome (Masters of Rome  #1)",
         "4.11"
        ],
        [
         "William Morrow / Harper",
         "Good Omens: The Nice and Accurate Prophecies of Agnes Nutter  Witch",
         "4.25"
        ],
        [
         "William Morrow / HarperCollins / Harper Perennial",
         "Lamb: The Gospel According to Biff  Christ's Childhood Pal",
         "4.25"
        ],
        [
         "William Morrow Paperbacks",
         "Wicked: The Life and Times of the Wicked Witch of the West",
         "4.41"
        ],
        [
         "William Morrow; 1ST edition",
         "Marley and Me: Life and Love With the World's Worst Dog",
         "4.13"
        ],
        [
         "Windsor Golden Series",
         "From Babylon to Timbuktu: A History of the Ancient Black Races Including the Black Hebrews",
         "4.31"
        ],
        [
         "Wings",
         "Three Complete Xanth Novels (Xanth  #1-3)",
         "4.54"
        ],
        [
         "Wings Books",
         "The Ultimate Hitchhiker's Guide (Hitchhiker's Guide to the Galaxy  #1-5)",
         "4.38"
        ],
        [
         "Winter on the Farm (My First Little House)",
         "Winter on the Farm",
         "4.15"
        ],
        [
         "Wipf & Stock Publishers",
         "Natural Theology: Comprising Nature & Grace by Professor Dr Emil Brunner & the Reply No! by Dr Karl Barth",
         "3.72"
        ],
        [
         "Wisdom Publications",
         "The State of Mind Called Beautiful",
         "4.30"
        ],
        [
         "Wizarding World Press",
         "Ultimate Unofficial Guide to the Mysteries of Harry Potter: Analysis of Books 1-4",
         "4.05"
        ],
        [
         "Wizards of the Coast",
         "Time of the Twins (Dragonlance: Legends  #1)",
         "4.19"
        ],
        [
         "Woodbridge Press Publishing Company",
         "Follow Your Heart's Vegetarian Soup Cookbook",
         "3.47"
        ],
        [
         "Woodrow Wilson Center Press / Johns Hopkins University Press",
         "Rethinking the Economics of War: The Intersection of Need  Creed  and Greed",
         "3.50"
        ],
        [
         "Wordsworth Classics",
         "Selected Works of the Brontë Sisters: Jane Eyre / Villette / Wuthering Heights / Agnes Grey / The Tenant of Wildfell Hall",
         "4.38"
        ],
        [
         "Wordsworth Editions",
         "Tom Jones",
         "4.55"
        ],
        [
         "Workman Publishing Company",
         "What to Expect the First Year (What to Expect)",
         "4.32"
        ],
        [
         "World Wrestling Entertainment Books",
         "Controversy Creates Cash",
         "3.62"
        ],
        [
         "Worth Publishers",
         "Economics",
         "3.99"
        ],
        [
         "Writer's Digest Books",
         "Writing the Novel: From Plot to Print",
         "4.10"
        ],
        [
         "Wyatt Book",
         "I Capture the Castle",
         "4.00"
        ],
        [
         "Xlibris Corporation",
         "A Dracula Handbook",
         "4.07"
        ],
        [
         "Xulon Press",
         "Marilyn Manson: The Lonely Watchman",
         "4.00"
        ],
        [
         "Y Lolfa",
         "Delwau Duon: Peintiadau Nicholas Evans = Symphonies in Black: The Paintings of Nicholas Evans",
         "5.00"
        ],
        [
         "Yale University Press",
         "Writings on Art",
         "4.55"
        ],
        [
         "Yale University Press (New Haven  CT)",
         "Psychoanalysis and Religion",
         "4.02"
        ],
        [
         "Yapı Kredi Yayınları",
         "Harry Potter ve Sırlar Odası (Harry Potter  #2)",
         "4.42"
        ],
        [
         "Yearling",
         "War Comes to Willy Freeman (Arabus Family Saga  #1)",
         "4.44"
        ],
        [
         "Yearling Books",
         "The Sly Spy (Olivia Sharp  Agent for Secrets #3)",
         "4.13"
        ],
        [
         "Yellow Jersey",
         "It's Not About the Bike: My Journey Back to Life",
         "3.72"
        ],
        [
         "Yesterday's Classics",
         "The Discovery of New Worlds (Story of the World  #2)",
         "3.50"
        ],
        [
         "York Press",
         "The spire  William Golding : notes",
         "3.60"
        ],
        [
         "Yoruba Theological Archministry",
         "Orin Aoraiosaa: Songs for Selected Heads",
         "4.39"
        ],
        [
         "Yosemite Conservancy",
         "Yosemite: Its Discovery  Its Wonder and Its People",
         "3.96"
        ],
        [
         "Young Picador",
         "The Butterfly Tattoo",
         "3.19"
        ],
        [
         "YoungJin Singapore Pte. Ltd.",
         "Gulliver's Travels",
         "3.57"
        ],
        [
         "Your Coach Digital",
         "The Botany of Desire: A Plant's-Eye View of the World",
         "4.06"
        ],
        [
         "Zebra",
         "This Christmas",
         "4.19"
        ],
        [
         "Zebra Books",
         "See How She Dies",
         "3.90"
        ],
        [
         "Zenith Press",
         "The Sling and the Stone: On War in the 21st Century",
         "3.93"
        ],
        [
         "Zeta Bolsillo",
         "Chamán (Familia Cole  #2)",
         "4.12"
        ],
        [
         "Zondervan",
         "Trial by Fire (Newpointe 911 #4)",
         "5.00"
        ],
        [
         "Zondervan Publishing Company",
         "Velvet Elvis: Repainting the Christian Faith",
         "4.17"
        ],
        [
         "Zondervan Publishing House",
         "Study Bible: NIV",
         "4.70"
        ],
        [
         "btb",
         "Naokos Lächeln",
         "4.03"
        ],
        [
         "dtv",
         "Bevor es Nacht wird. Ein Leben in Havanna",
         "4.17"
        ],
        [
         "iBooks",
         "Watchtower (Chronicles of Tornor  #1)",
         "4.07"
        ],
        [
         "iUniverse",
         "Vesco",
         "4.67"
        ],
        [
         "l'ecole des loisirs",
         "La toile de Charlotte",
         "4.17"
        ],
        [
         "rbooks",
         "A Damsel in Distress",
         "4.08"
        ],
        [
         "Éditions 10/18",
         "Un rôle qui me convient",
         "4.02"
        ],
        [
         "Éditions de L'Olivier",
         "Mumbo Jumbo",
         "3.82"
        ],
        [
         "Éditions de Minuit",
         "En attendant Godot",
         "3.83"
        ],
        [
         "Éditions du Rocher",
         "L'Épée de Darwin",
         "3.33"
        ],
        [
         "Эксмо",
         "Мастер и Маргарита",
         "4.30"
        ],
        [
         "ガンガンコミックス",
         "鋼の錬金術師 8 (Fullmetal Alchemist 8)",
         "4.57"
        ],
        [
         "ビブロス",
         "LOVE MODE 11",
         "4.37"
        ],
        [
         "小学館",
         "犬夜叉 8",
         "4.30"
        ],
        [
         "小学館 [Shōgakukan]",
         "らんま½ 12",
         "4.06"
        ],
        [
         "時報出版",
         "戰廢品",
         "3.79"
        ],
        [
         "東立",
         "鋼之鍊金術師 9",
         "4.60"
        ],
        [
         "皇冠文化出版有限公司",
         "火盃的考驗 (哈利波特  #4)",
         "4.57"
        ],
        [
         "聯經出版事業股份有限公司",
         "魔戒首部曲：魔戒現身",
         "4.44"
        ],
        [
         "英文漢聲出版股份有限公司",
         "野獸國 (漢聲精選世界最佳兒童圖畫書．心理成長類  #36)",
         "4.22"
        ],
        [
         "角川書店 (Kadokawa Shoten)",
         "叫んでやるぜ! (2) (ASUKA COMICS CL-DX)",
         "3.95"
        ],
        [
         "講談社",
         "ツバサ-RESERVoir CHRoNiCLE- 8",
         "4.30"
        ],
        [
         "集英社",
         "ヒカルの碁 9、本戦開始",
         "4.43"
        ]
       ],
       "datasetInfos": [],
       "dbfsResultPath": null,
       "isJsonSchema": true,
       "metadata": {},
       "overflow": false,
       "plotOptions": {
        "customPlotOptions": {},
        "displayType": "table",
        "pivotAggregation": null,
        "pivotColumns": null,
        "xColumns": null,
        "yColumns": null
       },
       "removedWidgets": [],
       "schema": [
        {
         "metadata": "{}",
         "name": "publisher",
         "type": "\"string\""
        },
        {
         "metadata": "{}",
         "name": "book_title",
         "type": "\"string\""
        },
        {
         "metadata": "{}",
         "name": "rating",
         "type": "\"string\""
        }
       ],
       "type": "table"
      }
     },
     "output_type": "display_data"
    }
   ],
   "source": [
    "#Which publisher had the books with the highest rating; # publisher, book_title, rating\n",
    "rating = spark.sql(\n",
    "    \"\"\"\n",
    "SELECT publisher, max(title) as book_title , max(average_rating) AS rating\n",
    "FROM books_tbl\n",
    "GROUP BY publisher\n",
    " \"\"\"\n",
    ").display()\n"
   ]
  },
  {
   "cell_type": "code",
   "execution_count": 0,
   "metadata": {
    "application/vnd.databricks.v1+cell": {
     "cellMetadata": {
      "byteLimit": 2048000,
      "rowLimit": 10000
     },
     "inputWidgets": {},
     "nuid": "bc768ef2-00e8-435c-be02-d2eb2b668289",
     "showTitle": false,
     "title": ""
    }
   },
   "outputs": [
    {
     "output_type": "display_data",
     "data": {
      "text/html": [
       "<style scoped>\n",
       "  .table-result-container {\n",
       "    max-height: 300px;\n",
       "    overflow: auto;\n",
       "  }\n",
       "  table, th, td {\n",
       "    border: 1px solid black;\n",
       "    border-collapse: collapse;\n",
       "  }\n",
       "  th, td {\n",
       "    padding: 5px;\n",
       "  }\n",
       "  th {\n",
       "    text-align: left;\n",
       "  }\n",
       "</style><div class='table-result-container'><table class='table-result'><thead style='background-color: white'><tr><th>authors</th></tr></thead><tbody><tr><td>Dan Brown/Paul Michael</td></tr><tr><td>Dan Brown/Raúl Amundaray</td></tr><tr><td>Dan Brown/Daniel Roche</td></tr><tr><td>Dan Brown/Eduardo García Murillo</td></tr><tr><td>Dan Brown</td></tr><tr><td>Dan Brown/Juanjo Estrella</td></tr></tbody></table></div>"
      ]
     },
     "metadata": {
      "application/vnd.databricks.v1+output": {
       "addedWidgets": {},
       "aggData": [],
       "aggError": "",
       "aggOverflow": false,
       "aggSchema": [],
       "aggSeriesLimitReached": false,
       "aggType": "",
       "arguments": {},
       "columnCustomDisplayInfos": {},
       "data": [
        [
         "Dan Brown/Paul Michael"
        ],
        [
         "Dan Brown/Raúl Amundaray"
        ],
        [
         "Dan Brown/Daniel Roche"
        ],
        [
         "Dan Brown/Eduardo García Murillo"
        ],
        [
         "Dan Brown"
        ],
        [
         "Dan Brown/Juanjo Estrella"
        ]
       ],
       "datasetInfos": [],
       "dbfsResultPath": null,
       "isJsonSchema": true,
       "metadata": {},
       "overflow": false,
       "plotOptions": {
        "customPlotOptions": {},
        "displayType": "table",
        "pivotAggregation": null,
        "pivotColumns": null,
        "xColumns": null,
        "yColumns": null
       },
       "removedWidgets": [],
       "schema": [
        {
         "metadata": "{}",
         "name": "authors",
         "type": "\"string\""
        }
       ],
       "type": "table"
      }
     },
     "output_type": "display_data"
    }
   ],
   "source": [
    "# Oxford University Press and published in 1988, list the books?; Output --> publisher, year, book_title\n",
    "# Which publisher had the books with the highest rating; # publisher, book_title, rating\n",
    "# How many books did Dan Brown publish? # all books published by Dan Brown (even as co-author) # author, book_title, publication_date, \n",
    "# which book had highest text_reviews_count? # book_tile, text_reviews_count\n",
    "\n",
    "\n",
    "publisher = spark.sql(\\\n",
    "    f\"\"\"\n",
    "    SELECT DISTINCT authors\n",
    "    FROM books_tbl\n",
    "    WHERE authors like '%Dan Brown%'\n",
    "    \"\"\").display()"
   ]
  },
  {
   "cell_type": "code",
   "execution_count": 0,
   "metadata": {
    "application/vnd.databricks.v1+cell": {
     "cellMetadata": {
      "byteLimit": 2048000,
      "rowLimit": 10000
     },
     "inputWidgets": {},
     "nuid": "0fb5a86b-4736-47f3-adec-217c4a0d3d44",
     "showTitle": false,
     "title": ""
    }
   },
   "outputs": [
    {
     "output_type": "display_data",
     "data": {
      "text/html": [
       "<style scoped>\n",
       "  .table-result-container {\n",
       "    max-height: 300px;\n",
       "    overflow: auto;\n",
       "  }\n",
       "  table, th, td {\n",
       "    border: 1px solid black;\n",
       "    border-collapse: collapse;\n",
       "  }\n",
       "  th, td {\n",
       "    padding: 5px;\n",
       "  }\n",
       "  th {\n",
       "    text-align: left;\n",
       "  }\n",
       "</style><div class='table-result-container'><table class='table-result'><thead style='background-color: white'><tr><th>authors</th><th>book_title</th><th>publication_date</th></tr></thead><tbody><tr><td>Dan Brown</td><td>Angels & Demons (Robert Langdon  #1)</td><td>4/1/2006</td></tr><tr><td>Dan Brown</td><td>Ángeles y demonios (Robert Langdon  #1)</td><td>12/1/2005</td></tr><tr><td>Dan Brown</td><td>The Da Vinci Code (Robert Langdon  #2)</td><td>3/28/2006</td></tr><tr><td>Dan Brown</td><td>The Da Vinci Code</td><td>3/28/2006</td></tr><tr><td>Dan Brown</td><td>Deception Point</td><td>4/1/2006</td></tr><tr><td>Dan Brown</td><td>Deception Point</td><td>5/1/2004</td></tr><tr><td>Dan Brown</td><td>Deception Point</td><td>8/1/2005</td></tr><tr><td>Dan Brown</td><td>The Da Vinci Code (Robert Langdon  #2)</td><td>3/28/2006</td></tr><tr><td>Dan Brown</td><td>Angels & Demons (Robert Langdon  #1)</td><td>5/3/2005</td></tr><tr><td>Dan Brown</td><td>The Da Vinci Code</td><td>3/28/2006</td></tr><tr><td>Dan Brown</td><td>The Da Vinci Code (Robert Langdon  #2)</td><td>3/18/2003</td></tr><tr><td>Dan Brown</td><td>Angels & Demons (Robert Langdon  #1)</td><td>7/28/2003</td></tr></tbody></table></div>"
      ]
     },
     "metadata": {
      "application/vnd.databricks.v1+output": {
       "addedWidgets": {},
       "aggData": [],
       "aggError": "",
       "aggOverflow": false,
       "aggSchema": [],
       "aggSeriesLimitReached": false,
       "aggType": "",
       "arguments": {},
       "columnCustomDisplayInfos": {},
       "data": [
        [
         "Dan Brown",
         "Angels & Demons (Robert Langdon  #1)",
         "4/1/2006"
        ],
        [
         "Dan Brown",
         "Ángeles y demonios (Robert Langdon  #1)",
         "12/1/2005"
        ],
        [
         "Dan Brown",
         "The Da Vinci Code (Robert Langdon  #2)",
         "3/28/2006"
        ],
        [
         "Dan Brown",
         "The Da Vinci Code",
         "3/28/2006"
        ],
        [
         "Dan Brown",
         "Deception Point",
         "4/1/2006"
        ],
        [
         "Dan Brown",
         "Deception Point",
         "5/1/2004"
        ],
        [
         "Dan Brown",
         "Deception Point",
         "8/1/2005"
        ],
        [
         "Dan Brown",
         "The Da Vinci Code (Robert Langdon  #2)",
         "3/28/2006"
        ],
        [
         "Dan Brown",
         "Angels & Demons (Robert Langdon  #1)",
         "5/3/2005"
        ],
        [
         "Dan Brown",
         "The Da Vinci Code",
         "3/28/2006"
        ],
        [
         "Dan Brown",
         "The Da Vinci Code (Robert Langdon  #2)",
         "3/18/2003"
        ],
        [
         "Dan Brown",
         "Angels & Demons (Robert Langdon  #1)",
         "7/28/2003"
        ]
       ],
       "datasetInfos": [],
       "dbfsResultPath": null,
       "isJsonSchema": true,
       "metadata": {},
       "overflow": false,
       "plotOptions": {
        "customPlotOptions": {},
        "displayType": "table",
        "pivotAggregation": null,
        "pivotColumns": null,
        "xColumns": null,
        "yColumns": null
       },
       "removedWidgets": [],
       "schema": [
        {
         "metadata": "{}",
         "name": "authors",
         "type": "\"string\""
        },
        {
         "metadata": "{}",
         "name": "book_title",
         "type": "\"string\""
        },
        {
         "metadata": "{}",
         "name": "publication_date",
         "type": "\"string\""
        }
       ],
       "type": "table"
      }
     },
     "output_type": "display_data"
    }
   ],
   "source": [
    "# How many books did Dan Brown publish? # all books published by Dan Brown (even as co-author) # author, book_title, publication_date\n",
    "\n",
    "Dan_Brown = spark.sql(\n",
    "    \"\"\"\n",
    "SELECT authors,title as book_title , publication_date\n",
    "FROM books_tbl\n",
    "WHERE authors LIKE 'Dan Brown' or publisher = 'Dan Brown'\n",
    " \"\"\"\n",
    ").display()\n"
   ]
  },
  {
   "cell_type": "code",
   "execution_count": 0,
   "metadata": {
    "application/vnd.databricks.v1+cell": {
     "cellMetadata": {
      "byteLimit": 2048000,
      "rowLimit": 10000
     },
     "inputWidgets": {},
     "nuid": "c4b7e5d5-83ba-4f93-9b65-3364b826c346",
     "showTitle": false,
     "title": ""
    }
   },
   "outputs": [
    {
     "output_type": "display_data",
     "data": {
      "text/html": [
       "<style scoped>\n",
       "  .table-result-container {\n",
       "    max-height: 300px;\n",
       "    overflow: auto;\n",
       "  }\n",
       "  table, th, td {\n",
       "    border: 1px solid black;\n",
       "    border-collapse: collapse;\n",
       "  }\n",
       "  th, td {\n",
       "    padding: 5px;\n",
       "  }\n",
       "  th {\n",
       "    text-align: left;\n",
       "  }\n",
       "</style><div class='table-result-container'><table class='table-result'><thead style='background-color: white'><tr><th>book_title</th><th>text_reviews_count</th></tr></thead><tbody><tr><td>Twilight (Twilight  #1)</td><td>94265</td></tr></tbody></table></div>"
      ]
     },
     "metadata": {
      "application/vnd.databricks.v1+output": {
       "addedWidgets": {},
       "aggData": [],
       "aggError": "",
       "aggOverflow": false,
       "aggSchema": [],
       "aggSeriesLimitReached": false,
       "aggType": "",
       "arguments": {},
       "columnCustomDisplayInfos": {},
       "data": [
        [
         "Twilight (Twilight  #1)",
         94265
        ]
       ],
       "datasetInfos": [],
       "dbfsResultPath": null,
       "isJsonSchema": true,
       "metadata": {},
       "overflow": false,
       "plotOptions": {
        "customPlotOptions": {},
        "displayType": "table",
        "pivotAggregation": null,
        "pivotColumns": null,
        "xColumns": null,
        "yColumns": null
       },
       "removedWidgets": [],
       "schema": [
        {
         "metadata": "{}",
         "name": "book_title",
         "type": "\"string\""
        },
        {
         "metadata": "{}",
         "name": "text_reviews_count",
         "type": "\"integer\""
        }
       ],
       "type": "table"
      }
     },
     "output_type": "display_data"
    }
   ],
   "source": [
    "# which book had highest text_reviews_count? # book_tile, text_reviews_count\n",
    "text_reviews = spark.sql(\"\"\"\n",
    "    SELECT title as book_title, text_reviews_count\n",
    "    FROM books_tbl\n",
    "    WHERE text_reviews_count = (\n",
    "        SELECT MAX(text_reviews_count)\n",
    "        FROM books_tbl\n",
    "    )\n",
    "\"\"\").display()"
   ]
  },
  {
   "cell_type": "code",
   "execution_count": 0,
   "metadata": {
    "application/vnd.databricks.v1+cell": {
     "cellMetadata": {
      "byteLimit": 2048000,
      "rowLimit": 10000
     },
     "inputWidgets": {},
     "nuid": "cecd75cc-6516-4e92-afe1-5c018543ccdb",
     "showTitle": false,
     "title": ""
    }
   },
   "outputs": [
    {
     "output_type": "stream",
     "name": "stdout",
     "output_type": "stream",
     "text": [
      "+----+----------+\n|  yr|avg_rating|\n+----+----------+\n|1943|      4.21|\n+----+----------+\n\n"
     ]
    }
   ],
   "source": [
    "# # How many books did each author release every year? Please note that the authors field may contain multiple authors. Output should include author, published_year_cnt\n",
    "\n",
    "avg_rating = spark.sql(\\\n",
    "  f\"\"\"\n",
    "  WITH CTE AS (\n",
    "  SELECT \n",
    "  CAST(RIGHT(publication_date, 4) AS INT) AS yr,\n",
    "  ROUND(AVG(average_rating),2) AS avg_rating\n",
    "  FROM books_tbl\n",
    "  GROUP BY 1\n",
    "  ORDER BY 1\n",
    "  )\n",
    "\n",
    "  SELECT yr, avg_rating FROM CTE WHERE yr = 1943;\n",
    "  \"\"\").show()\n"
   ]
  },
  {
   "cell_type": "code",
   "execution_count": 0,
   "metadata": {
    "application/vnd.databricks.v1+cell": {
     "cellMetadata": {
      "byteLimit": 2048000,
      "rowLimit": 10000
     },
     "inputWidgets": {},
     "nuid": "33b7c52f-c7f0-4220-ba41-87463b53f785",
     "showTitle": false,
     "title": ""
    }
   },
   "outputs": [
    {
     "output_type": "display_data",
     "data": {
      "text/html": [
       "<style scoped>\n",
       "  .table-result-container {\n",
       "    max-height: 300px;\n",
       "    overflow: auto;\n",
       "  }\n",
       "  table, th, td {\n",
       "    border: 1px solid black;\n",
       "    border-collapse: collapse;\n",
       "  }\n",
       "  th, td {\n",
       "    padding: 5px;\n",
       "  }\n",
       "  th {\n",
       "    text-align: left;\n",
       "  }\n",
       "</style><div class='table-result-container'><table class='table-result'><thead style='background-color: white'><tr><th>publisher</th><th>title</th><th>yr</th></tr></thead><tbody><tr><td>Oxford University Press</td><td>War and Peace</td><td>1998</td></tr><tr><td>Oxford University Press</td><td>The Histories</td><td>1998</td></tr><tr><td>Oxford University Press</td><td>Antigone; Oedipus the Kingn; Electra</td><td>1998</td></tr><tr><td>Oxford University Press  USA</td><td>Moby Dick: or The White Whale (Oxford Illustrated Classics)</td><td>1998</td></tr><tr><td>Oxford University Press</td><td>The Bostonians</td><td>1998</td></tr><tr><td>Oxford University Press</td><td>The Canterbury Tales</td><td>1998</td></tr><tr><td>Oxford University Press</td><td>Waverley</td><td>1998</td></tr><tr><td>Oxford University Press</td><td>The Karamazov Brothers</td><td>1998</td></tr><tr><td>Oxford University Press</td><td>The Castle of Otranto</td><td>1998</td></tr><tr><td>Oxford University Press  USA</td><td>Faust  Part One</td><td>1998</td></tr><tr><td>Oxford University Press</td><td>Daisy Miller and Other Stories</td><td>1998</td></tr><tr><td>Oxford University Press</td><td>Doctor Faustus and Other Plays</td><td>1998</td></tr><tr><td>Oxford University Press</td><td>Complete Shorter Fiction</td><td>1998</td></tr><tr><td>Oxford University Press</td><td>Selected Philosophical Writings</td><td>1998</td></tr><tr><td>Oxford University Press</td><td>Eugene Onegin</td><td>1998</td></tr><tr><td>Oxford University Press</td><td>Exemplary Stories</td><td>1998</td></tr><tr><td>Oxford University Press</td><td>A Philosophical Enquiry into the Origin of our Ideas of the Sublime and Beautiful</td><td>1998</td></tr><tr><td>Oxford University Press  USA</td><td>The Philosophy of Biology</td><td>1998</td></tr><tr><td>Oxford University Press</td><td>The Divine Comedy</td><td>1998</td></tr><tr><td>Oxford University Press  USA</td><td>The Call of the Wild  White Fang and Other Stories</td><td>1998</td></tr><tr><td>Oxford University Press</td><td>No Name</td><td>1998</td></tr></tbody></table></div>"
      ]
     },
     "metadata": {
      "application/vnd.databricks.v1+output": {
       "addedWidgets": {},
       "aggData": [],
       "aggError": "",
       "aggOverflow": false,
       "aggSchema": [],
       "aggSeriesLimitReached": false,
       "aggType": "",
       "arguments": {},
       "columnCustomDisplayInfos": {},
       "data": [
        [
         "Oxford University Press",
         "War and Peace",
         1998
        ],
        [
         "Oxford University Press",
         "The Histories",
         1998
        ],
        [
         "Oxford University Press",
         "Antigone; Oedipus the Kingn; Electra",
         1998
        ],
        [
         "Oxford University Press  USA",
         "Moby Dick: or The White Whale (Oxford Illustrated Classics)",
         1998
        ],
        [
         "Oxford University Press",
         "The Bostonians",
         1998
        ],
        [
         "Oxford University Press",
         "The Canterbury Tales",
         1998
        ],
        [
         "Oxford University Press",
         "Waverley",
         1998
        ],
        [
         "Oxford University Press",
         "The Karamazov Brothers",
         1998
        ],
        [
         "Oxford University Press",
         "The Castle of Otranto",
         1998
        ],
        [
         "Oxford University Press  USA",
         "Faust  Part One",
         1998
        ],
        [
         "Oxford University Press",
         "Daisy Miller and Other Stories",
         1998
        ],
        [
         "Oxford University Press",
         "Doctor Faustus and Other Plays",
         1998
        ],
        [
         "Oxford University Press",
         "Complete Shorter Fiction",
         1998
        ],
        [
         "Oxford University Press",
         "Selected Philosophical Writings",
         1998
        ],
        [
         "Oxford University Press",
         "Eugene Onegin",
         1998
        ],
        [
         "Oxford University Press",
         "Exemplary Stories",
         1998
        ],
        [
         "Oxford University Press",
         "A Philosophical Enquiry into the Origin of our Ideas of the Sublime and Beautiful",
         1998
        ],
        [
         "Oxford University Press  USA",
         "The Philosophy of Biology",
         1998
        ],
        [
         "Oxford University Press",
         "The Divine Comedy",
         1998
        ],
        [
         "Oxford University Press  USA",
         "The Call of the Wild  White Fang and Other Stories",
         1998
        ],
        [
         "Oxford University Press",
         "No Name",
         1998
        ]
       ],
       "datasetInfos": [],
       "dbfsResultPath": null,
       "isJsonSchema": true,
       "metadata": {},
       "overflow": false,
       "plotOptions": {
        "customPlotOptions": {},
        "displayType": "table",
        "pivotAggregation": null,
        "pivotColumns": null,
        "xColumns": null,
        "yColumns": null
       },
       "removedWidgets": [],
       "schema": [
        {
         "metadata": "{}",
         "name": "publisher",
         "type": "\"string\""
        },
        {
         "metadata": "{}",
         "name": "title",
         "type": "\"string\""
        },
        {
         "metadata": "{}",
         "name": "yr",
         "type": "\"integer\""
        }
       ],
       "type": "table"
      }
     },
     "output_type": "display_data"
    }
   ],
   "source": [
    "## Oxford University Press and published in 1988, list the books?; \n",
    "\n",
    "title = spark.sql(\\\n",
    "f\"\"\"\n",
    "WITH CTE AS (\n",
    "SELECT publisher, title,\n",
    "CAST(RIGHT(publication_date, 4) AS INT) AS yr\n",
    "FROM books_tbl\n",
    ")\n",
    "SELECT * FROM CTE WHERE yr = 1998 and publisher like '%Oxford University Press%';\n",
    "\"\"\").display()\n"
   ]
  }
 ],
 "metadata": {
  "application/vnd.databricks.v1+notebook": {
   "dashboards": [],
   "language": "python",
   "notebookMetadata": {
    "pythonIndentUnit": 4
   },
   "notebookName": "practical new",
   "widgets": {}
  }
 },
 "nbformat": 4,
 "nbformat_minor": 0
}
